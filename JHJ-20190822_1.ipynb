{
 "cells": [
  {
   "cell_type": "markdown",
   "metadata": {},
   "source": [
    "## 약 인공지능 - 입력해준 데이터 안에서 판단하는 인공지능\n",
    "## 강 인공지능 - 완전히 스스로 사고하는 인공지능\n",
    "\n",
    "## 기존코드 - 프로그래머가 모든 절차를 코딩한다\n",
    "## 인공지능 - 입력한 데이터에서 스스로 모델의 가중치를 설정해 판단한다\n",
    "\n",
    "## 기계학습 -지도학습(Supervised Learning)  vs  자율학습(Unsupervised Learning)\n",
    "#### 지도학습 - 이것은 고양이다 이것은 강아지다하는 식으로 모든 데이터를 일일이 입력\n",
    "#### 자율학습 - 임의의 군집을 주고 무엇이 고양이이고 강아지인지 스스로 찾도록 한다\n",
    "\n"
   ]
  },
  {
   "cell_type": "markdown",
   "metadata": {},
   "source": [
    "### 인공지능에 중요한 요소\n",
    "- 데이터\n",
    "\n",
    "## 지도학습 인공지능의 종류\n",
    "\n",
    "### 분류(Classification)\n",
    "- 수많은 데이터를 컴퓨터가 학습하게 하고 학습한 데이터에 의해 판단\n",
    "  ex) 스팸메일\n",
    "\n",
    "### 예측(Regression)\n",
    "- 회귀분석\n",
    "- 여러 데이터에서 하나의 함수를 추출\n",
    "- 목적값의 연속석을 판단\n",
    "- 함수를 기반으로 새로운 데이터를 예측할 수 있다"
   ]
  },
  {
   "cell_type": "markdown",
   "metadata": {},
   "source": [
    "### 지도학습 모델\n",
    "1) 무엇을 분석할 것인가?\n",
    "- 키와 몸무게의 상관관계\n",
    "\n",
    "2) 분석을 위한 준비\n",
    "- 키와 몸무게 등 요소\n",
    "- 데이터 수집 범위\n",
    "- 언제 어디서?\n",
    "\n",
    "3) 데이터 준비\n",
    "- 한국인을 한정\n",
    "- 한국인의 키\n",
    "- 한국인의 몸무게\n",
    "- 크롤링 등으로 자료수집"
   ]
  },
  {
   "cell_type": "markdown",
   "metadata": {},
   "source": [
    "## 지도학습 - KNN\n",
    "#### 새로운 음악의 장르는 어떤것인가?\n",
    "- 음악 장르는 정확한 기준이 없음\n",
    "- 경험적 판단에 의해 결정함\n",
    "- 기존에 구분된 장르를 분석하여 판단\n",
    "- 아티스트, 재생시간, 비트 수 등을 컴퓨터가 학습하여 판단\n",
    "\n",
    "### KNN = K Nearest Neighbors\n",
    "- 임의의 데이터에 대하여 근접한 값을 찾아내는 알고리즘\n",
    "- 어떤 데이터가 들어왔을 때, 주변 좌표에 있는 k개 데이터를 통해 값을 판단한다\n",
    "\n",
    "#### 장점\n",
    "- 정확도가 높다\n",
    "- 오류 데이터가 크게 영향을 주지 않는다\n",
    "\n",
    "#### 단점\n",
    "- 느리다(모든 데이터를 비교해야 함)\n",
    "- 기존 데이터가 많을수록 더욱 느려짐\n",
    "- 처리시간이 계속 증가함\n",
    "- 많은 메모리를 사용함\n",
    "- 고사양의 하드웨어가 필요함"
   ]
  },
  {
   "cell_type": "markdown",
   "metadata": {},
   "source": [
    "## 알고리즘\n",
    "- d = sqrt((x1^2 - x2^2)+(y1^2-y2^2))\n",
    "- random으로 점을 찍는다\n",
    "- 데이터를 입력받는다\n",
    "- 기존 데이터들과 d를 구한다\n",
    "- 가장 가까운 데이터 3개를 뽑는다\n",
    "- 데이터가 어떤 값인지 판단한다\n",
    "\n"
   ]
  },
  {
   "cell_type": "markdown",
   "metadata": {},
   "source": [
    "## NumPy ndarray: 다차원 배열 객체 - 파이썬의 존재의의"
   ]
  },
  {
   "cell_type": "code",
   "execution_count": 2,
   "metadata": {},
   "outputs": [],
   "source": [
    "import numpy as np"
   ]
  },
  {
   "cell_type": "markdown",
   "metadata": {},
   "source": [
    "## ndarray 생성"
   ]
  },
  {
   "cell_type": "code",
   "execution_count": 3,
   "metadata": {},
   "outputs": [],
   "source": [
    "data1 = [ 6, 7.5, 8, 0, 1]"
   ]
  },
  {
   "cell_type": "code",
   "execution_count": 4,
   "metadata": {},
   "outputs": [],
   "source": [
    "arr1 = np.array(data1)"
   ]
  },
  {
   "cell_type": "code",
   "execution_count": 5,
   "metadata": {},
   "outputs": [
    {
     "data": {
      "text/plain": [
       "array([6. , 7.5, 8. , 0. , 1. ])"
      ]
     },
     "execution_count": 5,
     "metadata": {},
     "output_type": "execute_result"
    }
   ],
   "source": [
    "arr1"
   ]
  },
  {
   "cell_type": "code",
   "execution_count": 6,
   "metadata": {},
   "outputs": [
    {
     "data": {
      "text/plain": [
       "numpy.ndarray"
      ]
     },
     "execution_count": 6,
     "metadata": {},
     "output_type": "execute_result"
    }
   ],
   "source": [
    "type(arr1)"
   ]
  },
  {
   "cell_type": "code",
   "execution_count": 7,
   "metadata": {},
   "outputs": [
    {
     "data": {
      "text/plain": [
       "list"
      ]
     },
     "execution_count": 7,
     "metadata": {},
     "output_type": "execute_result"
    }
   ],
   "source": [
    "type(data1)"
   ]
  },
  {
   "cell_type": "code",
   "execution_count": 8,
   "metadata": {},
   "outputs": [],
   "source": [
    "data2 = [[1,2,3,4], [5,6,7,8]]"
   ]
  },
  {
   "cell_type": "code",
   "execution_count": 11,
   "metadata": {},
   "outputs": [],
   "source": [
    "l = [[1,2,3,], [4,5,6]]\n",
    "l2 = [[1,2,3,], [4,5,6]] \n",
    "n = np.array(l)\n",
    "n2 = np.array(l2)"
   ]
  },
  {
   "cell_type": "code",
   "execution_count": 10,
   "metadata": {},
   "outputs": [
    {
     "name": "stdout",
     "output_type": "stream",
     "text": [
      "[[1, 2, 3], [4, 5, 6]]\n",
      "[[1 2 3]\n",
      " [4 5 6]]\n"
     ]
    }
   ],
   "source": [
    "print(l)\n",
    "print(n)"
   ]
  },
  {
   "cell_type": "code",
   "execution_count": 12,
   "metadata": {},
   "outputs": [
    {
     "name": "stdout",
     "output_type": "stream",
     "text": [
      "[[1, 2, 3], [4, 5, 6]]\n",
      "[[1 2 3]\n",
      " [4 5 6]]\n"
     ]
    }
   ],
   "source": [
    "print (l2)\n",
    "print(n2)"
   ]
  },
  {
   "cell_type": "code",
   "execution_count": 17,
   "metadata": {},
   "outputs": [
    {
     "name": "stdout",
     "output_type": "stream",
     "text": [
      "[[1, 2, 3], [4, 5, 6], [1, 2, 3], [4, 5, 6]]\n"
     ]
    }
   ],
   "source": [
    "l3 = l+l2\n",
    "print(l3)"
   ]
  },
  {
   "cell_type": "code",
   "execution_count": 18,
   "metadata": {},
   "outputs": [
    {
     "name": "stdout",
     "output_type": "stream",
     "text": [
      "[[ 2  4  6]\n",
      " [ 8 10 12]]\n"
     ]
    }
   ],
   "source": [
    "n3 = n+n2\n",
    "print(n3)"
   ]
  },
  {
   "cell_type": "code",
   "execution_count": 19,
   "metadata": {},
   "outputs": [
    {
     "name": "stdout",
     "output_type": "stream",
     "text": [
      "[[ 2  4  6]\n",
      " [ 8 10 12]]\n"
     ]
    }
   ],
   "source": [
    "print(n*2)"
   ]
  },
  {
   "cell_type": "code",
   "execution_count": 20,
   "metadata": {},
   "outputs": [
    {
     "name": "stdout",
     "output_type": "stream",
     "text": [
      "[[1, 2, 3], [4, 5, 6], [1, 2, 3], [4, 5, 6]]\n"
     ]
    }
   ],
   "source": [
    "print(l*2)"
   ]
  },
  {
   "cell_type": "markdown",
   "metadata": {},
   "source": [
    "#### red = (x, y, 1)\n",
    "#### blue=(u, v, 0)"
   ]
  },
  {
   "cell_type": "code",
   "execution_count": 21,
   "metadata": {},
   "outputs": [],
   "source": [
    "r = [4,2,1]\n",
    "b = [5,1,0]"
   ]
  },
  {
   "cell_type": "code",
   "execution_count": 22,
   "metadata": {},
   "outputs": [],
   "source": [
    "r1 = np.array(r)\n",
    "b1 = np.array(b)"
   ]
  },
  {
   "cell_type": "code",
   "execution_count": 23,
   "metadata": {},
   "outputs": [
    {
     "name": "stdout",
     "output_type": "stream",
     "text": [
      "[4 2 1]\n",
      "[5 1 0]\n"
     ]
    }
   ],
   "source": [
    "print(r1)\n",
    "print(b1)"
   ]
  },
  {
   "cell_type": "code",
   "execution_count": 25,
   "metadata": {},
   "outputs": [
    {
     "name": "stdout",
     "output_type": "stream",
     "text": [
      "[[-0.48712704  1.27211313 -0.14476505 -0.53868651]\n",
      " [-1.67713668  1.05846837 -0.32933501  0.23205305]\n",
      " [-0.36480163 -1.97903016  1.63190392 -0.64962009]\n",
      " [-1.19743435 -0.00224212  0.35891153  0.21731748]]\n"
     ]
    }
   ],
   "source": [
    "samples = np.random.normal(size=(4,4))  #numpy로 4x4 정규분포 배열을 생성한다\n",
    "print(samples)"
   ]
  },
  {
   "cell_type": "markdown",
   "metadata": {},
   "source": [
    "## 그래프를 그리는 라이브러리"
   ]
  },
  {
   "cell_type": "code",
   "execution_count": 26,
   "metadata": {},
   "outputs": [],
   "source": [
    "import matplotlib.pyplot as plt\n",
    "%matplotlib inline"
   ]
  },
  {
   "cell_type": "code",
   "execution_count": 27,
   "metadata": {},
   "outputs": [
    {
     "data": {
      "text/plain": [
       "[<matplotlib.lines.Line2D at 0x2898de8b278>]"
      ]
     },
     "execution_count": 27,
     "metadata": {},
     "output_type": "execute_result"
    },
    {
     "data": {
      "image/png": "[encoded data removed]",
      "text/plain": [
       "<Figure size 432x288 with 1 Axes>"
      ]
     },
     "metadata": {
      "needs_background": "light"
     },
     "output_type": "display_data"
    }
   ],
   "source": [
    "plt.plot(r, b)"
   ]
  },
  {
   "cell_type": "code",
   "execution_count": 28,
   "metadata": {},
   "outputs": [
    {
     "data": {
      "text/plain": [
       "[<matplotlib.lines.Line2D at 0x2898e2c1668>]"
      ]
     },
     "execution_count": 28,
     "metadata": {},
     "output_type": "execute_result"
    },
    {
     "data": {
      "image/png": "[encoded data removed]",
      "text/plain": [
       "<Figure size 432x288 with 1 Axes>"
      ]
     },
     "metadata": {
      "needs_background": "light"
     },
     "output_type": "display_data"
    }
   ],
   "source": [
    "plt.plot(1,2, marker = 'o', linestyle='', color = 'red')\n",
    "plt.plot(3,2, marker = 'o', linestyle='', color = 'red')\n",
    "plt.plot(4,3, marker = 'o', linestyle='', color = 'blue')"
   ]
  },
  {
   "cell_type": "code",
   "execution_count": 65,
   "metadata": {},
   "outputs": [],
   "source": [
    "r = [[170, 80, 1], [180, 60, 1], [190, 100, 1], [165, 60, 1], [185, 75, 1], [173, 68, 1],[182, 55, 1], [169, 95, 1],[171, 80, 1], [140, 50, 1]]"
   ]
  },
  {
   "cell_type": "code",
   "execution_count": 31,
   "metadata": {},
   "outputs": [
    {
     "data": {
      "text/plain": [
       "10"
      ]
     },
     "execution_count": 31,
     "metadata": {},
     "output_type": "execute_result"
    }
   ],
   "source": [
    "len(r)\n"
   ]
  },
  {
   "cell_type": "code",
   "execution_count": 66,
   "metadata": {},
   "outputs": [],
   "source": [
    "b = [[130, 46, 0],[160, 57, 0], [150, 45, 0], [145, 55, 0], [170, 65, 0], [163, 60, 0], [159, 55, 0], [190, 60, 0], [177, 54, 0], [165, 70, 0]]"
   ]
  },
  {
   "cell_type": "code",
   "execution_count": 33,
   "metadata": {},
   "outputs": [
    {
     "data": {
      "text/plain": [
       "10"
      ]
     },
     "execution_count": 33,
     "metadata": {},
     "output_type": "execute_result"
    }
   ],
   "source": [
    "len(b)\n"
   ]
  },
  {
   "cell_type": "code",
   "execution_count": 34,
   "metadata": {},
   "outputs": [
    {
     "data": {
      "image/png": "[encoded data removed]",
      "text/plain": [
       "<Figure size 432x288 with 1 Axes>"
      ]
     },
     "metadata": {
      "needs_background": "light"
     },
     "output_type": "display_data"
    }
   ],
   "source": [
    "for i in range(0, 10):\n",
    "    plt.plot(r[i][0], r[i][1], marker = 'o', linestyle='', color = 'red')\n",
    "    plt.plot(b[i][0], b[i][1], marker = 'o', linestyle='', color = 'blue')"
   ]
  },
  {
   "cell_type": "code",
   "execution_count": 70,
   "metadata": {},
   "outputs": [
    {
     "name": "stdout",
     "output_type": "stream",
     "text": [
      "[[170, 80, 1], [180, 60, 1], [190, 100, 1], [165, 60, 1], [185, 75, 1], [173, 68, 1], [182, 55, 1], [169, 95, 1], [171, 80, 1], [140, 50, 1], [130, 46, 0], [160, 57, 0], [150, 45, 0], [145, 55, 0], [170, 65, 0], [163, 60, 0], [159, 55, 0], [190, 60, 0], [177, 54, 0], [165, 70, 0]]\n"
     ]
    },
    {
     "data": {
      "text/plain": [
       "20"
      ]
     },
     "execution_count": 70,
     "metadata": {},
     "output_type": "execute_result"
    }
   ],
   "source": [
    "data = r+b\n",
    "print (data)\n",
    "len(data)"
   ]
  },
  {
   "cell_type": "code",
   "execution_count": 71,
   "metadata": {},
   "outputs": [
    {
     "data": {
      "image/png": "[encoded data removed]",
      "text/plain": [
       "<Figure size 432x288 with 1 Axes>"
      ]
     },
     "metadata": {
      "needs_background": "light"
     },
     "output_type": "display_data"
    }
   ],
   "source": [
    "point = [165, 80, 0]\n",
    "plt.plot(point[0], point[1], marker = 'o', linestyle='', color = 'green')\n",
    "for i in range (0, 20):\n",
    "    if (data[i][2] == 1):\n",
    "        plt.plot(data[i][0], data[i][1], marker = 'o', linestyle='', color = 'red')\n",
    "    else:\n",
    "        plt.plot(data[i][0], data[i][1], marker = 'o', linestyle='', color = 'blue')\n",
    "        "
   ]
  },
  {
   "cell_type": "code",
   "execution_count": 72,
   "metadata": {},
   "outputs": [
    {
     "name": "stdout",
     "output_type": "stream",
     "text": [
      "[[170  80   1]\n",
      " [180  60   1]\n",
      " [190 100   1]\n",
      " [165  60   1]\n",
      " [185  75   1]\n",
      " [173  68   1]\n",
      " [182  55   1]\n",
      " [169  95   1]\n",
      " [171  80   1]\n",
      " [140  50   1]\n",
      " [130  46   0]\n",
      " [160  57   0]\n",
      " [150  45   0]\n",
      " [145  55   0]\n",
      " [170  65   0]\n",
      " [163  60   0]\n",
      " [159  55   0]\n",
      " [190  60   0]\n",
      " [177  54   0]\n",
      " [165  70   0]]\n"
     ]
    }
   ],
   "source": [
    "data2 = np.array(data)\n",
    "print(data2)"
   ]
  },
  {
   "cell_type": "code",
   "execution_count": 73,
   "metadata": {},
   "outputs": [],
   "source": [
    "data2 = data2 - point"
   ]
  },
  {
   "cell_type": "code",
   "execution_count": 74,
   "metadata": {},
   "outputs": [
    {
     "name": "stdout",
     "output_type": "stream",
     "text": [
      "[[  5   0   1]\n",
      " [ 15 -20   1]\n",
      " [ 25  20   1]\n",
      " [  0 -20   1]\n",
      " [ 20  -5   1]\n",
      " [  8 -12   1]\n",
      " [ 17 -25   1]\n",
      " [  4  15   1]\n",
      " [  6   0   1]\n",
      " [-25 -30   1]\n",
      " [-35 -34   0]\n",
      " [ -5 -23   0]\n",
      " [-15 -35   0]\n",
      " [-20 -25   0]\n",
      " [  5 -15   0]\n",
      " [ -2 -20   0]\n",
      " [ -6 -25   0]\n",
      " [ 25 -20   0]\n",
      " [ 12 -26   0]\n",
      " [  0 -10   0]]\n"
     ]
    }
   ],
   "source": [
    "print(data2)"
   ]
  },
  {
   "cell_type": "code",
   "execution_count": 75,
   "metadata": {},
   "outputs": [
    {
     "ename": "ValueError",
     "evalue": "Integers to negative integer powers are not allowed.",
     "output_type": "error",
     "traceback": [
      "\u001b[1;31m---------------------------------------------------------------------------\u001b[0m",
      "\u001b[1;31mValueError\u001b[0m                                Traceback (most recent call last)",
      "\u001b[1;32m<ipython-input-75-a1d1a60d56a1>\u001b[0m in \u001b[0;36m<module>\u001b[1;34m\u001b[0m\n\u001b[1;32m----> 1\u001b[1;33m \u001b[0mdata2\u001b[0m \u001b[1;33m**\u001b[0m \u001b[0mdata2\u001b[0m\u001b[1;33m\u001b[0m\u001b[1;33m\u001b[0m\u001b[0m\n\u001b[0m",
      "\u001b[1;31mValueError\u001b[0m: Integers to negative integer powers are not allowed."
     ]
    }
   ],
   "source": [
    "data2 ** data2"
   ]
  },
  {
   "cell_type": "code",
   "execution_count": 81,
   "metadata": {},
   "outputs": [
    {
     "name": "stdout",
     "output_type": "stream",
     "text": [
      "[[25, 1], [625, 1], [1025, 1], [400, 1], [425, 1], [208, 1], [914, 1], [241, 1], [36, 1], [1525, 1], [2381, 0], [554, 0], [1450, 0], [1025, 0], [250, 0], [404, 0], [661, 0], [1025, 0], [820, 0], [100, 0]]\n"
     ]
    }
   ],
   "source": [
    "distance = []\n",
    "for i in range(0, 20):\n",
    "    distance.append([data2[i][0]*data2[i][0] +data2[i][1]*data2[i][1], data2[i][2]] )\n",
    "print(distance)"
   ]
  },
  {
   "cell_type": "code",
   "execution_count": 82,
   "metadata": {},
   "outputs": [
    {
     "data": {
      "text/plain": [
       "[[25, 1],\n",
       " [36, 1],\n",
       " [100, 0],\n",
       " [208, 1],\n",
       " [241, 1],\n",
       " [250, 0],\n",
       " [400, 1],\n",
       " [404, 0],\n",
       " [425, 1],\n",
       " [554, 0],\n",
       " [625, 1],\n",
       " [661, 0],\n",
       " [820, 0],\n",
       " [914, 1],\n",
       " [1025, 0],\n",
       " [1025, 0],\n",
       " [1025, 1],\n",
       " [1450, 0],\n",
       " [1525, 1],\n",
       " [2381, 0]]"
      ]
     },
     "execution_count": 82,
     "metadata": {},
     "output_type": "execute_result"
    }
   ],
   "source": [
    "sorted(distance)"
   ]
  },
  {
   "cell_type": "code",
   "execution_count": 122,
   "metadata": {},
   "outputs": [
    {
     "name": "stdout",
     "output_type": "stream",
     "text": [
      "남자\n",
      "[165, 80, 1]\n"
     ]
    }
   ],
   "source": [
    "data3 = list(sorted(distance))\n",
    "target = 7\n",
    "count=0\n",
    "for j in range(target):\n",
    "    count = count + data3[j][1]\n",
    "    \n",
    "if (count >= target/2):\n",
    "    print(\"남자\")\n",
    "    point[2] = 1\n",
    "else:\n",
    "    print(\"여자\")\n",
    "    point[2] = 0\n",
    "\n",
    "print(point)\n",
    "    "
   ]
  },
  {
   "cell_type": "code",
   "execution_count": 123,
   "metadata": {},
   "outputs": [
    {
     "name": "stdout",
     "output_type": "stream",
     "text": [
      "[[25, 1], [36, 1], [100, 0], [208, 1], [241, 1], [250, 0], [400, 1], [404, 0], [425, 1], [554, 0], [625, 1], [661, 0], [820, 0], [914, 1], [1025, 0], [1025, 0], [1025, 1], [1450, 0], [1525, 1], [2381, 0]]\n",
      "5\n"
     ]
    },
    {
     "data": {
      "text/plain": [
       "list"
      ]
     },
     "execution_count": 123,
     "metadata": {},
     "output_type": "execute_result"
    }
   ],
   "source": [
    "print(data3)\n",
    "print(count)\n",
    "type(data3)"
   ]
  },
  {
   "cell_type": "code",
   "execution_count": 93,
   "metadata": {},
   "outputs": [
    {
     "data": {
      "text/plain": [
       "numpy.int32"
      ]
     },
     "execution_count": 93,
     "metadata": {},
     "output_type": "execute_result"
    }
   ],
   "source": [
    "type(data3[1][1])"
   ]
  },
  {
   "cell_type": "code",
   "execution_count": 125,
   "metadata": {},
   "outputs": [
    {
     "name": "stdout",
     "output_type": "stream",
     "text": [
      "입력\n",
      "45\n"
     ]
    },
    {
     "data": {
      "text/plain": [
       "int"
      ]
     },
     "execution_count": 125,
     "metadata": {},
     "output_type": "execute_result"
    }
   ],
   "source": [
    "print(\"입력\")\n",
    "a= int(input())\n",
    "type(a)"
   ]
  },
  {
   "cell_type": "code",
   "execution_count": null,
   "metadata": {},
   "outputs": [],
   "source": []
  }
 ],
 "metadata": {
  "kernelspec": {
   "display_name": "Python 3",
   "language": "python",
   "name": "python3"
  },
  "language_info": {
   "codemirror_mode": {
    "name": "ipython",
    "version": 3
   },
   "file_extension": ".py",
   "mimetype": "text/x-python",
   "name": "python",
   "nbconvert_exporter": "python",
   "pygments_lexer": "ipython3",
   "version": "3.7.3"
  }
 },
 "nbformat": 4,
 "nbformat_minor": 2
}
