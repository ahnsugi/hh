{
 "cells": [
  {
   "cell_type": "code",
   "execution_count": 5,
   "metadata": {},
   "outputs": [],
   "source": [
    "import random"
   ]
  },
  {
   "cell_type": "code",
   "execution_count": 6,
   "metadata": {},
   "outputs": [],
   "source": [
    "r = []\n",
    "b = []\n",
    "for i in range(50):\n",
    "    r.append([random.randint(40, 70), random.randint(140, 180), 1])\n",
    "    b.append([random.randint(60, 90), random.randint(160, 200), 0])"
   ]
  },
  {
   "cell_type": "code",
   "execution_count": 7,
   "metadata": {},
   "outputs": [
    {
     "name": "stdout",
     "output_type": "stream",
     "text": [
      "[[49, 143, 1], [54, 163, 1], [46, 152, 1], [63, 142, 1], [45, 147, 1], [56, 170, 1], [57, 155, 1], [66, 146, 1], [59, 159, 1], [60, 149, 1], [48, 179, 1], [50, 154, 1], [69, 165, 1], [50, 167, 1], [54, 149, 1], [61, 179, 1], [49, 160, 1], [46, 145, 1], [66, 154, 1], [41, 157, 1], [52, 176, 1], [69, 159, 1], [63, 146, 1], [67, 165, 1], [50, 178, 1], [46, 141, 1], [51, 178, 1], [51, 154, 1], [56, 180, 1], [62, 145, 1], [68, 160, 1], [60, 179, 1], [58, 174, 1], [59, 152, 1], [48, 152, 1], [42, 157, 1], [41, 156, 1], [69, 142, 1], [60, 143, 1], [47, 171, 1], [47, 144, 1], [49, 172, 1], [66, 167, 1], [59, 155, 1], [45, 157, 1], [54, 168, 1], [49, 159, 1], [59, 162, 1], [54, 166, 1], [66, 147, 1]]\n",
      "[[71, 192, 0], [67, 184, 0], [78, 194, 0], [69, 180, 0], [78, 169, 0], [70, 184, 0], [66, 188, 0], [71, 188, 0], [65, 186, 0], [61, 197, 0], [82, 187, 0], [88, 185, 0], [61, 167, 0], [61, 179, 0], [66, 169, 0], [67, 194, 0], [68, 168, 0], [78, 196, 0], [74, 177, 0], [77, 183, 0], [61, 177, 0], [61, 200, 0], [60, 198, 0], [66, 179, 0], [87, 195, 0], [81, 189, 0], [84, 178, 0], [67, 168, 0], [73, 183, 0], [82, 180, 0], [76, 169, 0], [81, 196, 0], [76, 193, 0], [85, 182, 0], [73, 165, 0], [86, 200, 0], [78, 162, 0], [83, 164, 0], [63, 190, 0], [65, 196, 0], [85, 173, 0], [85, 191, 0], [88, 197, 0], [77, 180, 0], [68, 197, 0], [67, 166, 0], [88, 189, 0], [69, 180, 0], [68, 175, 0], [90, 171, 0]]\n"
     ]
    }
   ],
   "source": [
    "print(r)\n",
    "print(b)"
   ]
  },
  {
   "cell_type": "code",
   "execution_count": 8,
   "metadata": {},
   "outputs": [],
   "source": [
    "import matplotlib.pyplot as plt\n",
    "%matplotlib inline"
   ]
  },
  {
   "cell_type": "code",
   "execution_count": 5,
   "metadata": {},
   "outputs": [
    {
     "data": {
      "text/plain": [
       "[<matplotlib.lines.Line2D at 0x1e924262898>]"
      ]
     },
     "execution_count": 5,
     "metadata": {},
     "output_type": "execute_result"
    },
    {
     "data": {
      "image/png": "[encoded data removed]",
      "text/plain": [
       "<Figure size 432x288 with 1 Axes>"
      ]
     },
     "metadata": {
      "needs_background": "light"
     },
     "output_type": "display_data"
    }
   ],
   "source": [
    "for i in range(50):\n",
    "    plt.plot(r[i][0], r[i][1], marker = 'o', color = 'red')\n",
    "    plt.plot(b[i][0], b[i][1], marker = 'o', color = 'blue')\n",
    "    \n",
    "new = [55, 170, 1]\n",
    "plt.plot(new[0], new[1], marker = 'o', color = 'green')"
   ]
  },
  {
   "cell_type": "code",
   "execution_count": 9,
   "metadata": {},
   "outputs": [],
   "source": [
    "import numpy as np"
   ]
  },
  {
   "cell_type": "code",
   "execution_count": 7,
   "metadata": {},
   "outputs": [],
   "source": [
    "dist = np.sqrt(pow((new[0]-r[0][0]),2)+pow((new[1]-r[0][1]),2))"
   ]
  },
  {
   "cell_type": "code",
   "execution_count": 8,
   "metadata": {},
   "outputs": [
    {
     "name": "stdout",
     "output_type": "stream",
     "text": [
      "7.0710678118654755\n"
     ]
    }
   ],
   "source": [
    "print (dist)"
   ]
  },
  {
   "cell_type": "code",
   "execution_count": 10,
   "metadata": {},
   "outputs": [],
   "source": [
    "def distance(x, y):\n",
    "    return (np.sqrt(pow((x[0]-y[0]), 2) + pow((x[1]-y[1]),2)))"
   ]
  },
  {
   "cell_type": "code",
   "execution_count": 10,
   "metadata": {},
   "outputs": [
    {
     "data": {
      "text/plain": [
       "7.0710678118654755"
      ]
     },
     "execution_count": 10,
     "metadata": {},
     "output_type": "execute_result"
    }
   ],
   "source": [
    "distance(new, r[0])"
   ]
  },
  {
   "cell_type": "code",
   "execution_count": 11,
   "metadata": {},
   "outputs": [
    {
     "name": "stdout",
     "output_type": "stream",
     "text": [
      "[[7.0710678118654755, 1], [31.78049716414141, 0], [28.0, 1], [13.038404810405298, 0], [17.69180601295413, 1], [41.012193308819754, 0], [13.601470508735444, 1], [31.38470965295043, 0], [12.041594578792296, 1], [23.021728866442675, 0], [24.596747752497688, 1], [15.264337522473747, 0], [1.0, 1], [16.55294535724685, 0], [7.615773105863909, 1], [32.55764119219941, 0], [3.1622776601683795, 1], [30.083217912982647, 0], [17.804493814764857, 1], [29.832867780352597, 0], [8.54400374531753, 1], [34.20526275297414, 0], [12.083045973594572, 1], [31.953090617340916, 0], [9.899494936611665, 1], [29.068883707497267, 0], [22.02271554554524, 1], [23.853720883753127, 0], [29.068883707497267, 1], [29.154759474226502, 0], [14.866068747318506, 1], [26.570660511172846, 0], [11.704699910719626, 1], [16.401219466856727, 0], [25.019992006393608, 1], [10.816653826391969, 0], [25.80697580112788, 1], [23.259406699226016, 0], [8.94427190999916, 1], [14.422205101855956, 0], [18.027756377319946, 1], [38.28837943815329, 0], [8.06225774829855, 1], [27.459060435491963, 0], [16.15549442140351, 1], [13.416407864998739, 0], [16.64331697709324, 1], [31.953090617340916, 0], [11.40175425099138, 1], [20.615528128088304, 0], [14.7648230602334, 1], [43.01162633521314, 0], [17.46424919657298, 1], [22.090722034374522, 0], [13.341664064126334, 1], [15.652475842498529, 0], [20.8806130178211, 1], [30.083217912982647, 0], [8.602325267042627, 1], [42.5205832509386, 0], [5.0990195135927845, 1], [28.231188426986208, 0], [10.63014581273465, 1], [17.46424919657298, 0], [16.278820596099706, 1], [16.492422502470642, 0], [4.242640687119285, 1], [24.413111231467404, 0], [29.5296461204668, 1], [35.510561809129406, 0], [9.486832980505138, 1], [20.248456731316587, 0], [7.0710678118654755, 1], [16.55294535724685, 0], [5.0, 1], [18.788294228055936, 0], [23.40939982143925, 1], [37.8021163428716, 0], [14.866068747318506, 1], [24.698178070456937, 0], [9.848857801796104, 1], [20.591260281974, 0], [10.295630140987, 1], [25.495097567963924, 0], [16.401219466856727, 1], [18.027756377319946, 0], [14.7648230602334, 1], [22.20360331117452, 0], [13.45362404707371, 1], [34.0147027033899, 0], [21.37755832643195, 1], [8.0, 0], [14.422205101855956, 1], [35.17101079013795, 0], [3.1622776601683795, 1], [19.849433241279208, 0], [18.601075237738275, 1], [25.238858928247925, 0], [20.808652046684813, 1], [26.92582403567252, 0]]\n"
     ]
    }
   ],
   "source": [
    "result = []\n",
    "for i in range(50):\n",
    "    result.append([distance(new, r[i]), r[i][2]])\n",
    "    result.append([distance(new, b[i]), b[i][2]])\n",
    "print(result)"
   ]
  },
  {
   "cell_type": "code",
   "execution_count": 12,
   "metadata": {
    "scrolled": true
   },
   "outputs": [
    {
     "name": "stdout",
     "output_type": "stream",
     "text": [
      "[[1.0, 1], [3.1622776601683795, 1], [3.1622776601683795, 1], [4.242640687119285, 1], [5.0, 1], [5.0990195135927845, 1], [7.0710678118654755, 1], [7.0710678118654755, 1], [7.615773105863909, 1], [8.0, 0], [8.06225774829855, 1], [8.54400374531753, 1], [8.602325267042627, 1], [8.94427190999916, 1], [9.486832980505138, 1], [9.848857801796104, 1], [9.899494936611665, 1], [10.295630140987, 1], [10.63014581273465, 1], [10.816653826391969, 0], [11.40175425099138, 1], [11.704699910719626, 1], [12.041594578792296, 1], [12.083045973594572, 1], [13.038404810405298, 0], [13.341664064126334, 1], [13.416407864998739, 0], [13.45362404707371, 1], [13.601470508735444, 1], [14.422205101855956, 0], [14.422205101855956, 1], [14.7648230602334, 1], [14.7648230602334, 1], [14.866068747318506, 1], [14.866068747318506, 1], [15.264337522473747, 0], [15.652475842498529, 0], [16.15549442140351, 1], [16.278820596099706, 1], [16.401219466856727, 0], [16.401219466856727, 1], [16.492422502470642, 0], [16.55294535724685, 0], [16.55294535724685, 0], [16.64331697709324, 1], [17.46424919657298, 0], [17.46424919657298, 1], [17.69180601295413, 1], [17.804493814764857, 1], [18.027756377319946, 0], [18.027756377319946, 1], [18.601075237738275, 1], [18.788294228055936, 0], [19.849433241279208, 0], [20.248456731316587, 0], [20.591260281974, 0], [20.615528128088304, 0], [20.808652046684813, 1], [20.8806130178211, 1], [21.37755832643195, 1], [22.02271554554524, 1], [22.090722034374522, 0], [22.20360331117452, 0], [23.021728866442675, 0], [23.259406699226016, 0], [23.40939982143925, 1], [23.853720883753127, 0], [24.413111231467404, 0], [24.596747752497688, 1], [24.698178070456937, 0], [25.019992006393608, 1], [25.238858928247925, 0], [25.495097567963924, 0], [25.80697580112788, 1], [26.570660511172846, 0], [26.92582403567252, 0], [27.459060435491963, 0], [28.0, 1], [28.231188426986208, 0], [29.068883707497267, 0], [29.068883707497267, 1], [29.154759474226502, 0], [29.5296461204668, 1], [29.832867780352597, 0], [30.083217912982647, 0], [30.083217912982647, 0], [31.38470965295043, 0], [31.78049716414141, 0], [31.953090617340916, 0], [31.953090617340916, 0], [32.55764119219941, 0], [34.0147027033899, 0], [34.20526275297414, 0], [35.17101079013795, 0], [35.510561809129406, 0], [37.8021163428716, 0], [38.28837943815329, 0], [41.012193308819754, 0], [42.5205832509386, 0], [43.01162633521314, 0]]\n"
     ]
    }
   ],
   "source": [
    "result_s = sorted(result)\n",
    "print(result_s)"
   ]
  },
  {
   "cell_type": "code",
   "execution_count": 13,
   "metadata": {},
   "outputs": [
    {
     "name": "stdout",
     "output_type": "stream",
     "text": [
      "여자입니다\n",
      "[55, 170, 1]\n",
      "51\n",
      "50\n"
     ]
    }
   ],
   "source": [
    "target = 13\n",
    "count = 0\n",
    "\n",
    "for i in range(target):\n",
    "    count += result[i][1]\n",
    "\n",
    "if(count >= target/2):\n",
    "    print(\"여자입니다\")\n",
    "    new[2] = 1\n",
    "    r.append(new)\n",
    "else:\n",
    "    print(\"남자입니다\")\n",
    "    new[2] = 0\n",
    "    b.append(new)\n",
    "\n",
    "print(new)\n",
    "print(len(r))\n",
    "print(len(b))\n",
    "\n"
   ]
  },
  {
   "cell_type": "code",
   "execution_count": 14,
   "metadata": {},
   "outputs": [
    {
     "name": "stdout",
     "output_type": "stream",
     "text": [
      "50\n"
     ]
    }
   ],
   "source": [
    "r.pop()\n",
    "print(len(r))"
   ]
  },
  {
   "cell_type": "code",
   "execution_count": 15,
   "metadata": {},
   "outputs": [
    {
     "name": "stdout",
     "output_type": "stream",
     "text": [
      "[[56, 177, 1], [55, 142, 1], [67, 157, 1], [66, 178, 1], [43, 169, 1], [66, 148, 1], [55, 171, 1], [48, 167, 1], [56, 173, 1], [41, 159, 1], [52, 162, 1], [66, 175, 1], [48, 163, 1], [41, 153, 1], [53, 141, 1], [65, 159, 1], [44, 174, 1], [56, 145, 1], [40, 149, 1], [63, 166, 1], [45, 155, 1], [63, 171, 1], [49, 155, 1], [46, 156, 1], [66, 167, 1], [42, 177, 1], [62, 154, 1], [58, 157, 1], [61, 150, 1], [60, 163, 1], [54, 175, 1], [48, 178, 1], [43, 159, 1], [58, 167, 1], [41, 144, 1], [46, 167, 1], [56, 163, 1], [58, 174, 1], [47, 148, 1], [45, 159, 1], [46, 174, 1], [46, 165, 1], [68, 180, 1], [68, 177, 1], [45, 179, 1], [59, 149, 1], [67, 162, 1], [58, 171, 1], [44, 155, 1], [43, 153, 1]]\n"
     ]
    }
   ],
   "source": [
    "print(r)"
   ]
  },
  {
   "cell_type": "code",
   "execution_count": null,
   "metadata": {
    "scrolled": true
   },
   "outputs": [
    {
     "name": "stdout",
     "output_type": "stream",
     "text": [
      "키를 입력하세요: \n",
      "145\n",
      "몸무게를 입력하세요: \n",
      "79\n",
      "여자입니다\n",
      "키를 입력하세요: \n",
      "167\n",
      "몸무게를 입력하세요: \n",
      "80\n",
      "남자입니다\n",
      "키를 입력하세요: \n",
      "a\n"
     ]
    }
   ],
   "source": [
    "while(True):\n",
    "    print(\"키를 입력하세요: \")\n",
    "    new[0] = int(input())\n",
    "    print(\"몸무게를 입력하세요: \")\n",
    "    new[1] = int(input())\n",
    "    result = []\n",
    "    for i in range(len(r)):\n",
    "        result.append([distance(new, r[i]), r[i][2]])\n",
    "    \n",
    "    for i in range(len(b)):  \n",
    "        result.append([distance(new, b[i]), b[i][2]])\n",
    "\n",
    "    result.sort()\n",
    "    count = 0\n",
    "    for i in range(target):\n",
    "        count += result[i][1]\n",
    "\n",
    "    if(count >= target/2):\n",
    "        print(\"여자입니다\")\n",
    "        new[2] = 1\n",
    "        r.append(new)\n",
    "    else:\n",
    "        print(\"남자입니다\")\n",
    "        new[2] = 0\n",
    "        b.append(new)\n"
   ]
  },
  {
   "cell_type": "code",
   "execution_count": 2,
   "metadata": {},
   "outputs": [
    {
     "ename": "NameError",
     "evalue": "name 'r' is not defined",
     "output_type": "error",
     "traceback": [
      "\u001b[1;31m---------------------------------------------------------------------------\u001b[0m",
      "\u001b[1;31mNameError\u001b[0m                                 Traceback (most recent call last)",
      "\u001b[1;32m<ipython-input-2-014a5f8135d6>\u001b[0m in \u001b[0;36m<module>\u001b[1;34m\u001b[0m\n\u001b[1;32m----> 1\u001b[1;33m \u001b[0my\u001b[0m \u001b[1;33m=\u001b[0m \u001b[0mr\u001b[0m\u001b[1;33m+\u001b[0m\u001b[0mb\u001b[0m\u001b[1;33m\u001b[0m\u001b[1;33m\u001b[0m\u001b[0m\n\u001b[0m\u001b[0;32m      2\u001b[0m \u001b[0mprint\u001b[0m \u001b[1;33m(\u001b[0m\u001b[0my\u001b[0m\u001b[1;33m)\u001b[0m\u001b[1;33m\u001b[0m\u001b[1;33m\u001b[0m\u001b[0m\n",
      "\u001b[1;31mNameError\u001b[0m: name 'r' is not defined"
     ]
    }
   ],
   "source": [
    "y = r+b\n",
    "print (y)"
   ]
  },
  {
   "cell_type": "code",
   "execution_count": 11,
   "metadata": {},
   "outputs": [],
   "source": [
    "import random\n",
    "import numpy as np\n",
    "import matplotlib.pyplot as plt\n",
    "%matplotlib inline\n",
    "r = []\n",
    "b = []\n",
    "for i in range(50):\n",
    "    r.append([random.randint(40, 70), random.randint(140, 180), 1])\n",
    "    b.append([random.randint(60, 90), random.randint(160, 200), 0])"
   ]
  },
  {
   "cell_type": "code",
   "execution_count": 23,
   "metadata": {},
   "outputs": [],
   "source": [
    "def distance(x, y):\n",
    "    return (np.sqrt(pow((x[0]-y[0]), 2) + pow((x[1]-y[1]),2)))\n",
    "\n",
    "def knn(x, y, k):\n",
    "    result = []\n",
    "    cnt = 0\n",
    "    for i in range(len(y)):\n",
    "        result.append([distance(x, y[i]), y[i][2]])\n",
    "\n",
    "    result.sort()\n",
    "    for i in range(k):\n",
    "        if(result[i][1] == 1):\n",
    "            cnt += 1\n",
    "\n",
    "    if(cnt >= k/2):\n",
    "        print(\"여자입니다\")\n",
    "    else:\n",
    "        print(\"남자입니다\")"
   ]
  },
  {
   "cell_type": "code",
   "execution_count": 19,
   "metadata": {},
   "outputs": [],
   "source": [
    "x = [160, 80]\n",
    "k = 7\n",
    "y = r+b"
   ]
  },
  {
   "cell_type": "code",
   "execution_count": 24,
   "metadata": {},
   "outputs": [
    {
     "name": "stdout",
     "output_type": "stream",
     "text": [
      "남자입니다\n"
     ]
    }
   ],
   "source": [
    "knn(x, y, k)"
   ]
  },
  {
   "cell_type": "code",
   "execution_count": null,
   "metadata": {},
   "outputs": [],
   "source": []
  }
 ],
 "metadata": {
  "kernelspec": {
   "display_name": "Python 3",
   "language": "python",
   "name": "python3"
  },
  "language_info": {
   "codemirror_mode": {
    "name": "ipython",
    "version": 3
   },
   "file_extension": ".py",
   "mimetype": "text/x-python",
   "name": "python",
   "nbconvert_exporter": "python",
   "pygments_lexer": "ipython3",
   "version": "3.7.3"
  }
 },
 "nbformat": 4,
 "nbformat_minor": 2
}
