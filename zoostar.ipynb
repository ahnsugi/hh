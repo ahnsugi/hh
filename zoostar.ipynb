{
 "cells": [
  {
   "cell_type": "markdown",
   "metadata": {},
   "source": [
    "# 퍼셉트론 "
   ]
  },
  {
   "cell_type": "code",
   "execution_count": 30,
   "metadata": {
    "scrolled": true
   },
   "outputs": [
    {
     "name": "stdout",
     "output_type": "stream",
     "text": [
      "\n",
      "XOR\n",
      "(0, 0) -> 0\n",
      "(1, 0) -> 1\n",
      "(0, 1) -> 1\n",
      "(1, 1) -> 0\n"
     ]
    }
   ],
   "source": [
    "# 논리회로 And , OR , NANE\n",
    "\n",
    "#  w1 * x1 + w2 * x2 + b > 0  흐른다. \n",
    "#  w1 * x1 + w2 * x2 + b <= 0  흐르지 않는다. \n",
    "\n",
    "import numpy as np\n",
    "\n",
    "\n",
    "def AND(x1, x2):\n",
    "    x = np.array([x1,x2])\n",
    "    w = np.array([0.5,0.5])\n",
    "    b = -0.7\n",
    "    \n",
    "    tmp = np.sum(w*x) + b\n",
    "    if tmp <= 0 :\n",
    "        return 0 #흐르지 않는다.\n",
    "    else:\n",
    "        return 1 # 흐른다.\n",
    "    \n",
    "    \n",
    "def OR(x1, x2):\n",
    "    x = np.array([x1,x2])\n",
    "    w = np.array([0.5,0.5])\n",
    "    b = -0.2\n",
    "    \n",
    "    tmp = np.sum(w*x) + b\n",
    "    if tmp <= 0 :\n",
    "        return 0 #흐르지 않는다.\n",
    "    else:\n",
    "        return 1 # 흐른다.\n",
    "    \n",
    "def NAND(x1, x2):\n",
    "    x = np.array([x1,x2])\n",
    "    w = np.array([-0.5,-0.5])\n",
    "    b = 0.7\n",
    "    \n",
    "    tmp = np.sum(w*x) + b\n",
    "    if tmp <= 0 :\n",
    "        return 0 #흐르지 않는다.\n",
    "    else:\n",
    "        return 1 # 흐른다.\n",
    "\n",
    "# print(\"AND\")\n",
    "# for i in [(0,0),(1,0),(0,1),(1,1)]:\n",
    "#     y  = AND(i[0],i[1])\n",
    "#     print(str(i) + \" -> \" + str(y))\n",
    "# print()\n",
    "# print(\"OR\")\n",
    "# for i in [(0,0),(1,0),(0,1),(1,1)]:\n",
    "#     y  = OR(i[0],i[1])\n",
    "#     print(str(i) + \" -> \" + str(y))\n",
    "# print()\n",
    "# print(\"NAND\")\n",
    "# for i in [(0,0),(1,0),(0,1),(1,1)]:\n",
    "#     y  = NAND(i[0],i[1])\n",
    "#     print(str(i) + \" -> \" + str(y))\n",
    "    \n",
    "    \n",
    "print()\n",
    "print(\"XOR\")\n",
    "for i in [(0,0),(1,0),(0,1),(1,1)]:\n",
    "    s1  = NAND(i[0],i[1])\n",
    "    s2  = OR(i[0],i[1])\n",
    "    y   = AND(s1, s2)\n",
    "    \n",
    "    print(str(i) + \" -> \" + str(y))"
   ]
  },
  {
   "cell_type": "code",
   "execution_count": 34,
   "metadata": {},
   "outputs": [
    {
     "name": "stdout",
     "output_type": "stream",
     "text": [
      "epoch :  748\n",
      "w1 :  [0.8943646907899094, 1.0275423801842172, 0.5134984192734015]\n",
      "w2 :  [-0.6703777755233833, -0.6264190402656683, -1.1195700917319822]\n",
      "b :  [-0.794349205725475, 0.06843406168282577, 0.852564963238917]\n"
     ]
    }
   ],
   "source": [
    "data = [(0,0,0),(1,0,0),(0,1,0),(1,1,1)]\n",
    "data_Or = [(0,0,0),(1,0,1),(0,1,1),(1,1,1)]\n",
    "data_Nand = [(0,0,1),(1,0,1),(0,1,1),(1,1,0)]\n",
    "data_Xor = [(0,0,0),(1,0,1),(0,1,1),(1,1,0)]\n",
    "\n",
    "w1 = [0,0,0]\n",
    "w2 = [0,0,0]\n",
    "b  = [0,0,0]\n",
    "cnt = 0\n",
    "epoch = 0\n",
    "\n",
    "def model(x1, x2,w1,w2,b):\n",
    "    x = np.array([x1,x2])\n",
    "    w = np.array([w1,w2])\n",
    "        \n",
    "    tmp = np.sum(w*x) + b\n",
    "    if tmp <= 0 :\n",
    "        return 0 #흐르지 않는다.\n",
    "    else:\n",
    "        return 1 # 흐른다.\n",
    "\n",
    "while(1):\n",
    "    epoch +=1\n",
    "    cnt = 0\n",
    "    w1 = [np.random.normal(),np.random.normal(),np.random.normal()]\n",
    "    w2 = [np.random.normal(),np.random.normal(),np.random.normal()]\n",
    "    b  = [np.random.normal(),np.random.normal(),np.random.normal()]\n",
    "    \n",
    "    for i in data_Xor:\n",
    "        if (i[2] != model(model(i[0],i[1],w1[0],w2[0],b[0]),model(i[0],i[1],w1[1],w2[1],b[1]),w1[2],w2[2],b[2])):\n",
    "            break\n",
    "        else:\n",
    "            cnt += 1\n",
    "    \n",
    "    \n",
    "    if cnt == 4:\n",
    "        print(\"epoch : \", epoch) \n",
    "        print(\"w1 : \", w1)\n",
    "        print(\"w2 : \", w2)\n",
    "        print(\"b : \", b)\n",
    "        break\n",
    "        \n",
    "    if (epoch % 10000) == 0:\n",
    "        print(epoch , \" 반복 중\")\n",
    "    "
   ]
  },
  {
   "cell_type": "code",
   "execution_count": null,
   "metadata": {},
   "outputs": [],
   "source": [
    "input_data = (0,0,0,1,1,1,0,0,0,0,0,1,1,1,0,0,0,0,0,0,1,1,1,1,1,1,0,0,0,.......)\n",
    "label = (1,0,0,0,0,0,0,0,0,0,0)"
   ]
  }
 ],
 "metadata": {
  "kernelspec": {
   "display_name": "Python 3",
   "language": "python",
   "name": "python3"
  },
  "language_info": {
   "codemirror_mode": {
    "name": "ipython",
    "version": 3
   },
   "file_extension": ".py",
   "mimetype": "text/x-python",
   "name": "python",
   "nbconvert_exporter": "python",
   "pygments_lexer": "ipython3",
   "version": "3.7.3"
  }
 },
 "nbformat": 4,
 "nbformat_minor": 2
}
