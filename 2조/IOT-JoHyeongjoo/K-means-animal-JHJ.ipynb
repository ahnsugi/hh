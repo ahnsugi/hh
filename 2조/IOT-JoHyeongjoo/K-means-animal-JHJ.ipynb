{
 "cells": [
  {
   "cell_type": "markdown",
   "metadata": {},
   "source": [
    "## 5개 이상의 특징을 가진 동물분류기"
   ]
  },
  {
   "cell_type": "code",
   "execution_count": null,
   "metadata": {},
   "outputs": [],
   "source": [
    "import random\n",
    "import numpy as np\n",
    "\n",
    "data = []\n",
    "#개, 돼지, 호랑이, 얼룩말, 치타\n",
    "#(높이, 길이, 무게, 먹는 양, 달리기속도)\n",
    "for i in range(50):\n",
    "    #data.append(      키높이            머리에서 꼬리까지 길이      몸무게                 샤료먹는 양             달리기 속도)\n",
    "    data.append([random.randint(20, 40),random.randint(30, 80), random.randint(20, 50), random.randint(1, 20), random.randint(10, 40)]) #개\n",
    "    data.append([random.randint(40, 60),random.randint(60, 150), random.randint(100, 150), random.randint(20, 30), random.randint(5, 10)]) #돼지\n",
    "    data.append([random.randint(50, 100),random.randint(130, 200), random.randint(200, 250), random.randint(10, 25), random.randint(50, 80)]) #호랑이\n",
    "    data.append([random.randint(80, 120),random.randint(100, 150), random.randint(90, 120), random.randint(10, 15), random.randint(30, 90)]) #얼룩말\n",
    "    data.append([random.randint(50, 80),random.randint(80, 130), random.randint(80, 100), random.randint(5, 15), random.randint(80, 110)]) #치타\n",
    "\n",
    "points = [[random.randint(20, 120),random.randint(60, 200),random.randint(20, 250),random.randint(1, 30),random.randint(5, 110)],\n",
    "                 [random.randint(20, 120),random.randint(60, 200),random.randint(20, 250),random.randint(1, 30),random.randint(5, 110)],\n",
    "                 [random.randint(20, 120),random.randint(60, 200),random.randint(20, 250),random.randint(1, 30),random.randint(5, 110)],\n",
    "                 [random.randint(20, 120),random.randint(60, 200),random.randint(20, 250),random.randint(1, 30),random.randint(5, 110)],\n",
    "                 [random.randint(20, 120),random.randint(60, 200),random.randint(20, 250),random.randint(1, 30),random.randint(5, 110)]]\n",
    "\n",
    "\n",
    "def dist(x,y):\n",
    "    return np.sqrt((x[0]-y[0])**2 +(x[1]-y[1])**2+(x[2]-y[2])**2+(x[3]-y[3])**2+(x[4]-y[4])**2)\n",
    "\n",
    "fullcnt = 0 \n",
    "while fullcnt < 10: #총 10번 시행\n",
    "    #각 데이터를 기준으로 가장 가까운 점을 찾는다\n",
    "    temp = [[],[],[],[],[]]\n",
    "    for i in data:\n",
    "        distance = []\n",
    "        for k in range(0,5):\n",
    "            distance.append(dist(points[k], i))\n",
    "        temp[ distance.index( min(distance) ) ].append(i)\n",
    "# 각 동물 = temp[i]\n",
    "# 동불별로 그룹화된 데이터들을 평균내서 새로운 기준점을 만든다\n",
    "    for i in range(0,5):\n",
    "        sum_arr = np.zeros(5)\n",
    "        count = 0\n",
    "        temp[i] = np.array(temp[i])\n",
    "        for n in temp[i]:\n",
    "            sum_arr+=n\n",
    "            count+=1\n",
    "        points[i] = np.array(sum_arr)/count\n",
    "    #print(points)\n",
    "    fullcnt += 1\n",
    "\n",
    "print(\"결과출력\")\n",
    "for i in points:\n",
    "    print(i)"
   ]
  }
 ],
 "metadata": {
  "kernelspec": {
   "display_name": "Python 3",
   "language": "python",
   "name": "python3"
  },
  "language_info": {
   "codemirror_mode": {
    "name": "ipython",
    "version": 3
   },
   "file_extension": ".py",
   "mimetype": "text/x-python",
   "name": "python",
   "nbconvert_exporter": "python",
   "pygments_lexer": "ipython3",
   "version": "3.7.3"
  }
 },
 "nbformat": 4,
 "nbformat_minor": 2
}
