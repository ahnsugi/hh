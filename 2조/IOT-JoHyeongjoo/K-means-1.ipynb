{
 "cells": [
  {
   "cell_type": "markdown",
   "metadata": {},
   "source": [
    "##  자율학습 - 군집\n",
    "### k-means method\n",
    "- 임의의 k값을 컴퓨터가 스스로 나누도록 하는 것\n",
    "- 지도학습과 달리 미리 답을 알려주지 않는다\n",
    "- 주어지는 것은 몇개로 나눌 것인가를 뜻하는 K값뿐이다"
   ]
  },
  {
   "cell_type": "markdown",
   "metadata": {},
   "source": [
    "### 주요 알고리즘\n",
    "- 컴퓨터 스스로 두 점을 찍도록 한다\n",
    "- 점과 점 사이에 절반으로 구역을 나눈다\n",
    "- 각 구열 내 점들의 평균을 구해 mean 값을 가지는 점을 찍는다\n",
    "- 새로 찍힌 점들을 이용해 다시 구역을 나눈다\n",
    "- 새로 나누어진 구역 내의 점들로 다시 평균을 구한다\n",
    "- 이것을 반복하다가 평균점이 더 이상 움직이지 않으면 학습이 완료된 것으로 인지한다"
   ]
  },
  {
   "cell_type": "code",
   "execution_count": 134,
   "metadata": {},
   "outputs": [
    {
     "name": "stdout",
     "output_type": "stream",
     "text": [
      "랜덤 시작점:  [195, 22] # [68, 1]\n",
      "[195, 22] ; [68, 1]\n",
      "[171.74489796  68.2755102 ] ; [140.   67.5]\n",
      "[176.52439024  70.47560976] ; [146.44444444  58.16666667]\n",
      "[178.83098592  69.5915493 ] ; [152.20689655  65.        ]\n",
      "[180.703125  70.859375] ; [154.05555556  63.63888889]\n",
      "[181.3442623   70.75409836] ; [155.1025641   64.35897436]\n",
      "[181.96610169  71.55932203] ; [155.48780488  63.51219512]\n",
      "[181.67241379  69.68965517] ; [156.52380952  66.28571429]\n",
      "[182.32758621  72.48275862] ; [155.61904762  62.42857143]\n",
      "[181.73684211  69.21052632] ; [157.02325581  67.        ]\n",
      "[183.44444444  74.03703704] ; [156.63043478  61.47826087]\n",
      "[181.75925926  67.7962963 ] ; [158.60869565  68.80434783]\n",
      "[183.96153846  75.67307692] ; [157.1875      60.22916667]\n",
      "[181.38461538  66.28846154] ; [159.97916667  70.39583333]\n",
      "[184.71428571  76.65306122] ; [158.03921569  60.19607843]\n",
      "[181.34  65.46] ; [160.88  71.06]\n",
      "[185.          76.85416667] ; [158.28846154  60.32692308]\n",
      "[181.34  65.46] ; [160.88  71.06]\n",
      "[185.          76.85416667] ; [158.28846154  60.32692308]\n",
      "[181.34  65.46] ; [160.88  71.06]\n",
      "[185.          76.85416667] ; [158.28846154  60.32692308]\n",
      "[181.34  65.46] ; [160.88  71.06]\n",
      "[185.          76.85416667] ; [158.28846154  60.32692308]\n",
      "[181.34  65.46] ; [160.88  71.06]\n",
      "[185.          76.85416667] ; [158.28846154  60.32692308]\n",
      "[181.34  65.46] ; [160.88  71.06]\n",
      "[185.          76.85416667] ; [158.28846154  60.32692308]\n",
      "[181.34  65.46] ; [160.88  71.06]\n",
      "[185.          76.85416667] ; [158.28846154  60.32692308]\n",
      "[181.34  65.46] ; [160.88  71.06]\n",
      "[185.          76.85416667] ; [158.28846154  60.32692308]\n",
      "[181.34  65.46] ; [160.88  71.06]\n",
      "[185.          76.85416667] ; [158.28846154  60.32692308]\n",
      "[181.34  65.46] ; [160.88  71.06]\n",
      "[185.          76.85416667] ; [158.28846154  60.32692308]\n",
      "[181.34  65.46] ; [160.88  71.06]\n",
      "[185.          76.85416667] ; [158.28846154  60.32692308]\n",
      "[181.34  65.46] ; [160.88  71.06]\n",
      "[185.          76.85416667] ; [158.28846154  60.32692308]\n",
      "[181.34  65.46] ; [160.88  71.06]\n",
      "[185.          76.85416667] ; [158.28846154  60.32692308]\n",
      "[181.34  65.46] ; [160.88  71.06]\n",
      "[185.          76.85416667] ; [158.28846154  60.32692308]\n",
      "[181.34  65.46] ; [160.88  71.06]\n",
      "[185.          76.85416667] ; [158.28846154  60.32692308]\n",
      "[181.34  65.46] ; [160.88  71.06]\n",
      "[185.          76.85416667] ; [158.28846154  60.32692308]\n",
      "[181.34  65.46] ; [160.88  71.06]\n",
      "[185.          76.85416667] ; [158.28846154  60.32692308]\n",
      "[181.34  65.46] ; [160.88  71.06]\n"
     ]
    },
    {
     "data": {
      "text/plain": [
       "[<matplotlib.lines.Line2D at 0x15417ce2fd0>]"
      ]
     },
     "execution_count": 134,
     "metadata": {},
     "output_type": "execute_result"
    },
    {
     "data": {
      "image/png": "[encoded data removed]",
      "text/plain": [
       "<Figure size 432x288 with 1 Axes>"
      ]
     },
     "metadata": {
      "needs_background": "light"
     },
     "output_type": "display_data"
    }
   ],
   "source": [
    "import random\n",
    "import numpy as np\n",
    "import matplotlib.pyplot as plt\n",
    "%matplotlib inline\n",
    "r = [] # 남자\n",
    "b = [] # 여자\n",
    "p1_save = []\n",
    "p2_save = []\n",
    "\n",
    "for i in range(50): # 남.여 각각 50개의 샘플을 생성한다\n",
    "    r.append([random.randint(160, 200), random.randint(60, 100)])\n",
    "    b.append([random.randint(140, 180), random.randint(45, 70)])\n",
    "man = r+b\n",
    "\n",
    "\n",
    "def number_is_upper(p1, p2, man):\n",
    "    m  = (p2[1]-p1[1]) / (p2[0]-p1[0])\n",
    "    a = (p1[0]+p2[0])/2\n",
    "    b = (p1[1]+p2[1])/2\n",
    "    line = man[0]- m * man[1] - a + m * b\n",
    "    if line > 0:\n",
    "        return True\n",
    "    else:\n",
    "        return False\n",
    "# 이 루프는 함수를 간략화하기 위해 기울기가 0또는 무한대가 나오지 않는 두 점을 뽑는다\n",
    "while True:\n",
    "    #p1 = [random.randint(100, 200), random.randint(45, 100)]\n",
    "    #p2 = [random.randint(100, 200), random.randint(45, 100)]\n",
    "    p1 = [random.randint(0, 200), random.randint(0, 200)]\n",
    "    p2 = [random.randint(0, 200), random.randint(0, 200)]\n",
    "    print(\"랜덤 시작점: \", p1,\"#\", p2)\n",
    "    if (p1[0] != p2[0] and p1[1] != p2[1]):\n",
    "        break;\n",
    "#비교를 위해 초기값을 저장한다\n",
    "p1_init = p1\n",
    "p2_init = p2\n",
    "\n",
    "cnt = 0\n",
    "while(cnt < 50):\n",
    "    print(p1, \";\", p2)\n",
    "    upper = []\n",
    "    lower = []\n",
    "    # 선분 위쪽의 점과 아래쪽 점을 분리하여 upper, lower 리스트에 저장한다\n",
    "    for i in range(len(man)):\n",
    "        if (number_is_upper(p1, p2, man[i])):\n",
    "            upper.append(man[i])\n",
    "        else:\n",
    "            lower.append(man[i])\n",
    "    #upper, lower리스트가 비어있으면 기존 포인트를 그대로 사용하고,\n",
    "    #그렇지 않으면 리스트의 평균값으로 p1, p2를 바꾼다\n",
    "    if(len(upper) == 0):\n",
    "        p1=p1\n",
    "    else:\n",
    "        p1 = np.mean(upper, axis= 0 )\n",
    "        \n",
    "    if(len(lower) == 0):\n",
    "        p2=p2\n",
    "    else:\n",
    "        p2 = np.mean(lower, axis=0 )\n",
    "    cnt+=1\n",
    "    #optional: p1, p2가 변해온 과정을 저장한다\n",
    "    p1_save.append(p1)\n",
    "    p2_save.append(p2)\n",
    "\n",
    "#데이터를 그래프로 출력\n",
    "for i in range(len(r)):\n",
    "    plt.plot(r[i][0], r[i][1], marker = 'o', color = 'red')\n",
    "    plt.plot(b[i][0], b[i][1], marker = 'o', color = 'blue')\n",
    "for i in range(len(p1_save)):\n",
    "    plt.plot(p1_save[i][0], p1_save[i][1], marker = 'o', color = 'green')\n",
    "    plt.plot(p2_save[i][0], p2_save[i][1], marker = 'o', color = 'black')\n",
    "\n",
    "#plt.plot(p1[0], p1[1], marker = 'o', color = 'green')\n",
    "#plt.plot(p2[0], p2[1], marker = 'o', color = 'black')\n",
    "plt.plot(p1_init[0], p1_init[1], marker = 'x', color = 'green')\n",
    "plt.plot(p2_init[0], p2_init[1], marker = 'x', color = 'black')\n"
   ]
  },
  {
   "cell_type": "code",
   "execution_count": 122,
   "metadata": {},
   "outputs": [
    {
     "ename": "IndexError",
     "evalue": "invalid index to scalar variable.",
     "output_type": "error",
     "traceback": [
      "\u001b[1;31m---------------------------------------------------------------------------\u001b[0m",
      "\u001b[1;31mIndexError\u001b[0m                                Traceback (most recent call last)",
      "\u001b[1;32m<ipython-input-122-0f392fbac5d4>\u001b[0m in \u001b[0;36m<module>\u001b[1;34m\u001b[0m\n\u001b[0;32m      5\u001b[0m     \u001b[0mplt\u001b[0m\u001b[1;33m.\u001b[0m\u001b[0mplot\u001b[0m\u001b[1;33m(\u001b[0m\u001b[0mb\u001b[0m\u001b[1;33m[\u001b[0m\u001b[0mi\u001b[0m\u001b[1;33m]\u001b[0m\u001b[1;33m[\u001b[0m\u001b[1;36m0\u001b[0m\u001b[1;33m]\u001b[0m\u001b[1;33m,\u001b[0m \u001b[0mb\u001b[0m\u001b[1;33m[\u001b[0m\u001b[0mi\u001b[0m\u001b[1;33m]\u001b[0m\u001b[1;33m[\u001b[0m\u001b[1;36m1\u001b[0m\u001b[1;33m]\u001b[0m\u001b[1;33m,\u001b[0m \u001b[0mmarker\u001b[0m \u001b[1;33m=\u001b[0m \u001b[1;34m'o'\u001b[0m\u001b[1;33m,\u001b[0m \u001b[0mcolor\u001b[0m \u001b[1;33m=\u001b[0m \u001b[1;34m'blue'\u001b[0m\u001b[1;33m)\u001b[0m\u001b[1;33m\u001b[0m\u001b[1;33m\u001b[0m\u001b[0m\n\u001b[0;32m      6\u001b[0m \u001b[0mplt\u001b[0m\u001b[1;33m.\u001b[0m\u001b[0mplot\u001b[0m\u001b[1;33m(\u001b[0m\u001b[0mp1\u001b[0m\u001b[1;33m[\u001b[0m\u001b[1;36m0\u001b[0m\u001b[1;33m]\u001b[0m\u001b[1;33m,\u001b[0m \u001b[0mp1\u001b[0m\u001b[1;33m[\u001b[0m\u001b[1;36m1\u001b[0m\u001b[1;33m]\u001b[0m\u001b[1;33m,\u001b[0m \u001b[0mmarker\u001b[0m \u001b[1;33m=\u001b[0m \u001b[1;34m'o'\u001b[0m\u001b[1;33m,\u001b[0m \u001b[0mcolor\u001b[0m \u001b[1;33m=\u001b[0m \u001b[1;34m'green'\u001b[0m\u001b[1;33m)\u001b[0m\u001b[1;33m\u001b[0m\u001b[1;33m\u001b[0m\u001b[0m\n\u001b[1;32m----> 7\u001b[1;33m \u001b[0mplt\u001b[0m\u001b[1;33m.\u001b[0m\u001b[0mplot\u001b[0m\u001b[1;33m(\u001b[0m\u001b[0mp2\u001b[0m\u001b[1;33m[\u001b[0m\u001b[1;36m0\u001b[0m\u001b[1;33m]\u001b[0m\u001b[1;33m,\u001b[0m \u001b[0mp2\u001b[0m\u001b[1;33m[\u001b[0m\u001b[1;36m1\u001b[0m\u001b[1;33m]\u001b[0m\u001b[1;33m,\u001b[0m \u001b[0mmarker\u001b[0m \u001b[1;33m=\u001b[0m \u001b[1;34m'o'\u001b[0m\u001b[1;33m,\u001b[0m \u001b[0mcolor\u001b[0m \u001b[1;33m=\u001b[0m \u001b[1;34m'yellow'\u001b[0m\u001b[1;33m)\u001b[0m\u001b[1;33m\u001b[0m\u001b[1;33m\u001b[0m\u001b[0m\n\u001b[0m",
      "\u001b[1;31mIndexError\u001b[0m: invalid index to scalar variable."
     ]
    },
    {
     "data": {
      "image/png": "[encoded data removed]",
      "text/plain": [
       "<Figure size 432x288 with 1 Axes>"
      ]
     },
     "metadata": {
      "needs_background": "light"
     },
     "output_type": "display_data"
    }
   ],
   "source": [
    "import matplotlib.pyplot as plt\n",
    "%matplotlib inline\n",
    "for i in range(50):\n",
    "    plt.plot(r[i][0], r[i][1], marker = 'o', color = 'red')\n",
    "    plt.plot(b[i][0], b[i][1], marker = 'o', color = 'blue')\n",
    "plt.plot(p1[0], p1[1], marker = 'o', color = 'green')\n",
    "plt.plot(p2[0], p2[1], marker = 'o', color = 'yellow')"
   ]
  },
  {
   "cell_type": "code",
   "execution_count": 64,
   "metadata": {},
   "outputs": [],
   "source": [
    "def is_upper(p1, p2, man):\n",
    "    m  = (p2[1]-p1[1]) / (p2[0]-p1[0])\n",
    "    a = (p1[0]+p2[0])/2\n",
    "    b = (p1[1]+p2[1])/2\n",
    "    line = man[0]- m * man[1] - a + m * b\n",
    "    if line > 0:\n",
    "        return True\n",
    "    else:\n",
    "        return False"
   ]
  },
  {
   "cell_type": "code",
   "execution_count": 62,
   "metadata": {},
   "outputs": [
    {
     "data": {
      "text/plain": [
       "array([176.10294118,  72.19117647])"
      ]
     },
     "execution_count": 62,
     "metadata": {},
     "output_type": "execute_result"
    }
   ],
   "source": [
    "np.mean(upper, axis=0)"
   ]
  },
  {
   "cell_type": "code",
   "execution_count": null,
   "metadata": {},
   "outputs": [],
   "source": []
  }
 ],
 "metadata": {
  "kernelspec": {
   "display_name": "Python 3",
   "language": "python",
   "name": "python3"
  },
  "language_info": {
   "codemirror_mode": {
    "name": "ipython",
    "version": 3
   },
   "file_extension": ".py",
   "mimetype": "text/x-python",
   "name": "python",
   "nbconvert_exporter": "python",
   "pygments_lexer": "ipython3",
   "version": "3.7.3"
  }
 },
 "nbformat": 4,
 "nbformat_minor": 2
}
