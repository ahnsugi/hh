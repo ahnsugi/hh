{
  "nbformat": 4,
  "nbformat_minor": 0,
  "metadata": {
    "colab": {
      "name": "CNN_number.ipynb",
      "provenance": [],
      "collapsed_sections": []
    },
    "kernelspec": {
      "name": "python3",
      "display_name": "Python 3"
    }
  },
  "cells": [
    {
      "cell_type": "code",
      "metadata": {
        "id": "46p33D25f3rk",
        "colab_type": "code",
        "outputId": "b0775289-0a75-47eb-b340-3d3618888f40",
        "colab": {
          "base_uri": "https://localhost:8080/",
          "height": 381
        }
      },
      "source": [
        "# CoLab에서 작성되었습니다.\n",
        "# 텐서플로우 및 라이브러리 설치\n",
        "!pip install tensorflow==2.0.0-alpha0\n",
        "import tensorflow as tf\n",
        "print(tf.__version__)\n",
        "import tensorflow.keras.utils as utils\n",
        "from tensorflow.keras.datasets import mnist\n",
        "from tensorflow.keras.models import Sequential\n",
        "from tensorflow.keras.layers import Dense, Activation\n",
        "import numpy as np\n",
        "from tensorflow.keras.layers import Flatten\n",
        "from tensorflow.keras.layers import Conv2D\n",
        "from tensorflow.keras.layers import MaxPooling2D\n",
        "from tensorflow.keras.preprocessing.image import ImageDataGenerator\n",
        "\n",
        "import matplotlib.pyplot as plt\n"
      ],
      "execution_count": 0,
      "outputs": [
        {
          "output_type": "stream",
          "text": [
            "Requirement already satisfied: tensorflow==2.0.0-alpha0 in /usr/local/lib/python3.6/dist-packages (2.0.0a0)\n",
            "Requirement already satisfied: astor>=0.6.0 in /usr/local/lib/python3.6/dist-packages (from tensorflow==2.0.0-alpha0) (0.8.0)\n",
            "Requirement already satisfied: numpy<2.0,>=1.14.5 in /usr/local/lib/python3.6/dist-packages (from tensorflow==2.0.0-alpha0) (1.16.5)\n",
            "Requirement already satisfied: gast>=0.2.0 in /usr/local/lib/python3.6/dist-packages (from tensorflow==2.0.0-alpha0) (0.2.2)\n",
            "Requirement already satisfied: keras-applications>=1.0.6 in /usr/local/lib/python3.6/dist-packages (from tensorflow==2.0.0-alpha0) (1.0.8)\n",
            "Requirement already satisfied: tf-estimator-nightly<1.14.0.dev2019030116,>=1.14.0.dev2019030115 in /usr/local/lib/python3.6/dist-packages (from tensorflow==2.0.0-alpha0) (1.14.0.dev2019030115)\n",
            "Requirement already satisfied: grpcio>=1.8.6 in /usr/local/lib/python3.6/dist-packages (from tensorflow==2.0.0-alpha0) (1.15.0)\n",
            "Requirement already satisfied: keras-preprocessing>=1.0.5 in /usr/local/lib/python3.6/dist-packages (from tensorflow==2.0.0-alpha0) (1.1.0)\n",
            "Requirement already satisfied: wheel>=0.26 in /usr/local/lib/python3.6/dist-packages (from tensorflow==2.0.0-alpha0) (0.33.6)\n",
            "Requirement already satisfied: google-pasta>=0.1.2 in /usr/local/lib/python3.6/dist-packages (from tensorflow==2.0.0-alpha0) (0.1.7)\n",
            "Requirement already satisfied: termcolor>=1.1.0 in /usr/local/lib/python3.6/dist-packages (from tensorflow==2.0.0-alpha0) (1.1.0)\n",
            "Requirement already satisfied: tb-nightly<1.14.0a20190302,>=1.14.0a20190301 in /usr/local/lib/python3.6/dist-packages (from tensorflow==2.0.0-alpha0) (1.14.0a20190301)\n",
            "Requirement already satisfied: absl-py>=0.7.0 in /usr/local/lib/python3.6/dist-packages (from tensorflow==2.0.0-alpha0) (0.8.1)\n",
            "Requirement already satisfied: protobuf>=3.6.1 in /usr/local/lib/python3.6/dist-packages (from tensorflow==2.0.0-alpha0) (3.10.0)\n",
            "Requirement already satisfied: six>=1.10.0 in /usr/local/lib/python3.6/dist-packages (from tensorflow==2.0.0-alpha0) (1.12.0)\n",
            "Requirement already satisfied: h5py in /usr/local/lib/python3.6/dist-packages (from keras-applications>=1.0.6->tensorflow==2.0.0-alpha0) (2.8.0)\n",
            "Requirement already satisfied: werkzeug>=0.11.15 in /usr/local/lib/python3.6/dist-packages (from tb-nightly<1.14.0a20190302,>=1.14.0a20190301->tensorflow==2.0.0-alpha0) (0.16.0)\n",
            "Requirement already satisfied: markdown>=2.6.8 in /usr/local/lib/python3.6/dist-packages (from tb-nightly<1.14.0a20190302,>=1.14.0a20190301->tensorflow==2.0.0-alpha0) (3.1.1)\n",
            "Requirement already satisfied: setuptools in /usr/local/lib/python3.6/dist-packages (from protobuf>=3.6.1->tensorflow==2.0.0-alpha0) (41.4.0)\n",
            "2.0.0-alpha0\n"
          ],
          "name": "stdout"
        }
      ]
    },
    {
      "cell_type": "code",
      "metadata": {
        "id": "XFoklrDlgY80",
        "colab_type": "code",
        "colab": {}
      },
      "source": [
        "#1. 데이터 생성하기\n",
        "\n",
        "(x_train, y_train), (x_test, y_test) = mnist.load_data()\n",
        "\n",
        "#데이터를 정규화한다\n",
        "x_train = x_train / 255.0\n",
        "x_test = x_test / 255.0"
      ],
      "execution_count": 0,
      "outputs": []
    },
    {
      "cell_type": "code",
      "metadata": {
        "id": "awDwYMyMwo5G",
        "colab_type": "code",
        "colab": {}
      },
      "source": [
        "#6만개의 데이터 중\n",
        "#5만개의 데이터를 훈련용 데이터로 쓰고\n",
        "#1만개를 검증용 데이터로 쓴다\n",
        "x_val = x_train[50000:]\n",
        "y_val = y_train[50000:]\n",
        "x_train = x_train[:50000]\n",
        "y_train = y_train[:50000]"
      ],
      "execution_count": 0,
      "outputs": []
    },
    {
      "cell_type": "code",
      "metadata": {
        "id": "cx4lI8wlid8W",
        "colab_type": "code",
        "colab": {}
      },
      "source": [
        "from tensorflow.keras.layers import Dropout  \n",
        "#2. 인공신경망 모델 구성\n",
        "model = Sequential()\n",
        "model.add(Flatten(input_shape=(28, 28)))\n",
        "model.add(Dense(256, activation='relu'))\n",
        "model.add(Dense(10, activation = 'softmax'))\n",
        "\n",
        "#3. 모델 학습과정 설정하기\n",
        "model.compile(loss='sparse_categorical_crossentropy', optimizer = 'adam', metrics=['accuracy'])"
      ],
      "execution_count": 0,
      "outputs": []
    },
    {
      "cell_type": "code",
      "metadata": {
        "id": "lUWiNaGvirtG",
        "colab_type": "code",
        "outputId": "ecdd5644-a179-4dfc-baf3-10ce260002bc",
        "colab": {
          "base_uri": "https://localhost:8080/",
          "height": 1000
        }
      },
      "source": [
        "model.fit(x_train, y_train, epochs=50, batch_size=60, verbose=1, validation_data=(x_val, y_val))"
      ],
      "execution_count": 93,
      "outputs": [
        {
          "output_type": "stream",
          "text": [
            "Train on 50000 samples, validate on 10000 samples\n",
            "Epoch 1/50\n",
            "50000/50000 [==============================] - 5s 107us/sample - loss: 0.2772 - accuracy: 0.9215 - val_loss: 0.1399 - val_accuracy: 0.9600\n",
            "Epoch 2/50\n",
            "50000/50000 [==============================] - 5s 107us/sample - loss: 0.1178 - accuracy: 0.9653 - val_loss: 0.1046 - val_accuracy: 0.9703\n",
            "Epoch 3/50\n",
            "50000/50000 [==============================] - 5s 102us/sample - loss: 0.0781 - accuracy: 0.9771 - val_loss: 0.0966 - val_accuracy: 0.9721\n",
            "Epoch 4/50\n",
            "50000/50000 [==============================] - 5s 107us/sample - loss: 0.0575 - accuracy: 0.9832 - val_loss: 0.0785 - val_accuracy: 0.9760\n",
            "Epoch 5/50\n",
            "50000/50000 [==============================] - 5s 101us/sample - loss: 0.0415 - accuracy: 0.9875 - val_loss: 0.0823 - val_accuracy: 0.9752\n",
            "Epoch 6/50\n",
            "50000/50000 [==============================] - 5s 107us/sample - loss: 0.0316 - accuracy: 0.9909 - val_loss: 0.0841 - val_accuracy: 0.9756\n",
            "Epoch 7/50\n",
            "50000/50000 [==============================] - 5s 97us/sample - loss: 0.0248 - accuracy: 0.9926 - val_loss: 0.0847 - val_accuracy: 0.9753\n",
            "Epoch 8/50\n",
            "50000/50000 [==============================] - 5s 99us/sample - loss: 0.0193 - accuracy: 0.9945 - val_loss: 0.0828 - val_accuracy: 0.9763\n",
            "Epoch 9/50\n",
            "50000/50000 [==============================] - 5s 98us/sample - loss: 0.0145 - accuracy: 0.9960 - val_loss: 0.0806 - val_accuracy: 0.9784\n",
            "Epoch 10/50\n",
            "50000/50000 [==============================] - 4s 84us/sample - loss: 0.0135 - accuracy: 0.9960 - val_loss: 0.0847 - val_accuracy: 0.9791\n",
            "Epoch 11/50\n",
            "50000/50000 [==============================] - 4s 82us/sample - loss: 0.0094 - accuracy: 0.9977 - val_loss: 0.0913 - val_accuracy: 0.9770\n",
            "Epoch 12/50\n",
            "50000/50000 [==============================] - 5s 92us/sample - loss: 0.0096 - accuracy: 0.9972 - val_loss: 0.0905 - val_accuracy: 0.9776\n",
            "Epoch 13/50\n",
            "50000/50000 [==============================] - 5s 96us/sample - loss: 0.0064 - accuracy: 0.9984 - val_loss: 0.0958 - val_accuracy: 0.9779\n",
            "Epoch 14/50\n",
            "50000/50000 [==============================] - 5s 102us/sample - loss: 0.0038 - accuracy: 0.9994 - val_loss: 0.0961 - val_accuracy: 0.9792\n",
            "Epoch 15/50\n",
            "50000/50000 [==============================] - 5s 98us/sample - loss: 0.0077 - accuracy: 0.9975 - val_loss: 0.0865 - val_accuracy: 0.9788\n",
            "Epoch 16/50\n",
            "50000/50000 [==============================] - 5s 98us/sample - loss: 0.0055 - accuracy: 0.9986 - val_loss: 0.0962 - val_accuracy: 0.9774\n",
            "Epoch 17/50\n",
            "50000/50000 [==============================] - 5s 98us/sample - loss: 0.0067 - accuracy: 0.9980 - val_loss: 0.0898 - val_accuracy: 0.9802\n",
            "Epoch 18/50\n",
            "50000/50000 [==============================] - 5s 100us/sample - loss: 0.0032 - accuracy: 0.9991 - val_loss: 0.0909 - val_accuracy: 0.9804\n",
            "Epoch 19/50\n",
            "50000/50000 [==============================] - 5s 99us/sample - loss: 0.0028 - accuracy: 0.9994 - val_loss: 0.0947 - val_accuracy: 0.9811\n",
            "Epoch 20/50\n",
            "50000/50000 [==============================] - 5s 96us/sample - loss: 0.0035 - accuracy: 0.9990 - val_loss: 0.1066 - val_accuracy: 0.9779\n",
            "Epoch 21/50\n",
            "50000/50000 [==============================] - 5s 96us/sample - loss: 0.0069 - accuracy: 0.9981 - val_loss: 0.1399 - val_accuracy: 0.9735\n",
            "Epoch 22/50\n",
            "50000/50000 [==============================] - 5s 96us/sample - loss: 0.0033 - accuracy: 0.9990 - val_loss: 0.0991 - val_accuracy: 0.9811\n",
            "Epoch 23/50\n",
            "50000/50000 [==============================] - 5s 92us/sample - loss: 0.0050 - accuracy: 0.9986 - val_loss: 0.0998 - val_accuracy: 0.9806\n",
            "Epoch 24/50\n",
            "50000/50000 [==============================] - 5s 96us/sample - loss: 0.0020 - accuracy: 0.9995 - val_loss: 0.1011 - val_accuracy: 0.9807\n",
            "Epoch 25/50\n",
            "50000/50000 [==============================] - 5s 94us/sample - loss: 0.0042 - accuracy: 0.9986 - val_loss: 0.0974 - val_accuracy: 0.9819\n",
            "Epoch 26/50\n",
            "50000/50000 [==============================] - 5s 92us/sample - loss: 4.8066e-04 - accuracy: 1.0000 - val_loss: 0.1074 - val_accuracy: 0.9796\n",
            "Epoch 27/50\n",
            "50000/50000 [==============================] - 5s 96us/sample - loss: 0.0030 - accuracy: 0.9991 - val_loss: 0.1526 - val_accuracy: 0.9738\n",
            "Epoch 28/50\n",
            "50000/50000 [==============================] - 5s 95us/sample - loss: 0.0086 - accuracy: 0.9970 - val_loss: 0.1128 - val_accuracy: 0.9805\n",
            "Epoch 29/50\n",
            "50000/50000 [==============================] - 5s 98us/sample - loss: 0.0020 - accuracy: 0.9994 - val_loss: 0.1066 - val_accuracy: 0.9811\n",
            "Epoch 30/50\n",
            "50000/50000 [==============================] - 5s 103us/sample - loss: 6.6590e-04 - accuracy: 0.9999 - val_loss: 0.1064 - val_accuracy: 0.9816\n",
            "Epoch 31/50\n",
            "50000/50000 [==============================] - 5s 103us/sample - loss: 1.6886e-04 - accuracy: 1.0000 - val_loss: 0.1052 - val_accuracy: 0.9829\n",
            "Epoch 32/50\n",
            "50000/50000 [==============================] - 5s 93us/sample - loss: 7.8515e-05 - accuracy: 1.0000 - val_loss: 0.1051 - val_accuracy: 0.9826\n",
            "Epoch 33/50\n",
            "50000/50000 [==============================] - 4s 88us/sample - loss: 5.1664e-05 - accuracy: 1.0000 - val_loss: 0.1066 - val_accuracy: 0.9827\n",
            "Epoch 34/50\n",
            "50000/50000 [==============================] - 4s 88us/sample - loss: 3.9963e-05 - accuracy: 1.0000 - val_loss: 0.1079 - val_accuracy: 0.9827\n",
            "Epoch 35/50\n",
            "50000/50000 [==============================] - 5s 91us/sample - loss: 0.0067 - accuracy: 0.9981 - val_loss: 0.2620 - val_accuracy: 0.9564\n",
            "Epoch 36/50\n",
            "50000/50000 [==============================] - 5s 94us/sample - loss: 0.0088 - accuracy: 0.9972 - val_loss: 0.1257 - val_accuracy: 0.9808\n",
            "Epoch 37/50\n",
            "50000/50000 [==============================] - 5s 92us/sample - loss: 0.0012 - accuracy: 0.9996 - val_loss: 0.1065 - val_accuracy: 0.9827\n",
            "Epoch 38/50\n",
            "50000/50000 [==============================] - 5s 92us/sample - loss: 0.0020 - accuracy: 0.9994 - val_loss: 0.1115 - val_accuracy: 0.9810\n",
            "Epoch 39/50\n",
            "50000/50000 [==============================] - 5s 92us/sample - loss: 0.0015 - accuracy: 0.9995 - val_loss: 0.1265 - val_accuracy: 0.9793\n",
            "Epoch 40/50\n",
            "50000/50000 [==============================] - 5s 91us/sample - loss: 0.0062 - accuracy: 0.9978 - val_loss: 0.1374 - val_accuracy: 0.9775\n",
            "Epoch 41/50\n",
            "50000/50000 [==============================] - 5s 94us/sample - loss: 0.0031 - accuracy: 0.9991 - val_loss: 0.1326 - val_accuracy: 0.9793\n",
            "Epoch 42/50\n",
            "50000/50000 [==============================] - 5s 98us/sample - loss: 0.0021 - accuracy: 0.9995 - val_loss: 0.1285 - val_accuracy: 0.9806\n",
            "Epoch 43/50\n",
            "50000/50000 [==============================] - 5s 93us/sample - loss: 6.7847e-04 - accuracy: 0.9998 - val_loss: 0.1250 - val_accuracy: 0.9810\n",
            "Epoch 44/50\n",
            "50000/50000 [==============================] - 4s 88us/sample - loss: 6.3388e-04 - accuracy: 0.9998 - val_loss: 0.1357 - val_accuracy: 0.9798\n",
            "Epoch 45/50\n",
            "50000/50000 [==============================] - 4s 87us/sample - loss: 0.0070 - accuracy: 0.9979 - val_loss: 0.1265 - val_accuracy: 0.9810\n",
            "Epoch 46/50\n",
            "50000/50000 [==============================] - 4s 87us/sample - loss: 0.0016 - accuracy: 0.9996 - val_loss: 0.1414 - val_accuracy: 0.9783\n",
            "Epoch 47/50\n",
            "50000/50000 [==============================] - 4s 88us/sample - loss: 0.0011 - accuracy: 0.9997 - val_loss: 0.1344 - val_accuracy: 0.9793\n",
            "Epoch 48/50\n",
            "50000/50000 [==============================] - 4s 90us/sample - loss: 0.0043 - accuracy: 0.9986 - val_loss: 0.1406 - val_accuracy: 0.9789\n",
            "Epoch 49/50\n",
            "50000/50000 [==============================] - 4s 86us/sample - loss: 0.0018 - accuracy: 0.9994 - val_loss: 0.1219 - val_accuracy: 0.9818\n",
            "Epoch 50/50\n",
            "50000/50000 [==============================] - 5s 90us/sample - loss: 0.0019 - accuracy: 0.9993 - val_loss: 0.1457 - val_accuracy: 0.9793\n"
          ],
          "name": "stdout"
        },
        {
          "output_type": "execute_result",
          "data": {
            "text/plain": [
              "<tensorflow.python.keras.callbacks.History at 0x7f8457da95f8>"
            ]
          },
          "metadata": {
            "tags": []
          },
          "execution_count": 93
        }
      ]
    },
    {
      "cell_type": "code",
      "metadata": {
        "id": "pcOA5DP0sTuP",
        "colab_type": "code",
        "outputId": "d73738f4-b143-4324-961e-0d5092ff2c40",
        "colab": {
          "base_uri": "https://localhost:8080/",
          "height": 72
        }
      },
      "source": [
        "#5. 모델 평가하기\n",
        "test_loss, test_acc = model.evaluate(x_test,  y_test, verbose=2)\n",
        "\n",
        "print('\\n테스트 정확도:', test_acc)"
      ],
      "execution_count": 94,
      "outputs": [
        {
          "output_type": "stream",
          "text": [
            "10000/10000 - 0s - loss: 0.1263 - accuracy: 0.9795\n",
            "\n",
            "테스트 정확도: 0.9795\n"
          ],
          "name": "stdout"
        }
      ]
    },
    {
      "cell_type": "code",
      "metadata": {
        "id": "_gZk8eLTiy1W",
        "colab_type": "code",
        "colab": {}
      },
      "source": [
        ""
      ],
      "execution_count": 0,
      "outputs": []
    }
  ]
}