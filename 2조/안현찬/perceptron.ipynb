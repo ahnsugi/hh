{
 "cells": [
  {
   "cell_type": "code",
   "execution_count": 1,
   "metadata": {
    "scrolled": true
   },
   "outputs": [
    {
     "name": "stdout",
     "output_type": "stream",
     "text": [
      "!!!!!!!!!!!! AND GATE !!!!!!!!!!!!\n",
      "\n",
      "(0, 0) -> 0\n",
      "(1, 0) -> 0\n",
      "(0, 1) -> 0\n",
      "(1, 1) -> 1\n"
     ]
    }
   ],
   "source": [
    "# 논리회로 AND\n",
    "# w1 * x1 + w2 * x2 + b > 0\n",
    "# w1 * x1 + w2 * x2 + b <= 0\n",
    "\n",
    "import numpy as np\n",
    "\n",
    "def AND(x1, x2):\n",
    "    x = np.array([x1, x2])\n",
    "    w = np.array([0.5, 0.5]) # 가중치 , 딥러닝은 w와 bias를 랜덤으로 찾아가는 것이다.\n",
    "    b = -0.7\n",
    "    tmp = np.sum(w*x) + b # 퍼셉트론\n",
    "    if tmp <= 0:\n",
    "        return 0\n",
    "    else:\n",
    "        return 1\n",
    "\n",
    "print(\"!!!!!!!!! AND GATE !!!!!!!!!\")\n",
    "print()\n",
    "for i in [(0, 0), (1, 0), (0, 1), (1, 1)]:\n",
    "    y = AND(i[0], i[1])\n",
    "    print(str(i) + \" -> \" + str(y))    "
   ]
  },
  {
   "cell_type": "code",
   "execution_count": 27,
   "metadata": {},
   "outputs": [
    {
     "name": "stdout",
     "output_type": "stream",
     "text": [
      "!!!!!!!!! OR GATE !!!!!!!!!\n",
      "\n",
      "(0, 0) -> 0\n",
      "(1, 0) -> 1\n",
      "(0, 1) -> 1\n",
      "(1, 1) -> 1\n"
     ]
    }
   ],
   "source": [
    "def OR(x1, x2):\n",
    "    x = np.array([x1, x2])\n",
    "    w = np.array([0.5, 0.5]) # 가중치 , 딥러닝은 가중치 w와 bias b를 랜덤으로 찾아가는 것이다.\n",
    "    b = -0.2\n",
    "    tmp = np.sum(w*x) + b # 퍼셉트론\n",
    "    if tmp <= 0:\n",
    "        return 0\n",
    "    else:\n",
    "        return 1\n",
    "\n",
    "print(\"!!!!!!!!! OR GATE !!!!!!!!!\")\n",
    "print()\n",
    "for i in [(0, 0), (1, 0), (0, 1), (1, 1)]:\n",
    "    y = OR(i[0], i[1])\n",
    "    print(str(i) + \" -> \" + str(y))\n",
    "    "
   ]
  },
  {
   "cell_type": "code",
   "execution_count": 28,
   "metadata": {},
   "outputs": [
    {
     "name": "stdout",
     "output_type": "stream",
     "text": [
      "!!!!!!!!! NAND GATE !!!!!!!!!\n",
      "\n",
      "(0, 0) -> 1\n",
      "(1, 0) -> 1\n",
      "(0, 1) -> 1\n",
      "(1, 1) -> 1\n"
     ]
    }
   ],
   "source": [
    "def NAND(x1, x2):\n",
    "    x = np.array([x1, x2])\n",
    "    w = np.array([0.5, 0.5]) # 가중치 , 딥러닝은 가중치 w와 bias b를 랜덤으로 찾아가는 것이다.\n",
    "    b = 0.7\n",
    "    tmp = np.sum(w*x) + b # 퍼셉트론\n",
    "    if tmp <= 0:\n",
    "        return 0\n",
    "    else:\n",
    "        return 1\n",
    "\n",
    "print(\"!!!!!!!!! NAND GATE !!!!!!!!!\")\n",
    "print()\n",
    "for i in [(0, 0), (1, 0), (0, 1), (1, 1)]:\n",
    "    y = NAND(i[0], i[1])\n",
    "    print(str(i) + \" -> \" + str(y))\n",
    "\n",
    "    "
   ]
  },
  {
   "cell_type": "code",
   "execution_count": 37,
   "metadata": {},
   "outputs": [
    {
     "name": "stdout",
     "output_type": "stream",
     "text": [
      "epoch :  130\n",
      "w1 :  1.275270905596811\n",
      "w2 :  0.5185783439484163\n",
      "b :  -1.3474756915066792\n"
     ]
    }
   ],
   "source": [
    "data = [(0,0,0),(1,0,0),(0,1,0),(1,1,1)] # AND Data\n",
    "\n",
    "w1 = 0\n",
    "w2 = 0\n",
    "b  = 0\n",
    "cnt = 0\n",
    "epoch = 0\n",
    "\n",
    "def model(x1, x2):\n",
    "    x = np.array([x1,x2])\n",
    "    w = np.array([w1,w2])\n",
    "        \n",
    "    tmp = np.sum(w*x) + b\n",
    "    if tmp <= 0 :\n",
    "        return 0 #흐르지 않는다.\n",
    "    else:\n",
    "        return 1 # 흐른다.\n",
    "\n",
    "while(1):\n",
    "    epoch +=1\n",
    "    cnt = 0\n",
    "    w1 = np.random.normal()\n",
    "    w2 = np.random.normal()\n",
    "    b  = np.random.normal()\n",
    "    \n",
    "    for i in data:\n",
    "        if (i[2] != model(i[0],i[1])):\n",
    "#             print(\"실패!\")\n",
    "            break\n",
    "        else:\n",
    "            cnt += 1\n",
    "    \n",
    "    \n",
    "    if cnt == 4:\n",
    "        print(\"epoch : \", epoch)\n",
    "        print(\"w1 : \", w1)\n",
    "        print(\"w2 : \", w2)\n",
    "        print(\"b : \", b)\n",
    "        break\n",
    "    "
   ]
  },
  {
   "cell_type": "code",
   "execution_count": 38,
   "metadata": {
    "scrolled": true
   },
   "outputs": [
    {
     "name": "stdout",
     "output_type": "stream",
     "text": [
      "epoch :  46\n",
      "w1 :  -0.3108648162659315\n",
      "w2 :  -0.8319914890469726\n",
      "b :  0.8371977455006798\n"
     ]
    }
   ],
   "source": [
    "data = [(0,0,1),(1,0,1),(0,1,1),(1,1,0)] # OR Data\n",
    "\n",
    "w1 = 0\n",
    "w2 = 0\n",
    "b  = 0\n",
    "cnt = 0\n",
    "epoch = 0\n",
    "\n",
    "def model(x1, x2):\n",
    "    x = np.array([x1,x2])\n",
    "    w = np.array([w1,w2])\n",
    "        \n",
    "    tmp = np.sum(w*x) + b\n",
    "    if tmp <= 0 :\n",
    "        return 0 #흐르지 않는다.\n",
    "    else:\n",
    "        return 1 # 흐른다.\n",
    "\n",
    "while(1):\n",
    "    epoch +=1\n",
    "    cnt = 0\n",
    "    w1 = np.random.normal()\n",
    "    w2 = np.random.normal()\n",
    "    b  = np.random.normal()\n",
    "    \n",
    "    for i in data:\n",
    "        if (i[2] != model(i[0],i[1])):\n",
    "#             print(\"실패!\")\n",
    "            break\n",
    "        else:\n",
    "            cnt += 1\n",
    "    \n",
    "    \n",
    "    if cnt == 4:\n",
    "        print(\"epoch : \", epoch)\n",
    "        print(\"w1 : \", w1)\n",
    "        print(\"w2 : \", w2)\n",
    "        print(\"b : \", b)\n",
    "        break\n",
    "    "
   ]
  },
  {
   "cell_type": "code",
   "execution_count": 40,
   "metadata": {},
   "outputs": [
    {
     "ename": "KeyboardInterrupt",
     "evalue": "",
     "output_type": "error",
     "traceback": [
      "\u001b[1;31m---------------------------------------------------------------------------\u001b[0m",
      "\u001b[1;31mKeyboardInterrupt\u001b[0m                         Traceback (most recent call last)",
      "\u001b[1;32m<ipython-input-40-a8ab7f43bd0e>\u001b[0m in \u001b[0;36m<module>\u001b[1;34m\u001b[0m\n\u001b[0;32m     20\u001b[0m     \u001b[0mepoch\u001b[0m \u001b[1;33m+=\u001b[0m\u001b[1;36m1\u001b[0m\u001b[1;33m\u001b[0m\u001b[1;33m\u001b[0m\u001b[0m\n\u001b[0;32m     21\u001b[0m     \u001b[0mcnt\u001b[0m \u001b[1;33m=\u001b[0m \u001b[1;36m0\u001b[0m\u001b[1;33m\u001b[0m\u001b[1;33m\u001b[0m\u001b[0m\n\u001b[1;32m---> 22\u001b[1;33m     \u001b[0mw1\u001b[0m \u001b[1;33m=\u001b[0m \u001b[0mnp\u001b[0m\u001b[1;33m.\u001b[0m\u001b[0mrandom\u001b[0m\u001b[1;33m.\u001b[0m\u001b[0mnormal\u001b[0m\u001b[1;33m(\u001b[0m\u001b[1;33m)\u001b[0m\u001b[1;33m\u001b[0m\u001b[1;33m\u001b[0m\u001b[0m\n\u001b[0m\u001b[0;32m     23\u001b[0m     \u001b[0mw2\u001b[0m \u001b[1;33m=\u001b[0m \u001b[0mnp\u001b[0m\u001b[1;33m.\u001b[0m\u001b[0mrandom\u001b[0m\u001b[1;33m.\u001b[0m\u001b[0mnormal\u001b[0m\u001b[1;33m(\u001b[0m\u001b[1;33m)\u001b[0m\u001b[1;33m\u001b[0m\u001b[1;33m\u001b[0m\u001b[0m\n\u001b[0;32m     24\u001b[0m     \u001b[0mb\u001b[0m  \u001b[1;33m=\u001b[0m \u001b[0mnp\u001b[0m\u001b[1;33m.\u001b[0m\u001b[0mrandom\u001b[0m\u001b[1;33m.\u001b[0m\u001b[0mnormal\u001b[0m\u001b[1;33m(\u001b[0m\u001b[1;33m)\u001b[0m\u001b[1;33m\u001b[0m\u001b[1;33m\u001b[0m\u001b[0m\n",
      "\u001b[1;31mKeyboardInterrupt\u001b[0m: "
     ]
    }
   ],
   "source": [
    "data = [(0,0,0),(1,0,1),(0,1,1),(1,1,0)] # XOR Data \n",
    "\n",
    "# XOR은 선 하나로 표현하기 힘들다. 따라서 AND OR NAND를 모두 사용해야 한다.\n",
    "\n",
    "w1 = 0\n",
    "w2 = 0\n",
    "b  = 0\n",
    "cnt = 0\n",
    "epoch = 0\n",
    "\n",
    "def model(x1, x2):ㅎㅅ0ㅗ\n",
    "    x = np.array([x1,x2])\n",
    "    w = np.array([w1,w2])\n",
    "        \n",
    "    tmp = np.sum(w*x) + b\n",
    "    if tmp <= 0 :\n",
    "        return 0 #흐르지 않는다.\n",
    "    else:\n",
    "        return 1 # 흐른다.\n",
    "\n",
    "while(1):\n",
    "    epoch +=1\n",
    "    cnt = 0\n",
    "    w1 = np.random.normal()\n",
    "    w2 = np.random.normal()\n",
    "    b  = np.random.normal()\n",
    "    \n",
    "    for i in data:\n",
    "        if (i[2] != model(i[0],i[1])):\n",
    "#             print(\"실패!\")\n",
    "            break\n",
    "        else:\n",
    "            cnt += 1\n",
    "    \n",
    "    \n",
    "    if cnt == 4:\n",
    "        print(\"epoch : \", epoch)\n",
    "        print(\"w1 : \", w1)\n",
    "        print(\"w2 : \", w2)\n",
    "        print(\"b : \", b)\n",
    "        break\n",
    "    "
   ]
  },
  {
   "cell_type": "code",
   "execution_count": 43,
   "metadata": {},
   "outputs": [
    {
     "ename": "KeyboardInterrupt",
     "evalue": "",
     "output_type": "error",
     "traceback": [
      "\u001b[1;31m---------------------------------------------------------------------------\u001b[0m",
      "\u001b[1;31mKeyboardInterrupt\u001b[0m                         Traceback (most recent call last)",
      "\u001b[1;32m<ipython-input-43-8f6735d57e5e>\u001b[0m in \u001b[0;36m<module>\u001b[1;34m\u001b[0m\n\u001b[0;32m     27\u001b[0m \u001b[1;33m\u001b[0m\u001b[0m\n\u001b[0;32m     28\u001b[0m     \u001b[1;32mfor\u001b[0m \u001b[0mi\u001b[0m \u001b[1;32min\u001b[0m \u001b[0mdata\u001b[0m\u001b[1;33m:\u001b[0m\u001b[1;33m\u001b[0m\u001b[1;33m\u001b[0m\u001b[0m\n\u001b[1;32m---> 29\u001b[1;33m         \u001b[1;32mif\u001b[0m \u001b[1;33m(\u001b[0m\u001b[0mi\u001b[0m\u001b[1;33m[\u001b[0m\u001b[1;36m2\u001b[0m\u001b[1;33m]\u001b[0m \u001b[1;33m!=\u001b[0m \u001b[0mmodel\u001b[0m\u001b[1;33m(\u001b[0m\u001b[0mmodel\u001b[0m\u001b[1;33m(\u001b[0m\u001b[0mi\u001b[0m\u001b[1;33m[\u001b[0m\u001b[1;36m0\u001b[0m\u001b[1;33m]\u001b[0m\u001b[1;33m,\u001b[0m\u001b[0mi\u001b[0m\u001b[1;33m[\u001b[0m\u001b[1;36m1\u001b[0m\u001b[1;33m]\u001b[0m\u001b[1;33m)\u001b[0m\u001b[1;33m,\u001b[0m\u001b[0mmodel\u001b[0m\u001b[1;33m(\u001b[0m\u001b[0mi\u001b[0m\u001b[1;33m[\u001b[0m\u001b[1;36m0\u001b[0m\u001b[1;33m]\u001b[0m\u001b[1;33m,\u001b[0m\u001b[0mi\u001b[0m\u001b[1;33m[\u001b[0m\u001b[1;36m1\u001b[0m\u001b[1;33m]\u001b[0m\u001b[1;33m)\u001b[0m\u001b[1;33m)\u001b[0m\u001b[1;33m)\u001b[0m\u001b[1;33m:\u001b[0m\u001b[1;33m\u001b[0m\u001b[1;33m\u001b[0m\u001b[0m\n\u001b[0m\u001b[0;32m     30\u001b[0m \u001b[1;31m#             print(\"실패!\")\u001b[0m\u001b[1;33m\u001b[0m\u001b[1;33m\u001b[0m\u001b[1;33m\u001b[0m\u001b[0m\n\u001b[0;32m     31\u001b[0m             \u001b[1;32mbreak\u001b[0m\u001b[1;33m\u001b[0m\u001b[1;33m\u001b[0m\u001b[0m\n",
      "\u001b[1;32m<ipython-input-43-8f6735d57e5e>\u001b[0m in \u001b[0;36mmodel\u001b[1;34m(x1, x2)\u001b[0m\n\u001b[0;32m     13\u001b[0m     \u001b[0mw\u001b[0m \u001b[1;33m=\u001b[0m \u001b[0mnp\u001b[0m\u001b[1;33m.\u001b[0m\u001b[0marray\u001b[0m\u001b[1;33m(\u001b[0m\u001b[1;33m[\u001b[0m\u001b[0mw1\u001b[0m\u001b[1;33m,\u001b[0m\u001b[0mw2\u001b[0m\u001b[1;33m]\u001b[0m\u001b[1;33m)\u001b[0m\u001b[1;33m\u001b[0m\u001b[1;33m\u001b[0m\u001b[0m\n\u001b[0;32m     14\u001b[0m \u001b[1;33m\u001b[0m\u001b[0m\n\u001b[1;32m---> 15\u001b[1;33m     \u001b[0mtmp\u001b[0m \u001b[1;33m=\u001b[0m \u001b[0mnp\u001b[0m\u001b[1;33m.\u001b[0m\u001b[0msum\u001b[0m\u001b[1;33m(\u001b[0m\u001b[0mw\u001b[0m\u001b[1;33m*\u001b[0m\u001b[0mx\u001b[0m\u001b[1;33m)\u001b[0m \u001b[1;33m+\u001b[0m \u001b[0mb\u001b[0m\u001b[1;33m\u001b[0m\u001b[1;33m\u001b[0m\u001b[0m\n\u001b[0m\u001b[0;32m     16\u001b[0m     \u001b[1;32mif\u001b[0m \u001b[0mtmp\u001b[0m \u001b[1;33m<=\u001b[0m \u001b[1;36m0\u001b[0m \u001b[1;33m:\u001b[0m\u001b[1;33m\u001b[0m\u001b[1;33m\u001b[0m\u001b[0m\n\u001b[0;32m     17\u001b[0m         \u001b[1;32mreturn\u001b[0m \u001b[1;36m0\u001b[0m \u001b[1;31m#흐르지 않는다.\u001b[0m\u001b[1;33m\u001b[0m\u001b[1;33m\u001b[0m\u001b[0m\n",
      "\u001b[1;31mKeyboardInterrupt\u001b[0m: "
     ]
    }
   ],
   "source": [
    "data = [(0,0,0),(1,0,1),(0,1,1),(1,1,0)] # XOR Data \n",
    "\n",
    "# XOR은 선 하나로 표현하기 힘들다. 따라서 AND OR NAND를 모두 사용해야 한다.\n",
    "\n",
    "w1 = [0,0,0]\n",
    "w2 = [0,0,0]\n",
    "b  = 0\n",
    "cnt = 0\n",
    "epoch = 0\n",
    "\n",
    "def model(x1, x2,wq,w2,b):\n",
    "    x = np.array([x1,x2])\n",
    "    w = np.array([w1,w2])\n",
    "        \n",
    "    tmp = np.sum(w*x) + b\n",
    "    if tmp <= 0 :\n",
    "        return 0 #흐르지 않는다.\n",
    "    else:\n",
    "        return 1 # 흐른다.\n",
    "\n",
    "while(1):\n",
    "    epoch +=1\n",
    "    cnt = 0\n",
    "    w1 = [np.random.normal(),np.random.normal(),np.random.normal()]\n",
    "    w2 = [np.random.normal(),np.random.normal(),np.random.normal()]\n",
    "    b  = [np.random.normal(),np.random.normal(),np.random.normal()]\n",
    "    \n",
    "    for i in data:\n",
    "        if (i[2] != model(model(i[0],i[1]),model(i[0],i[1]))):\n",
    "#             print(\"실패!\")\n",
    "            break\n",
    "        else:\n",
    "            cnt += 1\n",
    "    \n",
    "    \n",
    "    if cnt == 4:\n",
    "        print(\"epoch : \", epoch)\n",
    "        print(\"w1 : \", w1)\n",
    "        print(\"w2 : \", w2)\n",
    "        print(\"b : \", b)\n",
    "        break\n",
    "        "
   ]
  },
  {
   "cell_type": "code",
   "execution_count": null,
   "metadata": {},
   "outputs": [],
   "source": []
  }
 ],
 "metadata": {
  "kernelspec": {
   "display_name": "Python 3",
   "language": "python",
   "name": "python3"
  },
  "language_info": {
   "codemirror_mode": {
    "name": "ipython",
    "version": 3
   },
   "file_extension": ".py",
   "mimetype": "text/x-python",
   "name": "python",
   "nbconvert_exporter": "python",
   "pygments_lexer": "ipython3",
   "version": "3.7.3"
  }
 },
 "nbformat": 4,
 "nbformat_minor": 2
}
