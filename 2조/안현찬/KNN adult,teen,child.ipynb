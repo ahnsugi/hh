{
 "cells": [
  {
   "cell_type": "markdown",
   "metadata": {},
   "source": [
    "## KNN 알고리즘을 구현하세요 어른, 청소년, 어린이로 구분하는 모델, 특징은 3가지 이상\n",
    "---"
   ]
  },
  {
   "cell_type": "code",
   "execution_count": 23,
   "metadata": {},
   "outputs": [],
   "source": [
    "import random\n",
    "import numpy as np\n",
    "import matplotlib.pyplot as plt\n",
    "%matplotlib inline\n",
    " # 키, 몸무게, 신발사이즈 구분\n",
    "adult = [] # 어른 0\n",
    "teen = [] # 청소년 1\n",
    "child = [] # 어린이 2\n",
    "\n",
    "for i in range(50):\n",
    "    \n",
    "    # [ 키, 몸무게, 발 사이즈]\n",
    "    \n",
    "    adult.append([random.randint(170, 185), random.randint(80, 100), random.randint(260, 290),0])\n",
    "    teen.append([random.randint(160, 170), random.randint(60, 80), random.randint(260, 280),1])\n",
    "    child.append([random.randint(140, 160), random.randint(40, 60), random.randint(240, 260),2])"
   ]
  },
  {
   "cell_type": "code",
   "execution_count": 24,
   "metadata": {},
   "outputs": [
    {
     "data": {
      "text/plain": [
       "[<matplotlib.lines.Line2D at 0x186e32be4e0>]"
      ]
     },
     "execution_count": 24,
     "metadata": {},
     "output_type": "execute_result"
    },
    {
     "data": {
      "image/png": "[encoded data removed]",
      "text/plain": [
       "<Figure size 432x288 with 1 Axes>"
      ]
     },
     "metadata": {
      "needs_background": "light"
     },
     "output_type": "display_data"
    }
   ],
   "source": [
    "for i in range(50):\n",
    "    plt.plot(adult[i][0], adult[i][1], marker='o', color = 'red')\n",
    "    plt.plot(teen[i][0], teen[i][1], marker='o', color = 'blue')\n",
    "    plt.plot(kid[i][0], child[i][1], marker='o', color = 'green')\n",
    "    \n",
    "new = [170, 70, 275, 1] # 청소년\n",
    "\n",
    "plt.plot(new[0], new[1], marker = 'x', color = 'black')"
   ]
  },
  {
   "cell_type": "code",
   "execution_count": 25,
   "metadata": {},
   "outputs": [],
   "source": [
    "def distance(x,y):\n",
    "    # 4차원에서 두 점 사이의 거리를 구하는 함수\n",
    "    return np.sqrt(pow((x[0]-y[0]),2)+pow((x[1]-y[1]),2)+pow((x[2]-y[2]),2))"
   ]
  },
  {
   "cell_type": "code",
   "execution_count": 26,
   "metadata": {},
   "outputs": [],
   "source": [
    "def knn(x,y,k): # 새 데이터 -> x / y -> 학습 데이터 / k -> 구분\n",
    "    result=[]\n",
    "    cnt=[0,0,0,0,0]  \n",
    "    \n",
    "    for i in range(len(y)):\n",
    "        result.append([distance(x,y[i]),y[i][3]]) \n",
    "        # \"x와 y의 두 점 사이의 거리를 구한 값\"과 \"연령대 구분 값\"을 리스트에 추가\n",
    "    result.sort() # result 를 정렬\n",
    "    for i in range(k): \n",
    "        if (result[i][1] == 0): # 어른\n",
    "            cnt[0] +=1\n",
    "        if (result[i][1] == 1): # 청소년\n",
    "            cnt[1] +=1\n",
    "        if (result[i][1] == 2): # 어린이\n",
    "            cnt[2] +=1\n",
    "\n",
    "    if (max(cnt)==cnt[0]): print(\"어른입니다.\")\n",
    "    elif (max(cnt)==cnt[1]): print(\"청소년입니다.\")\n",
    "    else: print(\"어린이입니다.\")"
   ]
  },
  {
   "cell_type": "code",
   "execution_count": 27,
   "metadata": {},
   "outputs": [
    {
     "name": "stdout",
     "output_type": "stream",
     "text": [
      "키를 입력해주세요.170\n",
      "몸무게를 입력해주세요.70\n",
      "크기를 입력해주세요 : 275\n",
      "K를 입력해주세요 : 5\n",
      "청소년입니다.\n"
     ]
    }
   ],
   "source": [
    "height = input(\"키를 입력해주세요.\")\n",
    "weight = input(\"몸무게를 입력해주세요.\")\n",
    "size = input(\"크기를 입력해주세요 : \")\n",
    "num = input(\"K를 입력해주세요 : \")\n",
    "\n",
    "new = int(height), int(weight), int(size)\n",
    "    \n",
    "knn(new,adult+teen+child,int(num))"
   ]
  },
  {
   "cell_type": "code",
   "execution_count": null,
   "metadata": {},
   "outputs": [],
   "source": []
  }
 ],
 "metadata": {
  "kernelspec": {
   "display_name": "Python 3",
   "language": "python",
   "name": "python3"
  },
  "language_info": {
   "codemirror_mode": {
    "name": "ipython",
    "version": 3
   },
   "file_extension": ".py",
   "mimetype": "text/x-python",
   "name": "python",
   "nbconvert_exporter": "python",
   "pygments_lexer": "ipython3",
   "version": "3.7.3"
  }
 },
 "nbformat": 4,
 "nbformat_minor": 2
}
