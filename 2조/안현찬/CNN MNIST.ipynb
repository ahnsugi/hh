{
 "cells": [
  {
   "cell_type": "code",
   "execution_count": 12,
   "metadata": {},
   "outputs": [
    {
     "name": "stdout",
     "output_type": "stream",
     "text": [
      "Requirement already satisfied: tensorflow==2.0.0-alpha0 in c:\\users\\iot11\\anaconda3\\lib\\site-packages (2.0.0a0)\n",
      "Requirement already satisfied: numpy<2.0,>=1.14.5 in c:\\users\\iot11\\anaconda3\\lib\\site-packages (from tensorflow==2.0.0-alpha0) (1.16.2)\n",
      "Requirement already satisfied: protobuf>=3.6.1 in c:\\users\\iot11\\anaconda3\\lib\\site-packages (from tensorflow==2.0.0-alpha0) (3.9.1)\n",
      "Requirement already satisfied: google-pasta>=0.1.2 in c:\\users\\iot11\\anaconda3\\lib\\site-packages (from tensorflow==2.0.0-alpha0) (0.1.7)\n",
      "Requirement already satisfied: termcolor>=1.1.0 in c:\\users\\iot11\\anaconda3\\lib\\site-packages (from tensorflow==2.0.0-alpha0) (1.1.0)\n",
      "Requirement already satisfied: astor>=0.6.0 in c:\\users\\iot11\\anaconda3\\lib\\site-packages (from tensorflow==2.0.0-alpha0) (0.8.0)\n",
      "Requirement already satisfied: absl-py>=0.7.0 in c:\\users\\iot11\\anaconda3\\lib\\site-packages (from tensorflow==2.0.0-alpha0) (0.8.0)\n",
      "Requirement already satisfied: gast>=0.2.0 in c:\\users\\iot11\\anaconda3\\lib\\site-packages (from tensorflow==2.0.0-alpha0) (0.3.2)\n",
      "Requirement already satisfied: keras-applications>=1.0.6 in c:\\users\\iot11\\anaconda3\\lib\\site-packages (from tensorflow==2.0.0-alpha0) (1.0.8)\n",
      "Requirement already satisfied: keras-preprocessing>=1.0.5 in c:\\users\\iot11\\anaconda3\\lib\\site-packages (from tensorflow==2.0.0-alpha0) (1.1.0)\n",
      "Requirement already satisfied: tf-estimator-nightly<1.14.0.dev2019030116,>=1.14.0.dev2019030115 in c:\\users\\iot11\\anaconda3\\lib\\site-packages (from tensorflow==2.0.0-alpha0) (1.14.0.dev2019030115)\n",
      "Requirement already satisfied: wheel>=0.26 in c:\\users\\iot11\\anaconda3\\lib\\site-packages (from tensorflow==2.0.0-alpha0) (0.33.1)\n",
      "Requirement already satisfied: tb-nightly<1.14.0a20190302,>=1.14.0a20190301 in c:\\users\\iot11\\anaconda3\\lib\\site-packages (from tensorflow==2.0.0-alpha0) (1.14.0a20190301)\n",
      "Requirement already satisfied: grpcio>=1.8.6 in c:\\users\\iot11\\anaconda3\\lib\\site-packages (from tensorflow==2.0.0-alpha0) (1.23.0)\n",
      "Requirement already satisfied: six>=1.10.0 in c:\\users\\iot11\\anaconda3\\lib\\site-packages (from tensorflow==2.0.0-alpha0) (1.12.0)\n",
      "Requirement already satisfied: setuptools in c:\\users\\iot11\\anaconda3\\lib\\site-packages (from protobuf>=3.6.1->tensorflow==2.0.0-alpha0) (40.8.0)\n",
      "Requirement already satisfied: h5py in c:\\users\\iot11\\anaconda3\\lib\\site-packages (from keras-applications>=1.0.6->tensorflow==2.0.0-alpha0) (2.9.0)\n",
      "Requirement already satisfied: markdown>=2.6.8 in c:\\users\\iot11\\anaconda3\\lib\\site-packages (from tb-nightly<1.14.0a20190302,>=1.14.0a20190301->tensorflow==2.0.0-alpha0) (3.1.1)\n",
      "Requirement already satisfied: werkzeug>=0.11.15 in c:\\users\\iot11\\anaconda3\\lib\\site-packages (from tb-nightly<1.14.0a20190302,>=1.14.0a20190301->tensorflow==2.0.0-alpha0) (0.14.1)\n",
      "2.0.0-alpha0\n",
      "Train on 50000 samples, validate on 10000 samples\n",
      "Epoch 1/5\n",
      "50000/50000 [==============================] - 2s 43us/sample - loss: 0.2780 - accuracy: 0.9203 - val_loss: 0.1517 - val_accuracy: 0.9546\n",
      "Epoch 2/5\n",
      "50000/50000 [==============================] - 2s 40us/sample - loss: 0.1189 - accuracy: 0.9655 - val_loss: 0.1015 - val_accuracy: 0.9703\n",
      "Epoch 3/5\n",
      "50000/50000 [==============================] - 2s 34us/sample - loss: 0.0786 - accuracy: 0.9769 - val_loss: 0.0895 - val_accuracy: 0.9748\n",
      "Epoch 4/5\n",
      "50000/50000 [==============================] - 2s 33us/sample - loss: 0.0569 - accuracy: 0.9835 - val_loss: 0.0802 - val_accuracy: 0.9760\n",
      "Epoch 5/5\n",
      "50000/50000 [==============================] - 2s 34us/sample - loss: 0.0432 - accuracy: 0.9873 - val_loss: 0.0821 - val_accuracy: 0.9763\n",
      "10000/10000 - 0s - loss: 0.0731 - accuracy: 0.9767\n",
      "\n",
      "테스트 정확도: 0.9767\n"
     ]
    }
   ],
   "source": [
    "!pip install tensorflow==2.0.0-alpha0\n",
    "\n",
    "import tensorflow as tf\n",
    "import numpy as np\n",
    "import tensorflow.keras.utils as utils\n",
    "from tensorflow.keras.datasets import mnist\n",
    "from tensorflow.keras.models import Sequential\n",
    "from tensorflow.keras.layers import Dense, Activation\n",
    "from tensorflow.keras.layers import Flatten\n",
    "from tensorflow.keras.layers import Conv2D\n",
    "from tensorflow.keras.layers import MaxPooling2D\n",
    "from tensorflow.keras.preprocessing.image import ImageDataGenerator\n",
    "\n",
    "print(tf.__version__)\n",
    "\n",
    "#1. 데이터 생성하기\n",
    "\n",
    "(x_train, y_train), (x_test, y_test) = mnist.load_data()\n",
    "\n",
    "#데이터를 정규화한다\n",
    "x_train = x_train / 255.0\n",
    "x_test = x_test / 255.0\n",
    "\n",
    "# 50000개의 훈련 데이터와 검증 데이터.\n",
    "x_val = x_train[50000:]\n",
    "y_val = y_train[50000:]\n",
    "x_train = x_train[:50000]\n",
    "y_train = y_train[:50000]\n",
    "\n",
    "from tensorflow.keras.layers import Dropout  \n",
    "#2. 인공신경망 모델 구성\n",
    "model = Sequential()\n",
    "model.add(Flatten(input_shape=(28, 28)))\n",
    "model.add(Dense(256, activation='relu'))\n",
    "model.add(Dense(10, activation = 'softmax'))\n",
    "\n",
    "#3. 모델 학습과정 설정하기\n",
    "model.compile(loss='sparse_categorical_crossentropy', optimizer = 'adam', metrics=['accuracy'])\n",
    "\n",
    "model.fit(x_train, y_train, epochs=5, batch_size=60, verbose=1, validation_data=(x_val, y_val))\n",
    "\n",
    "#5. 모델 평가하기\n",
    "test_loss, test_acc = model.evaluate(x_test,  y_test, verbose=2)\n",
    "\n",
    "print('\\n테스트 정확도:', test_acc)"
   ]
  },
  {
   "cell_type": "code",
   "execution_count": null,
   "metadata": {},
   "outputs": [],
   "source": []
  },
  {
   "cell_type": "code",
   "execution_count": null,
   "metadata": {},
   "outputs": [],
   "source": []
  },
  {
   "cell_type": "code",
   "execution_count": null,
   "metadata": {},
   "outputs": [],
   "source": []
  },
  {
   "cell_type": "code",
   "execution_count": null,
   "metadata": {},
   "outputs": [],
   "source": []
  },
  {
   "cell_type": "code",
   "execution_count": null,
   "metadata": {},
   "outputs": [],
   "source": []
  }
 ],
 "metadata": {
  "kernelspec": {
   "display_name": "Python 3",
   "language": "python",
   "name": "python3"
  },
  "language_info": {
   "codemirror_mode": {
    "name": "ipython",
    "version": 3
   },
   "file_extension": ".py",
   "mimetype": "text/x-python",
   "name": "python",
   "nbconvert_exporter": "python",
   "pygments_lexer": "ipython3",
   "version": "3.7.3"
  }
 },
 "nbformat": 4,
 "nbformat_minor": 2
}
