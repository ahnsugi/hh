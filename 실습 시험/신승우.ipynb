{
 "cells": [
  {
   "cell_type": "markdown",
   "metadata": {},
   "source": [
    "1. 램덤으로 로또 추첨기 만들기."
   ]
  },
  {
   "cell_type": "code",
   "execution_count": 6,
   "metadata": {},
   "outputs": [
    {
     "name": "stdout",
     "output_type": "stream",
     "text": [
      "[로또 번호 생성기]\n",
      "-------------------\n",
      "게임 수를 입력하세요\n",
      "게임수:10\n",
      "----------------------\n",
      "[3, 5, 12, 19, 27, 42]\n",
      "[2, 15, 23, 26, 32, 38]\n",
      "[10, 15, 34, 35, 41, 43]\n",
      "[3, 22, 23, 41, 42, 43]\n",
      "[1, 3, 9, 30, 31, 35]\n",
      "[1, 7, 15, 33, 35, 36]\n",
      "[4, 6, 8, 21, 31, 32]\n",
      "[5, 12, 17, 24, 26, 38]\n",
      "[3, 15, 17, 33, 34, 39]\n",
      "[13, 14, 15, 20, 25, 30]\n",
      "------------------------\n",
      "로또 번호 생성 완료\n",
      "------------------------\n"
     ]
    }
   ],
   "source": [
    "import random, string\n",
    "cn = \"y\"\n",
    "print(\"[로또 번호 생성기]\")\n",
    "print(\"-------------------\")\n",
    "print(\"게임 수를 입력하세요\")\n",
    "while(cn == \"y\"):\n",
    "    num = input(\"게임수:\")\n",
    "    if(num.isdigit()==True):\n",
    "        print(\"----------------------\")\n",
    "        for i in range(0, int(num)):\n",
    "            lotto=random.sample(range(1,46),6)\n",
    "            lotto.sort()\n",
    "            print(lotto)\n",
    "            cn=\"n\"\n",
    "    else:\n",
    "        print(\"----------------------\")\n",
    "        print(\"숫자를 입력하세요\")\n",
    "        continue\n",
    "print(\"------------------------\")        \n",
    "print(\"로또 번호 생성 완료\")\n",
    "print(\"------------------------\")"
   ]
  },
  {
   "cell_type": "markdown",
   "metadata": {},
   "source": [
    "2. 구구단 만들기"
   ]
  },
  {
   "cell_type": "code",
   "execution_count": 20,
   "metadata": {},
   "outputs": [
    {
     "name": "stdout",
     "output_type": "stream",
     "text": [
      "★ 구구단을 출력합니다.\n",
      "\n",
      "------- [2단] -------\n",
      "2 x 1 = 2\n",
      "2 x 2 = 4\n",
      "2 x 3 = 6\n",
      "2 x 4 = 8\n",
      "2 x 5 = 10\n",
      "2 x 6 = 12\n",
      "2 x 7 = 14\n",
      "2 x 8 = 16\n",
      "2 x 9 = 18\n",
      "------- [3단] -------\n",
      "------- [4단] -------\n",
      "4 x 1 = 4\n",
      "4 x 2 = 8\n",
      "4 x 3 = 12\n",
      "4 x 4 = 16\n",
      "4 x 5 = 20\n",
      "4 x 6 = 24\n",
      "4 x 7 = 28\n",
      "4 x 8 = 32\n",
      "4 x 9 = 36\n",
      "------- [5단] -------\n",
      "5 x 1 = 5\n",
      "5 x 2 = 10\n",
      "5 x 3 = 15\n",
      "5 x 4 = 20\n",
      "5 x 5 = 25\n",
      "5 x 6 = 30\n",
      "5 x 7 = 35\n",
      "5 x 8 = 40\n",
      "5 x 9 = 45\n",
      "------- [6단] -------\n",
      "------- [7단] -------\n",
      "7 x 1 = 7\n",
      "7 x 2 = 14\n",
      "7 x 3 = 21\n",
      "7 x 4 = 28\n",
      "7 x 5 = 35\n",
      "7 x 6 = 42\n",
      "7 x 7 = 49\n",
      "7 x 8 = 56\n",
      "7 x 9 = 63\n",
      "------- [8단] -------\n",
      "8 x 1 = 8\n",
      "8 x 2 = 16\n",
      "8 x 3 = 24\n",
      "8 x 4 = 32\n",
      "8 x 5 = 40\n",
      "8 x 6 = 48\n",
      "8 x 7 = 56\n",
      "8 x 8 = 64\n",
      "8 x 9 = 72\n",
      "------- [9단] -------\n",
      "9 x 1 = 9\n",
      "9 x 2 = 18\n",
      "9 x 3 = 27\n",
      "9 x 4 = 36\n",
      "9 x 5 = 45\n",
      "9 x 6 = 54\n",
      "9 x 7 = 63\n",
      "9 x 8 = 72\n",
      "9 x 9 = 81\n",
      "---------------------\n"
     ]
    }
   ],
   "source": [
    "print(\"★ 구구단을 출력합니다.\\n\")\n",
    "for x in range(2, 10):\n",
    "    print(\"------- [\" + str(x) + \"단] -------\")\n",
    "    if x==3 or x==6: \n",
    "        continue\n",
    "    for y in range(1, 10):\n",
    "        print(\"{} x {} = {}\". format(x,y,x*y))\n",
    "print(\"---------------------\")"
   ]
  },
  {
   "cell_type": "markdown",
   "metadata": {},
   "source": [
    "\n",
    "3. 역순 정렬. 중복제거\n"
   ]
  },
  {
   "cell_type": "code",
   "execution_count": 1,
   "metadata": {},
   "outputs": [
    {
     "name": "stdout",
     "output_type": "stream",
     "text": [
      "{1, 2, 3, 4, 5, 6, 7, 8, 9}\n"
     ]
    }
   ],
   "source": [
    "a=[1,1,1,4,2,5,6,7,3,5,6,7,6,7,8,4,3,5,6,7,2,6,2,4,2,9,8,6,7,4,5,3,2,]\n",
    "print(set(sorted(a)[::-1]))"
   ]
  },
  {
   "cell_type": "markdown",
   "metadata": {},
   "source": [
    "4. 동물 분류기"
   ]
  },
  {
   "cell_type": "code",
   "execution_count": 35,
   "metadata": {},
   "outputs": [
    {
     "name": "stdout",
     "output_type": "stream",
     "text": [
      "3,5,7,9,11 중에 넣으시요 제발11\n",
      "[[0, 0, 0, 11, 0], [4, 0, 0, 7, 0], [7, 0, 0, 4, 0], [6, 0, 0, 5, 0], [3, 0, 0, 8, 0]]\n",
      "dolphin\n",
      "dolphin\n",
      "elephant\n",
      "elephant\n",
      "dolphin\n"
     ]
    }
   ],
   "source": [
    "import numpy as np\n",
    "from random import * \n",
    "import matplotlib.pyplot as plt\n",
    "def distance(x,y):\n",
    "    return np.sqrt(pow((x[0]-y[0]),2)+pow((x[1]-y[1]),2)+pow((x[2]-y[2]),2)+pow((x[3]-y[3]),2)+pow((x[4]-y[4]),2))\n",
    "elephant = []\n",
    "shark = []\n",
    "alligator = []\n",
    "dolphin = []\n",
    "dog = []\n",
    "salamander = []\n",
    "animal = []\n",
    "result=[]\n",
    "lists = []\n",
    "ok =[]\n",
    "for i in range(50):\n",
    "    elephant.append([uniform(3.2,4), uniform(4700, 6048),0,2,1,0])\n",
    "    shark.append([uniform(3.4,4.9), uniform(522, 1110),2,0,0,1])\n",
    "    alligator.append([uniform(3.5,6), uniform(200, 1000),2,1,0,2])\n",
    "    dolphin.append([uniform(1.4,8), uniform(45, 6000),1,0,1,3])\n",
    "    dog.append([uniform(0.1,2.1), uniform(2.75, 150),1,2,1,4])\n",
    "p = elephant + shark + alligator + dolphin + dog\n",
    "k = input(\"3,5,7,9,11 중에 넣으시요 제발\")\n",
    "for i in range(0,5):\n",
    "    animal.append([uniform(0.1,8),uniform(2.75,6048),randint(0,2),randint(0,2),randint(0,1)])\n",
    "for j in range(0,5):\n",
    "    for i in range(0,250):\n",
    "        result.append([distance(animal[j],p[i]),p[i][5]])\n",
    "    lists.append(sorted(result))\n",
    "for j in range(0,5):\n",
    "    a,b,o,g,w = 0,0,0,0,0\n",
    "    for i in range(0,int(k)):\n",
    "        if (lists[j][i][1] == 0):\n",
    "            a += 1\n",
    "        elif (lists[j][i][1] == 1):\n",
    "            b += 1\n",
    "        elif (lists[j][i][1] == 2):\n",
    "            o += 1\n",
    "        elif (lists[j][i][1] == 3):\n",
    "            g += 1\n",
    "        elif (lists[j][i][1] == 4):\n",
    "            w += 1\n",
    "    ok.append([a,b,o,g,w])\n",
    "print(ok)\n",
    "for i in range(0,5):\n",
    "    if (max(ok[i]) == ok[i][0]):\n",
    "        print(\"elephant\")\n",
    "    elif(max(ok[i]) == ok[i][1]):\n",
    "        print(\"shark\")\n",
    "    elif(max(ok[i]) == ok[i][2]):\n",
    "        print(\"alligator\")\n",
    "    elif(max(ok[i]) == ok[i][3]):\n",
    "        print(\"dolphin\")\n",
    "    elif(max(ok[i]) == ok[i][4]):\n",
    "        print(\"dog\")\n",
    "    else:\n",
    "        print(\"구분이 안되요\")"
   ]
  },
  {
   "cell_type": "markdown",
   "metadata": {},
   "source": [
    "\n",
    "5. 피보나치수열\n"
   ]
  },
  {
   "cell_type": "code",
   "execution_count": 3,
   "metadata": {},
   "outputs": [],
   "source": [
    "def fib_to(n):\n",
    "    fibs = [0, 1]\n",
    "    for i in range(2, n+1):\n",
    "        fibs.append(fibs[-1] + fibs[-2])\n",
    "    return fibs"
   ]
  },
  {
   "cell_type": "code",
   "execution_count": 4,
   "metadata": {},
   "outputs": [
    {
     "data": {
      "text/plain": [
       "[0,\n",
       " 1,\n",
       " 1,\n",
       " 2,\n",
       " 3,\n",
       " 5,\n",
       " 8,\n",
       " 13,\n",
       " 21,\n",
       " 34,\n",
       " 55,\n",
       " 89,\n",
       " 144,\n",
       " 233,\n",
       " 377,\n",
       " 610,\n",
       " 987,\n",
       " 1597,\n",
       " 2584,\n",
       " 4181,\n",
       " 6765,\n",
       " 10946,\n",
       " 17711,\n",
       " 28657,\n",
       " 46368,\n",
       " 75025,\n",
       " 121393,\n",
       " 196418,\n",
       " 317811,\n",
       " 514229,\n",
       " 832040,\n",
       " 1346269,\n",
       " 2178309,\n",
       " 3524578,\n",
       " 5702887,\n",
       " 9227465,\n",
       " 14930352,\n",
       " 24157817,\n",
       " 39088169,\n",
       " 63245986,\n",
       " 102334155,\n",
       " 165580141,\n",
       " 267914296,\n",
       " 433494437,\n",
       " 701408733,\n",
       " 1134903170,\n",
       " 1836311903,\n",
       " 2971215073,\n",
       " 4807526976,\n",
       " 7778742049,\n",
       " 12586269025,\n",
       " 20365011074,\n",
       " 32951280099,\n",
       " 53316291173,\n",
       " 86267571272,\n",
       " 139583862445,\n",
       " 225851433717,\n",
       " 365435296162,\n",
       " 591286729879,\n",
       " 956722026041,\n",
       " 1548008755920,\n",
       " 2504730781961,\n",
       " 4052739537881,\n",
       " 6557470319842,\n",
       " 10610209857723,\n",
       " 17167680177565,\n",
       " 27777890035288,\n",
       " 44945570212853,\n",
       " 72723460248141,\n",
       " 117669030460994,\n",
       " 190392490709135,\n",
       " 308061521170129,\n",
       " 498454011879264,\n",
       " 806515533049393,\n",
       " 1304969544928657,\n",
       " 2111485077978050,\n",
       " 3416454622906707,\n",
       " 5527939700884757,\n",
       " 8944394323791464,\n",
       " 14472334024676221,\n",
       " 23416728348467685,\n",
       " 37889062373143906,\n",
       " 61305790721611591,\n",
       " 99194853094755497,\n",
       " 160500643816367088,\n",
       " 259695496911122585,\n",
       " 420196140727489673,\n",
       " 679891637638612258,\n",
       " 1100087778366101931,\n",
       " 1779979416004714189,\n",
       " 2880067194370816120,\n",
       " 4660046610375530309,\n",
       " 7540113804746346429,\n",
       " 12200160415121876738,\n",
       " 19740274219868223167,\n",
       " 31940434634990099905,\n",
       " 51680708854858323072,\n",
       " 83621143489848422977,\n",
       " 135301852344706746049,\n",
       " 218922995834555169026,\n",
       " 354224848179261915075]"
      ]
     },
     "execution_count": 4,
     "metadata": {},
     "output_type": "execute_result"
    }
   ],
   "source": [
    "fib_to(100)"
   ]
  }
 ],
 "metadata": {
  "kernelspec": {
   "display_name": "Python 3",
   "language": "python",
   "name": "python3"
  },
  "language_info": {
   "codemirror_mode": {
    "name": "ipython",
    "version": 3
   },
   "file_extension": ".py",
   "mimetype": "text/x-python",
   "name": "python",
   "nbconvert_exporter": "python",
   "pygments_lexer": "ipython3",
   "version": "3.7.3"
  }
 },
 "nbformat": 4,
 "nbformat_minor": 2
}
