{
 "cells": [
  {
   "cell_type": "markdown",
   "metadata": {},
   "source": [
    "### 1. random 함수를 활용하여 로또 추첨기를 만들어주세요.\n",
    "(10점)"
   ]
  },
  {
   "cell_type": "code",
   "execution_count": 1,
   "metadata": {},
   "outputs": [
    {
     "name": "stdout",
     "output_type": "stream",
     "text": [
      "로또번호 :  [40, 16, 34, 20, 6, 37]\n"
     ]
    }
   ],
   "source": [
    "import random\n",
    "\n",
    "l = []\n",
    "count = 0\n",
    "while count < 6:\n",
    "    r = int(random.random() * 100)\n",
    "    if r <= 45 and r > 0:\n",
    "        if r not in l:\n",
    "            l.append(r)\n",
    "            count += 1\n",
    "\n",
    "#l = set(l)\n",
    "#l = list(l)\n",
    "print(\"로또번호 : \", l[:6])"
   ]
  },
  {
   "cell_type": "markdown",
   "metadata": {},
   "source": []
  },
  {
   "cell_type": "markdown",
   "metadata": {},
   "source": [
    "### 2. 다음 조건을 모두 만족하는 구구단을 만들어주세요. \n",
    "(10점)"
   ]
  },
  {
   "cell_type": "markdown",
   "metadata": {},
   "source": [
    "#### - 3단, 6단을 제외한 구구단\n",
    "#### - 반복문, 조건문 사용 (단순 print로 출력 X)\n",
    "#### - 문자열 포맷팅을 활용해 2 X 2 = 4 형식으로 출력하세요."
   ]
  },
  {
   "cell_type": "code",
   "execution_count": 2,
   "metadata": {},
   "outputs": [
    {
     "name": "stdout",
     "output_type": "stream",
     "text": [
      " 2단\n",
      " 2 X  1 =   2\n",
      " 2 X  2 =   4\n",
      " 2 X  3 =   6\n",
      " 2 X  4 =   8\n",
      " 2 X  5 =  10\n",
      " 2 X  6 =  12\n",
      " 2 X  7 =  14\n",
      " 2 X  8 =  16\n",
      " 2 X  9 =  18\n",
      "\n",
      " 4단\n",
      " 4 X  1 =   4\n",
      " 4 X  2 =   8\n",
      " 4 X  3 =  12\n",
      " 4 X  4 =  16\n",
      " 4 X  5 =  20\n",
      " 4 X  6 =  24\n",
      " 4 X  7 =  28\n",
      " 4 X  8 =  32\n",
      " 4 X  9 =  36\n",
      "\n",
      " 5단\n",
      " 5 X  1 =   5\n",
      " 5 X  2 =  10\n",
      " 5 X  3 =  15\n",
      " 5 X  4 =  20\n",
      " 5 X  5 =  25\n",
      " 5 X  6 =  30\n",
      " 5 X  7 =  35\n",
      " 5 X  8 =  40\n",
      " 5 X  9 =  45\n",
      "\n",
      " 7단\n",
      " 7 X  1 =   7\n",
      " 7 X  2 =  14\n",
      " 7 X  3 =  21\n",
      " 7 X  4 =  28\n",
      " 7 X  5 =  35\n",
      " 7 X  6 =  42\n",
      " 7 X  7 =  49\n",
      " 7 X  8 =  56\n",
      " 7 X  9 =  63\n",
      "\n",
      " 8단\n",
      " 8 X  1 =   8\n",
      " 8 X  2 =  16\n",
      " 8 X  3 =  24\n",
      " 8 X  4 =  32\n",
      " 8 X  5 =  40\n",
      " 8 X  6 =  48\n",
      " 8 X  7 =  56\n",
      " 8 X  8 =  64\n",
      " 8 X  9 =  72\n",
      "\n",
      " 9단\n",
      " 9 X  1 =   9\n",
      " 9 X  2 =  18\n",
      " 9 X  3 =  27\n",
      " 9 X  4 =  36\n",
      " 9 X  5 =  45\n",
      " 9 X  6 =  54\n",
      " 9 X  7 =  63\n",
      " 9 X  8 =  72\n",
      " 9 X  9 =  81\n",
      "\n"
     ]
    }
   ],
   "source": [
    "for i in range(2, 10):\n",
    "    if (i == 3 or i == 6):\n",
    "        continue\n",
    "    print(\"{:2d}단\".format(i))\n",
    "    for j in range(1, 10):\n",
    "        print(\"{:2d} X {:2d} = {:3d}\".format(i, j, i*j))\n",
    "    print()"
   ]
  },
  {
   "cell_type": "markdown",
   "metadata": {},
   "source": []
  },
  {
   "cell_type": "markdown",
   "metadata": {},
   "source": [
    "### 3. 리스트 a = [1, 1, 1, 4, 2, 5, 6, 7, 3, 5, 6, 7, 6, 7, 8, 4, 3, 5, 6, 7, 2, 6, 2, 4, 2, 9, 8, 6, 7, 4, 5, 3, 2]를 중복을 제거하고 역순으로 정렬해주세요. \n",
    "(10점)"
   ]
  },
  {
   "cell_type": "code",
   "execution_count": 3,
   "metadata": {},
   "outputs": [
    {
     "name": "stdout",
     "output_type": "stream",
     "text": [
      "[9, 8, 7, 6, 5, 4, 3, 2, 1]\n"
     ]
    }
   ],
   "source": [
    "a = [1, 1, 1, 4, 2, 5, 6, 7, 3, 5, 6, 7, 6, 7, 8, 4, 3, 5, 6, 7, 2, 6, 2, 4, 2, 9, 8, 6, 7, 4, 5, 3, 2]\n",
    "b = set(a)\n",
    "a = list(b)\n",
    "print(a[::-1])"
   ]
  },
  {
   "cell_type": "markdown",
   "metadata": {},
   "source": []
  },
  {
   "cell_type": "markdown",
   "metadata": {},
   "source": [
    "### 4. 특징을 최소 5개 이상인 동물 분류기를 만들어주세요.\n",
    "(10점)"
   ]
  },
  {
   "cell_type": "markdown",
   "metadata": {},
   "source": [
    "#### - 특징 5개 (예 : 평균 크기, 육식 여부 등)\n",
    "#### - 분류할 동물은 최소 4마리 이상 (호랑이, 개, 원숭이 등)\n",
    "#### - knn 혹은 kmeans 알고리즘을 사용하세요."
   ]
  },
  {
   "cell_type": "code",
   "execution_count": null,
   "metadata": {},
   "outputs": [],
   "source": []
  },
  {
   "cell_type": "markdown",
   "metadata": {},
   "source": []
  },
  {
   "cell_type": "markdown",
   "metadata": {},
   "source": [
    "### 5. 1, 1, 2, 3, 5, 8, 13 .... 100번까지 진행되는 피보나치 수열 프로그램을 만들어주세요.\n",
    "(10점)"
   ]
  },
  {
   "cell_type": "code",
   "execution_count": 4,
   "metadata": {},
   "outputs": [
    {
     "name": "stdout",
     "output_type": "stream",
     "text": [
      "[1, 1, 2, 3, 5, 8, 13, 21, 34, 55, 89, 144, 233, 377, 610, 987, 1597, 2584, 4181, 6765, 10946, 17711, 28657, 46368, 75025, 121393, 196418, 317811, 514229, 832040, 1346269, 2178309, 3524578, 5702887, 9227465, 14930352, 24157817, 39088169, 63245986, 102334155, 165580141, 267914296, 433494437, 701408733, 1134903170, 1836311903, 2971215073, 4807526976, 7778742049, 12586269025, 20365011074, 32951280099, 53316291173, 86267571272, 139583862445, 225851433717, 365435296162, 591286729879, 956722026041, 1548008755920, 2504730781961, 4052739537881, 6557470319842, 10610209857723, 17167680177565, 27777890035288, 44945570212853, 72723460248141, 117669030460994, 190392490709135, 308061521170129, 498454011879264, 806515533049393, 1304969544928657, 2111485077978050, 3416454622906707, 5527939700884757, 8944394323791464, 14472334024676221, 23416728348467685, 37889062373143906, 61305790721611591, 99194853094755497, 160500643816367088, 259695496911122585, 420196140727489673, 679891637638612258, 1100087778366101931, 1779979416004714189, 2880067194370816120, 4660046610375530309, 7540113804746346429, 12200160415121876738, 19740274219868223167, 31940434634990099905, 51680708854858323072, 83621143489848422977, 135301852344706746049, 218922995834555169026, 354224848179261915075]\n"
     ]
    }
   ],
   "source": [
    "first = 1\n",
    "second = 1\n",
    "result = []\n",
    "result.append(first)\n",
    "result.append(second)\n",
    "for i in range(98):\n",
    "    nextNum = first + second\n",
    "    result.append(nextNum)\n",
    "    first = second\n",
    "    second = nextNum\n",
    "\n",
    "print(result)"
   ]
  }
 ],
 "metadata": {
  "kernelspec": {
   "display_name": "Python 3",
   "language": "python",
   "name": "python3"
  },
  "language_info": {
   "codemirror_mode": {
    "name": "ipython",
    "version": 3
   },
   "file_extension": ".py",
   "mimetype": "text/x-python",
   "name": "python",
   "nbconvert_exporter": "python",
   "pygments_lexer": "ipython3",
   "version": "3.7.3"
  }
 },
 "nbformat": 4,
 "nbformat_minor": 2
}
