{
 "cells": [
  {
   "cell_type": "markdown",
   "metadata": {},
   "source": [
    "## 1. random 함수를 활용하여 로또 추첨기"
   ]
  },
  {
   "cell_type": "code",
   "execution_count": null,
   "metadata": {},
   "outputs": [],
   "source": [
    "import random\n",
    "\n",
    "Lotto = sorted(random.sample(range(1,46),6))"
   ]
  },
  {
   "cell_type": "code",
   "execution_count": null,
   "metadata": {},
   "outputs": [],
   "source": [
    "print(Lotto)"
   ]
  },
  {
   "cell_type": "markdown",
   "metadata": {},
   "source": [
    "## 2. 구구단 3단, 6단 제외"
   ]
  },
  {
   "cell_type": "code",
   "execution_count": null,
   "metadata": {},
   "outputs": [],
   "source": [
    "for i in range(2,10):\n",
    "    if ( i == 3 or i == 6):\n",
    "        continue\n",
    "    for j in range(2,10):\n",
    "        print(i,'X',j,'=',i*j)"
   ]
  },
  {
   "cell_type": "markdown",
   "metadata": {},
   "source": [
    "## 3. 리스트 중복을 제거하고 역순으로 정렬 "
   ]
  },
  {
   "cell_type": "code",
   "execution_count": null,
   "metadata": {},
   "outputs": [],
   "source": [
    "a = [1,1,1,4,2,5,6,7,3,5,6,7,6,7,8,4,3,5,6,7,2,6,2,4,2,9,8,6,7,4,5,3,2]"
   ]
  },
  {
   "cell_type": "code",
   "execution_count": null,
   "metadata": {},
   "outputs": [],
   "source": [
    "a = list(set(a))"
   ]
  },
  {
   "cell_type": "code",
   "execution_count": null,
   "metadata": {},
   "outputs": [],
   "source": [
    "a.sort(reverse =True)"
   ]
  },
  {
   "cell_type": "code",
   "execution_count": null,
   "metadata": {},
   "outputs": [],
   "source": [
    "print(a)"
   ]
  },
  {
   "cell_type": "markdown",
   "metadata": {},
   "source": [
    "## 4. 특징이 5개 이상인 동물 분류 (아직)"
   ]
  },
  {
   "cell_type": "code",
   "execution_count": null,
   "metadata": {},
   "outputs": [],
   "source": [
    "import random\n",
    "import numpy as np\n",
    " # 당도 0~5 , 크기 , 색깔 , 단단 구분\n",
    "animal = []\n",
    "tiger = [] # 호랑이 0 \n",
    "eagle = [] # 독수리 1\n",
    "owl = [] # 부엉이 2\n",
    "cow = [] # 소 3\n",
    "for i in range(50):\n",
    "    tiger.append([random.randint(0, 5), random.randint(0, 5), random.randint(0, 5), random.randint(0, 5),0])\n",
    "    eagle.append([random.randint(0, 5), random.randint(0, 5), random.randint(0, 5), random.randint(0, 5),1])\n",
    "    owl.append([random.randint(0, 5), random.randint(0, 5), random.randint(0, 5), random.randint(0, 5),2])\n",
    "    cow.append([random.randint(0, 5), random.randint(0, 5), random.randint(0, 5), random.randint(0, 5),3])"
   ]
  },
  {
   "cell_type": "code",
   "execution_count": null,
   "metadata": {},
   "outputs": [],
   "source": [
    "def distance(x,y):\n",
    "    #두 점 사이의 거리를 구하는 함수\n",
    "    return np.sqrt(pow((x[0]-y[0]),2)+pow((x[1]-y[1]),2)+pow((x[2]-y[2]),2)+pow((x[3]-y[3]),2))\n",
    "\n",
    "def knn(x,y,k):\n",
    "    result=[]\n",
    "    animal_0, animal_1, animal_2, animal_3, animal_4 = 0\n",
    "    \n",
    "    for i in range(len(y)):\n",
    "        result.append([distance(x,y[i]),y[i][2]])\n",
    "    result.sort()\n",
    "    for i in range(k):\n",
    "        if (result[i][1]==1):\n",
    "            cnt +=1\n",
    "    if (animal[i][i][1] == 0):\n",
    "        print (\"호랑이입니다.\")\n",
    "    elif(animal[i][i][1] == 1):\n",
    "        print(\"독수리입니다.\")\n",
    "    elif(animal[i][i][1] == 2):\n",
    "        print(\"부엉이입니다.\")\n",
    "    else:\n",
    "        print(\"소입니다.\")"
   ]
  },
  {
   "cell_type": "markdown",
   "metadata": {},
   "source": [
    "## 5. 1~100 피보나치 수열"
   ]
  },
  {
   "cell_type": "code",
   "execution_count": null,
   "metadata": {},
   "outputs": [],
   "source": [
    "i = 0\n",
    "j = 1\n",
    "tmp = 0"
   ]
  },
  {
   "cell_type": "code",
   "execution_count": null,
   "metadata": {},
   "outputs": [],
   "source": [
    "for a in range(1,101):\n",
    "    tmp = i + j\n",
    "    print(\"i =\",i,\"j =\",j,\"i+j =\",tmp)\n",
    "    i = j\n",
    "    j = tmp"
   ]
  },
  {
   "cell_type": "code",
   "execution_count": null,
   "metadata": {},
   "outputs": [],
   "source": []
  }
 ],
 "metadata": {
  "kernelspec": {
   "display_name": "Python 3",
   "language": "python",
   "name": "python3"
  },
  "language_info": {
   "codemirror_mode": {
    "name": "ipython",
    "version": 3
   },
   "file_extension": ".py",
   "mimetype": "text/x-python",
   "name": "python",
   "nbconvert_exporter": "python",
   "pygments_lexer": "ipython3",
   "version": "3.7.3"
  }
 },
 "nbformat": 4,
 "nbformat_minor": 2
}
