{
 "cells": [
  {
   "cell_type": "markdown",
   "metadata": {},
   "source": [
    "# 인공지능 실습문제\n",
    "\n",
    "## 1. random 함수를 활용하여 로또 추첨기를 만들어주세요.\n",
    "\n",
    "## 2. 다음 조건을 모두 만족하는 구구단을 만들어주세요.\n",
    "## - 3단, 6단을 제외한 구구단\n",
    "## - 반복문, 조건문 사용(피지컬 코딩 금지)\n",
    "## - 문자열 포맷팅을 활용해 2 X 2 = 4 형식으로 출력하세요.\n",
    "\n",
    "## 3. 리스트 a = [1,1,1,4,2,5,6,7,3,5,6,7,6,7,8,4,3,5,6,7,2,6,2,4,2,9,8,6,7,4,5,3,2]를 중복을 제거하고 역순으로 정렬해주세요.\n",
    "\n",
    "## 4. 특징을 최소 5개 이상인 동물 분류기를 만들어주세요.\n",
    "## - 특징 5개 (예: 평균 크기, 육식 여부 등)\n",
    "## - 분류할 동물은 최소 4마리 이상 (호랑이, 개, 원숭이 등)\n",
    "## - knn 혹은 kmeans 알고리즘을 사용하세요.\n",
    "\n",
    "## 5. 1,1,2,3,5,8 ..... 100번까지 진행되는 피보나치 수열 프로그램을 만들어주세요."
   ]
  },
  {
   "cell_type": "code",
   "execution_count": 6,
   "metadata": {},
   "outputs": [],
   "source": [
    "# 1번문제 로또 추첨기"
   ]
  },
  {
   "cell_type": "code",
   "execution_count": null,
   "metadata": {},
   "outputs": [],
   "source": [
    "from random import shuffle\n",
    "from time import sleep\n",
    "\n",
    "num = input('로또 게임 회수를 입력하세요: ')\n",
    "\n",
    "for i in range(int(num)):\n",
    "    balls = [x+1 for x in range(45)]\n",
    "    ret = []\n",
    "    for j in range(6):\n",
    "        shuffle(balls)\n",
    "        number = balls.pop()\n",
    "        ret.append(number)\n",
    "    ret.sort()\n",
    "    print('로또번호[%d]:'%(i+1))\n",
    "    print(ret)\n",
    "    sleep(1)\n"
   ]
  },
  {
   "cell_type": "code",
   "execution_count": 7,
   "metadata": {},
   "outputs": [],
   "source": [
    "# 2번문제 구구단"
   ]
  },
  {
   "cell_type": "code",
   "execution_count": null,
   "metadata": {},
   "outputs": [],
   "source": [
    "for x in range(2, 10):\n",
    "    if x == 3 or x == 6:\n",
    "        continue\n",
    "    print(\"===={}단====\".format(x))\n",
    "    for y in range(1,10):\n",
    "        print(\"{} * {} = {}\".format(x,y,x*y))"
   ]
  },
  {
   "cell_type": "code",
   "execution_count": null,
   "metadata": {},
   "outputs": [],
   "source": [
    "# 3번문제 리스트를 중복제거, 역순으로 정렬"
   ]
  },
  {
   "cell_type": "code",
   "execution_count": 2,
   "metadata": {
    "scrolled": true
   },
   "outputs": [
    {
     "name": "stdout",
     "output_type": "stream",
     "text": [
      "[9, 8, 7, 6, 5, 4, 3, 2, 1]\n",
      "[1, 2, 3, 4, 5, 6, 7, 8, 9]\n"
     ]
    }
   ],
   "source": [
    "a = [1,1,1,4,2,5,6,7,3,5,6,7,6,7,8,4,3,5,6,7,2,6,2,4,2,9,8,6,7,4,5,3,2]\n",
    "a = list(set(a))\n",
    "print (a[::-1])\n",
    "print (a)"
   ]
  },
  {
   "cell_type": "code",
   "execution_count": 3,
   "metadata": {},
   "outputs": [
    {
     "name": "stdout",
     "output_type": "stream",
     "text": [
      "{'l', 'e', 'H', 'o'}\n"
     ]
    }
   ],
   "source": [
    "s = set(\"Hello\")\n",
    "print(s)"
   ]
  },
  {
   "cell_type": "code",
   "execution_count": null,
   "metadata": {},
   "outputs": [],
   "source": [
    "# 4번문제 특징을 최소 5개 이상인 동물 분류기 "
   ]
  },
  {
   "cell_type": "code",
   "execution_count": null,
   "metadata": {},
   "outputs": [],
   "source": []
  },
  {
   "cell_type": "code",
   "execution_count": null,
   "metadata": {},
   "outputs": [],
   "source": [
    "# 5번문제 피보나치 수열 프로그램"
   ]
  },
  {
   "cell_type": "code",
   "execution_count": null,
   "metadata": {},
   "outputs": [],
   "source": [
    "def fibonacci(n):\n",
    "    if n < 2:\n",
    "        return n\n",
    "    return fibonacci(n-1) + fibonacci(n-2)\n",
    "    for n in range (1,100):\n",
    "        print(n)"
   ]
  }
 ],
 "metadata": {
  "kernelspec": {
   "display_name": "Python 3",
   "language": "python",
   "name": "python3"
  },
  "language_info": {
   "codemirror_mode": {
    "name": "ipython",
    "version": 3
   },
   "file_extension": ".py",
   "mimetype": "text/x-python",
   "name": "python",
   "nbconvert_exporter": "python",
   "pygments_lexer": "ipython3",
   "version": "3.7.3"
  }
 },
 "nbformat": 4,
 "nbformat_minor": 2
}
