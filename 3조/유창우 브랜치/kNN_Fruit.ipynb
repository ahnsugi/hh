{
 "cells": [
  {
   "cell_type": "markdown",
   "metadata": {},
   "source": [
    "# 과일을 분류를 합니다.\n",
    "\n",
    "## 당도 0 ~ 5\n",
    "## 크기 0 ~ 5\n",
    "## 색깔 0 ~ 5 ( ex : 빨간색, 분홍색, 주황색, 노란색, 초록색,파랑색)\n",
    "## 단단함 0 ~ 5\n",
    "\n",
    "\n",
    "# 오렌지, 수박, 사과, 복숭아, 바나나  값을 주고\n",
    "\n",
    "# ( ) 의 과일은 무엇인가 ? 를 구하라."
   ]
  },
  {
   "cell_type": "code",
   "execution_count": 5,
   "metadata": {},
   "outputs": [
    {
     "name": "stdout",
     "output_type": "stream",
     "text": [
      "당도를 입력해주세요 : 5\n",
      "크기를 입력해주세요 : 5\n",
      "색깔을 입력해주세요 : 0\n",
      "단단함을 입력해주세요 : 0\n",
      "K를 입력해주세요 : 3\n",
      "새로 입력한 값에 대한 과일은 바나나입니다.\n"
     ]
    }
   ],
   "source": [
    "import numpy as np # ndarray 생성\n",
    "\n",
    "import random # 랜덤 함수 사용을 위한 절차\n",
    "Orange = [] # 오렌지 0\n",
    "WaterMelon = [] # 수박 1\n",
    "Apple = [] # 사과 2\n",
    "Peach = [] # 복숭아 3\n",
    "Banana = [] # 바나나 4\n",
    "\n",
    "for i in range(50): # 하위 내용을 i값이 1씩 증가하면서 50번 반복\n",
    "    Orange.append([random.randint(1,2), random.randint(1,2), random.randint(2,3), random.randint(0,1), 0])\n",
    "    # [ 당도 1 ~ 2 까지 , 크기 1 ~ 2 까지 , 색깔 2 ~ 3 까지, 단단함 0 ~ 1 까지, 0 - 오렌지 ] Orange 에 추가\n",
    "    WaterMelon.append([random.randint(0,1), random.randint(4,5), random.randint(4,5), random.randint(3,4), 1])\n",
    "    # [ 당도 0 ~ 1 까지 , 크기 4 ~ 5 까지 , 색깔 4 ~ 5 까지, 단단함 3 ~ 4 까지, 1 - 수박 ] WaterMelon 에 추가\n",
    "    Apple.append([random.randint(3,4), random.randint(0,1), random.randint(0,1), random.randint(4,5), 2])\n",
    "    # [ 당도 3 ~ 4 까지 , 크기 0 ~ 1 까지 , 색깔 0 ~ 1 까지, 단단함 4 ~ 5 까지, 2 - 사과 ] Apple 에 추가\n",
    "    Peach.append([random.randint(2,3), random.randint(2,3), random.randint(0,1), random.randint(1,2), 3])\n",
    "    # [ 당도 2 ~ 3 까지 , 크기 2 ~ 3 까지 , 색깔 0 ~ 1 까지, 단단함 1 ~ 2 까지, 3 - 복숭아 ] Peach 에 추가\n",
    "    Banana.append([random.randint(4,5), random.randint(3,4), random.randint(2,3), random.randint(2,3), 4])\n",
    "    # [ 당도 4 ~ 5 까지 , 크기 3 ~ 4 까지 , 색깔 2 ~ 3 까지, 단단함 2 ~ 3 까지, 4 - 바나나 ] Banana 에 추가\n",
    "\n",
    "def distance(x,y):\n",
    "    # 4차원에서 두 점 사이의 거리를 구하는 함수\n",
    "    return np.sqrt(pow((x[0]-y[0]),2)+pow((x[1]-y[1]),2)+pow((x[2]-y[2]),2)+pow((x[3]-y[3]),2))\n",
    "\n",
    "def knn(x,y,k): # new 과일 -> x / y -> 오렌지+수박+사과+복숭아+바나나들 / k -> 과일구분\n",
    "    result=[] # 과일 분류를 위한 리스트\n",
    "    cnt=[0,0,0,0,0]\n",
    "    # cnt[0]=0 오렌지 갯수를 카운트 하기 위한 변수\n",
    "    # cnt[1]=0 수박 갯수를 카운트 하기 위한 변수\n",
    "    # cnt[2]=0 사과 갯수를 카운트 하기 위한 변수\n",
    "    # cnt[3]=0 복숭아 갯수를 카운트 하기 위한 변수\n",
    "    # cnt[4]=0 바나나 갯수를 카운트 하기 위한 변수\n",
    "    for i in range(len(y)): # 하위 내용을 i값이 1값이 1씩 증가하면서 y 의 갯수 만큼 반복\n",
    "        result.append([distance(x,y[i]),y[i][4]]) \n",
    "        # \"x와 y의 두 점 사이의 거리를 구한 값\"과 \"과일 구분 값\"을 리스트에 추가\n",
    "    result.sort() # result 를 정렬\n",
    "    for i in range(k): # 하위 내용을 i값이 1값이 1씩 증가하면서 k 의 갯수 만큼 반복\n",
    "        if (result[i][1] == 0): # rsult[i][1]이 0일 때마다 cnt0을 1 증가시켜 오렌지 갯수 증가\n",
    "            cnt[0] +=1\n",
    "        if (result[i][1] == 1): # rsult[i][1]이 1일 때마다 cnt1을 1 증가시켜 수박 갯수 증가\n",
    "            cnt[1] +=1\n",
    "        if (result[i][1] == 2): # rsult[i][1]이 2일 때마다 cnt2을 1 증가시켜 사과 갯수 증가\n",
    "            cnt[2] +=1\n",
    "        if (result[i][1] == 3): # rsult[i][1]이 3일 때마다 cnt3을 1 증가시켜 복숭아 갯수 증가\n",
    "            cnt[3] +=1\n",
    "        if (result[i][1] == 4): # rsult[i][1]이 4일 때마다 cnt4을 1 증가시켜 바나나 갯수 증가\n",
    "            cnt[4] +=1\n",
    "    if (max(cnt)==cnt[0]): print(\"새로 입력한 값에 대한 과일은 오렌지입니다.\")\n",
    "    elif (max(cnt)==cnt[1]): print(\"새로 입력한 값에 대한 과일은 수박입니다.\")\n",
    "    elif (max(cnt)==cnt[2]): print(\"새로 입력한 값에 대한 과일은 사과입니다.\")\n",
    "    elif (max(cnt)==cnt[3]): print(\"새로 입력한 값에 대한 과일은 복숭아입니다.\")\n",
    "    else: print(\"새로 입력한 값에 대한 과일은 바나나입니다.\")\n",
    "        \n",
    "sugar_Content = input(\"당도를 입력해주세요 : \")\n",
    "size = input(\"크기를 입력해주세요 : \")\n",
    "color = input(\"색깔을 입력해주세요 : \")\n",
    "hard = input(\"단단함을 입력해주세요 : \")\n",
    "num = input(\"K를 입력해주세요 : \")\n",
    "new = int(sugar_Content), int(size), int(color), int(hard)\n",
    "    \n",
    "knn(new,Orange+WaterMelon+Apple+Peach+Banana,int(num)) # 위에 있는 knn 함수 참조"
   ]
  },
  {
   "cell_type": "code",
   "execution_count": null,
   "metadata": {},
   "outputs": [],
   "source": []
  }
 ],
 "metadata": {
  "kernelspec": {
   "display_name": "Python 3",
   "language": "python",
   "name": "python3"
  },
  "language_info": {
   "codemirror_mode": {
    "name": "ipython",
    "version": 3
   },
   "file_extension": ".py",
   "mimetype": "text/x-python",
   "name": "python",
   "nbconvert_exporter": "python",
   "pygments_lexer": "ipython3",
   "version": "3.7.3"
  }
 },
 "nbformat": 4,
 "nbformat_minor": 2
}
