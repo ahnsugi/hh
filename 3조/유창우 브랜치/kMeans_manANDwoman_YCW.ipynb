{
 "cells": [
  {
   "cell_type": "markdown",
   "metadata": {},
   "source": [
    "# 1. 키, 몸무게 데이터 만들기\n",
    "\n",
    "# 2. 초기 랜덤 값 두 개 (k=2라고 가정)\n",
    "\n",
    "# 3. 두 점을 기준으로 영역을 나누기\n",
    "\n",
    "# 4. 새로운 영역에서 중심점을 새로 찾기 (평균)\n",
    "\n",
    "# 5. 새로운 점을 기준으로 영역 나누기\n",
    "\n",
    "# 6. 새로운 영역에서 중심점을 새로 찾기 (10번 반복)"
   ]
  },
  {
   "cell_type": "code",
   "execution_count": 161,
   "metadata": {},
   "outputs": [
    {
     "name": "stdout",
     "output_type": "stream",
     "text": [
      "[[59, 154], [44, 169]]\n"
     ]
    },
    {
     "data": {
      "image/png": "[encoded data removed]",
      "text/plain": [
       "<Figure size 432x288 with 1 Axes>"
      ]
     },
     "metadata": {
      "needs_background": "light"
     },
     "output_type": "display_data"
    }
   ],
   "source": [
    "# 전체코드\n",
    "import numpy as np # ndarray 생성\n",
    "\n",
    "import matplotlib.pyplot as plt\n",
    "%matplotlib inline\n",
    "\n",
    "import random # 랜덤 함수 사용을 위한 절차\n",
    "data = []\n",
    "\n",
    "def distance(x,y): # 영역을 나누기 위해 두 점 사이의 거리를 구하는 함수\n",
    "    return np.sqrt(pow((x[0]-y[0]),2)+pow((x[1]-y[1]),2))\n",
    "\n",
    "for i in range(50): # 하위 내용을 i 값이 1씩 증가하면서 50번 반복\n",
    "    data.append([random.randint(40, 70), random.randint(140, 180)])\n",
    "    # [ 몸무게 40 ~ 70 까지 , 키 140 ~ 180 까지 ] data에 추가\n",
    "    data.append([random.randint(80, 90), random.randint(180, 200)])\n",
    "    # [ 몸무게 80 ~ 90 까지 , 키 180 ~ 200 까지 ] data에 추가\n",
    "    \n",
    "random_points = [[random.randint(40,90), random.randint(140,200)], [random.randint(40,90), random.randint(140,200)]]\n",
    "# 초기 랜덤 값 2개\n",
    "\n",
    "for j in range(10): # 10번 반복\n",
    "    \n",
    "    r = [] # 두 영역을 나눌 빈 리스트 생성\n",
    "    b = []\n",
    "    \n",
    "    for i in data: # 각 랜덤 점과 모든 점들의 거리를 구해 가까운 쪽의 영역으로 추가\n",
    "        if (distance(i,random_points[0]) > distance(i,random_points[1])):\n",
    "            b.append(i)\n",
    "        else:\n",
    "            r.append(i)\n",
    "\n",
    "    # 각 랜덤 점을 각 영역의 중앙에 위치하게 하기 위해 아래를 진행\n",
    "    sum1 = 0 # 값들을 합쳐놓기 위한 변수 선언\n",
    "    sum2 = 0\n",
    "    for i in r: # 빨간 영역의 평균 값을 구하기 위하여 전부 합한 후 합한 개수로 나눠 new_points에 저장\n",
    "        sum1 += i[0]\n",
    "        sum2 += i[1]\n",
    "    new_points = []\n",
    "    new_points.append([sum1/len(r), sum2/len(r)])\n",
    "\n",
    "    sum1 = 0 # 값들을 합쳐놓기 위한 변수 선언\n",
    "    sum2 = 0\n",
    "    for i in b:# 파란 영역의 평균 값을 구하기 위하여 전부 합한 후 합한 개수로 나눠 new_points에 저장\n",
    "        sum1 += i[0]\n",
    "        sum2 += i[1]\n",
    "    new_points.append([sum1/len(b), sum2/len(b)])\n",
    "    \n",
    "    random_points = new_points # random_points에 new_points를 저장한다면 다시 반복할 때 새로운 랜덤 점이 된다.\n",
    "\n",
    "# 반복문이 끝난 후 가장 마지막의 new_points를 출력하면 마지막 나눠진 영역의 중심점이 된다.    \n",
    "plt.plot(new_points[0][0], new_points[0][1], 'rx') \n",
    "plt.plot(new_points[1][0], new_points[1][1], 'bx')\n",
    "\n",
    "# 반복문이 끝난 후 마지막으로 나눠진 영역을 출력하겠다.\n",
    "for i in r:\n",
    "    plt.plot(i[0], i[1], 'yo')\n",
    "for i in b:\n",
    "    plt.plot(i[0], i[1], 'go')"
   ]
  },
  {
   "cell_type": "code",
   "execution_count": null,
   "metadata": {},
   "outputs": [],
   "source": []
  }
 ],
 "metadata": {
  "kernelspec": {
   "display_name": "Python 3",
   "language": "python",
   "name": "python3"
  },
  "language_info": {
   "codemirror_mode": {
    "name": "ipython",
    "version": 3
   },
   "file_extension": ".py",
   "mimetype": "text/x-python",
   "name": "python",
   "nbconvert_exporter": "python",
   "pygments_lexer": "ipython3",
   "version": "3.7.3"
  }
 },
 "nbformat": 4,
 "nbformat_minor": 2
}
