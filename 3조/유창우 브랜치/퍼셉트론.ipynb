{
 "cells": [
  {
   "cell_type": "markdown",
   "metadata": {},
   "source": [
    "# 퍼셉트론 "
   ]
  },
  {
   "cell_type": "code",
   "execution_count": 1,
   "metadata": {
    "scrolled": true
   },
   "outputs": [
    {
     "name": "stdout",
     "output_type": "stream",
     "text": [
      "AND\n",
      "(0, 0) -> 0\n",
      "(1, 0) -> 0\n",
      "(0, 1) -> 0\n",
      "(1, 1) -> 1\n",
      "\n",
      "OR\n",
      "(0, 0) -> 0\n",
      "(1, 0) -> 1\n",
      "(0, 1) -> 1\n",
      "(1, 1) -> 1\n",
      "\n",
      "NAND\n",
      "(0, 0) -> 1\n",
      "(1, 0) -> 1\n",
      "(0, 1) -> 1\n",
      "(1, 1) -> 0\n"
     ]
    }
   ],
   "source": [
    "# 논리회로 And , OR , NANE\n",
    "\n",
    "#  w1 * x1 + w2 * x2 + b > 0  흐른다. \n",
    "#  w1 * x1 + w2 * x2 + b <= 0  흐르지 않는다. \n",
    "\n",
    "import numpy as np\n",
    "\n",
    "\n",
    "def AND(x1, x2):\n",
    "    x = np.array([x1,x2])\n",
    "    w = np.array([1,1])\n",
    "    b = -1\n",
    "    \n",
    "    tmp = np.sum(w*x) + b\n",
    "    if tmp <= 0 :\n",
    "        return 0 #흐르지 않는다.\n",
    "    else:\n",
    "        return 1 # 흐른다.\n",
    "    \n",
    "    \n",
    "def OR(x1, x2):\n",
    "    x = np.array([x1,x2])\n",
    "    w = np.array([1,1])\n",
    "    b = 0\n",
    "    \n",
    "    tmp = np.sum(w*x) + b\n",
    "    if tmp <= 0 :\n",
    "        return 0 #흐르지 않는다.\n",
    "    else:\n",
    "        return 1 # 흐른다.\n",
    "    \n",
    "def NAND(x1, x2):\n",
    "    x = np.array([x1,x2])\n",
    "    w = np.array([-0.5,-0.5])\n",
    "    b = 1\n",
    "    \n",
    "    tmp = np.sum(w*x) + b\n",
    "    if tmp <= 0 :\n",
    "        return 0 #흐르지 않는다.\n",
    "    else:\n",
    "        return 1 # 흐른다.\n",
    "\n",
    "print(\"AND\")\n",
    "for i in [(0,0),(1,0),(0,1),(1,1)]:\n",
    "    y  = AND(i[0],i[1])\n",
    "    print(str(i) + \" -> \" + str(y))\n",
    "print()\n",
    "print(\"OR\")\n",
    "for i in [(0,0),(1,0),(0,1),(1,1)]:\n",
    "    y  = OR(i[0],i[1])\n",
    "    print(str(i) + \" -> \" + str(y))\n",
    "print()\n",
    "print(\"NAND\")\n",
    "for i in [(0,0),(1,0),(0,1),(1,1)]:\n",
    "    y  = NAND(i[0],i[1])\n",
    "    print(str(i) + \" -> \" + str(y))"
   ]
  },
  {
   "cell_type": "code",
   "execution_count": 22,
   "metadata": {},
   "outputs": [
    {
     "name": "stdout",
     "output_type": "stream",
     "text": [
      "epoch :  67\n",
      "w1 :  0.7261787366602491\n",
      "w2 :  0.890829262515672\n",
      "b :  -1.3160337637711852\n"
     ]
    }
   ],
   "source": [
    "data = [(0,0,0),(1,0,0),(0,1,0),(1,1,1)]\n",
    "\n",
    "w1 = 0\n",
    "w2 = 0\n",
    "b  = 0\n",
    "cnt = 0\n",
    "epoch = 0\n",
    "\n",
    "def model(x1, x2):\n",
    "    x = np.array([x1,x2])\n",
    "    w = np.array([w1,w2])\n",
    "        \n",
    "    tmp = np.sum(w*x) + b\n",
    "    if tmp <= 0 :\n",
    "        return 0 #흐르지 않는다.\n",
    "    else:\n",
    "        return 1 # 흐른다.\n",
    "\n",
    "while(1):\n",
    "    epoch +=1\n",
    "    cnt = 0\n",
    "    w1 = np.random.normal()\n",
    "    w2 = np.random.normal()\n",
    "    b  = np.random.normal()\n",
    "    \n",
    "    for i in data:\n",
    "        if (i[2] != model(i[0],i[1])):\n",
    "#             print(\"실패!\")\n",
    "            break\n",
    "        else:\n",
    "            cnt += 1\n",
    "    \n",
    "    \n",
    "    if cnt == 4:\n",
    "        print(\"epoch : \", epoch)\n",
    "        print(\"w1 : \", w1)\n",
    "        print(\"w2 : \", w2)\n",
    "        print(\"b : \", b)\n",
    "        break\n",
    "    "
   ]
  },
  {
   "cell_type": "code",
   "execution_count": 2,
   "metadata": {},
   "outputs": [
    {
     "name": "stdout",
     "output_type": "stream",
     "text": [
      "epoch :  5\n",
      "w1 :  1.8153609315759593\n",
      "w2 :  1.5321751245482118\n",
      "b :  -0.9131574792911774\n"
     ]
    }
   ],
   "source": [
    "data = [(0,0,0),(1,0,1),(0,1,1),(1,1,1)]\n",
    "\n",
    "w1 = 0\n",
    "w2 = 0\n",
    "b  = 0\n",
    "cnt = 0\n",
    "epoch = 0\n",
    "\n",
    "def model(x1, x2):\n",
    "    x = np.array([x1,x2])\n",
    "    w = np.array([w1,w2])\n",
    "        \n",
    "    tmp = np.sum(w*x) + b\n",
    "    if tmp <= 0 :\n",
    "        return 0 #흐르지 않는다.\n",
    "    else:\n",
    "        return 1 # 흐른다.\n",
    "\n",
    "while(1):\n",
    "    epoch +=1\n",
    "    cnt = 0\n",
    "    w1 = np.random.normal()\n",
    "    w2 = np.random.normal()\n",
    "    b  = np.random.normal()\n",
    "    \n",
    "    for i in data:\n",
    "        if (i[2] != model(i[0],i[1])):\n",
    "#             print(\"실패!\")\n",
    "            break\n",
    "        else:\n",
    "            cnt += 1\n",
    "    \n",
    "    \n",
    "    if cnt == 4:\n",
    "        print(\"epoch : \", epoch)\n",
    "        print(\"w1 : \", w1)\n",
    "        print(\"w2 : \", w2)\n",
    "        print(\"b : \", b)\n",
    "        break\n",
    "    "
   ]
  },
  {
   "cell_type": "code",
   "execution_count": 3,
   "metadata": {},
   "outputs": [
    {
     "name": "stdout",
     "output_type": "stream",
     "text": [
      "epoch :  87\n",
      "w1 :  -0.9606607047722435\n",
      "w2 :  -0.5377507963364093\n",
      "b :  1.1069931507446982\n"
     ]
    }
   ],
   "source": [
    "data = [(0,0,1),(1,0,1),(0,1,1),(1,1,0)]\n",
    "\n",
    "w1 = 0\n",
    "w2 = 0\n",
    "b  = 0\n",
    "cnt = 0\n",
    "epoch = 0\n",
    "\n",
    "def model(x1, x2):\n",
    "    x = np.array([x1,x2])\n",
    "    w = np.array([w1,w2])\n",
    "        \n",
    "    tmp = np.sum(w*x) + b\n",
    "    if tmp <= 0 :\n",
    "        return 0 #흐르지 않는다.\n",
    "    else:\n",
    "        return 1 # 흐른다.\n",
    "\n",
    "while(1):\n",
    "    epoch +=1\n",
    "    cnt = 0\n",
    "    w1 = np.random.normal()\n",
    "    w2 = np.random.normal()\n",
    "    b  = np.random.normal()\n",
    "    \n",
    "    for i in data:\n",
    "        if (i[2] != model(i[0],i[1])):\n",
    "#             print(\"실패!\")\n",
    "            break\n",
    "        else:\n",
    "            cnt += 1\n",
    "    \n",
    "    \n",
    "    if cnt == 4:\n",
    "        print(\"epoch : \", epoch)\n",
    "        print(\"w1 : \", w1)\n",
    "        print(\"w2 : \", w2)\n",
    "        print(\"b : \", b)\n",
    "        break\n",
    "    "
   ]
  },
  {
   "cell_type": "code",
   "execution_count": null,
   "metadata": {},
   "outputs": [],
   "source": []
  }
 ],
 "metadata": {
  "kernelspec": {
   "display_name": "Python 3",
   "language": "python",
   "name": "python3"
  },
  "language_info": {
   "codemirror_mode": {
    "name": "ipython",
    "version": 3
   },
   "file_extension": ".py",
   "mimetype": "text/x-python",
   "name": "python",
   "nbconvert_exporter": "python",
   "pygments_lexer": "ipython3",
   "version": "3.7.3"
  }
 },
 "nbformat": 4,
 "nbformat_minor": 2
}
