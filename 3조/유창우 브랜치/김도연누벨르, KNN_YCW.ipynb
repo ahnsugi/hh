{
 "cells": [
  {
   "cell_type": "code",
   "execution_count": 14,
   "metadata": {},
   "outputs": [],
   "source": [
    "temp = \"\"\"<span class=\"ah_k\">김도연 누벨르</span>\"\"\""
   ]
  },
  {
   "cell_type": "code",
   "execution_count": 15,
   "metadata": {},
   "outputs": [
    {
     "name": "stdout",
     "output_type": "stream",
     "text": [
      "<span class=\"ah_k\">김도연 누벨르</span>\n"
     ]
    }
   ],
   "source": [
    "print(temp)"
   ]
  },
  {
   "cell_type": "code",
   "execution_count": 16,
   "metadata": {},
   "outputs": [
    {
     "name": "stdout",
     "output_type": "stream",
     "text": [
      "김도연 누벨르\n"
     ]
    }
   ],
   "source": [
    "print(temp[19:26])"
   ]
  },
  {
   "cell_type": "code",
   "execution_count": 27,
   "metadata": {},
   "outputs": [
    {
     "name": "stdout",
     "output_type": "stream",
     "text": [
      "['<span class=\"ah_k', '김도연 누벨르</span>']\n"
     ]
    }
   ],
   "source": [
    "print(temp.split('\">'))"
   ]
  },
  {
   "cell_type": "code",
   "execution_count": 29,
   "metadata": {},
   "outputs": [
    {
     "name": "stdout",
     "output_type": "stream",
     "text": [
      "김도연 누벨르</span>\n"
     ]
    }
   ],
   "source": [
    "print(temp.split('\">')[1])"
   ]
  },
  {
   "cell_type": "code",
   "execution_count": 32,
   "metadata": {},
   "outputs": [
    {
     "name": "stdout",
     "output_type": "stream",
     "text": [
      "김도연 누벨르</span>\n"
     ]
    }
   ],
   "source": [
    "a = temp.split('k\">')[1]\n",
    "print(a)"
   ]
  },
  {
   "cell_type": "code",
   "execution_count": 34,
   "metadata": {},
   "outputs": [
    {
     "data": {
      "text/plain": [
       "['김도연 누벨르', '']"
      ]
     },
     "execution_count": 34,
     "metadata": {},
     "output_type": "execute_result"
    }
   ],
   "source": [
    "a.split('</span>')"
   ]
  },
  {
   "cell_type": "code",
   "execution_count": 37,
   "metadata": {},
   "outputs": [
    {
     "data": {
      "text/plain": [
       "'김도연 누벨르'"
      ]
     },
     "execution_count": 37,
     "metadata": {},
     "output_type": "execute_result"
    }
   ],
   "source": [
    "a.split('</span>')[0]"
   ]
  },
  {
   "cell_type": "code",
   "execution_count": 12,
   "metadata": {},
   "outputs": [],
   "source": [
    "naver = naver.split('<h3 class=\"blind\">급상승 검색어 검색어</h3>')[1]"
   ]
  },
  {
   "cell_type": "code",
   "execution_count": 13,
   "metadata": {},
   "outputs": [],
   "source": [
    "naver = naver.split('<h3 class=\"ah_ltit\">급상승 검색어</h3>')[0]"
   ]
  },
  {
   "cell_type": "code",
   "execution_count": 1,
   "metadata": {},
   "outputs": [
    {
     "ename": "NameError",
     "evalue": "name 'naver' is not defined",
     "output_type": "error",
     "traceback": [
      "\u001b[1;31m---------------------------------------------------------------------------\u001b[0m",
      "\u001b[1;31mNameError\u001b[0m                                 Traceback (most recent call last)",
      "\u001b[1;32m<ipython-input-1-51f0a4e20b43>\u001b[0m in \u001b[0;36m<module>\u001b[1;34m\u001b[0m\n\u001b[0;32m      1\u001b[0m \u001b[1;32mfor\u001b[0m \u001b[0mi\u001b[0m \u001b[1;32min\u001b[0m \u001b[0mrange\u001b[0m\u001b[1;33m(\u001b[0m\u001b[1;36m1\u001b[0m\u001b[1;33m,\u001b[0m\u001b[1;36m21\u001b[0m\u001b[1;33m)\u001b[0m\u001b[1;33m:\u001b[0m\u001b[1;33m\u001b[0m\u001b[1;33m\u001b[0m\u001b[0m\n\u001b[1;32m----> 2\u001b[1;33m     \u001b[0mprint\u001b[0m\u001b[1;33m(\u001b[0m\u001b[0mi\u001b[0m\u001b[1;33m,\u001b[0m \u001b[1;34m\"위 : \"\u001b[0m\u001b[1;33m,\u001b[0m \u001b[0mnaver\u001b[0m\u001b[1;33m.\u001b[0m\u001b[0msplit\u001b[0m\u001b[1;33m(\u001b[0m\u001b[1;34m'<span class=\"ah_k\">'\u001b[0m\u001b[1;33m)\u001b[0m\u001b[1;33m[\u001b[0m\u001b[0mi\u001b[0m\u001b[1;33m]\u001b[0m\u001b[1;33m.\u001b[0m\u001b[0msplit\u001b[0m\u001b[1;33m(\u001b[0m\u001b[1;34m'</span>'\u001b[0m\u001b[1;33m)\u001b[0m\u001b[1;33m[\u001b[0m\u001b[1;36m0\u001b[0m\u001b[1;33m]\u001b[0m\u001b[1;33m)\u001b[0m\u001b[1;33m\u001b[0m\u001b[1;33m\u001b[0m\u001b[0m\n\u001b[0m",
      "\u001b[1;31mNameError\u001b[0m: name 'naver' is not defined"
     ]
    }
   ],
   "source": [
    "for i in range(1,21):\n",
    "    print(i, \"위 : \", naver.split('<span class=\"ah_k\">')[i].split('</span>')[0])"
   ]
  },
  {
   "cell_type": "markdown",
   "metadata": {},
   "source": [
    "# 4.1 NumPy ndarray : 다차원 배열 객체"
   ]
  },
  {
   "cell_type": "code",
   "execution_count": 2,
   "metadata": {},
   "outputs": [],
   "source": [
    "import numpy as np"
   ]
  },
  {
   "cell_type": "markdown",
   "metadata": {},
   "source": [
    "## 4.1.1 ndarray 생성"
   ]
  },
  {
   "cell_type": "code",
   "execution_count": 11,
   "metadata": {},
   "outputs": [],
   "source": [
    "# 리스트를 다차원 배열 객체로\n",
    "l = [[1,2,3],[4,5,6]]\n",
    "l2 = [[1,2,3],[4,5,6]]\n",
    "n = np.array(l)\n",
    "n2 = np.array(l)"
   ]
  },
  {
   "cell_type": "code",
   "execution_count": 51,
   "metadata": {},
   "outputs": [
    {
     "name": "stdout",
     "output_type": "stream",
     "text": [
      "[[1, 2, 3], [4, 5, 6]]\n",
      "[[1 2 3]\n",
      " [4 5 6]]\n"
     ]
    }
   ],
   "source": [
    "# 리스트와 다차원 배열 객체 print 비교\n",
    "print(l)\n",
    "print(n)"
   ]
  },
  {
   "cell_type": "code",
   "execution_count": 12,
   "metadata": {},
   "outputs": [
    {
     "name": "stdout",
     "output_type": "stream",
     "text": [
      "[[1, 2, 3], [4, 5, 6]]\n",
      "[[1 2 3]\n",
      " [4 5 6]]\n"
     ]
    }
   ],
   "source": [
    "print(l2)\n",
    "print(n2)"
   ]
  },
  {
   "cell_type": "code",
   "execution_count": 15,
   "metadata": {},
   "outputs": [
    {
     "name": "stdout",
     "output_type": "stream",
     "text": [
      "[[1, 2, 3], [4, 5, 6], [1, 2, 3], [4, 5, 6]]\n",
      "[[ 2  4  6]\n",
      " [ 8 10 12]]\n"
     ]
    }
   ],
   "source": [
    "# 참고 문법 +와 *\n",
    "print(l+l2)\n",
    "print(n+n2)"
   ]
  },
  {
   "cell_type": "code",
   "execution_count": 17,
   "metadata": {},
   "outputs": [
    {
     "name": "stdout",
     "output_type": "stream",
     "text": [
      "[[1, 2, 3], [4, 5, 6], [1, 2, 3], [4, 5, 6]]\n",
      "[[ 2  4  6]\n",
      " [ 8 10 12]]\n"
     ]
    }
   ],
   "source": [
    "print(l*2)\n",
    "print(n*2)"
   ]
  },
  {
   "cell_type": "code",
   "execution_count": null,
   "metadata": {},
   "outputs": [],
   "source": []
  },
  {
   "cell_type": "markdown",
   "metadata": {},
   "source": [
    "## 실습"
   ]
  },
  {
   "cell_type": "code",
   "execution_count": 111,
   "metadata": {},
   "outputs": [],
   "source": [
    "import random # random을 사용하기 위해\n",
    "import matplotlib.pyplot as plt\n",
    "%matplotlib inline\n",
    "# 그래프를 표현하기 위해"
   ]
  },
  {
   "cell_type": "code",
   "execution_count": 54,
   "metadata": {},
   "outputs": [
    {
     "data": {
      "text/plain": [
       "[<matplotlib.lines.Line2D at 0x290bd7196a0>]"
      ]
     },
     "execution_count": 54,
     "metadata": {},
     "output_type": "execute_result"
    },
    {
     "data": {
      "image/png": "[encoded data removed]",
      "text/plain": [
       "<Figure size 432x288 with 1 Axes>"
      ]
     },
     "metadata": {
      "needs_background": "light"
     },
     "output_type": "display_data"
    }
   ],
   "source": [
    "r = [] # 여자 1\n",
    "b = [] # 남자 0\n",
    "\n",
    "for i in range(50): # 50번 반복\n",
    "    r.append([random.randint(40, 70), random.randint(140, 180), 1]) # [ 40 ~ 70 까지 , 140 ~ 180 까지 , 1 ] r에 추가\n",
    "    b.append([random.randint(60, 90), random.randint(160, 200), 0]) # [ 60 ~ 90 까지 , 160 ~ 200 까지 , 0 ] b에 추가\n",
    "    \n",
    "for i in range(50): # 50번 반복\n",
    "    plt.plot(r[i][0],r[i][1], marker='o', color='red') # r의 i번째의 첫 번째 요소, r의 i 번째 두 번째 요소를 o로 빨간색으로 그래프 표현\n",
    "    plt.plot(b[i][0],b[i][1], marker='o', color='blue') # b의 i번째의 첫 번째 요소, b의 i 번째 두 번째 요소를 o로 파란색으로 그래프 표현\n",
    "    \n",
    "new = [55, 170, 1] # 55kg, 170cm의 여자 -> new\n",
    "plt.plot(new[0],new[1],marker='x',color='black') # new의 첫 번째 요소 : 55kg , new의 두 번째 요소 : 170cm를 x로 검은색으로 그래프 표현"
   ]
  },
  {
   "cell_type": "code",
   "execution_count": 108,
   "metadata": {},
   "outputs": [
    {
     "name": "stdout",
     "output_type": "stream",
     "text": [
      "[57, 174, 1]\n",
      "[60, 153, 1]\n",
      "[69, 163, 1]\n",
      "[62, 163, 1]\n"
     ]
    }
   ],
   "source": [
    "print([random.randint(40, 70), random.randint(140, 180), 1])\n",
    "print([random.randint(40, 70), random.randint(140, 180), 1])\n",
    "print([random.randint(40, 70), random.randint(140, 180), 1])\n",
    "print([random.randint(40, 70), random.randint(140, 180), 1])"
   ]
  },
  {
   "cell_type": "code",
   "execution_count": null,
   "metadata": {},
   "outputs": [],
   "source": []
  },
  {
   "cell_type": "code",
   "execution_count": 114,
   "metadata": {},
   "outputs": [],
   "source": [
    "def distance(x,y):\n",
    "    #두 점 사이의 거리를 구하는 함수\n",
    "    return int(np.sqrt(pow((x[0] - y[0]),2)+pow((x[1] - y[1]),2)))"
   ]
  },
  {
   "cell_type": "code",
   "execution_count": 115,
   "metadata": {},
   "outputs": [],
   "source": [
    "result = []\n",
    "for i in range(50): # 위에서 설정한 new와 r의 요소들을 distance 함수로 거리를 구하고, 0인지 1인지에 대해서도 result에 저장한다.\n",
    "    result.append([distance(new,r[i]),r[i][2]])\n",
    "    result.append([distance(new,b[i]),b[i][2]])"
   ]
  },
  {
   "cell_type": "code",
   "execution_count": 116,
   "metadata": {},
   "outputs": [
    {
     "name": "stdout",
     "output_type": "stream",
     "text": [
      "[[5, 1], [30, 0], [14, 1], [43, 0], [27, 1], [29, 0], [20, 1], [38, 0], [13, 1], [35, 0], [3, 1], [40, 0], [22, 1], [41, 0], [17, 1], [31, 0], [10, 1], [57, 0], [13, 1], [48, 0], [20, 1], [33, 0], [27, 1], [50, 0], [7, 1], [46, 0], [26, 1], [50, 0], [16, 1], [49, 0], [15, 1], [40, 0], [9, 1], [36, 0], [8, 1], [55, 0], [16, 1], [46, 0], [10, 1], [52, 0], [12, 1], [17, 0], [16, 1], [41, 0], [17, 1], [34, 0], [7, 1], [47, 0], [19, 1], [45, 0], [7, 1], [50, 0], [31, 1], [47, 0], [30, 1], [35, 0], [7, 1], [41, 0], [12, 1], [47, 0], [12, 1], [32, 0], [8, 1], [40, 0], [4, 1], [16, 0], [12, 1], [56, 0], [11, 1], [38, 0], [8, 1], [36, 0], [18, 1], [26, 0], [16, 1], [26, 0], [20, 1], [39, 0], [22, 1], [42, 0], [26, 1], [29, 0], [26, 1], [35, 0], [14, 1], [33, 0], [25, 1], [43, 0], [20, 1], [35, 0], [10, 1], [44, 0], [10, 1], [47, 0], [28, 1], [39, 0], [17, 1], [34, 0], [30, 1], [31, 0]]\n"
     ]
    }
   ],
   "source": [
    "print(result) # result를 출력해보면 다음과 같다."
   ]
  },
  {
   "cell_type": "code",
   "execution_count": 117,
   "metadata": {},
   "outputs": [
    {
     "name": "stdout",
     "output_type": "stream",
     "text": [
      "[[3, 1], [4, 1], [5, 1], [7, 1], [7, 1], [7, 1], [7, 1], [8, 1], [8, 1], [8, 1], [9, 1], [10, 1], [10, 1], [10, 1], [10, 1], [11, 1], [12, 1], [12, 1], [12, 1], [12, 1], [13, 1], [13, 1], [14, 1], [14, 1], [15, 1], [16, 0], [16, 1], [16, 1], [16, 1], [16, 1], [17, 0], [17, 1], [17, 1], [17, 1], [18, 1], [19, 1], [20, 1], [20, 1], [20, 1], [20, 1], [22, 1], [22, 1], [25, 1], [26, 0], [26, 0], [26, 1], [26, 1], [26, 1], [27, 1], [27, 1], [28, 1], [29, 0], [29, 0], [30, 0], [30, 1], [30, 1], [31, 0], [31, 0], [31, 1], [32, 0], [33, 0], [33, 0], [34, 0], [34, 0], [35, 0], [35, 0], [35, 0], [35, 0], [36, 0], [36, 0], [38, 0], [38, 0], [39, 0], [39, 0], [40, 0], [40, 0], [40, 0], [41, 0], [41, 0], [41, 0], [42, 0], [43, 0], [43, 0], [44, 0], [45, 0], [46, 0], [46, 0], [47, 0], [47, 0], [47, 0], [47, 0], [48, 0], [49, 0], [50, 0], [50, 0], [50, 0], [52, 0], [55, 0], [56, 0], [57, 0]]\n"
     ]
    }
   ],
   "source": [
    "result.sort() # result를 정렬하여 출력해보자.\n",
    "print(result)"
   ]
  },
  {
   "cell_type": "code",
   "execution_count": null,
   "metadata": {},
   "outputs": [],
   "source": []
  },
  {
   "cell_type": "markdown",
   "metadata": {},
   "source": [
    "# KNN Test\n",
    "## 키를 입력해주세요.\n",
    "## 몸무게를 입력해주세요.\n",
    "## K의 개수를 입력해주세요.\n",
    "\n",
    "## 당신은 남자 혹은 여자입니다."
   ]
  },
  {
   "cell_type": "code",
   "execution_count": 85,
   "metadata": {},
   "outputs": [
    {
     "name": "stdout",
     "output_type": "stream",
     "text": [
      "키를 입력해주세요\n",
      "188\n",
      "몸무게를 입력해주세요\n",
      "85\n",
      "188 85\n",
      "K의 개수를 입력해주세요\n",
      "7\n",
      "당신은 남자입니다.\n"
     ]
    },
    {
     "data": {
      "image/png": "[encoded data removed]",
      "text/plain": [
       "<Figure size 432x288 with 1 Axes>"
      ]
     },
     "metadata": {
      "needs_background": "light"
     },
     "output_type": "display_data"
    }
   ],
   "source": [
    "import random\n",
    "import matplotlib.pyplot as plt\n",
    "%matplotlib inline\n",
    "\n",
    "def distance(x,y):\n",
    "    #두 점 사이의 거리를 구하는 함수\n",
    "    return int(np.sqrt(pow((x[0] - y[0]),2)+pow((x[1] - y[1]),2)))\n",
    "\n",
    "r = [] # 여자 1\n",
    "b = [] # 남자 0\n",
    "count1 = 0\n",
    "count2 = 0\n",
    "\n",
    "for i in range(50):\n",
    "    r.append([random.randint(40, 70), random.randint(140, 180), 1])\n",
    "    b.append([random.randint(60, 90), random.randint(160, 200), 0])\n",
    "    \n",
    "for i in range(50):\n",
    "    plt.plot(r[i][0],r[i][1], marker='o', color='red')\n",
    "    plt.plot(b[i][0],b[i][1], marker='o', color='blue')\n",
    "    \n",
    "print(\"키를 입력해주세요\")\n",
    "height = int(input())\n",
    "print(\"몸무게를 입력해주세요\")\n",
    "weight = int(input())\n",
    "print(height,weight)\n",
    "\n",
    "result = []\n",
    "for i in range(50):\n",
    "    result.append([distance(new,r[i]),r[i][2]])\n",
    "    result.append([distance(new,b[i]),b[i][2]])\n",
    "    \n",
    "result.sort()\n",
    "\n",
    "print(\"K의 개수를 입력해주세요\")\n",
    "value_k = int(input())\n",
    "\n",
    "for i in range(value_k):\n",
    "    if result[i][1] == 0:\n",
    "        count1+=1\n",
    "    else:\n",
    "        if result[i][1] == 1:\n",
    "            count2+=1\n",
    "\n",
    "if count1 > count2:\n",
    "    new = [weight, height, 0] # 남자\n",
    "    plt.plot(new[0],new[1],marker='x',color='black')\n",
    "    print(\"당신은 남자입니다.\")\n",
    "else:\n",
    "    if count2 > count1:\n",
    "        new = [weight, height, 1] # 여자\n",
    "        plt.plot(new[0],new[1],marker='x',color='black')\n",
    "        print(\"당신은 여자입니다.\")        "
   ]
  },
  {
   "cell_type": "code",
   "execution_count": 102,
   "metadata": {},
   "outputs": [],
   "source": [
    "import random\n",
    "r = [] # 여자 1\n",
    "b = [] # 남자 0\n",
    "\n",
    "for i in range(50):\n",
    "    r.append([random.randint(40,70),random.randint(140, 180), 1])\n",
    "    b.append([random.randint(60,90),random.randint(160, 200), 0])\n",
    "\n",
    "def distance(x,y):\n",
    "    # 두점 사이의 거리를 구하는 함수\n",
    "    return np.sqrt(pow((x[0]-y[0]),2)+pow((x[1]-y[1]),2))\n",
    "\n",
    "def knn(x,y,k):\n",
    "    result=[]\n",
    "    cnt=0\n",
    "    for i in range(len(y)):\n",
    "        result.append([distance(x,y[i]),y[i][2]])\n",
    "    result.sort()\n",
    "    for i in range(k):\n",
    "        if (result[i][1] == 1):\n",
    "            cnt +=1\n",
    "    if (cnt > (k/2)):\n",
    "        print(\"당신은 여자입니다.\")\n",
    "    else:\n",
    "        print(\"당신은 남자입니다.\")"
   ]
  },
  {
   "cell_type": "code",
   "execution_count": 103,
   "metadata": {},
   "outputs": [
    {
     "name": "stdout",
     "output_type": "stream",
     "text": [
      "몸무게를 입력해주세요 : 50\n"
     ]
    }
   ],
   "source": [
    "weight = input(\"몸무게를 입력해주세요 : \")"
   ]
  },
  {
   "cell_type": "code",
   "execution_count": 104,
   "metadata": {},
   "outputs": [
    {
     "name": "stdout",
     "output_type": "stream",
     "text": [
      "키를 입력해주세요 : 150\n"
     ]
    }
   ],
   "source": [
    "height = input(\"키를 입력해주세요 : \")"
   ]
  },
  {
   "cell_type": "code",
   "execution_count": 105,
   "metadata": {},
   "outputs": [
    {
     "name": "stdout",
     "output_type": "stream",
     "text": [
      "K를 입력해주세요 : 3\n"
     ]
    }
   ],
   "source": [
    "num = input(\"K를 입력해주세요 : \")"
   ]
  },
  {
   "cell_type": "code",
   "execution_count": 106,
   "metadata": {},
   "outputs": [],
   "source": [
    "new = int(weight), int(height)"
   ]
  },
  {
   "cell_type": "code",
   "execution_count": 107,
   "metadata": {},
   "outputs": [
    {
     "name": "stdout",
     "output_type": "stream",
     "text": [
      "당신은 여자입니다.\n"
     ]
    }
   ],
   "source": [
    "knn(new,r+b,int(num))"
   ]
  },
  {
   "cell_type": "code",
   "execution_count": null,
   "metadata": {},
   "outputs": [],
   "source": []
  }
 ],
 "metadata": {
  "kernelspec": {
   "display_name": "Python 3",
   "language": "python",
   "name": "python3"
  },
  "language_info": {
   "codemirror_mode": {
    "name": "ipython",
    "version": 3
   },
   "file_extension": ".py",
   "mimetype": "text/x-python",
   "name": "python",
   "nbconvert_exporter": "python",
   "pygments_lexer": "ipython3",
   "version": "3.7.3"
  }
 },
 "nbformat": 4,
 "nbformat_minor": 2
}
