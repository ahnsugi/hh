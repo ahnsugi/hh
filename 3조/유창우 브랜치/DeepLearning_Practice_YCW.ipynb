{
 "cells": [
  {
   "cell_type": "markdown",
   "metadata": {},
   "source": [
    "# 과제 : and게이트 만들기\n",
    "## 입력 : x1\tx2\t출력 : y\n",
    "##            0    0              0\n",
    "##            0    1 \t          0\n",
    "##            1    0  \t          0\n",
    "##            1    1\t          1"
   ]
  },
  {
   "cell_type": "code",
   "execution_count": 9,
   "metadata": {},
   "outputs": [
    {
     "name": "stdout",
     "output_type": "stream",
     "text": [
      "!!!!!!!!!! AND GATE !!!!!!!!!!\n",
      "\n",
      "(0, 0) -> 0\n",
      "(1, 0) -> 0\n",
      "(0, 1) -> 0\n",
      "(1, 1) -> 1\n"
     ]
    }
   ],
   "source": [
    "import numpy as np                              # np를 쓰겠다.\n",
    "\n",
    "def AND(x1, x2):                                # 아래에서 i[0]과 i[1]을 가져옴\n",
    "    x = np.array([x1, x2])                      # 배열에 x1, x2를 x(입력값)으로\n",
    "    w = np.array([1, 1])                        # 배열에 1, 1을 w(가중치)로\n",
    "    b = -1                                      # b에 -1을\n",
    "    tmp = np.sum(w*x) + b                       # tmp에 w1*x1 + w2*x2 + b\n",
    "    if tmp <= 0:                                # tmp <= 0 이면\n",
    "        return 0                                # 0 반환 -> 흐르지 않는다.\n",
    "    else:                                       # 그렇지 않으면\n",
    "        return 1                                # 1 반환 -> 흐른다.\n",
    "    \n",
    "print (\"!!!!!!!!!! AND GATE !!!!!!!!!!\")        # 출력\n",
    "print()                                         # 한칸띄고\n",
    "for i in [(0, 0), (1, 0), (0, 1), (1, 1)]:      # 반복 00 , 10 , 01 , 11 만큼\n",
    "    y = AND(i[0], i[1])                         # ()안의 첫번째와 두번째를 AND 함수로\n",
    "    print(str(i) + \" -> \" + str(y))             # 문자열 i + -> 문자열 y 출력"
   ]
  },
  {
   "cell_type": "code",
   "execution_count": null,
   "metadata": {},
   "outputs": [],
   "source": []
  },
  {
   "cell_type": "markdown",
   "metadata": {},
   "source": [
    "# 과제 : OR게이트 만들기\n",
    "## 입력 : x1\tx2\t출력 : y\n",
    "##            0    0              0\n",
    "##            0    1 \t          1\n",
    "##            1    0  \t          1\n",
    "##            1    1\t          1"
   ]
  },
  {
   "cell_type": "code",
   "execution_count": 10,
   "metadata": {},
   "outputs": [
    {
     "name": "stdout",
     "output_type": "stream",
     "text": [
      "!!!!!!!!!! OR GATE !!!!!!!!!!\n",
      "\n",
      "(0, 0) -> 0\n",
      "(1, 0) -> 1\n",
      "(0, 1) -> 1\n",
      "(1, 1) -> 1\n"
     ]
    }
   ],
   "source": [
    "import numpy as np                              # np를 쓰겠다.\n",
    "\n",
    "def OR(x1, x2):                                 # 아래에서 i[0]과 i[1]을 가져옴\n",
    "    x = np.array([x1, x2])                      # 배열에 x1, x2를 x(입력값)으로\n",
    "    w = np.array([1, 1])                        # 배열에 1, 1을 w(가중치)로\n",
    "    b = 0                                       # b에 0을\n",
    "    tmp = np.sum(w*x) + b                       # tmp에 w1*x1 + w2*x2 + b\n",
    "    if tmp <= 0:                                # tmp <= 0 이면\n",
    "        return 0                                # 0 반환 -> 흐르지 않는다.\n",
    "    else:                                       # 그렇지 않으면\n",
    "        return 1                                # 1 반환 -> 흐른다.\n",
    "    \n",
    "print (\"!!!!!!!!!! OR GATE !!!!!!!!!!\")        # 출력\n",
    "print()                                         # 한칸띄고\n",
    "for i in [(0, 0), (1, 0), (0, 1), (1, 1)]:      # 반복 00 , 10 , 01 , 11 만큼\n",
    "    y = OR(i[0], i[1])                          # ()안의 첫번째와 두번째를 AND 함수로\n",
    "    print(str(i) + \" -> \" + str(y))             # 문자열 i + -> 문자열 y 출력"
   ]
  },
  {
   "cell_type": "code",
   "execution_count": null,
   "metadata": {},
   "outputs": [],
   "source": []
  },
  {
   "cell_type": "markdown",
   "metadata": {},
   "source": [
    "# 과제 : NAND게이트 만들기\n",
    "## 입력 : x1\tx2\t출력 : y\n",
    "##            0    0              1\n",
    "##            0    1 \t          1\n",
    "##            1    0  \t          1\n",
    "##            1    1\t          0"
   ]
  },
  {
   "cell_type": "code",
   "execution_count": 14,
   "metadata": {},
   "outputs": [
    {
     "name": "stdout",
     "output_type": "stream",
     "text": [
      "!!!!!!!!!! NAND GATE !!!!!!!!!!\n",
      "\n",
      "(0, 0) -> 1\n",
      "(1, 0) -> 1\n",
      "(0, 1) -> 1\n",
      "(1, 1) -> 0\n"
     ]
    }
   ],
   "source": [
    "import numpy as np                              # np를 쓰겠다.\n",
    "\n",
    "def NAND(x1, x2):                               # 아래에서 i[0]과 i[1]을 가져옴\n",
    "    x = np.array([x1, x2])                      # 배열에 x1, x2를 x(입력값)으로\n",
    "    w = np.array([-0.5, -0.5])                  # 배열에 1, 1을 w(가중치)로\n",
    "    b = 1                                       # b에 0을\n",
    "    tmp = np.sum(w*x) + b                       # tmp에 w1*x1 + w2*x2 + b\n",
    "    if tmp <= 0:                                # tmp <= 0 이면\n",
    "        return 0                                # 0 반환 -> 흐르지 않는다.\n",
    "    else:                                       # 그렇지 않으면\n",
    "        return 1                                # 1 반환 -> 흐른다.\n",
    "    \n",
    "print (\"!!!!!!!!!! NAND GATE !!!!!!!!!!\")       # 출력\n",
    "print()                                         # 한칸띄고\n",
    "for i in [(0, 0), (1, 0), (0, 1), (1, 1)]:      # 반복 00 , 10 , 01 , 11 만큼\n",
    "    y = NAND(i[0], i[1])                        # ()안의 첫번째와 두번째를 AND 함수로\n",
    "    print(str(i) + \" -> \" + str(y))             # 문자열 i + -> 문자열 y 출력"
   ]
  },
  {
   "cell_type": "code",
   "execution_count": null,
   "metadata": {},
   "outputs": [],
   "source": []
  }
 ],
 "metadata": {
  "kernelspec": {
   "display_name": "Python 3",
   "language": "python",
   "name": "python3"
  },
  "language_info": {
   "codemirror_mode": {
    "name": "ipython",
    "version": 3
   },
   "file_extension": ".py",
   "mimetype": "text/x-python",
   "name": "python",
   "nbconvert_exporter": "python",
   "pygments_lexer": "ipython3",
   "version": "3.7.3"
  }
 },
 "nbformat": 4,
 "nbformat_minor": 2
}
