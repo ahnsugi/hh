{
 "cells": [
  {
   "cell_type": "markdown",
   "metadata": {},
   "source": [
    "# -*- coding: utf-8 -*-\n",
    "# 2019년 08월 22일 \n",
    "\n",
    "\n",
    "## 과제\n",
    "\n",
    "## KNN 알고리즘을 사용해서 남자/여자 분류하기 \n",
    "\n",
    "### 조건 \n",
    "\n",
    "1. 특성은 최소 네 개 이상 -> 키, 몸무게 등등등\n",
    "\n",
    "2. 최종 결과물은 k가 3, 5, 7, 9, 11 개 일 때 각각 랜덤한 사람 3명의 결과 \n",
    "\n",
    "3. 각 조마다 각자 branch에서 작업하고, 최종 결과물은 팀원 중 한명이 master의 각 조 파일에 업로드"
   ]
  },
  {
   "cell_type": "code",
   "execution_count": null,
   "metadata": {},
   "outputs": [],
   "source": [
    "#키, 몸무게, 발사이즈, 머리길이 입력받기\n",
    "import numpy as np\n",
    "\n",
    "def distance(x,y):\n",
    "# 두 점 사이의 거리를 구하는 함수\n",
    "    return np.sqrt(pow((x[0]-y[0]),2)+pow((x[1]-y[1]),2)+pow((x[2]-y[2]),2)+pow((x[3]-y[3]),2))\n",
    "\n",
    "def knn(x,y,k):\n",
    "# knn 함수\n",
    "    result=[]\n",
    "    cnt = 0\n",
    "    for i in range(len(y)):\n",
    "        result.append([distance(x,y[i]),y[i][4]])\n",
    "    result.sort()\n",
    "    for i in range(k):\n",
    "        if (result[i][1]==1):\n",
    "            cnt+=1\n",
    "    if (cnt>(k/2)):\n",
    "        print(k)\n",
    "        print('당신은 여자입니다.')\n",
    "    else:\n",
    "        print(k)\n",
    "        print('당신은 남자입니다.')\n",
    "\n",
    "r = [] # 여자 1\n",
    "b = [] # 남자 0\n",
    "\n",
    "import random\n",
    "for i in range(50):\n",
    "    r.append([random.randint(140,180),random.randint(40,70), random.randint(20,30), random.randint(200,260), 1])\n",
    "    b.append([random.randint(160,200),random.randint(60,90),random.randint(30,40), random.randint(240,300), 0])\n",
    "\n",
    "cnt = 0\n",
    "while (cnt<3):\n",
    "    cnt += 1\n",
    "    print('키를 입력해주세요(cm): ')\n",
    "    height=input()\n",
    "    print('몸무게를 입력해주세요(kg): ')\n",
    "    weight=input()\n",
    "    print('허리 둘레를 입력해주세요(inch): ')\n",
    "    waist=input()\n",
    "    print('발 사이즈를 입력해주세요(mm): ')\n",
    "    foot=input()\n",
    "    #print('k의 갯수를 입력해주세요: ')\n",
    "    #k=input()\n",
    "\n",
    "    new=[int(height),int(weight), int(waist), int(foot)]\n",
    "    \n",
    "    for i in (3,5,7,9,11):\n",
    "        knn(new,r+b,i)"
   ]
  },
  {
   "cell_type": "code",
   "execution_count": null,
   "metadata": {},
   "outputs": [],
   "source": []
  }
 ],
 "metadata": {
  "kernelspec": {
   "display_name": "Python 3",
   "language": "python",
   "name": "python3"
  },
  "language_info": {
   "codemirror_mode": {
    "name": "ipython",
    "version": 3
   },
   "file_extension": ".py",
   "mimetype": "text/x-python",
   "name": "python",
   "nbconvert_exporter": "python",
   "pygments_lexer": "ipython3",
   "version": "3.7.3"
  }
 },
 "nbformat": 4,
 "nbformat_minor": 2
}
