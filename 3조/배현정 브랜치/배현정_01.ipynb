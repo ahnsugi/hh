{
 "cells": [
  {
   "cell_type": "markdown",
   "metadata": {},
   "source": [
    "# 0718\n",
    "\n",
    "## Indexing & Slicing"
   ]
  },
  {
   "cell_type": "code",
   "execution_count": 2,
   "metadata": {},
   "outputs": [
    {
     "name": "stdout",
     "output_type": "stream",
     "text": [
      "This is String\n",
      "<class 'str'>\n",
      "T\n",
      "This \n"
     ]
    }
   ],
   "source": [
    "a = \"This is String\"\n",
    "print(a)\n",
    "print(type(a))\n",
    "print(a[0])\n",
    "print(a[0:5])"
   ]
  },
  {
   "cell_type": "code",
   "execution_count": 5,
   "metadata": {},
   "outputs": [
    {
     "name": "stdout",
     "output_type": "stream",
     "text": [
      "02468\n",
      "0369\n"
     ]
    }
   ],
   "source": [
    "a=\"0123456789\"\n",
    "print(a[::2])\n",
    "print(a[::3])"
   ]
  },
  {
   "cell_type": "code",
   "execution_count": 6,
   "metadata": {},
   "outputs": [
    {
     "name": "stdout",
     "output_type": "stream",
     "text": [
      "['Hello', ' World']\n",
      "Hello,\n",
      "World\n"
     ]
    }
   ],
   "source": [
    "a=\"Hello, World\"\n",
    "print(a.split(','))\n",
    "print(a[0:6])\n",
    "print(a[7:12])"
   ]
  },
  {
   "cell_type": "code",
   "execution_count": 7,
   "metadata": {},
   "outputs": [
    {
     "name": "stdout",
     "output_type": "stream",
     "text": [
      "[1, 2, 3, 4, 5, 6, 8, 9]\n"
     ]
    }
   ],
   "source": [
    "A =[3,5,2,1,6,8,9,4]\n",
    "print(sorted(A))"
   ]
  },
  {
   "cell_type": "code",
   "execution_count": 9,
   "metadata": {},
   "outputs": [
    {
     "name": "stdout",
     "output_type": "stream",
     "text": [
      "[1, 2, 3, 4, 5, 6, 8, 9]\n",
      "[3, 5, 2, 1, 6, 8, 9, 4]\n",
      "[1, 2, 3, 4, 5, 6, 8, 9]\n",
      "None\n"
     ]
    }
   ],
   "source": [
    "a = [3,5,2,1,6,8,9,4]\n",
    "print(sorted(a))\n",
    "print(a)\n",
    "# a를 정렬하여 return하는 내장함수\n",
    "a.sort()\n",
    "print(a)\n",
    "print(a.sort())\n",
    "# a를 정렬"
   ]
  },
  {
   "cell_type": "markdown",
   "metadata": {},
   "source": [
    "# 리스트"
   ]
  },
  {
   "cell_type": "code",
   "execution_count": 10,
   "metadata": {},
   "outputs": [
    {
     "name": "stdout",
     "output_type": "stream",
     "text": [
      "[1, 2, 3, 4]\n",
      "<class 'list'>\n"
     ]
    }
   ],
   "source": [
    "a = [1,2,3,4]\n",
    "print(a)\n",
    "print(type(a))"
   ]
  },
  {
   "cell_type": "markdown",
   "metadata": {},
   "source": [
    "## 리스트의 특징\n",
    "### 1. 대괄호로 선언\n",
    "### 2. 콤마로 구분"
   ]
  },
  {
   "cell_type": "code",
   "execution_count": 11,
   "metadata": {},
   "outputs": [
    {
     "name": "stdout",
     "output_type": "stream",
     "text": [
      "[1, '문자', '문자', 1.2, [1, 2, 3]]\n",
      "<class 'list'>\n"
     ]
    }
   ],
   "source": [
    "b = [1,\"문자\", '문자',1.2,[1,2,3]]\n",
    "print(b)\n",
    "print(type(b))"
   ]
  },
  {
   "cell_type": "markdown",
   "metadata": {},
   "source": [
    "# 튜플"
   ]
  },
  {
   "cell_type": "code",
   "execution_count": 12,
   "metadata": {},
   "outputs": [
    {
     "name": "stdout",
     "output_type": "stream",
     "text": [
      "56\n",
      "56\n",
      "1\n",
      "1\n"
     ]
    }
   ],
   "source": [
    "t = (2,4,56,2,1,5,6,7,2,6)\n",
    "#최대값\n",
    "print(max(t))\n",
    "print(sorted(t)[::-1][0])\n",
    "#최소값\n",
    "print(min(t))\n",
    "print(sorted(t)[::1][0])"
   ]
  },
  {
   "cell_type": "code",
   "execution_count": 13,
   "metadata": {},
   "outputs": [
    {
     "name": "stdout",
     "output_type": "stream",
     "text": [
      "[56, 7, 6, 6, 5, 4, 2, 2, 2, 1]\n"
     ]
    }
   ],
   "source": [
    "#역순정렬\n",
    "print(sorted(t)[::-1])"
   ]
  },
  {
   "cell_type": "code",
   "execution_count": null,
   "metadata": {},
   "outputs": [],
   "source": []
  }
 ],
 "metadata": {
  "kernelspec": {
   "display_name": "Python 3",
   "language": "python",
   "name": "python3"
  },
  "language_info": {
   "codemirror_mode": {
    "name": "ipython",
    "version": 3
   },
   "file_extension": ".py",
   "mimetype": "text/x-python",
   "name": "python",
   "nbconvert_exporter": "python",
   "pygments_lexer": "ipython3",
   "version": "3.7.3"
  }
 },
 "nbformat": 4,
 "nbformat_minor": 2
}
