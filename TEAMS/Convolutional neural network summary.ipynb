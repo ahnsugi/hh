{
 "cells": [
  {
   "cell_type": "markdown",
   "metadata": {},
   "source": [
    "## 필터로 특징을 뽑아주는 컨볼루션 레이어\n",
    "이미지와 영상에 특화되었다.\n",
    "cnn은 컴퓨터가 알아서 특징을 찾아준다."
   ]
  },
  {
   "cell_type": "code",
   "execution_count": 1,
   "metadata": {},
   "outputs": [
    {
     "ename": "NameError",
     "evalue": "name 'Conv2D' is not defined",
     "output_type": "error",
     "traceback": [
      "\u001b[1;31m---------------------------------------------------------------------------\u001b[0m",
      "\u001b[1;31mNameError\u001b[0m                                 Traceback (most recent call last)",
      "\u001b[1;32m<ipython-input-1-21c4377c3081>\u001b[0m in \u001b[0;36m<module>\u001b[1;34m\u001b[0m\n\u001b[1;32m----> 1\u001b[1;33m \u001b[0mConv2D\u001b[0m\u001b[1;33m(\u001b[0m\u001b[1;36m32\u001b[0m\u001b[1;33m,\u001b[0m \u001b[1;33m(\u001b[0m\u001b[1;36m5\u001b[0m\u001b[1;33m,\u001b[0m \u001b[1;36m5\u001b[0m\u001b[1;33m)\u001b[0m\u001b[1;33m,\u001b[0m \u001b[0mpadding\u001b[0m\u001b[1;33m=\u001b[0m\u001b[1;34m'valid'\u001b[0m\u001b[1;33m,\u001b[0m \u001b[0minput_shape\u001b[0m\u001b[1;33m=\u001b[0m\u001b[1;33m(\u001b[0m\u001b[1;36m28\u001b[0m\u001b[1;33m,\u001b[0m\u001b[1;36m28\u001b[0m\u001b[1;33m,\u001b[0m\u001b[1;36m1\u001b[0m\u001b[1;33m)\u001b[0m\u001b[1;33m,\u001b[0m \u001b[0mactivation\u001b[0m\u001b[1;33m=\u001b[0m\u001b[1;34m'relu'\u001b[0m\u001b[1;33m)\u001b[0m\u001b[1;33m\u001b[0m\u001b[1;33m\u001b[0m\u001b[0m\n\u001b[0m\u001b[0;32m      2\u001b[0m \u001b[1;31m# 첫번째 인자\u001b[0m\u001b[1;33m\u001b[0m\u001b[1;33m\u001b[0m\u001b[1;33m\u001b[0m\u001b[0m\n\u001b[0;32m      3\u001b[0m \u001b[1;33m\u001b[0m\u001b[0m\n",
      "\u001b[1;31mNameError\u001b[0m: name 'Conv2D' is not defined"
     ]
    }
   ],
   "source": [
    "Conv2D(32, (5, 5), padding='valid', input_shape=(28,28,1), activation='relu')\n",
    "# 첫번째 인자 컨볼루션 필터의 수\n",
    "# 두번째 인자 컨볼루션 커널의 (행,열)입니다.\n",
    "#input_shape 흑백영상일 때 채널은 1, 컬러(rgb)이면 3이다.\n",
    "\n",
    "Conv2D(1, (2,2), padding='same', input_shape= (3,3,1))\n",
    "# 입력 이미지 사이즈가 3*3 , 흑백\n",
    "# 2*2 커널을 가진 필터가 1개\n",
    "\n",
    "Flatten()\n",
    "# 영상을 일차원으로 바꿔주는 플래튼(Flatten) 레이어\n",
    "# 크기가 3*3 영상을 1차원으로 변경\n"
   ]
  },
  {
   "cell_type": "markdown",
   "metadata": {},
   "source": [
    "## padding \n",
    "1) valid - 이미지를 통과시켜서 점점 작아진다.\n",
    "2) same - 경계 부분의 특징도 알고 싶을 때\n",
    "\n",
    "## MaxPooling\n",
    "사소한 변화를 무시한다.\n",
    "pool_size : 수직, 수평 축소 비율을 지정한다. (2,2) 이면 출력 영상 크기는 입력 영상 크기의 반으로 줄어듭니다.\n",
    "얼굴 인식에서 사람마다 눈,코,입 위치가 조금씩 다른데 이러한 차이가 사람이라고 인식하는 데 있어서 큰 영향을 미치지 않게 한다.\n"
   ]
  },
  {
   "cell_type": "code",
   "execution_count": null,
   "metadata": {},
   "outputs": [],
   "source": []
  },
  {
   "cell_type": "code",
   "execution_count": null,
   "metadata": {},
   "outputs": [],
   "source": []
  },
  {
   "cell_type": "code",
   "execution_count": null,
   "metadata": {},
   "outputs": [],
   "source": []
  }
 ],
 "metadata": {
  "kernelspec": {
   "display_name": "Python 3",
   "language": "python",
   "name": "python3"
  },
  "language_info": {
   "codemirror_mode": {
    "name": "ipython",
    "version": 3
   },
   "file_extension": ".py",
   "mimetype": "text/x-python",
   "name": "python",
   "nbconvert_exporter": "python",
   "pygments_lexer": "ipython3",
   "version": "3.7.3"
  }
 },
 "nbformat": 4,
 "nbformat_minor": 2
}
