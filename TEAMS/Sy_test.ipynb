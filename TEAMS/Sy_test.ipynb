{
 "cells": [
  {
   "cell_type": "code",
   "execution_count": 3,
   "metadata": {},
   "outputs": [
    {
     "name": "stdout",
     "output_type": "stream",
     "text": [
      "몸무게를 입력해주세요  56\n",
      "키를 입력해주세요   170\n",
      "여자입니다\n"
     ]
    },
    {
     "data": {
      "image/png": "[encoded data removed]",
      "text/plain": [
       "<Figure size 432x288 with 1 Axes>"
      ]
     },
     "metadata": {
      "needs_background": "light"
     },
     "output_type": "display_data"
    }
   ],
   "source": [
    "import numpy as np\n",
    "\n",
    "#그래프\n",
    "import matplotlib.pyplot as plt\n",
    "%matplotlib inline\n",
    "\n",
    "#-*-coding: utf-8\n",
    "import random\n",
    "\n",
    "r = []\n",
    "b = []\n",
    "\n",
    "for i in range(50):\n",
    "    # 키, 몸무게 데이터 만들기\n",
    "    r.append([random.randint(40, 70),random.randint(140, 180),1])\n",
    "    b.append([random.randint(60, 90),random.randint(160, 180),0])\n",
    "\n",
    "for i in range(50):\n",
    "    plt.plot (r[i][0], r[i][1], marker='o', linestyle='', color='red')\n",
    "    plt.plot (b[i][0], b[i][1], marker='o', linestyle='', color='blue')\n",
    "\n",
    "def distance(x,y):\n",
    "    #두 점 사이의 거리를 구하는 함수\n",
    "        return int(np.sqrt(pow((x[0]-y[0]),2)+pow((x[1]-y[1]),2)))\n",
    "\n",
    "def distance(x,y):\n",
    "    #두 점 사이의 거리를 구하는 함수\n",
    "        return int(np.sqrt(pow((x[0]-y[0]),2)+pow((x[1]-y[1]),2)))\n",
    "\n",
    "def knn(x,y,k):\n",
    "    result = []\n",
    "    cnt = 0\n",
    "    k = 2\n",
    "    for i in range(len(y)):\n",
    "        result.append([distance(x,y[i]),y[i][2]])\n",
    "    result.sort()\n",
    "    for i in range(k-1):\n",
    "        if (result[i][1]==1):\n",
    "            cnt +=1\n",
    "    if (cnt>(k/2)):\n",
    "        print(\"여자입니다\")\n",
    "    else:\n",
    "        print(\"남자입니다\")\n",
    "\n",
    "weight = input(\"몸무게를 입력해주세요  \")\n",
    "height = input(\"키를 입력해주세요   \")\n",
    "new = [int(weight), int(height)]\n",
    "\n",
    "knn(new,r+b,int(num))\n"
   ]
  },
  {
   "cell_type": "code",
   "execution_count": 4,
   "metadata": {},
   "outputs": [
    {
     "name": "stdout",
     "output_type": "stream",
     "text": [
      "[[47, 153, 1], [69, 162, 0], [60, 162, 1], [73, 168, 0], [64, 147, 1], [79, 161, 0], [44, 169, 1], [84, 168, 0], [42, 143, 1], [62, 164, 0], [65, 141, 1], [62, 173, 0], [66, 171, 1], [88, 179, 0], [44, 178, 1], [80, 179, 0], [52, 162, 1], [70, 177, 0], [51, 149, 1], [87, 169, 0], [69, 145, 1], [74, 168, 0], [63, 144, 1], [72, 178, 0], [49, 142, 1], [87, 160, 0], [55, 176, 1], [77, 160, 0], [49, 142, 1], [69, 179, 0], [45, 158, 1], [70, 169, 0], [55, 150, 1], [86, 178, 0], [64, 145, 1], [81, 172, 0], [57, 149, 1], [80, 163, 0], [70, 162, 1], [61, 175, 0], [50, 158, 1], [70, 176, 0], [43, 152, 1], [61, 167, 0], [43, 176, 1], [80, 176, 0], [62, 154, 1], [80, 163, 0], [54, 170, 1], [80, 169, 0], [64, 180, 1], [83, 179, 0], [45, 172, 1], [77, 170, 0], [68, 169, 1], [72, 173, 0], [62, 167, 1], [76, 178, 0], [55, 178, 1], [64, 176, 0], [62, 149, 1], [64, 180, 0], [59, 161, 1], [60, 163, 0], [47, 176, 1], [72, 161, 0], [54, 168, 1], [72, 180, 0], [62, 164, 1], [74, 162, 0], [50, 149, 1], [83, 169, 0], [61, 169, 1], [87, 179, 0], [65, 155, 1], [90, 173, 0], [51, 177, 1], [78, 161, 0], [51, 141, 1], [70, 164, 0], [66, 147, 1], [70, 174, 0], [63, 156, 1], [82, 179, 0], [53, 148, 1], [82, 160, 0], [61, 142, 1], [62, 169, 0], [54, 159, 1], [69, 177, 0], [64, 151, 1], [81, 170, 0], [54, 164, 1], [61, 168, 0], [57, 150, 1], [73, 176, 0], [60, 180, 1], [68, 167, 0], [62, 172, 1], [82, 170, 0]]\n"
     ]
    }
   ],
   "source": [
    "import random\n",
    "import numpy as np\n",
    "\n",
    "data = []\n",
    "\n",
    "for i in range(50):\n",
    "    # 키, 몸무게 데이터 만들기\n",
    "    data.append([random.randint(40, 70),random.randint(140, 180),1])\n",
    "    data.append([random.randint(60, 90),random.randint(160, 180),0])\n",
    "    \n",
    "print(data)"
   ]
  },
  {
   "cell_type": "code",
   "execution_count": 16,
   "metadata": {},
   "outputs": [
    {
     "data": {
      "text/plain": [
       "[<matplotlib.lines.Line2D at 0x2382bee4e48>]"
      ]
     },
     "execution_count": 16,
     "metadata": {},
     "output_type": "execute_result"
    },
    {
     "data": {
      "image/png": "[encoded data removed]",
      "text/plain": [
       "<Figure size 432x288 with 1 Axes>"
      ]
     },
     "metadata": {
      "needs_background": "light"
     },
     "output_type": "display_data"
    }
   ],
   "source": [
    "for i in tmp1:\n",
    "    plt.plot(i[0],i[1],'o',color='y')\n",
    "for i in tmp2:\n",
    "    plt.plot(i[0],i[1],'o',color='g')\n",
    "plt.plot(random_points[0][0],random_points[0][1],'x',color='r')\n",
    "plt.plot(random_points[1][0],random_points[1][1],'x',color='b')"
   ]
  },
  {
   "cell_type": "code",
   "execution_count": 11,
   "metadata": {},
   "outputs": [
    {
     "name": "stdout",
     "output_type": "stream",
     "text": [
      "[[79, 167], [82, 175]]\n"
     ]
    }
   ],
   "source": [
    "random_points = [[random.randint(40, 90),random.randint(140, 200)],[random.randint(40, 90),random.randint(140, 200)]]\n",
    "print(random_points)"
   ]
  },
  {
   "cell_type": "code",
   "execution_count": 12,
   "metadata": {},
   "outputs": [
    {
     "data": {
      "text/plain": [
       "[<matplotlib.lines.Line2D at 0x2382bf3fdd8>]"
      ]
     },
     "execution_count": 12,
     "metadata": {},
     "output_type": "execute_result"
    },
    {
     "data": {
      "image/png": "[encoded data removed]",
      "text/plain": [
       "<Figure size 432x288 with 1 Axes>"
      ]
     },
     "metadata": {
      "needs_background": "light"
     },
     "output_type": "display_data"
    }
   ],
   "source": [
    "for i in data:\n",
    "    plt.plot(i[0],i[1],'o',color='k')\n",
    "plt.plot(random_points[0][0],random_points[0][1],'x',color='r')\n",
    "plt.plot(random_points[1][0],random_points[1][1],'x',color='b')"
   ]
  },
  {
   "cell_type": "code",
   "execution_count": 13,
   "metadata": {},
   "outputs": [],
   "source": [
    "tmp1 = []\n",
    "tmp2 = []"
   ]
  },
  {
   "cell_type": "code",
   "execution_count": 14,
   "metadata": {},
   "outputs": [],
   "source": [
    "def dist(x,y):\n",
    "    return np.sqrt((x[0]-y[0])**2 +(x[1]-y[1])**2)"
   ]
  },
  {
   "cell_type": "code",
   "execution_count": 15,
   "metadata": {},
   "outputs": [],
   "source": [
    "for i in data:\n",
    "    if (dist(random_points[0],i) > dist(random_points[1],i)):\n",
    "        tmp2.append(i)\n",
    "    else:\n",
    "        tmp1.append(i)"
   ]
  },
  {
   "cell_type": "code",
   "execution_count": 17,
   "metadata": {},
   "outputs": [],
   "source": [
    "# 점 이동\n",
    "sum1=0\n",
    "sum2=0\n",
    "for i in tmp1:\n",
    "    sum1 +=i[0]\n",
    "    sum2 +=i[1]\n",
    "    \n",
    "new_points = []\n",
    "new_points.append([sum1/len(tmp1),sum2/len(tmp1)])\n",
    "sum1=0\n",
    "sum2=0\n",
    "for i in tmp2:\n",
    "    sum1 +=i[0]\n",
    "    sum2 +=i[1]\n",
    "new_points.append([sum1/len(tmp2),sum2/len(tmp2)])"
   ]
  },
  {
   "cell_type": "code",
   "execution_count": 18,
   "metadata": {},
   "outputs": [
    {
     "name": "stdout",
     "output_type": "stream",
     "text": [
      "[[62.58227848101266, 161.37974683544303], [76.33333333333333, 177.33333333333334]]\n"
     ]
    }
   ],
   "source": [
    "print(new_points)"
   ]
  },
  {
   "cell_type": "code",
   "execution_count": 19,
   "metadata": {},
   "outputs": [
    {
     "data": {
      "text/plain": [
       "[<matplotlib.lines.Line2D at 0x2382c020908>]"
      ]
     },
     "execution_count": 19,
     "metadata": {},
     "output_type": "execute_result"
    },
    {
     "data": {
      "image/png": "[encoded data removed]",
      "text/plain": [
       "<Figure size 432x288 with 1 Axes>"
      ]
     },
     "metadata": {
      "needs_background": "light"
     },
     "output_type": "display_data"
    }
   ],
   "source": [
    "for i in tmp1:\n",
    "    plt.plot(i[0],i[1],'o',color='y')\n",
    "for i in tmp2:\n",
    "    plt.plot(i[0],i[1],'o',color='g')\n",
    "plt.plot(new_points[0][0],new_points[0][1],'x',color='r')\n",
    "plt.plot(new_points[1][0],new_points[1][1],'x',color='b')"
   ]
  },
  {
   "cell_type": "code",
   "execution_count": null,
   "metadata": {},
   "outputs": [],
   "source": []
  }
 ],
 "metadata": {
  "kernelspec": {
   "display_name": "Python 3",
   "language": "python",
   "name": "python3"
  },
  "language_info": {
   "codemirror_mode": {
    "name": "ipython",
    "version": 3
   },
   "file_extension": ".py",
   "mimetype": "text/x-python",
   "name": "python",
   "nbconvert_exporter": "python",
   "pygments_lexer": "ipython3",
   "version": "3.7.3"
  }
 },
 "nbformat": 4,
 "nbformat_minor": 2
}
