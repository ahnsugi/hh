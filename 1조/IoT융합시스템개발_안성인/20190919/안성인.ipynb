{
 "cells": [
  {
   "cell_type": "markdown",
   "metadata": {},
   "source": [
    "### 1. random 함수를 활용하여 로또 추첨기를 만들어주세요.\n",
    "(10점)"
   ]
  },
  {
   "cell_type": "code",
   "execution_count": 2,
   "metadata": {},
   "outputs": [
    {
     "name": "stdout",
     "output_type": "stream",
     "text": [
      "로또번호 :  [37, 8, 35, 14, 40, 26]\n"
     ]
    }
   ],
   "source": [
    "import random\n",
    "\n",
    "l = []\n",
    "count = 0\n",
    "while count < 6:\n",
    "    r = int(random.random() * 100)\n",
    "    if r <= 45 and r > 0:\n",
    "        if r not in l:\n",
    "            l.append(r)\n",
    "            count += 1\n",
    "\n",
    "#l = set(l)\n",
    "#l = list(l)\n",
    "print(\"로또번호 : \", l[:6])"
   ]
  },
  {
   "cell_type": "code",
   "execution_count": null,
   "metadata": {},
   "outputs": [],
   "source": []
  },
  {
   "cell_type": "markdown",
   "metadata": {},
   "source": [
    "### 2. 다음 조건을 모두 만족하는 구구단을 만들어주세요. \n",
    "(10점)"
   ]
  },
  {
   "cell_type": "markdown",
   "metadata": {},
   "source": [
    "#### - 3단, 6단을 제외한 구구단\n",
    "#### - 반복문, 조건문 사용 (단순 print로 출력 X)\n",
    "#### - 문자열 포맷팅을 활용해 2 X 2 = 4 형식으로 출력하세요."
   ]
  },
  {
   "cell_type": "code",
   "execution_count": 6,
   "metadata": {},
   "outputs": [
    {
     "name": "stdout",
     "output_type": "stream",
     "text": [
      " 2단\n",
      " 2 X  1 =   2\n",
      " 2 X  2 =   4\n",
      " 2 X  3 =   6\n",
      " 2 X  4 =   8\n",
      " 2 X  5 =  10\n",
      " 2 X  6 =  12\n",
      " 2 X  7 =  14\n",
      " 2 X  8 =  16\n",
      " 2 X  9 =  18\n",
      "\n",
      " 4단\n",
      " 4 X  1 =   4\n",
      " 4 X  2 =   8\n",
      " 4 X  3 =  12\n",
      " 4 X  4 =  16\n",
      " 4 X  5 =  20\n",
      " 4 X  6 =  24\n",
      " 4 X  7 =  28\n",
      " 4 X  8 =  32\n",
      " 4 X  9 =  36\n",
      "\n",
      " 5단\n",
      " 5 X  1 =   5\n",
      " 5 X  2 =  10\n",
      " 5 X  3 =  15\n",
      " 5 X  4 =  20\n",
      " 5 X  5 =  25\n",
      " 5 X  6 =  30\n",
      " 5 X  7 =  35\n",
      " 5 X  8 =  40\n",
      " 5 X  9 =  45\n",
      "\n",
      " 7단\n",
      " 7 X  1 =   7\n",
      " 7 X  2 =  14\n",
      " 7 X  3 =  21\n",
      " 7 X  4 =  28\n",
      " 7 X  5 =  35\n",
      " 7 X  6 =  42\n",
      " 7 X  7 =  49\n",
      " 7 X  8 =  56\n",
      " 7 X  9 =  63\n",
      "\n",
      " 8단\n",
      " 8 X  1 =   8\n",
      " 8 X  2 =  16\n",
      " 8 X  3 =  24\n",
      " 8 X  4 =  32\n",
      " 8 X  5 =  40\n",
      " 8 X  6 =  48\n",
      " 8 X  7 =  56\n",
      " 8 X  8 =  64\n",
      " 8 X  9 =  72\n",
      "\n",
      " 9단\n",
      " 9 X  1 =   9\n",
      " 9 X  2 =  18\n",
      " 9 X  3 =  27\n",
      " 9 X  4 =  36\n",
      " 9 X  5 =  45\n",
      " 9 X  6 =  54\n",
      " 9 X  7 =  63\n",
      " 9 X  8 =  72\n",
      " 9 X  9 =  81\n",
      "\n"
     ]
    }
   ],
   "source": [
    "for i in range(2, 10):\n",
    "    if (i == 3 or i == 6):\n",
    "        continue\n",
    "    print(\"{:2d}단\".format(i))\n",
    "    for j in range(1, 10):\n",
    "        print(\"{:2d} X {:2d} = {:3d}\".format(i, j, i*j))\n",
    "    print()"
   ]
  },
  {
   "cell_type": "code",
   "execution_count": null,
   "metadata": {},
   "outputs": [],
   "source": []
  },
  {
   "cell_type": "markdown",
   "metadata": {},
   "source": [
    "### 3. 리스트 a = [1, 1, 1, 4, 2, 5, 6, 7, 3, 5, 6, 7, 6, 7, 8, 4, 3, 5, 6, 7, 2, 6, 2, 4, 2, 9, 8, 6, 7, 4, 5, 3, 2]를 중복을 제거하고 역순으로 정렬해주세요. \n",
    "(10점)"
   ]
  },
  {
   "cell_type": "code",
   "execution_count": 17,
   "metadata": {},
   "outputs": [
    {
     "name": "stdout",
     "output_type": "stream",
     "text": [
      "[9, 8, 7, 6, 5, 4, 3, 2, 1]\n"
     ]
    }
   ],
   "source": [
    "a = [1, 1, 1, 4, 2, 5, 6, 7, 3, 5, 6, 7, 6, 7, 8, 4, 3, 5, 6, 7, 2, 6, 2, 4, 2, 9, 8, 6, 7, 4, 5, 3, 2]\n",
    "b = set(a)\n",
    "a = list(b)\n",
    "print(a[::-1])"
   ]
  },
  {
   "cell_type": "code",
   "execution_count": null,
   "metadata": {},
   "outputs": [],
   "source": []
  },
  {
   "cell_type": "markdown",
   "metadata": {},
   "source": [
    "### 4. 특징을 최소 5개 이상인 동물 분류기를 만들어주세요.\n",
    "(10점)"
   ]
  },
  {
   "cell_type": "markdown",
   "metadata": {},
   "source": [
    "#### - 특징 5개 (예 : 평균 크기, 육식 여부 등)\n",
    "#### - 분류할 동물은 최소 4마리 이상 (호랑이, 개, 원숭이 등)\n",
    "#### - knn 혹은 kmeans 알고리즘을 사용하세요."
   ]
  },
  {
   "cell_type": "code",
   "execution_count": null,
   "metadata": {},
   "outputs": [],
   "source": [
    "import numpy as np\n",
    "import random\n",
    "import matplotlib.pyplot as plt\n",
    "%matplotlib inline\n",
    "r = []\n",
    "b = []\n",
    "# bunRu = [\"아가미\", \"깃털\", \"수유\", \"피부호흡\", \"크기\"]\n",
    "\n",
    "\n",
    "for i in range(50):\n",
    "    r.append([random.randint(40, 70), random.randint(140, 180), random.randint(20, 40), size[random.randint(0, 4)], 1])\n",
    "    b.append([random.randint(60, 90), random.randint(160, 200), random.randint(1, 20), size[random.randint(1, 5)], 0])\n",
    "    \n",
    "def distance(x,y):\n",
    "    return np.sqrt(pow((x[0]-y[0]), 2) + pow((x[1] - y[1]), 2) + pow((x[2] - y[2]), 2) + pow((x[3] - y[3]), 2))\n",
    "\n",
    "def knn(x, y, k):\n",
    "    result = []\n",
    "    cnt = 0\n",
    "    for i in range(len(y)):\n",
    "        result.append([distance(x,y[i]),y[i][4]])\n",
    "    result.sort()\n",
    "    for i in range(k-1):\n",
    "        if(result[i][1] == 1):\n",
    "            cnt += 1\n",
    "    if(cnt > (k/2)):\n",
    "        print(\"당신은 여자입니다.\")\n",
    "    else:\n",
    "        print(\"당신은 남자입니다.\")\n",
    "\n",
    "for i in range(50):\n",
    "    plt.plot(r[i][0], r[i][1], r[i][2], r[i][3], marker='o', color = 'red')\n",
    "    plt.plot(b[i][0], b[i][1], b[i][2], b[i][3], marker='o', color = 'blue')\n",
    "\n",
    "new = []\n",
    "\n",
    "for i in range(3):\n",
    "    num = random.randint(1,3)\n",
    "    if(num == 1):   # 여자일때\n",
    "        new.append([random.randint(40, 70), random.randint(140, 180), random.randint(20, 40), size[random.randint(0, 4)]])\n",
    "    elif(num == 2): # 남자일떄\n",
    "        new.append([random.randint(60, 90), random.randint(160, 200), random.randint(1, 20), size[random.randint(1, 5)]])\n",
    "    else:           # 애매한상황\n",
    "        new.append([random.randint(60, 70), random.randint(160, 180), 20, size[random.randint(1, 4)]])\n",
    "\n",
    "#weight = input(\"몸무게를 입력해주세요.\")\n",
    "#height = input(\"키를 입력해주세요.\")\n",
    "#Hair_length = input(\"머리길이를 입력해주세요.\")\n",
    "#Clothes_size = input(\"옷 크기를 입력해주세요.\")\n",
    "\n",
    "#new = [int(weight), int(height), int(Hair_length), int(Clothes_size)]\n",
    "\n",
    "#for i in range(50):\n",
    " #   plt.plot(r[i][0], r[i][1], r[i][2], r[i][3], marker='o', color = 'red')\n",
    "  #  plt.plot(b[i][0], b[i][1], b[i][2], b[i][3], marker='o', color = 'blue')\n",
    "for i in range(3):\n",
    "    plt.plot(new[i][0], new[i][1], new[i][2], new[i][3], marker = 'x', color = 'black')\n",
    "for j in range(3):\n",
    "    print(j+1, \"번째 사람\", end = \" → \")\n",
    "    print(\"키 : \", new[j][1], end = \", \")\n",
    "    print(\"몸무게 : \", new[j][0], end = \", \")\n",
    "    print(\"머리 길이 : \", new[j][2], end = \", \")\n",
    "    print(\"옷 크기 : \", new[j][3])\n",
    "    for i in range(3, 12, 2):\n",
    "        if(i == 9):\n",
    "            continue\n",
    "        print(\"k가\", i, \"일 때 : \")\n",
    "        knn(new[j], r+b, i)"
   ]
  },
  {
   "cell_type": "code",
   "execution_count": null,
   "metadata": {},
   "outputs": [],
   "source": []
  },
  {
   "cell_type": "markdown",
   "metadata": {},
   "source": [
    "### 5. 1, 1, 2, 3, 5, 8, 13 .... 100번까지 진행되는 피보나치 수열 프로그램을 만들어주세요.\n",
    "(10점)"
   ]
  },
  {
   "cell_type": "code",
   "execution_count": null,
   "metadata": {},
   "outputs": [],
   "source": [
    "first = 1\n",
    "second = 1\n",
    "result = []\n",
    "result.append(first)\n",
    "result.append(second)\n",
    "for i in range(98):\n",
    "    nextNum = first + second\n",
    "    result.append(nextNum)\n",
    "    first = second\n",
    "    second = nextNum\n",
    "\n",
    "print(result)"
   ]
  },
  {
   "cell_type": "code",
   "execution_count": null,
   "metadata": {},
   "outputs": [],
   "source": []
  },
  {
   "cell_type": "code",
   "execution_count": null,
   "metadata": {},
   "outputs": [],
   "source": []
  },
  {
   "cell_type": "code",
   "execution_count": null,
   "metadata": {},
   "outputs": [],
   "source": []
  },
  {
   "cell_type": "code",
   "execution_count": 3,
   "metadata": {
    "scrolled": true
   },
   "outputs": [
    {
     "name": "stdout",
     "output_type": "stream",
     "text": [
      "Collecting tensorflow==2.0.0-alpha0\n",
      "  Downloading https://files.pythonhosted.org/packages/c7/90/cf5e7fbf4a3c14b314e1ed6571eae1f9ad3b5e32a4e24b2b817466435a21/tensorflow-2.0.0a0-cp37-cp37m-win_amd64.whl (49.4MB)\n",
      "Collecting grpcio>=1.8.6 (from tensorflow==2.0.0-alpha0)\n",
      "  Downloading https://files.pythonhosted.org/packages/32/e7/478737fd426798caad32a2abb7cc63ddb4c12908d9e03471dd3c41992b05/grpcio-1.23.0-cp37-cp37m-win_amd64.whl (1.6MB)\n",
      "Collecting absl-py>=0.7.0 (from tensorflow==2.0.0-alpha0)\n",
      "  Downloading https://files.pythonhosted.org/packages/3c/0d/7cbf64cac3f93617a2b6b079c0182e4a83a3e7a8964d3b0cc3d9758ba002/absl-py-0.8.0.tar.gz (102kB)\n",
      "Collecting termcolor>=1.1.0 (from tensorflow==2.0.0-alpha0)\n",
      "  Downloading https://files.pythonhosted.org/packages/8a/48/a76be51647d0eb9f10e2a4511bf3ffb8cc1e6b14e9e4fab46173aa79f981/termcolor-1.1.0.tar.gz\n",
      "Collecting keras-applications>=1.0.6 (from tensorflow==2.0.0-alpha0)\n",
      "  Downloading https://files.pythonhosted.org/packages/71/e3/19762fdfc62877ae9102edf6342d71b28fbfd9dea3d2f96a882ce099b03f/Keras_Applications-1.0.8-py3-none-any.whl (50kB)\n",
      "Collecting google-pasta>=0.1.2 (from tensorflow==2.0.0-alpha0)\n",
      "  Downloading https://files.pythonhosted.org/packages/d0/33/376510eb8d6246f3c30545f416b2263eee461e40940c2a4413c711bdf62d/google_pasta-0.1.7-py3-none-any.whl (52kB)\n",
      "Collecting astor>=0.6.0 (from tensorflow==2.0.0-alpha0)\n",
      "  Downloading https://files.pythonhosted.org/packages/d1/4f/950dfae467b384fc96bc6469de25d832534f6b4441033c39f914efd13418/astor-0.8.0-py2.py3-none-any.whl\n",
      "Requirement already satisfied: six>=1.10.0 in c:\\users\\iot08\\anaconda3\\lib\\site-packages (from tensorflow==2.0.0-alpha0) (1.12.0)\n",
      "Collecting protobuf>=3.6.1 (from tensorflow==2.0.0-alpha0)\n",
      "  Downloading https://files.pythonhosted.org/packages/46/8b/5e77963dac4a944a0c6b198c004fac4c85d7adc54221c288fc6ca9078072/protobuf-3.9.1-cp37-cp37m-win_amd64.whl (1.0MB)\n",
      "Collecting tf-estimator-nightly<1.14.0.dev2019030116,>=1.14.0.dev2019030115 (from tensorflow==2.0.0-alpha0)\n",
      "  Downloading https://files.pythonhosted.org/packages/13/82/f16063b4eed210dc2ab057930ac1da4fbe1e91b7b051a6c8370b401e6ae7/tf_estimator_nightly-1.14.0.dev2019030115-py2.py3-none-any.whl (411kB)\n",
      "Collecting tb-nightly<1.14.0a20190302,>=1.14.0a20190301 (from tensorflow==2.0.0-alpha0)\n",
      "  Downloading https://files.pythonhosted.org/packages/a9/51/aa1d756644bf4624c03844115e4ac4058eff77acd786b26315f051a4b195/tb_nightly-1.14.0a20190301-py3-none-any.whl (3.0MB)\n",
      "Collecting gast>=0.2.0 (from tensorflow==2.0.0-alpha0)\n",
      "  Downloading https://files.pythonhosted.org/packages/1f/04/4e36c33f8eb5c5b6c622a1f4859352a6acca7ab387257d4b3c191d23ec1d/gast-0.3.2.tar.gz\n",
      "Requirement already satisfied: wheel>=0.26 in c:\\users\\iot08\\anaconda3\\lib\\site-packages (from tensorflow==2.0.0-alpha0) (0.33.1)\n",
      "Requirement already satisfied: numpy<2.0,>=1.14.5 in c:\\users\\iot08\\anaconda3\\lib\\site-packages (from tensorflow==2.0.0-alpha0) (1.16.2)\n",
      "Collecting keras-preprocessing>=1.0.5 (from tensorflow==2.0.0-alpha0)\n",
      "  Downloading https://files.pythonhosted.org/packages/28/6a/8c1f62c37212d9fc441a7e26736df51ce6f0e38455816445471f10da4f0a/Keras_Preprocessing-1.1.0-py2.py3-none-any.whl (41kB)\n",
      "Requirement already satisfied: h5py in c:\\users\\iot08\\anaconda3\\lib\\site-packages (from keras-applications>=1.0.6->tensorflow==2.0.0-alpha0) (2.9.0)\n",
      "Requirement already satisfied: setuptools in c:\\users\\iot08\\anaconda3\\lib\\site-packages (from protobuf>=3.6.1->tensorflow==2.0.0-alpha0) (40.8.0)\n",
      "Requirement already satisfied: werkzeug>=0.11.15 in c:\\users\\iot08\\anaconda3\\lib\\site-packages (from tb-nightly<1.14.0a20190302,>=1.14.0a20190301->tensorflow==2.0.0-alpha0) (0.14.1)\n",
      "Collecting markdown>=2.6.8 (from tb-nightly<1.14.0a20190302,>=1.14.0a20190301->tensorflow==2.0.0-alpha0)\n",
      "  Downloading https://files.pythonhosted.org/packages/c0/4e/fd492e91abdc2d2fcb70ef453064d980688762079397f779758e055f6575/Markdown-3.1.1-py2.py3-none-any.whl (87kB)\n",
      "Building wheels for collected packages: absl-py, termcolor, gast\n",
      "  Building wheel for absl-py (setup.py): started\n",
      "  Building wheel for absl-py (setup.py): finished with status 'done'\n",
      "  Stored in directory: C:\\Users\\IoT08\\AppData\\Local\\pip\\Cache\\wheels\\9a\\1e\\7a\\456008eb5e47fd5de792c6139df6d5b3d5f71d51c6a0b94799\n",
      "  Building wheel for termcolor (setup.py): started\n",
      "  Building wheel for termcolor (setup.py): finished with status 'done'\n",
      "  Stored in directory: C:\\Users\\IoT08\\AppData\\Local\\pip\\Cache\\wheels\\7c\\06\\54\\bc84598ba1daf8f970247f550b175aaaee85f68b4b0c5ab2c6\n",
      "  Building wheel for gast (setup.py): started\n",
      "  Building wheel for gast (setup.py): finished with status 'done'\n",
      "  Stored in directory: C:\\Users\\IoT08\\AppData\\Local\\pip\\Cache\\wheels\\59\\38\\c6\\234dc39b4f6951a0768fbc02d5b7207137a5b1d9094f0d54bf\n",
      "Successfully built absl-py termcolor gast\n",
      "Installing collected packages: grpcio, absl-py, termcolor, keras-applications, google-pasta, astor, protobuf, tf-estimator-nightly, markdown, tb-nightly, gast, keras-preprocessing, tensorflow\n",
      "Successfully installed absl-py-0.8.0 astor-0.8.0 gast-0.3.2 google-pasta-0.1.7 grpcio-1.23.0 keras-applications-1.0.8 keras-preprocessing-1.1.0 markdown-3.1.1 protobuf-3.9.1 tb-nightly-1.14.0a20190301 tensorflow-2.0.0a0 termcolor-1.1.0 tf-estimator-nightly-1.14.0.dev2019030115\n"
     ]
    }
   ],
   "source": [
    "!pip install tensorflow==2.0.0-alpha0"
   ]
  },
  {
   "cell_type": "code",
   "execution_count": 4,
   "metadata": {},
   "outputs": [
    {
     "name": "stdout",
     "output_type": "stream",
     "text": [
      "2.0.0-alpha0\n"
     ]
    }
   ],
   "source": [
    "import tensorflow as tf\n",
    "print(tf.__version__)"
   ]
  },
  {
   "cell_type": "code",
   "execution_count": null,
   "metadata": {},
   "outputs": [],
   "source": []
  }
 ],
 "metadata": {
  "kernelspec": {
   "display_name": "Python 3",
   "language": "python",
   "name": "python3"
  },
  "language_info": {
   "codemirror_mode": {
    "name": "ipython",
    "version": 3
   },
   "file_extension": ".py",
   "mimetype": "text/x-python",
   "name": "python",
   "nbconvert_exporter": "python",
   "pygments_lexer": "ipython3",
   "version": "3.7.3"
  }
 },
 "nbformat": 4,
 "nbformat_minor": 2
}
