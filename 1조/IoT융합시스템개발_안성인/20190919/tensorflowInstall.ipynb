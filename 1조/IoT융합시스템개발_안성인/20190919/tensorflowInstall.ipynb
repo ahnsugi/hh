{
 "cells": [
  {
   "cell_type": "code",
   "execution_count": 1,
   "metadata": {},
   "outputs": [
    {
     "name": "stdout",
     "output_type": "stream",
     "text": [
      "Collecting tensorflow==2.0.0-alpha0\n",
      "  Using cached https://files.pythonhosted.org/packages/c7/90/cf5e7fbf4a3c14b314e1ed6571eae1f9ad3b5e32a4e24b2b817466435a21/tensorflow-2.0.0a0-cp37-cp37m-win_amd64.whl\n",
      "Requirement already satisfied: gast>=0.2.0 in c:\\users\\iot08\\anaconda3\\lib\\site-packages (from tensorflow==2.0.0-alpha0) (0.3.2)\n",
      "Requirement already satisfied: six>=1.10.0 in c:\\users\\iot08\\anaconda3\\lib\\site-packages (from tensorflow==2.0.0-alpha0) (1.12.0)\n",
      "Requirement already satisfied: keras-applications>=1.0.6 in c:\\users\\iot08\\anaconda3\\lib\\site-packages (from tensorflow==2.0.0-alpha0) (1.0.8)\n",
      "Requirement already satisfied: termcolor>=1.1.0 in c:\\users\\iot08\\anaconda3\\lib\\site-packages (from tensorflow==2.0.0-alpha0) (1.1.0)\n",
      "Requirement already satisfied: wheel>=0.26 in c:\\users\\iot08\\anaconda3\\lib\\site-packages (from tensorflow==2.0.0-alpha0) (0.33.1)\n",
      "Requirement already satisfied: keras-preprocessing>=1.0.5 in c:\\users\\iot08\\anaconda3\\lib\\site-packages (from tensorflow==2.0.0-alpha0) (1.1.0)\n",
      "Requirement already satisfied: absl-py>=0.7.0 in c:\\users\\iot08\\anaconda3\\lib\\site-packages (from tensorflow==2.0.0-alpha0) (0.8.0)\n",
      "Requirement already satisfied: google-pasta>=0.1.2 in c:\\users\\iot08\\anaconda3\\lib\\site-packages (from tensorflow==2.0.0-alpha0) (0.1.7)\n",
      "Requirement already satisfied: grpcio>=1.8.6 in c:\\users\\iot08\\anaconda3\\lib\\site-packages (from tensorflow==2.0.0-alpha0) (1.23.0)\n",
      "Requirement already satisfied: astor>=0.6.0 in c:\\users\\iot08\\anaconda3\\lib\\site-packages (from tensorflow==2.0.0-alpha0) (0.8.0)\n",
      "Requirement already satisfied: tf-estimator-nightly<1.14.0.dev2019030116,>=1.14.0.dev2019030115 in c:\\users\\iot08\\anaconda3\\lib\\site-packages (from tensorflow==2.0.0-alpha0) (1.14.0.dev2019030115)\n",
      "Requirement already satisfied: tb-nightly<1.14.0a20190302,>=1.14.0a20190301 in c:\\users\\iot08\\anaconda3\\lib\\site-packages (from tensorflow==2.0.0-alpha0) (1.14.0a20190301)\n",
      "Requirement already satisfied: protobuf>=3.6.1 in c:\\users\\iot08\\anaconda3\\lib\\site-packages (from tensorflow==2.0.0-alpha0) (3.9.1)\n",
      "Requirement already satisfied: numpy<2.0,>=1.14.5 in c:\\users\\iot08\\anaconda3\\lib\\site-packages (from tensorflow==2.0.0-alpha0) (1.16.2)\n",
      "Requirement already satisfied: h5py in c:\\users\\iot08\\anaconda3\\lib\\site-packages (from keras-applications>=1.0.6->tensorflow==2.0.0-alpha0) (2.9.0)\n",
      "Requirement already satisfied: werkzeug>=0.11.15 in c:\\users\\iot08\\anaconda3\\lib\\site-packages (from tb-nightly<1.14.0a20190302,>=1.14.0a20190301->tensorflow==2.0.0-alpha0) (0.14.1)\n",
      "Requirement already satisfied: markdown>=2.6.8 in c:\\users\\iot08\\anaconda3\\lib\\site-packages (from tb-nightly<1.14.0a20190302,>=1.14.0a20190301->tensorflow==2.0.0-alpha0) (3.1.1)\n",
      "Requirement already satisfied: setuptools in c:\\users\\iot08\\anaconda3\\lib\\site-packages (from protobuf>=3.6.1->tensorflow==2.0.0-alpha0) (40.8.0)\n",
      "Installing collected packages: tensorflow\n",
      "Successfully installed tensorflow-2.0.0a0\n",
      "Note: you may need to restart the kernel to use updated packages.\n"
     ]
    },
    {
     "name": "stderr",
     "output_type": "stream",
     "text": [
      "tensorflow 2.0.0a0 requires gast>=0.2.0, which is not installed.\n",
      "tensorflow 2.0.0a0 requires keras-preprocessing>=1.0.5, which is not installed.\n",
      "tensorflow 2.0.0a0 requires protobuf>=3.6.1, which is not installed.\n",
      "tensorflow 2.0.0a0 requires tb-nightly<1.14.0a20190302,>=1.14.0a20190301, which is not installed.\n",
      "tensorflow 2.0.0a0 requires tf-estimator-nightly<1.14.0.dev2019030116,>=1.14.0.dev2019030115, which is not installed.\n"
     ]
    }
   ],
   "source": [
    "pip install tensorflow==2.0.0-alpha0"
   ]
  },
  {
   "cell_type": "code",
   "execution_count": null,
   "metadata": {},
   "outputs": [],
   "source": []
  }
 ],
 "metadata": {
  "kernelspec": {
   "display_name": "Python 3",
   "language": "python",
   "name": "python3"
  },
  "language_info": {
   "codemirror_mode": {
    "name": "ipython",
    "version": 3
   },
   "file_extension": ".py",
   "mimetype": "text/x-python",
   "name": "python",
   "nbconvert_exporter": "python",
   "pygments_lexer": "ipython3",
   "version": "3.7.3"
  }
 },
 "nbformat": 4,
 "nbformat_minor": 2
}
