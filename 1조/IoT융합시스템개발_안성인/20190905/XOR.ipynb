{
 "cells": [
  {
   "cell_type": "code",
   "execution_count": 3,
   "metadata": {},
   "outputs": [
    {
     "name": "stdout",
     "output_type": "stream",
     "text": [
      "XOR\n",
      "epoch :  1\n",
      "newX :  1.6641599112798469\n",
      "\n"
     ]
    }
   ],
   "source": [
    "import numpy as np\n",
    "\n",
    "dataXOR = [(0,0,0),(1,0,1),(0,1,1),(1,1,0)]\n",
    "\n",
    "w1 = 0\n",
    "w2 = 0\n",
    "b  = 0\n",
    "cnt = 0\n",
    "epoch = 0\n",
    "newX = 0\n",
    "\n",
    "def model(x1, x2):\n",
    "    x = np.array([x1,x2])\n",
    "    #w = np.array([w1,w2])\n",
    "    w = np.array([newX,newX])\n",
    "        \n",
    "    tmp = np.sum(w*x) - (newX * 2)\n",
    "    if tmp != -newX :\n",
    "        return 0 #흐르지 않는다.\n",
    "    else:\n",
    "        return 1 # 흐른다.\n",
    "\n",
    "print(\"XOR\")\n",
    "while(1):\n",
    "    epoch +=1\n",
    "    cnt = 0\n",
    "    #w1 = np.random.normal()\n",
    "    #w2 = np.random.normal()\n",
    "    #b  = np.random.normal()\n",
    "    newX = np.random.normal()\n",
    "    \n",
    "    for i in dataXOR:\n",
    "        if (i[2] != model(i[0],i[1])):\n",
    "#             print(\"실패!\")\n",
    "            break\n",
    "        else:\n",
    "            cnt += 1\n",
    "    \n",
    "    \n",
    "    if cnt == 4:\n",
    "        print(\"epoch : \", epoch)\n",
    "        print(\"newX : \", newX)\n",
    "        #print(\"w1 : \", w1)\n",
    "        #print(\"w2 : \", w2)\n",
    "        #print(\"b : \", b)\n",
    "        print()\n",
    "        break\n"
   ]
  },
  {
   "cell_type": "code",
   "execution_count": 4,
   "metadata": {},
   "outputs": [
    {
     "name": "stdout",
     "output_type": "stream",
     "text": [
      "XOR GATE\n",
      "\n",
      "(0, 0) -> 0\n",
      "(1, 0) -> 1\n",
      "(0, 1) -> 1\n",
      "(1, 1) -> 0\n"
     ]
    }
   ],
   "source": [
    "import numpy as np\n",
    "\n",
    "def XOR(x1, x2):\n",
    "    x = np.array([x1, x2])\n",
    "    #b = -0.5 # b값을 2로 정해준다.\n",
    "    w = np.array([newX, newX]) # w1, w2값을 -1로 정해준다.\n",
    "    #w = np.array([-0.5, -0.5]) # w1, w2값을 -1로 정해준다.\n",
    "    #b = 1 # b값을 2로 정해준다.\n",
    "    tmp = np.sum(w*x) - (2 * newX)\n",
    "   \n",
    "    if tmp != -newX:\n",
    "        return 0 # 두 값이 모두 0이면 1\n",
    "    else:\n",
    "        return 1 # 두 값 중 한 값이라도 1이면 0\n",
    "\n",
    "print(\"XOR GATE\")\n",
    "print()\n",
    "for i in [(0, 0), (1, 0), (0, 1), (1, 1)]:\n",
    "    y = XOR(i[0], i[1])\n",
    "    print(str(i) + \" -> \" + str(y))"
   ]
  }
 ],
 "metadata": {
  "kernelspec": {
   "display_name": "Python 3",
   "language": "python",
   "name": "python3"
  },
  "language_info": {
   "codemirror_mode": {
    "name": "ipython",
    "version": 3
   },
   "file_extension": ".py",
   "mimetype": "text/x-python",
   "name": "python",
   "nbconvert_exporter": "python",
   "pygments_lexer": "ipython3",
   "version": "3.7.3"
  }
 },
 "nbformat": 4,
 "nbformat_minor": 2
}
