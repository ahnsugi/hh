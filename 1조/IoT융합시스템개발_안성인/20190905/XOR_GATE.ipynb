{
 "cells": [
  {
   "cell_type": "code",
   "execution_count": 1,
   "metadata": {},
   "outputs": [
    {
     "name": "stdout",
     "output_type": "stream",
     "text": [
      "XOR GATE\n",
      "\n",
      "(0, 0) -> 0\n",
      "(1, 0) -> 1\n",
      "(0, 1) -> 1\n",
      "(1, 1) -> 0\n"
     ]
    }
   ],
   "source": [
    "import numpy as np\n",
    "\n",
    "def NAND(x1, x2):\n",
    "    x = np.array([x1, x2])\n",
    "    w = np.array([-0.5, -0.5]) # w1, w2값을 0.5로 정해준다.\n",
    "    b = 0.7 # b값을 -0.7로 정해준다.\n",
    "    tmp = np.sum(w*x) + b\n",
    "    if tmp <= 0:\n",
    "        return 0 # 두 값 중 한 값이라도 0이면 1\n",
    "    else:\n",
    "        return 1 # 두 값이 모두 1이면 0\n",
    "\n",
    "def OR(x1, x2):\n",
    "    x = np.array([x1, x2])\n",
    "    w = np.array([1, 1]) # w1, w2값을 1로 정해준다.\n",
    "    b = -0.7 # b값을 -0.7로 정해준다.\n",
    "    tmp = np.sum(w*x) + b\n",
    "    if tmp <= 0:\n",
    "        return 0 # 두 값이 모두 0이면 0\n",
    "    else:\n",
    "        return 1 # 두 값 중 한 값이라도 1이면 1\n",
    "\n",
    "def AND(x1, x2):\n",
    "    x = np.array([x1, x2])\n",
    "    w = np.array([0.5, 0.5])# w1, w2값을 0.5로 정해준다.\n",
    "    b = -0.7# b값을 -0.7로 정해준다.\n",
    "    tmp = np.sum(w*x) + b\n",
    "    if tmp <= 0:\n",
    "        return 0# 두 값 중 한 값이라도 0이면 0\n",
    "    else:\n",
    "        return 1# 두 값이 모두 1이면 1\n",
    "\n",
    "print(\"XOR GATE\")\n",
    "print()\n",
    "for i in [(0, 0), (1, 0), (0, 1), (1, 1)]:\n",
    "    s1 = NAND(i[0], i[1])\n",
    "    s2 = OR(i[0], i[1])\n",
    "    y = AND(s1, s2)\n",
    "    \n",
    "    print(str(i) + \" -> \" + str(y))"
   ]
  },
  {
   "cell_type": "code",
   "execution_count": null,
   "metadata": {},
   "outputs": [],
   "source": []
  },
  {
   "cell_type": "code",
   "execution_count": null,
   "metadata": {},
   "outputs": [],
   "source": []
  },
  {
   "cell_type": "code",
   "execution_count": null,
   "metadata": {},
   "outputs": [],
   "source": []
  },
  {
   "cell_type": "code",
   "execution_count": null,
   "metadata": {},
   "outputs": [],
   "source": []
  },
  {
   "cell_type": "code",
   "execution_count": 14,
   "metadata": {},
   "outputs": [
    {
     "data": {
      "image/png": "[encoded data removed]",
      "text/plain": [
       "<Figure size 432x288 with 1 Axes>"
      ]
     },
     "metadata": {
      "needs_background": "light"
     },
     "output_type": "display_data"
    }
   ],
   "source": [
    "import matplotlib.pyplot as plt\n",
    "\n",
    "w = 1\n",
    "\n",
    "x = [a for a in range(-1, 2)]\n",
    "y = [-b + 1 for b in range(-1, 2)]\n",
    "plt.plot(x,y)\n",
    "plt.show()"
   ]
  }
 ],
 "metadata": {
  "kernelspec": {
   "display_name": "Python 3",
   "language": "python",
   "name": "python3"
  },
  "language_info": {
   "codemirror_mode": {
    "name": "ipython",
    "version": 3
   },
   "file_extension": ".py",
   "mimetype": "text/x-python",
   "name": "python",
   "nbconvert_exporter": "python",
   "pygments_lexer": "ipython3",
   "version": "3.7.3"
  }
 },
 "nbformat": 4,
 "nbformat_minor": 2
}
