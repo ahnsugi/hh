{
 "cells": [
  {
   "cell_type": "code",
   "execution_count": 10,
   "metadata": {},
   "outputs": [
    {
     "name": "stdout",
     "output_type": "stream",
     "text": [
      "XOR GATE\n",
      "\n",
      "(0, 0) -> 0\n",
      "(1, 0) -> 1\n",
      "(0, 1) -> 1\n",
      "(1, 1) -> 0\n"
     ]
    }
   ],
   "source": [
    "import numpy as np\n",
    "\n",
    "def XOR(x1, x2):\n",
    "    x = np.array([x1, x2])\n",
    "    w = np.array([-1, -1]) # w1, w2값을 -1로 정해준다.\n",
    "    b = 2 # b값을 2로 정해준다.\n",
    "    tmp = np.sum(w*x) + b\n",
    "   \n",
    "    if tmp != 1:\n",
    "        return 0 # 두 값이 모두 0이면 1\n",
    "    else:\n",
    "        return 1 # 두 값 중 한 값이라도 1이면 0\n",
    "\n",
    "print(\"XOR GATE\")\n",
    "print()\n",
    "for i in [(0, 0), (1, 0), (0, 1), (1, 1)]:\n",
    "    y = XOR(i[0], i[1])\n",
    "    print(str(i) + \" -> \" + str(y))"
   ]
  },
  {
   "cell_type": "code",
   "execution_count": 11,
   "metadata": {},
   "outputs": [
    {
     "name": "stdout",
     "output_type": "stream",
     "text": [
      "XOR GATE\n",
      "\n",
      "(0, 0) -> 0\n",
      "(1, 0) -> 1\n",
      "(0, 1) -> 1\n",
      "(1, 1) -> 0\n"
     ]
    }
   ],
   "source": [
    "import numpy as np\n",
    "\n",
    "def XOR(x1, x2):\n",
    "    x = np.array([x1, x2])\n",
    "    w = np.array([-81, -81]) # w1, w2값을 -1로 정해준다.\n",
    "    b = 82 # b값을 2로 정해준다.\n",
    "    tmp = np.sum(w*x) + b\n",
    "   \n",
    "    if tmp != 1:\n",
    "        return 0 # 두 값이 모두 0이면 1\n",
    "    else:\n",
    "        return 1 # 두 값 중 한 값이라도 1이면 0\n",
    "\n",
    "print(\"XOR GATE\")\n",
    "print()\n",
    "for i in [(0, 0), (1, 0), (0, 1), (1, 1)]:\n",
    "    y = XOR(i[0], i[1])\n",
    "    print(str(i) + \" -> \" + str(y))"
   ]
  },
  {
   "cell_type": "code",
   "execution_count": 12,
   "metadata": {},
   "outputs": [
    {
     "name": "stdout",
     "output_type": "stream",
     "text": [
      "XOR GATE\n",
      "\n",
      "(0, 0) -> 0\n",
      "(1, 0) -> 1\n",
      "(0, 1) -> 1\n",
      "(1, 1) -> 0\n"
     ]
    }
   ],
   "source": [
    "import numpy as np\n",
    "\n",
    "def XOR(x1, x2):\n",
    "    x = np.array([x1, x2])\n",
    "    w = np.array([62, 62]) # w1, w2값을 -1로 정해준다.\n",
    "    b = -61 # b값을 2로 정해준다.\n",
    "    tmp = np.sum(w*x) + b\n",
    "   \n",
    "    if tmp != 1:\n",
    "        return 0 # 두 값이 모두 0이면 1\n",
    "    else:\n",
    "        return 1 # 두 값 중 한 값이라도 1이면 0\n",
    "\n",
    "print(\"XOR GATE\")\n",
    "print()\n",
    "for i in [(0, 0), (1, 0), (0, 1), (1, 1)]:\n",
    "    y = XOR(i[0], i[1])\n",
    "    print(str(i) + \" -> \" + str(y))"
   ]
  },
  {
   "cell_type": "code",
   "execution_count": 18,
   "metadata": {},
   "outputs": [
    {
     "name": "stdout",
     "output_type": "stream",
     "text": [
      "XOR GATE\n",
      "\n",
      "(0, 0) -> 0\n",
      "(1, 0) -> 1\n",
      "(0, 1) -> 1\n",
      "(1, 1) -> 0\n"
     ]
    }
   ],
   "source": [
    "import numpy as np\n",
    "\n",
    "def XOR(x1, x2):\n",
    "    x = np.array([x1, x2])\n",
    "    b = -0.5 # b값을 2로 정해준다.\n",
    "    w = np.array([b, b]) # w1, w2값을 -1로 정해준다.\n",
    "    #w = np.array([-0.5, -0.5]) # w1, w2값을 -1로 정해준다.\n",
    "    #b = 1 # b값을 2로 정해준다.\n",
    "    tmp = np.sum(w*x) - (2 * b)\n",
    "   \n",
    "    if tmp != -b:\n",
    "        return 0 # 두 값이 모두 0이면 1\n",
    "    else:\n",
    "        return 1 # 두 값 중 한 값이라도 1이면 0\n",
    "\n",
    "print(\"XOR GATE\")\n",
    "print()\n",
    "for i in [(0, 0), (1, 0), (0, 1), (1, 1)]:\n",
    "    y = XOR(i[0], i[1])\n",
    "    print(str(i) + \" -> \" + str(y))"
   ]
  }
 ],
 "metadata": {
  "kernelspec": {
   "display_name": "Python 3",
   "language": "python",
   "name": "python3"
  },
  "language_info": {
   "codemirror_mode": {
    "name": "ipython",
    "version": 3
   },
   "file_extension": ".py",
   "mimetype": "text/x-python",
   "name": "python",
   "nbconvert_exporter": "python",
   "pygments_lexer": "ipython3",
   "version": "3.7.3"
  }
 },
 "nbformat": 4,
 "nbformat_minor": 2
}
