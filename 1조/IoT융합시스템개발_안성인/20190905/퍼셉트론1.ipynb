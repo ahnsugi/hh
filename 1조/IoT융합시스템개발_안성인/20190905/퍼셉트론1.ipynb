{
 "cells": [
  {
   "cell_type": "markdown",
   "metadata": {},
   "source": [
    "# 2019-09-05"
   ]
  },
  {
   "cell_type": "markdown",
   "metadata": {},
   "source": [
    "## 퍼셉트론"
   ]
  },
  {
   "cell_type": "markdown",
   "metadata": {},
   "source": [
    "### AND GATE"
   ]
  },
  {
   "cell_type": "code",
   "execution_count": 1,
   "metadata": {},
   "outputs": [
    {
     "name": "stdout",
     "output_type": "stream",
     "text": [
      "AND GATE\n",
      "\n",
      "(0, 0) -> 0\n",
      "(1, 0) -> 0\n",
      "(0, 1) -> 0\n",
      "(1, 1) -> 1\n"
     ]
    }
   ],
   "source": [
    "import numpy as np\n",
    "\n",
    "def AND(x1, x2):\n",
    "    x = np.array([x1, x2])\n",
    "    w = np.array([0.5, 0.5])# w1, w2값을 0.5로 정해준다.\n",
    "    b = -0.7# b값을 -0.7로 정해준다.\n",
    "    tmp = np.sum(w*x) + b\n",
    "    if tmp <= 0:\n",
    "        return 0# 두 값 중 한 값이라도 0이면 0\n",
    "    else:\n",
    "        return 1# 두 값이 모두 1이면 1\n",
    "\n",
    "print(\"AND GATE\")\n",
    "print()\n",
    "for i in [(0, 0), (1, 0), (0, 1), (1, 1)]:\n",
    "    y = AND(i[0], i[1])\n",
    "    print(str(i) + \" -> \" + str(y))"
   ]
  },
  {
   "cell_type": "markdown",
   "metadata": {},
   "source": [
    "### OR GATE"
   ]
  },
  {
   "cell_type": "code",
   "execution_count": 2,
   "metadata": {},
   "outputs": [
    {
     "name": "stdout",
     "output_type": "stream",
     "text": [
      "OR GATE\n",
      "\n",
      "(0, 0) -> 0\n",
      "(1, 0) -> 1\n",
      "(0, 1) -> 1\n",
      "(1, 1) -> 1\n"
     ]
    }
   ],
   "source": [
    "import numpy as np\n",
    "\n",
    "def OR(x1, x2):\n",
    "    x = np.array([x1, x2])\n",
    "    w = np.array([1, 1]) # w1, w2값을 1로 정해준다.\n",
    "    b = -0.7 # b값을 -0.7로 정해준다.\n",
    "    tmp = np.sum(w*x) + b\n",
    "    if tmp <= 0:\n",
    "        return 0 # 두 값이 모두 0이면 0\n",
    "    else:\n",
    "        return 1 # 두 값 중 한 값이라도 1이면 1\n",
    "\n",
    "print(\"OR GATE\")\n",
    "print()\n",
    "for i in [(0, 0), (1, 0), (0, 1), (1, 1)]:\n",
    "    y = OR(i[0], i[1])\n",
    "    print(str(i) + \" -> \" + str(y))"
   ]
  },
  {
   "cell_type": "markdown",
   "metadata": {},
   "source": [
    "### NAND GATE"
   ]
  },
  {
   "cell_type": "code",
   "execution_count": 5,
   "metadata": {},
   "outputs": [
    {
     "name": "stdout",
     "output_type": "stream",
     "text": [
      "NAND GATE\n",
      "\n",
      "(0, 0) -> 1\n",
      "(1, 0) -> 1\n",
      "(0, 1) -> 1\n",
      "(1, 1) -> 0\n"
     ]
    }
   ],
   "source": [
    "import numpy as np\n",
    "\n",
    "def NAND(x1, x2):\n",
    "    x = np.array([x1, x2])\n",
    "    w = np.array([-0.5, -0.5]) # w1, w2값을 0.5로 정해준다.\n",
    "    b = 0.7 # b값을 -0.7로 정해준다.\n",
    "    tmp = np.sum(w*x) + b\n",
    "    if tmp <= 0:\n",
    "        return 0 # 두 값 중 한 값이라도 0이면 1\n",
    "    else:\n",
    "        return 1 # 두 값이 모두 1이면 0\n",
    "\n",
    "print(\"NAND GATE\")\n",
    "print()\n",
    "for i in [(0, 0), (1, 0), (0, 1), (1, 1)]:\n",
    "    y = NAND(i[0], i[1])\n",
    "    print(str(i) + \" -> \" + str(y))"
   ]
  },
  {
   "cell_type": "markdown",
   "metadata": {},
   "source": [
    "### NOR GATE"
   ]
  },
  {
   "cell_type": "code",
   "execution_count": 6,
   "metadata": {},
   "outputs": [
    {
     "name": "stdout",
     "output_type": "stream",
     "text": [
      "NOR GATE\n",
      "\n",
      "(0, 0) -> 1\n",
      "(1, 0) -> 0\n",
      "(0, 1) -> 0\n",
      "(1, 1) -> 0\n"
     ]
    }
   ],
   "source": [
    "import numpy as np\n",
    "\n",
    "def NOR(x1, x2):\n",
    "    x = np.array([x1, x2])\n",
    "    w = np.array([-1, -1]) # w1, w2값을 1로 정해준다.\n",
    "    b = 0.7 # b값을 -0.7로 정해준다.\n",
    "    tmp = np.sum(w*x) + b\n",
    "    if tmp <= 0:\n",
    "        return 0 # 두 값이 모두 0이면 1\n",
    "    else:\n",
    "        return 1 # 두 값 중 한 값이라도 1이면 0\n",
    "\n",
    "print(\"NOR GATE\")\n",
    "print()\n",
    "for i in [(0, 0), (1, 0), (0, 1), (1, 1)]:\n",
    "    y = NOR(i[0], i[1])\n",
    "    print(str(i) + \" -> \" + str(y))"
   ]
  },
  {
   "cell_type": "code",
   "execution_count": null,
   "metadata": {},
   "outputs": [],
   "source": [
    "import numpy as np\n",
    "\n",
    "def XOR(x1, x2):\n",
    "    x = np.array([x1, x2])\n",
    "    w = np.array([-1, -1]) # w1, w2값을 1로 정해준다.\n",
    "    b = 2 # b값을 -0.7로 정해준다.\n",
    "    tmp = np.sum(w*x) + b\n",
    "    if tmp != 1:\n",
    "        return 0 # 두 값이 모두 0이면 1\n",
    "    else:\n",
    "        return 1 # 두 값 중 한 값이라도 1이면 0\n",
    "\n",
    "print(\"NOR GATE\")\n",
    "print()\n",
    "for i in [(0, 0), (1, 0), (0, 1), (1, 1)]:\n",
    "    y = NOR(i[0], i[1])\n",
    "    print(str(i) + \" -> \" + str(y))"
   ]
  },
  {
   "cell_type": "code",
   "execution_count": null,
   "metadata": {},
   "outputs": [],
   "source": []
  },
  {
   "cell_type": "code",
   "execution_count": null,
   "metadata": {},
   "outputs": [],
   "source": []
  },
  {
   "cell_type": "code",
   "execution_count": null,
   "metadata": {},
   "outputs": [],
   "source": []
  },
  {
   "cell_type": "code",
   "execution_count": 10,
   "metadata": {},
   "outputs": [
    {
     "ename": "KeyboardInterrupt",
     "evalue": "",
     "output_type": "error",
     "traceback": [
      "\u001b[1;31m---------------------------------------------------------------------------\u001b[0m",
      "\u001b[1;31mKeyboardInterrupt\u001b[0m                         Traceback (most recent call last)",
      "\u001b[1;32m<ipython-input-10-9d7289e293bb>\u001b[0m in \u001b[0;36m<module>\u001b[1;34m\u001b[0m\n\u001b[0;32m     19\u001b[0m     \u001b[0mepoch\u001b[0m \u001b[1;33m+=\u001b[0m \u001b[1;36m1\u001b[0m\u001b[1;33m\u001b[0m\u001b[1;33m\u001b[0m\u001b[0m\n\u001b[0;32m     20\u001b[0m     \u001b[0mw1\u001b[0m \u001b[1;33m=\u001b[0m \u001b[0mnp\u001b[0m\u001b[1;33m.\u001b[0m\u001b[0mrandom\u001b[0m\u001b[1;33m.\u001b[0m\u001b[0mnormal\u001b[0m\u001b[1;33m(\u001b[0m\u001b[1;33m)\u001b[0m\u001b[1;33m\u001b[0m\u001b[1;33m\u001b[0m\u001b[0m\n\u001b[1;32m---> 21\u001b[1;33m     \u001b[0mw2\u001b[0m \u001b[1;33m=\u001b[0m \u001b[0mnp\u001b[0m\u001b[1;33m.\u001b[0m\u001b[0mrandom\u001b[0m\u001b[1;33m.\u001b[0m\u001b[0mnormal\u001b[0m\u001b[1;33m(\u001b[0m\u001b[1;33m)\u001b[0m\u001b[1;33m\u001b[0m\u001b[1;33m\u001b[0m\u001b[0m\n\u001b[0m\u001b[0;32m     22\u001b[0m     \u001b[0mb\u001b[0m \u001b[1;33m=\u001b[0m \u001b[0mnp\u001b[0m\u001b[1;33m.\u001b[0m\u001b[0mrandom\u001b[0m\u001b[1;33m.\u001b[0m\u001b[0mnormal\u001b[0m\u001b[1;33m(\u001b[0m\u001b[1;33m)\u001b[0m\u001b[1;33m\u001b[0m\u001b[1;33m\u001b[0m\u001b[0m\n\u001b[0;32m     23\u001b[0m \u001b[1;33m\u001b[0m\u001b[0m\n",
      "\u001b[1;31mKeyboardInterrupt\u001b[0m: "
     ]
    }
   ],
   "source": [
    "data = [(0,0,0), (0,1,0),(1,0,0),(1,1,1)]\n",
    "w1 = 0\n",
    "w2 = 0\n",
    "b = 0\n",
    "cnt = 0\n",
    "epoch = 0\n",
    "\n",
    "def AND(x1, x2):\n",
    "    x = np.array([x1, x2])\n",
    "    w = np.array([w1, x2])\n",
    "    \n",
    "    tmp = np.sum(w*x)+b\n",
    "    if tmp <= 0:\n",
    "        return 0\n",
    "    else:\n",
    "        return 1\n",
    "\n",
    "while(1):\n",
    "    epoch += 1\n",
    "    w1 = np.random.normal()\n",
    "    w2 = np.random.normal()\n",
    "    b = np.random.normal()\n",
    "    \n",
    "    for i in data:\n",
    "        if(i[2] != AND(i[0],i[1])):\n",
    "            #print(\"실패\")\n",
    "            break\n",
    "        else:\n",
    "            cnt += 1\n",
    "    \n",
    "    if cnt == 4:\n",
    "        print(\"epoch = \", epoch)\n",
    "        print(\"w1 = \", w1)\n",
    "        print(\"w2 = \", w2)\n",
    "        print(\"b = \", b)\n",
    "        break"
   ]
  },
  {
   "cell_type": "code",
   "execution_count": null,
   "metadata": {},
   "outputs": [],
   "source": []
  }
 ],
 "metadata": {
  "kernelspec": {
   "display_name": "Python 3",
   "language": "python",
   "name": "python3"
  },
  "language_info": {
   "codemirror_mode": {
    "name": "ipython",
    "version": 3
   },
   "file_extension": ".py",
   "mimetype": "text/x-python",
   "name": "python",
   "nbconvert_exporter": "python",
   "pygments_lexer": "ipython3",
   "version": "3.7.3"
  }
 },
 "nbformat": 4,
 "nbformat_minor": 2
}
