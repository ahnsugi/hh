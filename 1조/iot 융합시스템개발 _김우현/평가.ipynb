{
 "cells": [
  {
   "cell_type": "code",
   "execution_count": 49,
   "metadata": {
    "scrolled": true
   },
   "outputs": [
    {
     "name": "stdout",
     "output_type": "stream",
     "text": [
      "숫자를 입력하시오.3\n",
      "----------------2단-----------------\n",
      "2 x 1 = 2\n",
      "2 x 2 = 4\n",
      "2 x 3 = 6\n",
      "2 x 4 = 8\n",
      "2 x 5 = 10\n",
      "2 x 6 = 12\n",
      "2 x 7 = 14\n",
      "2 x 8 = 16\n",
      "2 x 9 = 18\n",
      "----------------4단-----------------\n",
      "4 x 1 = 4\n",
      "4 x 2 = 8\n",
      "4 x 3 = 12\n",
      "4 x 4 = 16\n",
      "4 x 5 = 20\n",
      "4 x 6 = 24\n",
      "4 x 7 = 28\n",
      "4 x 8 = 32\n",
      "4 x 9 = 36\n",
      "----------------5단-----------------\n",
      "5 x 1 = 5\n",
      "5 x 2 = 10\n",
      "5 x 3 = 15\n",
      "5 x 4 = 20\n",
      "5 x 5 = 25\n",
      "5 x 6 = 30\n",
      "5 x 7 = 35\n",
      "5 x 8 = 40\n",
      "5 x 9 = 45\n",
      "----------------6단-----------------\n",
      "6 x 1 = 6\n",
      "6 x 2 = 12\n",
      "6 x 3 = 18\n",
      "6 x 4 = 24\n",
      "6 x 5 = 30\n",
      "6 x 6 = 36\n",
      "6 x 7 = 42\n",
      "6 x 8 = 48\n",
      "6 x 9 = 54\n",
      "----------------7단-----------------\n",
      "7 x 1 = 7\n",
      "7 x 2 = 14\n",
      "7 x 3 = 21\n",
      "7 x 4 = 28\n",
      "7 x 5 = 35\n",
      "7 x 6 = 42\n",
      "7 x 7 = 49\n",
      "7 x 8 = 56\n",
      "7 x 9 = 63\n",
      "----------------8단-----------------\n",
      "8 x 1 = 8\n",
      "8 x 2 = 16\n",
      "8 x 3 = 24\n",
      "8 x 4 = 32\n",
      "8 x 5 = 40\n",
      "8 x 6 = 48\n",
      "8 x 7 = 56\n",
      "8 x 8 = 64\n",
      "8 x 9 = 72\n",
      "----------------9단-----------------\n",
      "9 x 1 = 9\n",
      "9 x 2 = 18\n",
      "9 x 3 = 27\n",
      "9 x 4 = 36\n",
      "9 x 5 = 45\n",
      "9 x 6 = 54\n",
      "9 x 7 = 63\n",
      "9 x 8 = 72\n",
      "9 x 9 = 81\n"
     ]
    }
   ],
   "source": [
    "x = int(input(\"숫자를 입력하시오.\"))\n",
    "for i in range(2,10):   #2~9단\n",
    "    if (i == x):  \n",
    "        continue   #3,6단 제외\n",
    "    print(\"----------------{}단-----------------\". format(i))\n",
    "    for j in range(1,10):   #1~9 곱하기\n",
    "        print(\"{} x {} = {}\". format(i,j,i*j))   #포맷팅"
   ]
  },
  {
   "cell_type": "code",
   "execution_count": 10,
   "metadata": {},
   "outputs": [],
   "source": [
    "import numpy as np\n",
    "import random"
   ]
  },
  {
   "cell_type": "code",
   "execution_count": 28,
   "metadata": {},
   "outputs": [
    {
     "name": "stdout",
     "output_type": "stream",
     "text": [
      "[58, 71, 40]\n"
     ]
    }
   ],
   "source": [
    "import random\n",
    "A = []#어른\n",
    "B = []#청소년\n",
    "C = []#어린이\n",
    "for i in range(50):\n",
    "    C.append([random.randint(50,120), random.randint(20,40),random.randint(6,85),0])#키,몸무게, 기대여명\n",
    "    B.append([random.randint(100,180), random.randint(40,70),random.randint(13,76),1])\n",
    "    A.append([random.randint(140,190), random.randint(40,90),random.randint(19,66),2])\n",
    "new = [random.randint(50,200), random.randint(20,100), random.randint(5,100)] \n",
    "print(new)"
   ]
  },
  {
   "cell_type": "code",
   "execution_count": 29,
   "metadata": {},
   "outputs": [],
   "source": [
    "def distance(x,y):\n",
    "    #두 점 사이의 거리를 구하는 함수\n",
    "   return int(np.sqrt(pow((x[0]-y[0]),2)+pow((x[1]-y[1]),2)+pow((x[2]-y[2]),2)))"
   ]
  },
  {
   "cell_type": "code",
   "execution_count": 30,
   "metadata": {},
   "outputs": [],
   "source": [
    "def knn(x,y,k):\n",
    "    result = []\n",
    "    cnt = [0,0,0]\n",
    "    for i in range(len(y)):\n",
    "        result.append([distance(new,y[i]), y[i][3]])\n",
    "        result.sort()\n",
    "    for i in range(k-1):\n",
    "        if(result[i][1] == 0):\n",
    "            cnt[0] +=1\n",
    "        if(result[i][1] == 1):\n",
    "            cnt[1] +=1\n",
    "        if(result[i][1] == 2):\n",
    "            cnt[2] +=1\n",
    "            \n",
    "    if(cnt[0]>cnt[1])and(cnt[0]>cnt[2]):\n",
    "        print(\"어린이\")\n",
    "    elif(cnt[1]>cnt[0])and(cnt[1]>cnt[2]):\n",
    "        print(\"청소년\")    \n",
    "    else:\n",
    "        print(\"어른\")\n",
    "    \n",
    "    print(result)"
   ]
  },
  {
   "cell_type": "code",
   "execution_count": 32,
   "metadata": {},
   "outputs": [
    {
     "name": "stdout",
     "output_type": "stream",
     "text": [
      "k를 입력해주세요5\n"
     ]
    }
   ],
   "source": [
    "num = input('k를 입력해주세요')"
   ]
  },
  {
   "cell_type": "code",
   "execution_count": 34,
   "metadata": {},
   "outputs": [
    {
     "name": "stdout",
     "output_type": "stream",
     "text": [
      "어린이\n",
      "[[35, 0], [38, 0], [39, 0], [41, 0], [41, 0], [43, 0], [43, 0], [45, 0], [45, 0], [45, 0], [45, 0], [46, 0], [47, 1], [48, 0], [50, 0], [50, 0], [50, 1], [50, 1], [51, 0], [52, 0], [53, 0], [54, 0], [54, 0], [54, 1], [55, 0], [55, 0], [55, 0], [56, 0], [56, 1], [57, 0], [57, 0], [58, 0], [58, 0], [58, 1], [59, 0], [60, 0], [60, 0], [60, 0], [60, 1], [60, 1], [62, 0], [62, 0], [62, 1], [63, 0], [64, 0], [64, 0], [64, 0], [64, 0], [65, 0], [65, 1], [66, 0], [66, 1], [68, 0], [68, 0], [68, 0], [68, 0], [68, 1], [68, 1], [69, 0], [69, 0], [69, 1], [70, 1], [71, 1], [71, 1], [71, 1], [72, 1], [73, 0], [74, 0], [74, 1], [74, 1], [75, 1], [76, 0], [76, 1], [78, 1], [79, 1], [80, 1], [82, 1], [83, 1], [83, 1], [83, 2], [84, 1], [85, 1], [85, 1], [85, 1], [85, 1], [86, 1], [88, 1], [89, 1], [90, 2], [91, 1], [91, 2], [91, 2], [91, 2], [92, 1], [92, 1], [92, 2], [93, 2], [93, 2], [94, 2], [95, 2], [95, 2], [95, 2], [99, 1], [99, 2], [100, 2], [101, 1], [101, 2], [102, 1], [103, 2], [103, 2], [104, 2], [105, 2], [105, 2], [105, 2], [106, 2], [109, 1], [109, 2], [112, 2], [114, 1], [114, 2], [115, 2], [116, 2], [117, 2], [117, 2], [118, 2], [118, 2], [119, 1], [120, 2], [121, 1], [121, 2], [121, 2], [123, 1], [124, 2], [124, 2], [124, 2], [125, 1], [125, 2], [125, 2], [125, 2], [127, 2], [128, 1], [128, 2], [128, 2], [129, 2], [129, 2], [130, 2], [131, 2], [133, 2], [135, 2], [135, 2]]\n"
     ]
    }
   ],
   "source": [
    "knn(new,A+B+C, int(num))"
   ]
  },
  {
   "cell_type": "code",
   "execution_count": 36,
   "metadata": {},
   "outputs": [],
   "source": [
    "import tensorflow as tf\n",
    "import numpy as np\n",
    "mnist = tf.keras.datasets.mnist\n",
    "(x_train, y_train),(x_test, y_test) = mnist.load_data()"
   ]
  },
  {
   "cell_type": "code",
   "execution_count": 38,
   "metadata": {},
   "outputs": [
    {
     "data": {
      "text/plain": [
       "(60000, 28, 28)"
      ]
     },
     "metadata": {},
     "output_type": "display_data"
    },
    {
     "data": {
      "text/plain": [
       "(60000,)"
      ]
     },
     "metadata": {},
     "output_type": "display_data"
    },
    {
     "data": {
      "text/plain": [
       "(10000, 28, 28)"
      ]
     },
     "metadata": {},
     "output_type": "display_data"
    },
    {
     "data": {
      "text/plain": [
       "(10000,)"
      ]
     },
     "metadata": {},
     "output_type": "display_data"
    },
    {
     "data": {
      "text/plain": [
       "array([7, 2, 1, ..., 4, 5, 6], dtype=uint8)"
      ]
     },
     "metadata": {},
     "output_type": "display_data"
    }
   ],
   "source": [
    "display(x_train.shape)\n",
    "display(y_train.shape)\n",
    "display(x_test.shape)\n",
    "display(y_test.shape)\n",
    "\n",
    "display(y_test)"
   ]
  },
  {
   "cell_type": "code",
   "execution_count": 42,
   "metadata": {},
   "outputs": [],
   "source": [
    "import matplotlib.pyplot as plt\n",
    "\n",
    "def show_data(arr):\n",
    "    plt.imshow(arr, cmap=plt.cm.binary)\n",
    "    \n",
    "    reshape_data = arr.reshape(-1, )\n",
    "    for index, data in enumerate(reshape_data):\n",
    "        print('{:3d}'.format(data), end='')\n",
    "        if index % 28 == 27:\n",
    "            print()\n"
   ]
  },
  {
   "cell_type": "code",
   "execution_count": 43,
   "metadata": {
    "scrolled": true
   },
   "outputs": [
    {
     "name": "stdout",
     "output_type": "stream",
     "text": [
      "  0  0  0  0  0  0  0  0  0  0  0  0  0  0  0  0  0  0  0  0  0  0  0  0  0  0  0  0\n",
      "  0  0  0  0  0  0  0  0  0  0  0  0  0  0  0  0  0  0  0  0  0  0  0  0  0  0  0  0\n",
      "  0  0  0  0  0  0  0  0  0  0  0  0  0  0  0  0  0  0  0  0  0  0  0  0  0  0  0  0\n",
      "  0  0  0  0  0  0  0  0  0  0  0  0  0  0  0  0  0  0  0  0  0  0  0  0  0  0  0  0\n",
      "  0  0  0  0  0  0  0  0  0  0  0  0  0  0  0 51159253159 50  0  0  0  0  0  0  0  0\n",
      "  0  0  0  0  0  0  0  0  0  0  0  0  0  0 48238252252252237  0  0  0  0  0  0  0  0\n",
      "  0  0  0  0  0  0  0  0  0  0  0  0  0 54227253252239233252 57  6  0  0  0  0  0  0\n",
      "  0  0  0  0  0  0  0  0  0  0  0 10 60224252253252202 84252253122  0  0  0  0  0  0\n",
      "  0  0  0  0  0  0  0  0  0  0  0163252252252253252252 96189253167  0  0  0  0  0  0\n",
      "  0  0  0  0  0  0  0  0  0  0 51238253253190114253228 47 79255168  0  0  0  0  0  0\n",
      "  0  0  0  0  0  0  0  0  0 48238252252179 12 75121 21  0  0253243 50  0  0  0  0  0\n",
      "  0  0  0  0  0  0  0  0 38165253233208 84  0  0  0  0  0  0253252165  0  0  0  0  0\n",
      "  0  0  0  0  0  0  0  7178252240 71 19 28  0  0  0  0  0  0253252195  0  0  0  0  0\n",
      "  0  0  0  0  0  0  0 57252252 63  0  0  0  0  0  0  0  0  0253252195  0  0  0  0  0\n",
      "  0  0  0  0  0  0  0198253190  0  0  0  0  0  0  0  0  0  0255253196  0  0  0  0  0\n",
      "  0  0  0  0  0  0 76246252112  0  0  0  0  0  0  0  0  0  0253252148  0  0  0  0  0\n",
      "  0  0  0  0  0  0 85252230 25  0  0  0  0  0  0  0  0  7135253186 12  0  0  0  0  0\n",
      "  0  0  0  0  0  0 85252223  0  0  0  0  0  0  0  0  7131252225 71  0  0  0  0  0  0\n",
      "  0  0  0  0  0  0 85252145  0  0  0  0  0  0  0 48165252173  0  0  0  0  0  0  0  0\n",
      "  0  0  0  0  0  0 86253225  0  0  0  0  0  0114238253162  0  0  0  0  0  0  0  0  0\n",
      "  0  0  0  0  0  0 85252249146 48 29 85178225253223167 56  0  0  0  0  0  0  0  0  0\n",
      "  0  0  0  0  0  0 85252252252229215252252252196130  0  0  0  0  0  0  0  0  0  0  0\n",
      "  0  0  0  0  0  0 28199252252253252252233145  0  0  0  0  0  0  0  0  0  0  0  0  0\n",
      "  0  0  0  0  0  0  0 25128252253252141 37  0  0  0  0  0  0  0  0  0  0  0  0  0  0\n",
      "  0  0  0  0  0  0  0  0  0  0  0  0  0  0  0  0  0  0  0  0  0  0  0  0  0  0  0  0\n",
      "  0  0  0  0  0  0  0  0  0  0  0  0  0  0  0  0  0  0  0  0  0  0  0  0  0  0  0  0\n",
      "  0  0  0  0  0  0  0  0  0  0  0  0  0  0  0  0  0  0  0  0  0  0  0  0  0  0  0  0\n",
      "  0  0  0  0  0  0  0  0  0  0  0  0  0  0  0  0  0  0  0  0  0  0  0  0  0  0  0  0\n"
     ]
    },
    {
     "data": {
      "image/png": "[encoded data removed]",
      "text/plain": [
       "<Figure size 432x288 with 1 Axes>"
      ]
     },
     "metadata": {
      "needs_background": "light"
     },
     "output_type": "display_data"
    }
   ],
   "source": [
    "show_data(x_train[1])"
   ]
  },
  {
   "cell_type": "code",
   "execution_count": 44,
   "metadata": {},
   "outputs": [],
   "source": [
    "reshape_x_train = x_train.reshape(x_train.shape[0], 28, 28, 1)\n",
    "reshape_x_test = x_test.reshape(x_test.shape[0], 28, 28, 1)"
   ]
  },
  {
   "cell_type": "code",
   "execution_count": 45,
   "metadata": {},
   "outputs": [
    {
     "name": "stdout",
     "output_type": "stream",
     "text": [
      "Model: \"sequential\"\n",
      "_________________________________________________________________\n",
      "Layer (type)                 Output Shape              Param #   \n",
      "=================================================================\n",
      "flatten (Flatten)            (None, 784)               0         \n",
      "_________________________________________________________________\n",
      "dense (Dense)                (None, 64)                50240     \n",
      "_________________________________________________________________\n",
      "dense_1 (Dense)              (None, 16)                1040      \n",
      "_________________________________________________________________\n",
      "dense_2 (Dense)              (None, 10)                170       \n",
      "=================================================================\n",
      "Total params: 51,450\n",
      "Trainable params: 51,450\n",
      "Non-trainable params: 0\n",
      "_________________________________________________________________\n"
     ]
    }
   ],
   "source": [
    "from tensorflow.keras.models import Sequential\n",
    "from tensorflow.keras import layers\n",
    "\n",
    "model = Sequential()\n",
    "model.add(layers.InputLayer(input_shape=(28, 28, 1)))\n",
    "model.add(layers.Flatten())\n",
    "model.add(layers.Dense(64, activation='relu'))\n",
    "model.add(layers.Dense(16, activation='relu'))\n",
    "model.add(layers.Dense(10, activation='softmax'))\n",
    "\n",
    "model.summary()"
   ]
  },
  {
   "cell_type": "code",
   "execution_count": 46,
   "metadata": {},
   "outputs": [],
   "source": [
    "model.compile(\n",
    "    optimizer='adam',\n",
    "    loss='sparse_categorical_crossentropy',\n",
    "    metrics=['acc']\n",
    ")"
   ]
  },
  {
   "cell_type": "code",
   "execution_count": 47,
   "metadata": {},
   "outputs": [
    {
     "name": "stdout",
     "output_type": "stream",
     "text": [
      "Train on 54000 samples, validate on 6000 samples\n",
      "Epoch 1/50\n",
      "54000/54000 [==============================] - 1s 20us/sample - loss: 3.0265 - acc: 0.4191 - val_loss: 1.2041 - val_acc: 0.5768\n",
      "Epoch 2/50\n",
      "54000/54000 [==============================] - 1s 15us/sample - loss: 1.1365 - acc: 0.6169 - val_loss: 0.9726 - val_acc: 0.6655\n",
      "Epoch 3/50\n",
      "54000/54000 [==============================] - 1s 14us/sample - loss: 0.9380 - acc: 0.6946 - val_loss: 0.8098 - val_acc: 0.7347\n",
      "Epoch 4/50\n",
      "54000/54000 [==============================] - 1s 12us/sample - loss: 0.8004 - acc: 0.7442 - val_loss: 0.7412 - val_acc: 0.7527\n",
      "Epoch 5/50\n",
      "54000/54000 [==============================] - 1s 13us/sample - loss: 0.6736 - acc: 0.7862 - val_loss: 0.5654 - val_acc: 0.8337\n",
      "Epoch 6/50\n",
      "54000/54000 [==============================] - 1s 14us/sample - loss: 0.5698 - acc: 0.8268 - val_loss: 0.5009 - val_acc: 0.8440\n",
      "Epoch 7/50\n",
      "54000/54000 [==============================] - 1s 14us/sample - loss: 0.4841 - acc: 0.8561 - val_loss: 0.4083 - val_acc: 0.8857\n",
      "Epoch 8/50\n",
      "54000/54000 [==============================] - 1s 13us/sample - loss: 0.4080 - acc: 0.8822 - val_loss: 0.4068 - val_acc: 0.8930\n",
      "Epoch 9/50\n",
      "54000/54000 [==============================] - 1s 14us/sample - loss: 0.3474 - acc: 0.9016 - val_loss: 0.3304 - val_acc: 0.9135\n",
      "Epoch 10/50\n",
      "54000/54000 [==============================] - 1s 14us/sample - loss: 0.3057 - acc: 0.9133 - val_loss: 0.2835 - val_acc: 0.9285\n",
      "Epoch 11/50\n",
      "54000/54000 [==============================] - 1s 14us/sample - loss: 0.2655 - acc: 0.9234 - val_loss: 0.2618 - val_acc: 0.9307\n",
      "Epoch 12/50\n",
      "54000/54000 [==============================] - 1s 14us/sample - loss: 0.2299 - acc: 0.9324 - val_loss: 0.2693 - val_acc: 0.9360\n",
      "Epoch 13/50\n",
      "54000/54000 [==============================] - 1s 14us/sample - loss: 0.2066 - acc: 0.9403 - val_loss: 0.1968 - val_acc: 0.9453\n",
      "Epoch 14/50\n",
      "54000/54000 [==============================] - 1s 14us/sample - loss: 0.1844 - acc: 0.9450 - val_loss: 0.2094 - val_acc: 0.9478\n",
      "Epoch 15/50\n",
      "54000/54000 [==============================] - 1s 14us/sample - loss: 0.1663 - acc: 0.9513 - val_loss: 0.1985 - val_acc: 0.9533\n",
      "Epoch 16/50\n",
      "54000/54000 [==============================] - 1s 14us/sample - loss: 0.1465 - acc: 0.9567 - val_loss: 0.1805 - val_acc: 0.9595\n",
      "Epoch 17/50\n",
      "54000/54000 [==============================] - 1s 13us/sample - loss: 0.1297 - acc: 0.9618 - val_loss: 0.1793 - val_acc: 0.9625\n",
      "Epoch 18/50\n",
      "54000/54000 [==============================] - 1s 13us/sample - loss: 0.1246 - acc: 0.9635 - val_loss: 0.1507 - val_acc: 0.9628\n",
      "Epoch 19/50\n",
      "54000/54000 [==============================] - 1s 13us/sample - loss: 0.1141 - acc: 0.9664 - val_loss: 0.1607 - val_acc: 0.9615\n",
      "Epoch 20/50\n",
      "54000/54000 [==============================] - 1s 14us/sample - loss: 0.1032 - acc: 0.9691 - val_loss: 0.1427 - val_acc: 0.9653\n",
      "Epoch 21/50\n",
      "54000/54000 [==============================] - 1s 14us/sample - loss: 0.0896 - acc: 0.9729 - val_loss: 0.1474 - val_acc: 0.9655\n",
      "Epoch 22/50\n",
      "54000/54000 [==============================] - 1s 14us/sample - loss: 0.0921 - acc: 0.9729 - val_loss: 0.1765 - val_acc: 0.9583\n",
      "Epoch 23/50\n",
      "54000/54000 [==============================] - 1s 14us/sample - loss: 0.0836 - acc: 0.9750 - val_loss: 0.1701 - val_acc: 0.9608\n",
      "Epoch 24/50\n",
      "54000/54000 [==============================] - 1s 13us/sample - loss: 0.0829 - acc: 0.9758 - val_loss: 0.1554 - val_acc: 0.9662\n",
      "Epoch 25/50\n",
      "54000/54000 [==============================] - 1s 14us/sample - loss: 0.0721 - acc: 0.9785 - val_loss: 0.1383 - val_acc: 0.9682\n",
      "Epoch 26/50\n",
      "54000/54000 [==============================] - 1s 14us/sample - loss: 0.0650 - acc: 0.9799 - val_loss: 0.1538 - val_acc: 0.9690\n",
      "Epoch 27/50\n",
      "54000/54000 [==============================] - 1s 14us/sample - loss: 0.0615 - acc: 0.9815 - val_loss: 0.1631 - val_acc: 0.9653\n",
      "Epoch 28/50\n",
      "54000/54000 [==============================] - 1s 15us/sample - loss: 0.0611 - acc: 0.9816 - val_loss: 0.1347 - val_acc: 0.9688\n",
      "Epoch 29/50\n",
      "54000/54000 [==============================] - 1s 13us/sample - loss: 0.0574 - acc: 0.9830 - val_loss: 0.1497 - val_acc: 0.9677\n",
      "Epoch 30/50\n",
      "54000/54000 [==============================] - 1s 14us/sample - loss: 0.0597 - acc: 0.9826 - val_loss: 0.1810 - val_acc: 0.9647\n",
      "Epoch 31/50\n",
      "54000/54000 [==============================] - 1s 14us/sample - loss: 0.0558 - acc: 0.9828 - val_loss: 0.1460 - val_acc: 0.9683\n",
      "Epoch 32/50\n",
      "54000/54000 [==============================] - 1s 13us/sample - loss: 0.0513 - acc: 0.9849 - val_loss: 0.1725 - val_acc: 0.9665\n",
      "Epoch 33/50\n",
      "54000/54000 [==============================] - 1s 14us/sample - loss: 0.0511 - acc: 0.9848 - val_loss: 0.1901 - val_acc: 0.9672\n",
      "Epoch 34/50\n",
      "54000/54000 [==============================] - 1s 14us/sample - loss: 0.0477 - acc: 0.9851 - val_loss: 0.1797 - val_acc: 0.9663\n",
      "Epoch 35/50\n",
      "54000/54000 [==============================] - 1s 14us/sample - loss: 0.0501 - acc: 0.9849 - val_loss: 0.1589 - val_acc: 0.9680\n",
      "Epoch 36/50\n",
      "54000/54000 [==============================] - 1s 14us/sample - loss: 0.0421 - acc: 0.9871 - val_loss: 0.1772 - val_acc: 0.9687\n",
      "Epoch 37/50\n",
      "54000/54000 [==============================] - 1s 13us/sample - loss: 0.0421 - acc: 0.9874 - val_loss: 0.1838 - val_acc: 0.9655\n",
      "Epoch 38/50\n",
      "54000/54000 [==============================] - 1s 14us/sample - loss: 0.0441 - acc: 0.9869 - val_loss: 0.1977 - val_acc: 0.9687\n",
      "Epoch 39/50\n",
      "54000/54000 [==============================] - 1s 14us/sample - loss: 0.0406 - acc: 0.9878 - val_loss: 0.1691 - val_acc: 0.9703\n",
      "Epoch 40/50\n",
      "54000/54000 [==============================] - 1s 14us/sample - loss: 0.0362 - acc: 0.9888 - val_loss: 0.1781 - val_acc: 0.9665\n",
      "Epoch 41/50\n",
      "54000/54000 [==============================] - 1s 14us/sample - loss: 0.0378 - acc: 0.9886 - val_loss: 0.2089 - val_acc: 0.9635\n",
      "Epoch 42/50\n",
      "54000/54000 [==============================] - 1s 13us/sample - loss: 0.0378 - acc: 0.9885 - val_loss: 0.1811 - val_acc: 0.9703\n",
      "Epoch 43/50\n",
      "54000/54000 [==============================] - 1s 14us/sample - loss: 0.0376 - acc: 0.9886 - val_loss: 0.1896 - val_acc: 0.9655\n",
      "Epoch 44/50\n",
      "54000/54000 [==============================] - 1s 14us/sample - loss: 0.0377 - acc: 0.9886 - val_loss: 0.1847 - val_acc: 0.9672\n",
      "Epoch 45/50\n",
      "54000/54000 [==============================] - 1s 14us/sample - loss: 0.0322 - acc: 0.9905 - val_loss: 0.1864 - val_acc: 0.9707\n",
      "Epoch 46/50\n",
      "54000/54000 [==============================] - 1s 14us/sample - loss: 0.0327 - acc: 0.9897 - val_loss: 0.1771 - val_acc: 0.9705\n",
      "Epoch 47/50\n",
      "54000/54000 [==============================] - 1s 16us/sample - loss: 0.0309 - acc: 0.9910 - val_loss: 0.2242 - val_acc: 0.9673\n",
      "Epoch 48/50\n",
      "54000/54000 [==============================] - 1s 13us/sample - loss: 0.0319 - acc: 0.9906 - val_loss: 0.1923 - val_acc: 0.9703\n",
      "Epoch 49/50\n",
      "54000/54000 [==============================] - 1s 13us/sample - loss: 0.0287 - acc: 0.9914 - val_loss: 0.1936 - val_acc: 0.9695\n",
      "Epoch 50/50\n",
      "54000/54000 [==============================] - 1s 14us/sample - loss: 0.0319 - acc: 0.9909 - val_loss: 0.1971 - val_acc: 0.9693\n"
     ]
    }
   ],
   "source": [
    "history = model.fit(\n",
    "    reshape_x_train,\n",
    "    y_train,\n",
    "    batch_size=128,\n",
    "    epochs=50,\n",
    "    validation_split=.1,\n",
    ")"
   ]
  },
  {
   "cell_type": "code",
   "execution_count": null,
   "metadata": {},
   "outputs": [],
   "source": []
  }
 ],
 "metadata": {
  "kernelspec": {
   "display_name": "Python 3",
   "language": "python",
   "name": "python3"
  },
  "language_info": {
   "codemirror_mode": {
    "name": "ipython",
    "version": 3
   },
   "file_extension": ".py",
   "mimetype": "text/x-python",
   "name": "python",
   "nbconvert_exporter": "python",
   "pygments_lexer": "ipython3",
   "version": "3.7.3"
  }
 },
 "nbformat": 4,
 "nbformat_minor": 2
}
