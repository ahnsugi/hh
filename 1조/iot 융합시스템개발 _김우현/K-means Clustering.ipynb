{
 "cells": [
  {
   "cell_type": "markdown",
   "metadata": {},
   "source": [
    "# K-means Clustering\n"
   ]
  },
  {
   "cell_type": "code",
   "execution_count": 165,
   "metadata": {},
   "outputs": [
    {
     "data": {
      "text/plain": [
       "[<matplotlib.lines.Line2D at 0x22a818ef898>]"
      ]
     },
     "execution_count": 165,
     "metadata": {},
     "output_type": "execute_result"
    },
    {
     "data": {
      "image/png": "[encoded data removed]",
      "text/plain": [
       "<Figure size 432x288 with 1 Axes>"
      ]
     },
     "metadata": {
      "needs_background": "light"
     },
     "output_type": "display_data"
    }
   ],
   "source": [
    "import numpy as np\n",
    "import random\n",
    "import matplotlib.pyplot as plt\n",
    "%matplotlib inline\n",
    "w = []\n",
    "m = []\n",
    "\n",
    "for i in range(50):\n",
    "    w.append([random.randint(40, 70), random.randint(140, 180)])\n",
    "    m.append([random.randint(60, 90), random.randint(160, 200)])\n",
    "\n",
    "new1 = [random.randint(40,90), random.randint(140,200)]\n",
    "new2 = [random.randint(40,90), random.randint(140,200)]\n",
    "\n",
    "for i in range(0,50):\n",
    "        dnew1=np.sqrt(pow((new1[0]-w[i][0]),2)+pow((new1[1]-w[i][1]),2))\n",
    "        dnew2=np.sqrt(pow((new2[0]-w[i][0]),2)+pow((new2[1]-w[i][1]),2))\n",
    "\n",
    "        if(dnew1<dnew2):\n",
    "            plt.plot(w[i][0],w[i][1], marker = 'o', linestyle = '', color = 'red')\n",
    "        else:\n",
    "            plt.plot(w[i][0],w[i][1], marker = 'o', linestyle = '', color = 'blue')\n",
    "\n",
    "\n",
    "\n",
    "for i in range(0,50):\n",
    "    dnew1=np.sqrt(pow((new1[0]-m[i][0]),2)+pow((new1[1]-m[i][1]),2))\n",
    "    dnew2=np.sqrt(pow((new2[0]-m[i][0]),2)+pow((new2[1]-m[i][1]),2))  \n",
    "    if(dnew1<dnew2):\n",
    "        plt.plot(m[i][0],m[i][1], marker = 'o', linestyle = '', color = 'red')\n",
    "    else:\n",
    "        plt.plot(m[i][0],m[i][1], marker = 'o', linestyle = '', color = 'blue')    \n",
    "\n",
    "plt.plot(new1[0],new1[1], marker = 'x', linestyle = '', color = 'black')\n",
    "plt.plot(new2[0],new2[1], marker = 'x', linestyle = '',color = 'black')      \n"
   ]
  },
  {
   "cell_type": "code",
   "execution_count": 17,
   "metadata": {},
   "outputs": [
    {
     "data": {
      "image/png": "[encoded data removed]",
      "text/plain": [
       "<Figure size 432x288 with 1 Axes>"
      ]
     },
     "metadata": {
      "needs_background": "light"
     },
     "output_type": "display_data"
    }
   ],
   "source": [
    "for i in range(0,10):\n",
    "    for i in range(0,50):\n",
    "        dnew1=np.sqrt(pow((new1[0]-w[i][0]),2)+pow((new1[1]-w[i][1]),2))\n",
    "        dnew2=np.sqrt(pow((new2[0]-w[i][0]),2)+pow((new2[1]-w[i][1]),2))\n",
    "\n",
    "        if(dnew1<dnew2):\n",
    "            plt.plot(w[i][0],w[i][1], marker = 'o', linestyle = '', color = 'red')\n",
    "        else:\n",
    "            plt.plot(w[i][0],w[i][1], marker = 'o', linestyle = '', color = 'blue')\n",
    "\n",
    "\n",
    "\n",
    "    for i in range(0,50):\n",
    "        dnew1=np.sqrt(pow((new1[0]-m[i][0]),2)+pow((new1[1]-m[i][1]),2))\n",
    "        dnew2=np.sqrt(pow((new2[0]-m[i][0]),2)+pow((new2[1]-m[i][1]),2))  \n",
    "        if(dnew1<dnew2):\n",
    "            plt.plot(m[i][0],m[i][1], marker = 'o', linestyle = '', color = 'red')\n",
    "        else:\n",
    "            plt.plot(m[i][0],m[i][1], marker = 'o', linestyle = '', color = 'blue')     \n",
    "    \n",
    "\n",
    "    new1_sumWeight = 0\n",
    "    new2_sumWeight = 0\n",
    "    new1_sumheight = 0\n",
    "    new2_sumheight = 0\n",
    "\n",
    "\n",
    "    for i in range(50):\n",
    "        new1_sumWeight += w[i][0]\n",
    "        new1_avgWeight = new1_sumWeight/50\n",
    "   # print(new1_avgWeight)    \n",
    "\n",
    "    new1_sumheight = 0\n",
    "    for i in range(50):\n",
    "        new1_sumheight += w[i][1]\n",
    "        new1_avgheight = new1_sumheight/50\n",
    "  #  print(new1_avgheight)  \n",
    "\n",
    "    new1 = [new1_avgWeight, new1_avgheight]\n",
    "\n",
    "\n",
    "    new2_sumWeight = 0\n",
    "    for i in range(50):\n",
    "        new2_sumWeight += m[i][0]\n",
    "        new2_avgWeight = new2_sumWeight/50\n",
    "  #  print(new2_avgWeight)    \n",
    "\n",
    "    new1_sumheight = 0\n",
    "    for i in range(50):\n",
    "        new2_sumheight += m[i][1]\n",
    "        new2_avgheight = new2_sumheight/50\n",
    "  #  print(new2_avgheight)  \n",
    "\n",
    "    new2 = [new2_avgWeight, new2_avgheight]\n",
    "\n",
    "\n",
    "\n",
    "    plt.plot(new1[0],new1[1], marker = 'o', linestyle = '', color = 'black')\n",
    "    plt.plot(new2[0],new2[1], marker = 'o', linestyle = '',color = 'black')      "
   ]
  },
  {
   "cell_type": "code",
   "execution_count": null,
   "metadata": {},
   "outputs": [],
   "source": []
  },
  {
   "cell_type": "code",
   "execution_count": null,
   "metadata": {},
   "outputs": [],
   "source": []
  },
  {
   "cell_type": "code",
   "execution_count": 14,
   "metadata": {},
   "outputs": [
    {
     "data": {
      "image/png": "[encoded data removed]",
      "text/plain": [
       "<Figure size 432x288 with 1 Axes>"
      ]
     },
     "metadata": {
      "needs_background": "light"
     },
     "output_type": "display_data"
    }
   ],
   "source": [
    "import numpy as np\n",
    "import random\n",
    "import matplotlib.pyplot as plt\n",
    "%matplotlib inline\n",
    "w = []\n",
    "m = []\n",
    "\n",
    "for i in range(50):\n",
    "    w.append([random.randint(40, 70), random.randint(140, 180)])\n",
    "    m.append([random.randint(60, 90), random.randint(160, 200)])\n",
    "\n",
    "new1 = [random.randint(40,90), random.randint(140,200)]\n",
    "new2 = [random.randint(40,90), random.randint(140,200)]\n",
    "\n",
    "#print(new1)\n",
    "#print(new2)\n",
    "\n",
    "a=(new2[1]-new1[1])/(new2[0]-new1[0])  # 기울기\n",
    "#print(a)\n",
    "\n",
    "a= (1/a)*-1 #수직 기울기\n",
    "#print(a)\n",
    "\n",
    "mid = [(new1[0]+new2[0])/2, (new1[1]+new2[1])/2]  #중앙 점\n",
    "\n",
    "\n",
    "b = mid[1]-(a*mid[0])  #b값\n",
    "\n",
    "#print(b)\n",
    "\n",
    "\n",
    "x0= (b/a)*-1\n",
    "#print(mid)\n",
    "\n",
    "plt.plot([new1[0],new2[0]],[new1[1],new2[1]])\n",
    "\n",
    "plt.plot([0,(b/a)*-1],[b,0])\n",
    "\n",
    "\n",
    "\n",
    "plt.plot(new1[0],new1[1], marker = 'x', linestyle = '', color = 'black')\n",
    "plt.plot(new2[0],new2[1], marker = 'x', linestyle = '',color = 'black')\n",
    "for i in range (50):\n",
    "    w1 = w[i][1] - (a * w[i][0])\n",
    "    if(b>w1):\n",
    "        plt.plot(w[i][0],w[i][1], marker = 'o', linestyle = '', color = 'red')\n",
    "    else:\n",
    "        plt.plot(w[i][0],w[i][1], marker = 'o', linestyle = '', color = 'blue')\n",
    "\n",
    "for i in range (50):\n",
    "    m1 = m[i][1] - (a * m[i][0])\n",
    "    if(b>m1):\n",
    "        plt.plot(m[i][0],m[i][1], marker = 'o', linestyle = '', color = 'red')\n",
    "    else:\n",
    "        plt.plot(m[i][0],m[i][1], marker = 'o', linestyle = '', color = 'blue')"
   ]
  }
 ],
 "metadata": {
  "kernelspec": {
   "display_name": "Python 3",
   "language": "python",
   "name": "python3"
  },
  "language_info": {
   "codemirror_mode": {
    "name": "ipython",
    "version": 3
   },
   "file_extension": ".py",
   "mimetype": "text/x-python",
   "name": "python",
   "nbconvert_exporter": "python",
   "pygments_lexer": "ipython3",
   "version": "3.7.3"
  }
 },
 "nbformat": 4,
 "nbformat_minor": 2
}
