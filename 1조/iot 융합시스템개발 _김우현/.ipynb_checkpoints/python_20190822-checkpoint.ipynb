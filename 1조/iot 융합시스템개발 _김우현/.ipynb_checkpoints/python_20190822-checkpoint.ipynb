{
 "cells": [
  {
   "cell_type": "markdown",
   "metadata": {},
   "source": [
    "# 4.1 NumPy ndarray: 다차원 배역 객체"
   ]
  },
  {
   "cell_type": "code",
   "execution_count": 8,
   "metadata": {},
   "outputs": [],
   "source": [
    "import numpy as np"
   ]
  },
  {
   "cell_type": "markdown",
   "metadata": {},
   "source": [
    "# 4.1.1 nadarray 생성"
   ]
  },
  {
   "cell_type": "code",
   "execution_count": 9,
   "metadata": {},
   "outputs": [],
   "source": [
    "data1 = [6,7,8,0,1]"
   ]
  },
  {
   "cell_type": "code",
   "execution_count": 10,
   "metadata": {},
   "outputs": [],
   "source": [
    "arr1= np.array(data1)"
   ]
  },
  {
   "cell_type": "code",
   "execution_count": null,
   "metadata": {},
   "outputs": [],
   "source": [
    "arr1"
   ]
  },
  {
   "cell_type": "code",
   "execution_count": null,
   "metadata": {},
   "outputs": [],
   "source": [
    "type(arr1)"
   ]
  },
  {
   "cell_type": "code",
   "execution_count": null,
   "metadata": {
    "scrolled": true
   },
   "outputs": [],
   "source": [
    "type(data1)"
   ]
  },
  {
   "cell_type": "code",
   "execution_count": 11,
   "metadata": {},
   "outputs": [],
   "source": [
    "l = [[1,2,3],[4,5,6]]\n",
    "l2 = [[1,2,3],[4,5,6]]\n",
    "\n",
    "n = np.array(l)\n",
    "n2 = np.array(l)"
   ]
  },
  {
   "cell_type": "code",
   "execution_count": null,
   "metadata": {},
   "outputs": [],
   "source": [
    "print(l)\n",
    "print(n)"
   ]
  },
  {
   "cell_type": "code",
   "execution_count": null,
   "metadata": {},
   "outputs": [],
   "source": [
    "print(l2)\n",
    "print(n2)"
   ]
  },
  {
   "cell_type": "code",
   "execution_count": null,
   "metadata": {},
   "outputs": [],
   "source": [
    "print(l+l2)"
   ]
  },
  {
   "cell_type": "code",
   "execution_count": null,
   "metadata": {},
   "outputs": [],
   "source": [
    "print(n +n2)"
   ]
  },
  {
   "cell_type": "code",
   "execution_count": null,
   "metadata": {},
   "outputs": [],
   "source": [
    "print(l*2)"
   ]
  },
  {
   "cell_type": "code",
   "execution_count": 12,
   "metadata": {},
   "outputs": [
    {
     "name": "stdout",
     "output_type": "stream",
     "text": [
      "[[ 2  4  6]\n",
      " [ 8 10 12]]\n"
     ]
    }
   ],
   "source": [
    "print(n*2)"
   ]
  },
  {
   "cell_type": "code",
   "execution_count": null,
   "metadata": {},
   "outputs": [],
   "source": []
  },
  {
   "cell_type": "code",
   "execution_count": null,
   "metadata": {},
   "outputs": [],
   "source": [
    "import numpy as np"
   ]
  },
  {
   "cell_type": "code",
   "execution_count": 14,
   "metadata": {},
   "outputs": [],
   "source": [
    "r=[4,2,1]\n",
    "b=[5,1,0]"
   ]
  },
  {
   "cell_type": "code",
   "execution_count": 15,
   "metadata": {},
   "outputs": [],
   "source": [
    "r1 = np.array(r)\n",
    "b1 = np.array(b)"
   ]
  },
  {
   "cell_type": "code",
   "execution_count": 16,
   "metadata": {},
   "outputs": [
    {
     "name": "stdout",
     "output_type": "stream",
     "text": [
      "[4 2 1]\n",
      "[5 1 0]\n"
     ]
    }
   ],
   "source": [
    "print(r1)\n",
    "print(b1)"
   ]
  },
  {
   "cell_type": "code",
   "execution_count": null,
   "metadata": {},
   "outputs": [],
   "source": []
  },
  {
   "cell_type": "markdown",
   "metadata": {},
   "source": [
    "# 그래프를 그려주는 프로그램"
   ]
  },
  {
   "cell_type": "code",
   "execution_count": 20,
   "metadata": {},
   "outputs": [],
   "source": [
    "import matplotlib.pyplot as plt\n",
    "%matplotlib inline"
   ]
  },
  {
   "cell_type": "code",
   "execution_count": 21,
   "metadata": {},
   "outputs": [
    {
     "data": {
      "text/plain": [
       "[<matplotlib.lines.Line2D at 0x1fe09a368d0>]"
      ]
     },
     "execution_count": 21,
     "metadata": {},
     "output_type": "execute_result"
    },
    {
     "data": {
      "image/png": "[encoded data removed]",
      "text/plain": [
       "<Figure size 432x288 with 1 Axes>"
      ]
     },
     "metadata": {
      "needs_background": "light"
     },
     "output_type": "display_data"
    }
   ],
   "source": [
    "plt.plot([1,2,3,4],[1,2,3,4])"
   ]
  },
  {
   "cell_type": "code",
   "execution_count": 25,
   "metadata": {},
   "outputs": [
    {
     "data": {
      "text/plain": [
       "[<matplotlib.lines.Line2D at 0x1fe09e7f6d8>]"
      ]
     },
     "execution_count": 25,
     "metadata": {},
     "output_type": "execute_result"
    },
    {
     "data": {
      "image/png": "[encoded data removed]",
      "text/plain": [
       "<Figure size 432x288 with 1 Axes>"
      ]
     },
     "metadata": {
      "needs_background": "light"
     },
     "output_type": "display_data"
    }
   ],
   "source": [
    "plt.plot(1,2, marker = 'o', linestyle = '', color = 'red')\n",
    "plt.plot(2,4, marker = 'o', linestyle = '',color = 'red')\n",
    "plt.plot(3,6, marker = 'o', linestyle = '',color = 'blue')"
   ]
  },
  {
   "cell_type": "code",
   "execution_count": null,
   "metadata": {},
   "outputs": [],
   "source": []
  },
  {
   "cell_type": "markdown",
   "metadata": {},
   "source": [
    "# np랜덤(선형그래프)"
   ]
  },
  {
   "cell_type": "code",
   "execution_count": null,
   "metadata": {},
   "outputs": [],
   "source": []
  },
  {
   "cell_type": "code",
   "execution_count": 38,
   "metadata": {},
   "outputs": [],
   "source": [
    "import numpy as np"
   ]
  },
  {
   "cell_type": "code",
   "execution_count": 39,
   "metadata": {},
   "outputs": [],
   "source": [
    "samples = np.random.normal(size = (2,3))"
   ]
  },
  {
   "cell_type": "code",
   "execution_count": 40,
   "metadata": {},
   "outputs": [
    {
     "name": "stdout",
     "output_type": "stream",
     "text": [
      "[[-1.15401981  0.75706544  0.57495464]\n",
      " [-1.29467383  0.90651977  1.15863384]]\n"
     ]
    }
   ],
   "source": [
    "print(samples)"
   ]
  },
  {
   "cell_type": "code",
   "execution_count": null,
   "metadata": {},
   "outputs": [],
   "source": []
  },
  {
   "cell_type": "code",
   "execution_count": 42,
   "metadata": {},
   "outputs": [],
   "source": [
    "import numpy as np\n",
    "\n",
    "red = np.random.normal(size = (2,3))\n",
    "blue = np.random.normal(size = (2,3))"
   ]
  },
  {
   "cell_type": "code",
   "execution_count": 43,
   "metadata": {},
   "outputs": [
    {
     "name": "stdout",
     "output_type": "stream",
     "text": [
      "[[ 0.6689651  -0.49340957 -1.28265354]\n",
      " [ 0.69652792 -0.17397558  2.10467408]]\n",
      "[[-2.28051032  0.28816957 -0.44149385]\n",
      " [-1.28052729 -1.20000772 -0.98030602]]\n"
     ]
    }
   ],
   "source": [
    "print(red)\n",
    "print(blue)"
   ]
  },
  {
   "cell_type": "code",
   "execution_count": null,
   "metadata": {},
   "outputs": [],
   "source": []
  },
  {
   "cell_type": "code",
   "execution_count": null,
   "metadata": {},
   "outputs": [],
   "source": [
    "# a = [random.randint(0,10), random.randint(0,10), random.randint(0,2)]"
   ]
  },
  {
   "cell_type": "code",
   "execution_count": 45,
   "metadata": {},
   "outputs": [
    {
     "name": "stdout",
     "output_type": "stream",
     "text": [
      "4\n"
     ]
    }
   ],
   "source": [
    "print(2**2)"
   ]
  },
  {
   "cell_type": "code",
   "execution_count": 44,
   "metadata": {},
   "outputs": [
    {
     "name": "stdout",
     "output_type": "stream",
     "text": [
      "2.0\n"
     ]
    }
   ],
   "source": [
    "print(np.sqrt(4))"
   ]
  },
  {
   "cell_type": "code",
   "execution_count": null,
   "metadata": {},
   "outputs": [],
   "source": []
  },
  {
   "cell_type": "markdown",
   "metadata": {},
   "source": [
    "# knn 실습 _by me"
   ]
  },
  {
   "cell_type": "code",
   "execution_count": 66,
   "metadata": {},
   "outputs": [],
   "source": [
    "import numpy as np\n",
    "import random\n",
    "import matplotlib.pyplot as plt\n",
    "%matplotlib inline"
   ]
  },
  {
   "cell_type": "code",
   "execution_count": 67,
   "metadata": {},
   "outputs": [],
   "source": [
    "r = []\n",
    "b = []"
   ]
  },
  {
   "cell_type": "code",
   "execution_count": 68,
   "metadata": {},
   "outputs": [],
   "source": [
    "for i in range(0,100):\n",
    "    a = [random.randint(0,100), random.randint(0,100), random.randint(0,1)]\n",
    "    if (a[2] ==1):\n",
    "        r.append(a)\n",
    "    else:\n",
    "        b.append(a)\n",
    "rnum = len(r)\n",
    "bnum = len(b)   \n",
    "\n",
    "new = [random.randint(0,100), random.randint(0,100), random.randint(0,1)]"
   ]
  },
  {
   "cell_type": "code",
   "execution_count": null,
   "metadata": {},
   "outputs": [],
   "source": [
    "#print(r)\n",
    "#print(b)\n",
    "print(new)"
   ]
  },
  {
   "cell_type": "code",
   "execution_count": null,
   "metadata": {},
   "outputs": [],
   "source": [
    "#rnum = len(r)\n",
    "#bnum = len(b)"
   ]
  },
  {
   "cell_type": "code",
   "execution_count": null,
   "metadata": {},
   "outputs": [],
   "source": [
    "#print(rnum)\n",
    "#print(bnum)"
   ]
  },
  {
   "cell_type": "code",
   "execution_count": 69,
   "metadata": {},
   "outputs": [
    {
     "data": {
      "text/plain": [
       "[<matplotlib.lines.Line2D at 0x1fe09f8c908>]"
      ]
     },
     "execution_count": 69,
     "metadata": {},
     "output_type": "execute_result"
    },
    {
     "data": {
      "image/png": "[encoded data removed]",
      "text/plain": [
       "<Figure size 432x288 with 1 Axes>"
      ]
     },
     "metadata": {
      "needs_background": "light"
     },
     "output_type": "display_data"
    }
   ],
   "source": [
    "for i in range(0,rnum):\n",
    "    plt.plot(r[i][0],r[i][1], marker = 'o', linestyle = '', color = 'red')\n",
    "\n",
    "        \n",
    "for j in range(0,bnum):    \n",
    "     plt.plot(b[j][0],b[j][1], marker = 'o', linestyle = '', color = 'blue')        \n",
    "        \n",
    "\n",
    "plt.plot(new[0],new[1], marker = 'x', linestyle = '', color = 'black')               "
   ]
  },
  {
   "cell_type": "code",
   "execution_count": 74,
   "metadata": {},
   "outputs": [],
   "source": [
    "r = np.array(r)\n",
    "b = np.array(b)\n",
    "new = np.array(new)"
   ]
  },
  {
   "cell_type": "code",
   "execution_count": 77,
   "metadata": {},
   "outputs": [
    {
     "name": "stdout",
     "output_type": "stream",
     "text": [
      "[[ 8.06225775  0.        ]\n",
      " [ 9.48683298  1.        ]\n",
      " [10.44030651  0.        ]\n",
      " [14.31782106  1.        ]\n",
      " [14.4222051   0.        ]\n",
      " [15.65247584  1.        ]\n",
      " [16.1245155   1.        ]\n",
      " [17.02938637  1.        ]\n",
      " [19.02629759  0.        ]\n",
      " [19.02629759  1.        ]\n",
      " [19.41648784  1.        ]\n",
      " [19.72308292  0.        ]\n",
      " [21.1896201   1.        ]\n",
      " [22.          1.        ]\n",
      " [22.09072203  1.        ]\n",
      " [23.76972865  0.        ]\n",
      " [25.          1.        ]\n",
      " [26.62705391  0.        ]\n",
      " [28.86173938  0.        ]\n",
      " [33.24154028  1.        ]\n",
      " [34.13209633  0.        ]\n",
      " [35.4682957   0.        ]\n",
      " [37.64306045  1.        ]\n",
      " [38.41874542  0.        ]\n",
      " [46.81879964  1.        ]\n",
      " [47.01063709  0.        ]\n",
      " [49.81967483  0.        ]\n",
      " [50.69516742  0.        ]\n",
      " [50.69516742  0.        ]\n",
      " [54.34151268  1.        ]\n",
      " [55.22680509  0.        ]\n",
      " [56.08029957  0.        ]\n",
      " [57.28001397  1.        ]\n",
      " [58.41232747  0.        ]\n",
      " [59.61543424  1.        ]\n",
      " [61.84658438  1.        ]\n",
      " [62.03224968  0.        ]\n",
      " [62.07253821  0.        ]\n",
      " [62.2655603   0.        ]\n",
      " [62.76941931  1.        ]\n",
      " [63.00793601  1.        ]\n",
      " [64.41273166  0.        ]\n",
      " [66.88796603  0.        ]\n",
      " [67.08203932  1.        ]\n",
      " [67.11929678  0.        ]\n",
      " [67.26812024  1.        ]\n",
      " [68.24221567  0.        ]\n",
      " [68.35202996  1.        ]\n",
      " [69.85699679  0.        ]\n",
      " [71.02112362  1.        ]\n",
      " [71.44928271  1.        ]\n",
      " [71.47027354  1.        ]\n",
      " [71.84010022  0.        ]\n",
      " [76.47875522  0.        ]\n",
      " [81.3019065   0.        ]\n",
      " [83.18653737  1.        ]\n",
      " [85.44588931  1.        ]\n",
      " [89.30845425  1.        ]\n",
      " [89.93886813  1.        ]\n",
      " [98.41239759  0.        ]]\n"
     ]
    }
   ],
   "source": [
    "d = []\n",
    "for i in range(0,30):\n",
    "   # d.append([np.sqrt(((new[0]-r[i][0])**2)+(new[1]-r[i][1])**2),r[i][2]])\n",
    "   # d.append([np.sqrt(((new[0]-b[i][0])**2)+(new[1]-b[i][1])**2),b[i][2]])\n",
    "    d.append([np.sqrt(pow((new[0]-r[i][0]),2)+pow((new[1]-r[i][1]),2)),r[i][2]])\n",
    "    d.append([np.sqrt(pow((new[0]-b[i][0]),2)+pow((new[1]-b[i][1]),2)),b[i][2]])\n",
    "    \n",
    "\n",
    "d.sort()\n",
    "d = np.array(d)\n",
    "print(d)"
   ]
  },
  {
   "cell_type": "code",
   "execution_count": 73,
   "metadata": {},
   "outputs": [
    {
     "name": "stdout",
     "output_type": "stream",
     "text": [
      "1\n"
     ]
    }
   ],
   "source": [
    "print(d[1][1])"
   ]
  },
  {
   "cell_type": "code",
   "execution_count": 83,
   "metadata": {},
   "outputs": [
    {
     "name": "stdout",
     "output_type": "stream",
     "text": [
      "25\n",
      "blue\n",
      "11\n",
      "14\n"
     ]
    }
   ],
   "source": [
    "knum = input()\n",
    "\n",
    "r_cnt = 0\n",
    "b_cnt = 0\n",
    "for i in range(0,int(knum)):\n",
    "    \n",
    "    if(d[i][1] == 0):\n",
    "         r_cnt +=1\n",
    "    else:\n",
    "         b_cnt +=1\n",
    "         \n",
    "        \n",
    "if(r_cnt>b_cnt):\n",
    "         print(\"red\")\n",
    "        \n",
    "else:\n",
    "         print(\"blue\")\n",
    "print(r_cnt)\n",
    "print(b_cnt)"
   ]
  },
  {
   "cell_type": "code",
   "execution_count": null,
   "metadata": {},
   "outputs": [],
   "source": [
    "\n",
    "\n",
    "     \n",
    "     \n",
    "    "
   ]
  },
  {
   "cell_type": "markdown",
   "metadata": {},
   "source": [
    "# 교수님 풀이\n"
   ]
  },
  {
   "cell_type": "code",
   "execution_count": 100,
   "metadata": {},
   "outputs": [],
   "source": [
    "import random\n",
    "r = []\n",
    "b = []\n",
    "for i in range(50):\n",
    "    r.append([random.randint(40,70), random.randint(140,180),1])\n",
    "    b.append([random.randint(60,90), random.randint(160,200),0])\n",
    "    \n",
    "new = [random.randint(0,100), random.randint(0,100), random.randint(0,1)]    "
   ]
  },
  {
   "cell_type": "code",
   "execution_count": 101,
   "metadata": {},
   "outputs": [],
   "source": [
    "def distance(x,y):\n",
    "    #두 점 사이의 거리를 구하는 함수\n",
    "   return int(np.sqrt(pow((x[0]-y[0]),2)+pow((x[1]-y[1]),2)))"
   ]
  },
  {
   "cell_type": "code",
   "execution_count": 102,
   "metadata": {},
   "outputs": [],
   "source": [
    "def knn(x,y,k):\n",
    "    result = []\n",
    "    cnt = 0\n",
    "    for i in range(len(y)):\n",
    "        result.append([distance(new,y[i]), y[i][2]])\n",
    "    result.sort()\n",
    "    for i in range(k-1):\n",
    "        if(result[i][1] == 1):\n",
    "            cnt +=1\n",
    "    if(cnt>(k/2)):\n",
    "        print(\"red\")\n",
    "    else:\n",
    "        print(\"blue\")\n",
    "        "
   ]
  },
  {
   "cell_type": "code",
   "execution_count": 103,
   "metadata": {},
   "outputs": [
    {
     "name": "stdout",
     "output_type": "stream",
     "text": [
      "몸무게를 입력해주세요55\n"
     ]
    }
   ],
   "source": [
    "weight = input('몸무게를 입력해주세요')"
   ]
  },
  {
   "cell_type": "code",
   "execution_count": 104,
   "metadata": {
    "scrolled": true
   },
   "outputs": [
    {
     "name": "stdout",
     "output_type": "stream",
     "text": [
      "키를 입력해주세요150\n"
     ]
    }
   ],
   "source": [
    "height = input('키를 입력해주세요')"
   ]
  },
  {
   "cell_type": "code",
   "execution_count": 105,
   "metadata": {},
   "outputs": [
    {
     "name": "stdout",
     "output_type": "stream",
     "text": [
      "k를 입력해주세요10\n"
     ]
    }
   ],
   "source": [
    "num = input('k를 입력해주세요')\n"
   ]
  },
  {
   "cell_type": "code",
   "execution_count": 106,
   "metadata": {},
   "outputs": [],
   "source": [
    "new = [int(weight), int(height)]"
   ]
  },
  {
   "cell_type": "code",
   "execution_count": 107,
   "metadata": {},
   "outputs": [
    {
     "name": "stdout",
     "output_type": "stream",
     "text": [
      "red\n"
     ]
    }
   ],
   "source": [
    "knn(new,r+b, int(num))"
   ]
  },
  {
   "cell_type": "code",
   "execution_count": 108,
   "metadata": {},
   "outputs": [
    {
     "data": {
      "text/plain": [
       "[<matplotlib.lines.Line2D at 0x1fe0a77cd68>]"
      ]
     },
     "execution_count": 108,
     "metadata": {},
     "output_type": "execute_result"
    },
    {
     "data": {
      "image/png": "[encoded data removed]",
      "text/plain": [
       "<Figure size 432x288 with 1 Axes>"
      ]
     },
     "metadata": {
      "needs_background": "light"
     },
     "output_type": "display_data"
    }
   ],
   "source": [
    "for i in range(0,50):\n",
    "    plt.plot(r[i][0],r[i][1], marker = 'o', linestyle = '', color = 'red')\n",
    "\n",
    "        \n",
    "for j in range(0,50):    \n",
    "     plt.plot(b[j][0],b[j][1], marker = 'o', linestyle = '', color = 'blue')        \n",
    "               \n",
    "plt.plot(new[0],new[1], marker = 'x', linestyle = '', color = 'black')                 "
   ]
  },
  {
   "cell_type": "code",
   "execution_count": null,
   "metadata": {},
   "outputs": [],
   "source": []
  },
  {
   "cell_type": "code",
   "execution_count": null,
   "metadata": {},
   "outputs": [],
   "source": []
  },
  {
   "cell_type": "code",
   "execution_count": null,
   "metadata": {},
   "outputs": [],
   "source": []
  },
  {
   "cell_type": "code",
   "execution_count": null,
   "metadata": {},
   "outputs": [],
   "source": []
  },
  {
   "cell_type": "code",
   "execution_count": null,
   "metadata": {},
   "outputs": [],
   "source": []
  }
 ],
 "metadata": {
  "kernelspec": {
   "display_name": "Python 3",
   "language": "python",
   "name": "python3"
  },
  "language_info": {
   "codemirror_mode": {
    "name": "ipython",
    "version": 3
   },
   "file_extension": ".py",
   "mimetype": "text/x-python",
   "name": "python",
   "nbconvert_exporter": "python",
   "pygments_lexer": "ipython3",
   "version": "3.7.3"
  }
 },
 "nbformat": 4,
 "nbformat_minor": 2
}
