{
 "cells": [
  {
   "cell_type": "markdown",
   "metadata": {},
   "source": [
    "# 안녕하세요. Iot 융합 시스템 개발 김우현입니다.\n",
    "\n",
    "\n",
    "# 위 폴더에 '인공지능과 IOT' 강의를 실습한 내용을 포스트 할 예정입니다.\n",
    "\n",
    "\n",
    "# 감사합니다.\n",
    "\n",
    "\n",
    "# (2019.17.18 ~    .    .   ) "
   ]
  },
  {
   "cell_type": "code",
   "execution_count": null,
   "metadata": {},
   "outputs": [],
   "source": []
  }
 ],
 "metadata": {
  "kernelspec": {
   "display_name": "Python 3",
   "language": "python",
   "name": "python3"
  },
  "language_info": {
   "codemirror_mode": {
    "name": "ipython",
    "version": 3
   },
   "file_extension": ".py",
   "mimetype": "text/x-python",
   "name": "python",
   "nbconvert_exporter": "python",
   "pygments_lexer": "ipython3",
   "version": "3.7.3"
  }
 },
 "nbformat": 4,
 "nbformat_minor": 2
}
