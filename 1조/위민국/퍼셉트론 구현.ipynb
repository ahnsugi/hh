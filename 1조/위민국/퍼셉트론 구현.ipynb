{
 "cells": [
  {
   "cell_type": "markdown",
   "metadata": {},
   "source": [
    "# 퍼셉트론 구현"
   ]
  },
  {
   "cell_type": "code",
   "execution_count": 18,
   "metadata": {},
   "outputs": [
    {
     "name": "stdout",
     "output_type": "stream",
     "text": [
      "\n",
      "XOR\n",
      "(0, 0) -> 0\n",
      "(1, 0) -> 1\n",
      "(0, 1) -> 1\n",
      "(1, 1) -> 0\n"
     ]
    }
   ],
   "source": [
    "# 논리회로 And , OR , NANE\n",
    "\n",
    "#  w1 * x1 + w2 * x2 + b > 0  흐른다. \n",
    "#  w1 * x1 + w2 * x2 + b <= 0  흐르지 않는다. \n",
    "\n",
    "import numpy as np\n",
    "\n",
    "\n",
    "def AND(x1, x2):\n",
    "    x = np.array([x1,x2])\n",
    "    w = np.array([0.5,0.5])\n",
    "    b = -0.7\n",
    "    \n",
    "    tmp = np.sum(w*x) + b\n",
    "    if tmp <= 0 :\n",
    "        return 0 #흐르지 않는다.\n",
    "    else:\n",
    "        return 1 # 흐른다.\n",
    "    \n",
    "    \n",
    "def OR(x1, x2):\n",
    "    x = np.array([x1,x2])\n",
    "    w = np.array([0.5,0.5])\n",
    "    b = -0.2\n",
    "    \n",
    "    tmp = np.sum(w*x) + b\n",
    "    if tmp <= 0 :\n",
    "        return 0 #흐르지 않는다.\n",
    "    else:\n",
    "        return 1 # 흐른다.\n",
    "    \n",
    "def NAND(x1, x2):\n",
    "    x = np.array([x1,x2])\n",
    "    w = np.array([-0.5,-0.5])\n",
    "    b = 0.7\n",
    "    \n",
    "    tmp = np.sum(w*x) + b\n",
    "    if tmp <= 0 :\n",
    "        return 0 #흐르지 않는다.\n",
    "    else:\n",
    "        return 1 # 흐른다.\n",
    "\n",
    "\n",
    "    \n",
    "print()\n",
    "print(\"XOR\")\n",
    "for i in [(0,0),(1,0),(0,1),(1,1)]:\n",
    "    s1  = NAND(i[0],i[1])\n",
    "    s2  = OR(i[0],i[1])\n",
    "    y   = AND(s1, s2)\n",
    "    \n",
    "    print(str(i) + \" -> \" + str(y))"
   ]
  }
 ],
 "metadata": {
  "kernelspec": {
   "display_name": "Python 3",
   "language": "python",
   "name": "python3"
  },
  "language_info": {
   "codemirror_mode": {
    "name": "ipython",
    "version": 3
   },
   "file_extension": ".py",
   "mimetype": "text/x-python",
   "name": "python",
   "nbconvert_exporter": "python",
   "pygments_lexer": "ipython3",
   "version": "3.7.3"
  }
 },
 "nbformat": 4,
 "nbformat_minor": 2
}
