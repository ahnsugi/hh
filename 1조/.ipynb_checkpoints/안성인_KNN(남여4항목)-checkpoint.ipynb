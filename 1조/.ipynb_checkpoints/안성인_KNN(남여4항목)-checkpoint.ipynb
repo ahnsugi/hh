{
 "cells": [
  {
   "cell_type": "markdown",
   "metadata": {},
   "source": [
    "# 안성인_KNN(남/여4항목)"
   ]
  },
  {
   "cell_type": "markdown",
   "metadata": {},
   "source": [
    "## 추가사항 : 3. 머리카락 길이, 옷 크기\n",
    "### k = 3, 5, 7, 11일 때 결과값"
   ]
  },
  {
   "cell_type": "code",
   "execution_count": 1,
   "metadata": {},
   "outputs": [
    {
     "name": "stdout",
     "output_type": "stream",
     "text": [
      "1 번째 사람 → 키 :  193, 몸무게 :  86, 머리 길이 :  1, 옷 크기 :  110\n",
      "k가 3 일 때 : \n",
      "당신은 남자입니다.\n",
      "k가 5 일 때 : \n",
      "당신은 남자입니다.\n",
      "k가 7 일 때 : \n",
      "당신은 남자입니다.\n",
      "k가 11 일 때 : \n",
      "당신은 남자입니다.\n",
      "\n",
      "\n",
      "2 번째 사람 → 키 :  179, 몸무게 :  88, 머리 길이 :  2, 옷 크기 :  100\n",
      "k가 3 일 때 : \n",
      "당신은 남자입니다.\n",
      "k가 5 일 때 : \n",
      "당신은 남자입니다.\n",
      "k가 7 일 때 : \n",
      "당신은 남자입니다.\n",
      "k가 11 일 때 : \n",
      "당신은 남자입니다.\n",
      "\n",
      "\n",
      "3 번째 사람 → 키 :  176, 몸무게 :  78, 머리 길이 :  13, 옷 크기 :  100\n",
      "k가 3 일 때 : \n",
      "당신은 남자입니다.\n",
      "k가 5 일 때 : \n",
      "당신은 남자입니다.\n",
      "k가 7 일 때 : \n",
      "당신은 남자입니다.\n",
      "k가 11 일 때 : \n",
      "당신은 남자입니다.\n",
      "\n",
      "\n"
     ]
    },
    {
     "data": {
      "image/png": "[encoded data removed]",
      "text/plain": [
       "<Figure size 432x288 with 1 Axes>"
      ]
     },
     "metadata": {
      "needs_background": "light"
     },
     "output_type": "display_data"
    }
   ],
   "source": [
    "import numpy as np\n",
    "import random\n",
    "import matplotlib.pyplot as plt\n",
    "%matplotlib inline\n",
    "r = []\n",
    "b = []\n",
    "size = [85, 90, 95, 100, 105, 110]\n",
    "for i in range(50):\n",
    "    r.append([random.randint(40, 70), random.randint(140, 180), random.randint(20, 40), size[random.randint(0, 4)], 1])\n",
    "    b.append([random.randint(60, 90), random.randint(160, 200), random.randint(1, 20), size[random.randint(1, 5)], 0])\n",
    "    \n",
    "def distance(x,y):\n",
    "    return np.sqrt(pow((x[0]-y[0]), 2) + pow((x[1] - y[1]), 2) + pow((x[2] - y[2]), 2) + pow((x[3] - y[3]), 2))\n",
    "\n",
    "def knn(x, y, k):\n",
    "    result = []\n",
    "    cnt = 0\n",
    "    for i in range(len(y)):\n",
    "        result.append([distance(x,y[i]),y[i][4]])\n",
    "    result.sort()\n",
    "    for i in range(k-1):\n",
    "        if(result[i][1] == 1):\n",
    "            cnt += 1\n",
    "    if(cnt > (k/2)):\n",
    "        print(\"당신은 여자입니다.\")\n",
    "    else:\n",
    "        print(\"당신은 남자입니다.\")\n",
    "\n",
    "for i in range(50):\n",
    "    plt.plot(r[i][0], r[i][1], r[i][2], r[i][3], marker='o', color = 'red')\n",
    "    plt.plot(b[i][0], b[i][1], b[i][2], b[i][3], marker='o', color = 'blue')\n",
    "\n",
    "new = []\n",
    "\n",
    "for i in range(3):\n",
    "    num = random.randint(1,3)\n",
    "    if(num == 1):   # 여자일때\n",
    "        new.append([random.randint(40, 70), random.randint(140, 180), random.randint(20, 40), size[random.randint(0, 4)]])\n",
    "    elif(num == 2): # 남자일떄\n",
    "        new.append([random.randint(60, 90), random.randint(160, 200), random.randint(1, 20), size[random.randint(1, 5)]])\n",
    "    else:           # 애매한상황\n",
    "        new.append([random.randint(60, 70), random.randint(160, 180), 20, size[random.randint(1, 4)]])\n",
    "\n",
    "#weight = input(\"몸무게를 입력해주세요.\")\n",
    "#height = input(\"키를 입력해주세요.\")\n",
    "#Hair_length = input(\"머리길이를 입력해주세요.\")\n",
    "#Clothes_size = input(\"옷 크기를 입력해주세요.\")\n",
    "\n",
    "#new = [int(weight), int(height), int(Hair_length), int(Clothes_size)]\n",
    "\n",
    "#for i in range(50):\n",
    " #   plt.plot(r[i][0], r[i][1], r[i][2], r[i][3], marker='o', color = 'red')\n",
    "  #  plt.plot(b[i][0], b[i][1], b[i][2], b[i][3], marker='o', color = 'blue')\n",
    "for i in range(3):\n",
    "    plt.plot(new[i][0], new[i][1], new[i][2], new[i][3], marker = 'x', color = 'black')\n",
    "for j in range(3):\n",
    "    print(j+1, \"번째 사람\", end = \" → \")\n",
    "    print(\"키 : \", new[j][1], end = \", \")\n",
    "    print(\"몸무게 : \", new[j][0], end = \", \")\n",
    "    print(\"머리 길이 : \", new[j][2], end = \", \")\n",
    "    print(\"옷 크기 : \", new[j][3])\n",
    "    for i in range(3, 12, 2):\n",
    "        if(i == 9):\n",
    "            continue\n",
    "        print(\"k가\", i, \"일 때 : \")\n",
    "        knn(new[j], r+b, i)\n",
    "    print(\"\\n\")"
   ]
  }
 ],
 "metadata": {
  "kernelspec": {
   "display_name": "Python 3",
   "language": "python",
   "name": "python3"
  },
  "language_info": {
   "codemirror_mode": {
    "name": "ipython",
    "version": 3
   },
   "file_extension": ".py",
   "mimetype": "text/x-python",
   "name": "python",
   "nbconvert_exporter": "python",
   "pygments_lexer": "ipython3",
   "version": "3.7.3"
  }
 },
 "nbformat": 4,
 "nbformat_minor": 2
}
