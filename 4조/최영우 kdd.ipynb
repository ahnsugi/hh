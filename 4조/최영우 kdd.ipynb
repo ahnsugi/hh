{
 "cells": [
  {
   "cell_type": "markdown",
   "metadata": {},
   "source": [
    "4.1 NumPy ndarray: 다차원 배열 객체"
   ]
  },
  {
   "cell_type": "code",
   "execution_count": 5,
   "metadata": {},
   "outputs": [],
   "source": [
    "import numpy as np"
   ]
  },
  {
   "cell_type": "markdown",
   "metadata": {},
   "source": [
    "4.1.1 ndarray 생성"
   ]
  },
  {
   "cell_type": "code",
   "execution_count": 6,
   "metadata": {},
   "outputs": [],
   "source": [
    "data1=[6,7,5,8,0,1]"
   ]
  },
  {
   "cell_type": "code",
   "execution_count": 7,
   "metadata": {},
   "outputs": [],
   "source": [
    "arr1 = np.array(data1)"
   ]
  },
  {
   "cell_type": "code",
   "execution_count": 8,
   "metadata": {},
   "outputs": [
    {
     "data": {
      "text/plain": [
       "array([6, 7, 5, 8, 0, 1])"
      ]
     },
     "execution_count": 8,
     "metadata": {},
     "output_type": "execute_result"
    }
   ],
   "source": [
    "arr1"
   ]
  },
  {
   "cell_type": "code",
   "execution_count": 9,
   "metadata": {},
   "outputs": [
    {
     "data": {
      "text/plain": [
       "numpy.ndarray"
      ]
     },
     "execution_count": 9,
     "metadata": {},
     "output_type": "execute_result"
    }
   ],
   "source": [
    "type(arr1)"
   ]
  },
  {
   "cell_type": "code",
   "execution_count": 10,
   "metadata": {},
   "outputs": [
    {
     "data": {
      "text/plain": [
       "list"
      ]
     },
     "execution_count": 10,
     "metadata": {},
     "output_type": "execute_result"
    }
   ],
   "source": [
    "type(data1)"
   ]
  },
  {
   "cell_type": "code",
   "execution_count": 11,
   "metadata": {},
   "outputs": [],
   "source": [
    "data2=[[1,2,3,4],[5,6,7,8]]"
   ]
  },
  {
   "cell_type": "code",
   "execution_count": 20,
   "metadata": {},
   "outputs": [],
   "source": [
    "l = [[1,2,3,],[4,5,6]]\n",
    "l2 = [[1,2,3,],[4,5,6]]\n",
    "n = np.array(l)\n",
    "n2 = np.array(l)"
   ]
  },
  {
   "cell_type": "code",
   "execution_count": 14,
   "metadata": {},
   "outputs": [
    {
     "name": "stdout",
     "output_type": "stream",
     "text": [
      "[[1, 2, 3], [4, 5, 6]]\n",
      "[[1 2 3]\n",
      " [4 5 6]]\n"
     ]
    }
   ],
   "source": [
    "print(l)\n",
    "print(n)"
   ]
  },
  {
   "cell_type": "code",
   "execution_count": 21,
   "metadata": {},
   "outputs": [
    {
     "name": "stdout",
     "output_type": "stream",
     "text": [
      "[[1, 2, 3], [4, 5, 6]]\n",
      "[[1 2 3]\n",
      " [4 5 6]]\n"
     ]
    }
   ],
   "source": [
    "print(l2)\n",
    "print(n2)"
   ]
  },
  {
   "cell_type": "code",
   "execution_count": 22,
   "metadata": {},
   "outputs": [
    {
     "name": "stdout",
     "output_type": "stream",
     "text": [
      "[[ 2  4  6]\n",
      " [ 8 10 12]]\n"
     ]
    }
   ],
   "source": [
    "print(n +n2) #이곳은 내부끼리 더하는것"
   ]
  },
  {
   "cell_type": "code",
   "execution_count": 23,
   "metadata": {},
   "outputs": [
    {
     "name": "stdout",
     "output_type": "stream",
     "text": [
      "[[ 2  4  6]\n",
      " [ 8 10 12]]\n"
     ]
    }
   ],
   "source": [
    "print(n*2) #이곳은 내부를 곱하는것"
   ]
  },
  {
   "cell_type": "code",
   "execution_count": 24,
   "metadata": {},
   "outputs": [],
   "source": [
    "samples=np.random.normal(size=(4,4))"
   ]
  },
  {
   "cell_type": "code",
   "execution_count": 25,
   "metadata": {},
   "outputs": [
    {
     "name": "stdout",
     "output_type": "stream",
     "text": [
      "[[-1.10710563 -2.80293433 -0.18456691 -1.20044458]\n",
      " [ 0.25759384 -0.15229647 -0.25962679  1.4680622 ]\n",
      " [ 1.06365651 -0.93241094  1.21591029  0.86993942]\n",
      " [ 0.46637252 -0.38341995  0.58447495  0.67077471]]\n"
     ]
    }
   ],
   "source": [
    "print(samples)"
   ]
  },
  {
   "cell_type": "code",
   "execution_count": 27,
   "metadata": {},
   "outputs": [],
   "source": [
    "import matplotlib.pyplot as plt #그래프를 그려주는 명령문\n",
    "\n",
    "%matplotlib inline"
   ]
  },
  {
   "cell_type": "code",
   "execution_count": 28,
   "metadata": {},
   "outputs": [
    {
     "data": {
      "text/plain": [
       "[<matplotlib.lines.Line2D at 0x2689b7bbda0>]"
      ]
     },
     "execution_count": 28,
     "metadata": {},
     "output_type": "execute_result"
    },
    {
     "data": {
      "image/png": "[encoded data removed]",
      "text/plain": [
       "<Figure size 432x288 with 1 Axes>"
      ]
     },
     "metadata": {
      "needs_background": "light"
     },
     "output_type": "display_data"
    }
   ],
   "source": [
    "plt.plot([1,2,3,4],[1,2,3,4])"
   ]
  },
  {
   "cell_type": "code",
   "execution_count": 50,
   "metadata": {},
   "outputs": [
    {
     "data": {
      "text/plain": [
       "[<matplotlib.lines.Line2D at 0x2689cfd87b8>]"
      ]
     },
     "execution_count": 50,
     "metadata": {},
     "output_type": "execute_result"
    },
    {
     "data": {
      "image/png": "[encoded data removed]",
      "text/plain": [
       "<Figure size 432x288 with 1 Axes>"
      ]
     },
     "metadata": {
      "needs_background": "light"
     },
     "output_type": "display_data"
    }
   ],
   "source": [
    "#왼쪽은 x,z 오른쪽은 y , 빨강은 여자 파랑은 남자 (기준 팻말)\n",
    "\n",
    "plt.plot(1.75,1, marker='o',linestyle='',color='red')\n",
    "plt.plot(1,3, marker='o',linestyle='',color='red')\n",
    "plt.plot(1.25,1, marker='o',linestyle='',color='red')\n",
    "plt.plot(1.5,2, marker='o',linestyle='',color='red')\n",
    "\n",
    "plt.plot(2,2, marker='*',linestyle='',color='green')\n",
    "\n",
    "plt.plot(2.75,2.8, marker='o',linestyle='',color='blue')\n",
    "plt.plot(2.25,1.8, marker='o',linestyle='',color='blue')\n",
    "plt.plot(2.5,1, marker='o',linestyle='',color='blue')\n",
    "plt.plot(3,2.1, marker='o',linestyle='',color='blue')\n"
   ]
  },
  {
   "cell_type": "code",
   "execution_count": 52,
   "metadata": {},
   "outputs": [
    {
     "data": {
      "text/plain": [
       "[<matplotlib.lines.Line2D at 0x2689d0b2d30>]"
      ]
     },
     "execution_count": 52,
     "metadata": {},
     "output_type": "execute_result"
    },
    {
     "data": {
      "image/png": "[encoded data removed]",
      "text/plain": [
       "<Figure size 432x288 with 1 Axes>"
      ]
     },
     "metadata": {
      "needs_background": "light"
     },
     "output_type": "display_data"
    }
   ],
   "source": [
    "plt.plot(1,2, marker='o',linestyle='',color='red')\n",
    "\n",
    "plt.plot(2,2, marker='*',linestyle='',color='green')\n",
    "\n",
    "plt.plot(3,2, marker='o',linestyle='',color='blue')"
   ]
  },
  {
   "cell_type": "code",
   "execution_count": 44,
   "metadata": {},
   "outputs": [
    {
     "name": "stdout",
     "output_type": "stream",
     "text": [
      "4\n"
     ]
    }
   ],
   "source": [
    "print(2**2)"
   ]
  },
  {
   "cell_type": "code",
   "execution_count": 45,
   "metadata": {},
   "outputs": [
    {
     "name": "stdout",
     "output_type": "stream",
     "text": [
      "2.0\n"
     ]
    }
   ],
   "source": [
    "print(np.sqrt(4))"
   ]
  },
  {
   "cell_type": "code",
   "execution_count": 82,
   "metadata": {},
   "outputs": [],
   "source": [
    "r = [] #여자 1\n",
    "b = [] #남자 0\n",
    "for i in range(50):\n",
    "    r.append([random.randint(40, 70),random.randint(140, 180),1])\n",
    "    b.append([random.randint(60, 90),random.randint(160, 200),0])"
   ]
  },
  {
   "cell_type": "code",
   "execution_count": 89,
   "metadata": {},
   "outputs": [
    {
     "data": {
      "text/plain": [
       "[<matplotlib.lines.Line2D at 0x2689d2146d8>]"
      ]
     },
     "execution_count": 89,
     "metadata": {},
     "output_type": "execute_result"
    },
    {
     "data": {
      "image/png": "[encoded data removed]",
      "text/plain": [
       "<Figure size 432x288 with 1 Axes>"
      ]
     },
     "metadata": {
      "needs_background": "light"
     },
     "output_type": "display_data"
    }
   ],
   "source": [
    "for i  in range(50):\n",
    "    plt.plot(r[i][0],r[i][1],marker='o',color='red')\n",
    "    plt.plot(b[i][0],b[i][1],marker='o',color='blue')\n",
    "    \n",
    "new = [55, 170,1] #여자\n",
    "plt.plot(new[0],new[1],marker='x',color='black')"
   ]
  },
  {
   "cell_type": "code",
   "execution_count": 79,
   "metadata": {},
   "outputs": [],
   "source": [
    "import random"
   ]
  },
  {
   "cell_type": "code",
   "execution_count": 78,
   "metadata": {},
   "outputs": [
    {
     "ename": "ModuleNotFoundError",
     "evalue": "No module named 'randint'",
     "output_type": "error",
     "traceback": [
      "\u001b[1;31m---------------------------------------------------------------------------\u001b[0m",
      "\u001b[1;31mModuleNotFoundError\u001b[0m                       Traceback (most recent call last)",
      "\u001b[1;32m<ipython-input-78-c87cb59d40bd>\u001b[0m in \u001b[0;36m<module>\u001b[1;34m\u001b[0m\n\u001b[1;32m----> 1\u001b[1;33m \u001b[1;32mimport\u001b[0m \u001b[0mrandint\u001b[0m\u001b[1;33m\u001b[0m\u001b[1;33m\u001b[0m\u001b[0m\n\u001b[0m",
      "\u001b[1;31mModuleNotFoundError\u001b[0m: No module named 'randint'"
     ]
    }
   ],
   "source": [
    "import randint"
   ]
  },
  {
   "cell_type": "code",
   "execution_count": 91,
   "metadata": {},
   "outputs": [],
   "source": [
    "dist=np.sqrt(\n",
    "    pow((new[0]-r[0][0]),2)\n",
    "    +pow((new[1]-r[0][1]),2)\n",
    ")"
   ]
  },
  {
   "cell_type": "code",
   "execution_count": 92,
   "metadata": {},
   "outputs": [
    {
     "name": "stdout",
     "output_type": "stream",
     "text": [
      "21.93171219946131\n"
     ]
    }
   ],
   "source": [
    "print(dist)"
   ]
  },
  {
   "cell_type": "code",
   "execution_count": 93,
   "metadata": {},
   "outputs": [],
   "source": [
    "def distance(x,y):\n",
    "    #두 점 사이의 거리를 구하는 함수\n",
    "    return int(np.sqrt(pow((x[0]-y[0]),2)+pow((x[1]-y[1]),2)))"
   ]
  },
  {
   "cell_type": "code",
   "execution_count": 94,
   "metadata": {},
   "outputs": [
    {
     "data": {
      "text/plain": [
       "21"
      ]
     },
     "execution_count": 94,
     "metadata": {},
     "output_type": "execute_result"
    }
   ],
   "source": [
    "distance(new,r[0])"
   ]
  },
  {
   "cell_type": "code",
   "execution_count": null,
   "metadata": {},
   "outputs": [],
   "source": [
    "키를 입력해주세요.\n",
    "몸무게를 입력해주세요.\n",
    "k의 개수를 입력해주세요.\n",
    "당신은 남자 혹은 여자입니다."
   ]
  },
  {
   "cell_type": "code",
   "execution_count": 95,
   "metadata": {},
   "outputs": [],
   "source": [
    "#\n",
    "result=[]\n",
    "for i in range(50):\n",
    "    result.append([distance(new,r[i]),r[i][2]])\n",
    "    result.append([distance(new,b[i]),b[i][2]])"
   ]
  },
  {
   "cell_type": "code",
   "execution_count": 97,
   "metadata": {},
   "outputs": [
    {
     "name": "stdout",
     "output_type": "stream",
     "text": [
      "[[21, 1], [10, 0], [30, 1], [28, 0], [17, 1], [19, 0], [23, 1], [13, 0], [3, 1], [34, 0], [9, 1], [30, 0], [16, 1], [32, 0], [16, 1], [31, 0], [20, 1], [33, 0], [6, 1], [21, 0], [14, 1], [17, 0], [31, 1], [31, 0], [18, 1], [37, 0], [31, 1], [20, 0], [10, 1], [12, 0], [24, 1], [34, 0], [14, 1], [38, 0], [10, 1], [13, 0], [15, 1], [11, 0], [25, 1], [23, 0], [28, 1], [23, 0], [19, 1], [39, 0], [10, 1], [34, 0], [11, 1], [42, 0], [16, 1], [36, 0], [26, 1], [12, 0], [7, 1], [29, 0], [21, 1], [14, 0], [8, 1], [23, 0], [13, 1], [19, 0], [8, 1], [20, 0], [20, 1], [35, 0], [9, 1], [19, 0], [5, 1], [23, 0], [19, 1], [33, 0], [17, 1], [25, 0], [16, 1], [38, 0], [11, 1], [10, 0], [2, 1], [38, 0], [13, 1], [14, 0], [13, 1], [14, 0], [2, 1], [38, 0], [12, 1], [24, 0], [4, 1], [8, 0], [8, 1], [30, 0], [17, 1], [10, 0], [11, 1], [13, 0], [13, 1], [34, 0], [29, 1], [33, 0], [8, 1], [30, 0]]\n"
     ]
    }
   ],
   "source": [
    "print(result)"
   ]
  },
  {
   "cell_type": "code",
   "execution_count": 98,
   "metadata": {},
   "outputs": [
    {
     "name": "stdout",
     "output_type": "stream",
     "text": [
      "[[2, 1], [2, 1], [3, 1], [4, 1], [5, 1], [6, 1], [7, 1], [8, 0], [8, 1], [8, 1], [8, 1], [8, 1], [9, 1], [9, 1], [10, 0], [10, 0], [10, 0], [10, 1], [10, 1], [10, 1], [11, 0], [11, 1], [11, 1], [11, 1], [12, 0], [12, 0], [12, 1], [13, 0], [13, 0], [13, 0], [13, 1], [13, 1], [13, 1], [13, 1], [14, 0], [14, 0], [14, 0], [14, 1], [14, 1], [15, 1], [16, 1], [16, 1], [16, 1], [16, 1], [17, 0], [17, 1], [17, 1], [17, 1], [18, 1], [19, 0], [19, 0], [19, 0], [19, 1], [19, 1], [20, 0], [20, 0], [20, 1], [20, 1], [21, 0], [21, 1], [21, 1], [23, 0], [23, 0], [23, 0], [23, 0], [23, 1], [24, 0], [24, 1], [25, 0], [25, 1], [26, 1], [28, 0], [28, 1], [29, 0], [29, 1], [30, 0], [30, 0], [30, 0], [30, 1], [31, 0], [31, 0], [31, 1], [31, 1], [32, 0], [33, 0], [33, 0], [33, 0], [34, 0], [34, 0], [34, 0], [34, 0], [35, 0], [36, 0], [37, 0], [38, 0], [38, 0], [38, 0], [38, 0], [39, 0], [42, 0]]\n"
     ]
    }
   ],
   "source": [
    "result.sort()\n",
    "print(result)"
   ]
  },
  {
   "cell_type": "code",
   "execution_count": 153,
   "metadata": {},
   "outputs": [],
   "source": [
    "def distance(x,y):\n",
    "    #두 점 사이의 거리를 구하는 함수\n",
    "    return np.sqrt(pow((x[0]-y[0]),2)+pow((x[1]-y[1]),2))\n",
    "\n",
    "def knn(x,y,k):\n",
    "    result=[]\n",
    "    cnt=0\n",
    "    for i in range(len(y)):\n",
    "        result.append([distance(x,y[i]),y[i][2]])\n",
    "    result.sort()\n",
    "    for i in range(k):\n",
    "        if(result[i][1]==1):\n",
    "            cnt+=1\n",
    "    if(cnt > (k/2)):\n",
    "        print (\"당신은 여자입니다,\")\n",
    "    else:\n",
    "        print(\"당신은 남자입니다.\")"
   ]
  },
  {
   "cell_type": "code",
   "execution_count": 154,
   "metadata": {},
   "outputs": [
    {
     "name": "stdout",
     "output_type": "stream",
     "text": [
      "몸무게를 입력해주세요.67\n"
     ]
    }
   ],
   "source": [
    "weight = input(\"몸무게를 입력해주세요.\")"
   ]
  },
  {
   "cell_type": "code",
   "execution_count": 155,
   "metadata": {},
   "outputs": [
    {
     "name": "stdout",
     "output_type": "stream",
     "text": [
      "키를 입력해주세요.171\n"
     ]
    }
   ],
   "source": [
    "height = input(\"키를 입력해주세요.\")"
   ]
  },
  {
   "cell_type": "code",
   "execution_count": 156,
   "metadata": {},
   "outputs": [
    {
     "name": "stdout",
     "output_type": "stream",
     "text": [
      "k를 입력해주세요.5\n"
     ]
    }
   ],
   "source": [
    "num = input(\"k를 입력해주세요.\")"
   ]
  },
  {
   "cell_type": "code",
   "execution_count": 157,
   "metadata": {},
   "outputs": [],
   "source": [
    "new = [int(weight),int(height)]"
   ]
  },
  {
   "cell_type": "code",
   "execution_count": 158,
   "metadata": {},
   "outputs": [
    {
     "name": "stdout",
     "output_type": "stream",
     "text": [
      "당신은 남자입니다.\n"
     ]
    }
   ],
   "source": [
    "knn(new,r+b,int(num))"
   ]
  },
  {
   "cell_type": "code",
   "execution_count": null,
   "metadata": {},
   "outputs": [],
   "source": []
  },
  {
   "cell_type": "code",
   "execution_count": null,
   "metadata": {},
   "outputs": [],
   "source": []
  },
  {
   "cell_type": "code",
   "execution_count": null,
   "metadata": {},
   "outputs": [],
   "source": []
  },
  {
   "cell_type": "code",
   "execution_count": null,
   "metadata": {},
   "outputs": [],
   "source": []
  },
  {
   "cell_type": "code",
   "execution_count": null,
   "metadata": {},
   "outputs": [],
   "source": []
  }
 ],
 "metadata": {
  "kernelspec": {
   "display_name": "Python 3",
   "language": "python",
   "name": "python3"
  },
  "language_info": {
   "codemirror_mode": {
    "name": "ipython",
    "version": 3
   },
   "file_extension": ".py",
   "mimetype": "text/x-python",
   "name": "python",
   "nbconvert_exporter": "python",
   "pygments_lexer": "ipython3",
   "version": "3.7.3"
  }
 },
 "nbformat": 4,
 "nbformat_minor": 2
}
