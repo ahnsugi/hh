{
 "cells": [
  {
   "cell_type": "code",
   "execution_count": 1,
   "metadata": {},
   "outputs": [],
   "source": [
    "import numpy as np"
   ]
  },
  {
   "cell_type": "code",
   "execution_count": 2,
   "metadata": {},
   "outputs": [],
   "source": [
    "l=[[1,2,3],[4,5,6]]\n",
    "n=np.array(l)"
   ]
  },
  {
   "cell_type": "code",
   "execution_count": 3,
   "metadata": {},
   "outputs": [
    {
     "name": "stdout",
     "output_type": "stream",
     "text": [
      "[[1, 2, 3], [4, 5, 6]]\n"
     ]
    }
   ],
   "source": [
    "print(l)"
   ]
  },
  {
   "cell_type": "code",
   "execution_count": 4,
   "metadata": {},
   "outputs": [
    {
     "name": "stdout",
     "output_type": "stream",
     "text": [
      "[[1 2 3]\n",
      " [4 5 6]]\n"
     ]
    }
   ],
   "source": [
    "print(n)"
   ]
  },
  {
   "cell_type": "code",
   "execution_count": 5,
   "metadata": {},
   "outputs": [
    {
     "ename": "SyntaxError",
     "evalue": "invalid syntax (<ipython-input-5-978ab6bcb4b8>, line 1)",
     "output_type": "error",
     "traceback": [
      "\u001b[1;36m  File \u001b[1;32m\"<ipython-input-5-978ab6bcb4b8>\"\u001b[1;36m, line \u001b[1;32m1\u001b[0m\n\u001b[1;33m    print(2n)\u001b[0m\n\u001b[1;37m           ^\u001b[0m\n\u001b[1;31mSyntaxError\u001b[0m\u001b[1;31m:\u001b[0m invalid syntax\n"
     ]
    }
   ],
   "source": [
    "print(2n)"
   ]
  },
  {
   "cell_type": "code",
   "execution_count": 6,
   "metadata": {},
   "outputs": [
    {
     "name": "stdout",
     "output_type": "stream",
     "text": [
      "[[ 2  4  6]\n",
      " [ 8 10 12]]\n"
     ]
    }
   ],
   "source": [
    "print(n*2)"
   ]
  },
  {
   "cell_type": "code",
   "execution_count": 7,
   "metadata": {},
   "outputs": [],
   "source": [
    "r=[4,2,1]\n",
    "b=[5,1,0]\n",
    "r1=np.array(r)\n",
    "b1=np.array(b)"
   ]
  },
  {
   "cell_type": "code",
   "execution_count": 8,
   "metadata": {},
   "outputs": [
    {
     "name": "stdout",
     "output_type": "stream",
     "text": [
      "[4 2 1]\n"
     ]
    }
   ],
   "source": [
    "print(r1)"
   ]
  },
  {
   "cell_type": "code",
   "execution_count": 9,
   "metadata": {},
   "outputs": [
    {
     "name": "stdout",
     "output_type": "stream",
     "text": [
      "[5 1 0]\n"
     ]
    }
   ],
   "source": [
    "print(b1)"
   ]
  },
  {
   "cell_type": "code",
   "execution_count": 10,
   "metadata": {},
   "outputs": [],
   "source": [
    "import random\n",
    "\n",
    "r=[] #여자\n",
    "b=[] #남자 \n",
    "\n",
    "for i in range(50): #키, 몸무게, \n",
    "    r.append([random.randint(40,70),random.randint(140,180),1])\n",
    "    b.append([random.randint(50,90),random.randint(160,200),0])"
   ]
  },
  {
   "cell_type": "code",
   "execution_count": 11,
   "metadata": {},
   "outputs": [
    {
     "name": "stdout",
     "output_type": "stream",
     "text": [
      "몸무게를 입력하세요:50\n"
     ]
    }
   ],
   "source": [
    "def distance(x,y): # x, y 사이의 거리를 구하는 함수\n",
    "    return np.sqrt(pow((x[0]-y[0]),2)+pow((x[1]-y[1]),2))\n",
    "\n",
    "def knn(x,y,k): #KNN 알고리즘을 사용하여 남자/여자 분류.\n",
    "    result = []\n",
    "    cnt = 0\n",
    "    \n",
    "    for i in range(len(y)):\n",
    "        result.append([distance(x,y[i],y[i][2])])\n",
    "    result.sort()\n",
    "    for i in range(k):\n",
    "        if(result[i][1]==1):\n",
    "            cnt += 1\n",
    "    \n",
    "    if (cnt>(k/2)):\n",
    "        print(\"당신은 여자\")\n",
    "    else:\n",
    "        print(\"당신은 남자\")\n",
    "        \n",
    "weight = input(\"몸무게를 입력하세요:\")"
   ]
  },
  {
   "cell_type": "code",
   "execution_count": 12,
   "metadata": {},
   "outputs": [
    {
     "name": "stdout",
     "output_type": "stream",
     "text": [
      "키를 입력해주세요:170\n"
     ]
    }
   ],
   "source": [
    "height = input(\"키를 입력해주세요:\")"
   ]
  },
  {
   "cell_type": "code",
   "execution_count": 13,
   "metadata": {},
   "outputs": [
    {
     "name": "stdout",
     "output_type": "stream",
     "text": [
      "k를 입력해주세요:5\n"
     ]
    }
   ],
   "source": [
    "num = input(\"k를 입력해주세요:\")"
   ]
  },
  {
   "cell_type": "code",
   "execution_count": 14,
   "metadata": {},
   "outputs": [
    {
     "name": "stdout",
     "output_type": "stream",
     "text": [
      "[[-0.01278925 -1.83846436 -0.42054713 -1.81723604]\n",
      " [ 0.53804224 -0.5668916  -0.93732487  1.20667252]\n",
      " [-0.3030799  -0.25451938  0.06937889  1.29475467]\n",
      " [ 0.3594897  -1.39676851  1.81579028  0.49778392]]\n"
     ]
    }
   ],
   "source": [
    "samples = np.random.normal(size=(4,4))\n",
    "\n",
    "print(samples)"
   ]
  },
  {
   "cell_type": "code",
   "execution_count": 15,
   "metadata": {},
   "outputs": [
    {
     "data": {
      "text/plain": [
       "[<matplotlib.lines.Line2D at 0x12c0bdb1d30>]"
      ]
     },
     "execution_count": 15,
     "metadata": {},
     "output_type": "execute_result"
    },
    {
     "data": {
      "image/png": "[encoded data removed]",
      "text/plain": [
       "<Figure size 432x288 with 1 Axes>"
      ]
     },
     "metadata": {
      "needs_background": "light"
     },
     "output_type": "display_data"
    }
   ],
   "source": [
    "import matplotlib.pyplot as plt\n",
    "%matplotlib inline\n",
    "\n",
    "plt.plot([1,2,3,4],[1,2,3,4])"
   ]
  },
  {
   "cell_type": "code",
   "execution_count": 16,
   "metadata": {},
   "outputs": [
    {
     "data": {
      "text/plain": [
       "[<matplotlib.lines.Line2D at 0x12c0c107da0>]"
      ]
     },
     "execution_count": 16,
     "metadata": {},
     "output_type": "execute_result"
    },
    {
     "data": {
      "image/png": "[encoded data removed]",
      "text/plain": [
       "<Figure size 432x288 with 1 Axes>"
      ]
     },
     "metadata": {
      "needs_background": "light"
     },
     "output_type": "display_data"
    }
   ],
   "source": [
    "plt.plot(175,60, marker = 'o', linestyle = '', color = 'red')\n",
    "plt.plot(181,75, marker = 'o', linestyle = '', color = 'red')\n",
    "plt.plot(165,68, marker = 'o', linestyle = '', color = 'red')\n",
    "plt.plot(170,70, marker = 'o', linestyle = '', color = 'red')\n",
    "plt.plot(185,77, marker = 'o', linestyle = '', color = 'red')\n",
    "plt.plot(163,58, marker = 'o', linestyle = '', color = 'red')\n",
    "plt.plot(160,48, marker = 'o', linestyle = '', color = 'blue')\n",
    "plt.plot(165,50, marker = 'o', linestyle = '', color = 'blue')\n",
    "plt.plot(158,60, marker = 'o', linestyle = '', color = 'blue')\n",
    "plt.plot(168,53, marker = 'o', linestyle = '', color = 'blue')\n",
    "plt.plot(140,45, marker = 'o', linestyle = '', color = 'blue')\n",
    "plt.plot(173,60, marker = 'o', linestyle = '', color = 'blue')"
   ]
  },
  {
   "cell_type": "code",
   "execution_count": 18,
   "metadata": {},
   "outputs": [
    {
     "name": "stdout",
     "output_type": "stream",
     "text": [
      "[[45, 144], [64, 188]]\n",
      "[[45, 144], [64, 188], [58, 157], [63, 169]]\n",
      "[[45, 144], [64, 188], [58, 157], [63, 169], [50, 157], [85, 199]]\n",
      "[[45, 144], [64, 188], [58, 157], [63, 169], [50, 157], [85, 199], [45, 175], [89, 190]]\n",
      "[[45, 144], [64, 188], [58, 157], [63, 169], [50, 157], [85, 199], [45, 175], [89, 190], [65, 170], [81, 173]]\n",
      "[[45, 144], [64, 188], [58, 157], [63, 169], [50, 157], [85, 199], [45, 175], [89, 190], [65, 170], [81, 173], [44, 171], [63, 165]]\n",
      "[[45, 144], [64, 188], [58, 157], [63, 169], [50, 157], [85, 199], [45, 175], [89, 190], [65, 170], [81, 173], [44, 171], [63, 165], [66, 166], [78, 188]]\n",
      "[[45, 144], [64, 188], [58, 157], [63, 169], [50, 157], [85, 199], [45, 175], [89, 190], [65, 170], [81, 173], [44, 171], [63, 165], [66, 166], [78, 188], [58, 179], [90, 178]]\n",
      "[[45, 144], [64, 188], [58, 157], [63, 169], [50, 157], [85, 199], [45, 175], [89, 190], [65, 170], [81, 173], [44, 171], [63, 165], [66, 166], [78, 188], [58, 179], [90, 178], [47, 172], [62, 171]]\n",
      "[[45, 144], [64, 188], [58, 157], [63, 169], [50, 157], [85, 199], [45, 175], [89, 190], [65, 170], [81, 173], [44, 171], [63, 165], [66, 166], [78, 188], [58, 179], [90, 178], [47, 172], [62, 171], [47, 144], [74, 173]]\n",
      "[[45, 144], [64, 188], [58, 157], [63, 169], [50, 157], [85, 199], [45, 175], [89, 190], [65, 170], [81, 173], [44, 171], [63, 165], [66, 166], [78, 188], [58, 179], [90, 178], [47, 172], [62, 171], [47, 144], [74, 173], [48, 173], [67, 165]]\n",
      "[[45, 144], [64, 188], [58, 157], [63, 169], [50, 157], [85, 199], [45, 175], [89, 190], [65, 170], [81, 173], [44, 171], [63, 165], [66, 166], [78, 188], [58, 179], [90, 178], [47, 172], [62, 171], [47, 144], [74, 173], [48, 173], [67, 165], [49, 150], [84, 162]]\n",
      "[[45, 144], [64, 188], [58, 157], [63, 169], [50, 157], [85, 199], [45, 175], [89, 190], [65, 170], [81, 173], [44, 171], [63, 165], [66, 166], [78, 188], [58, 179], [90, 178], [47, 172], [62, 171], [47, 144], [74, 173], [48, 173], [67, 165], [49, 150], [84, 162], [48, 142], [61, 165]]\n",
      "[[45, 144], [64, 188], [58, 157], [63, 169], [50, 157], [85, 199], [45, 175], [89, 190], [65, 170], [81, 173], [44, 171], [63, 165], [66, 166], [78, 188], [58, 179], [90, 178], [47, 172], [62, 171], [47, 144], [74, 173], [48, 173], [67, 165], [49, 150], [84, 162], [48, 142], [61, 165], [64, 180], [63, 179]]\n",
      "[[45, 144], [64, 188], [58, 157], [63, 169], [50, 157], [85, 199], [45, 175], [89, 190], [65, 170], [81, 173], [44, 171], [63, 165], [66, 166], [78, 188], [58, 179], [90, 178], [47, 172], [62, 171], [47, 144], [74, 173], [48, 173], [67, 165], [49, 150], [84, 162], [48, 142], [61, 165], [64, 180], [63, 179], [51, 163], [86, 176]]\n",
      "[[45, 144], [64, 188], [58, 157], [63, 169], [50, 157], [85, 199], [45, 175], [89, 190], [65, 170], [81, 173], [44, 171], [63, 165], [66, 166], [78, 188], [58, 179], [90, 178], [47, 172], [62, 171], [47, 144], [74, 173], [48, 173], [67, 165], [49, 150], [84, 162], [48, 142], [61, 165], [64, 180], [63, 179], [51, 163], [86, 176], [59, 178], [76, 192]]\n",
      "[[45, 144], [64, 188], [58, 157], [63, 169], [50, 157], [85, 199], [45, 175], [89, 190], [65, 170], [81, 173], [44, 171], [63, 165], [66, 166], [78, 188], [58, 179], [90, 178], [47, 172], [62, 171], [47, 144], [74, 173], [48, 173], [67, 165], [49, 150], [84, 162], [48, 142], [61, 165], [64, 180], [63, 179], [51, 163], [86, 176], [59, 178], [76, 192], [42, 140], [88, 191]]\n",
      "[[45, 144], [64, 188], [58, 157], [63, 169], [50, 157], [85, 199], [45, 175], [89, 190], [65, 170], [81, 173], [44, 171], [63, 165], [66, 166], [78, 188], [58, 179], [90, 178], [47, 172], [62, 171], [47, 144], [74, 173], [48, 173], [67, 165], [49, 150], [84, 162], [48, 142], [61, 165], [64, 180], [63, 179], [51, 163], [86, 176], [59, 178], [76, 192], [42, 140], [88, 191], [70, 167], [62, 172]]\n",
      "[[45, 144], [64, 188], [58, 157], [63, 169], [50, 157], [85, 199], [45, 175], [89, 190], [65, 170], [81, 173], [44, 171], [63, 165], [66, 166], [78, 188], [58, 179], [90, 178], [47, 172], [62, 171], [47, 144], [74, 173], [48, 173], [67, 165], [49, 150], [84, 162], [48, 142], [61, 165], [64, 180], [63, 179], [51, 163], [86, 176], [59, 178], [76, 192], [42, 140], [88, 191], [70, 167], [62, 172], [69, 158], [67, 186]]\n",
      "[[45, 144], [64, 188], [58, 157], [63, 169], [50, 157], [85, 199], [45, 175], [89, 190], [65, 170], [81, 173], [44, 171], [63, 165], [66, 166], [78, 188], [58, 179], [90, 178], [47, 172], [62, 171], [47, 144], [74, 173], [48, 173], [67, 165], [49, 150], [84, 162], [48, 142], [61, 165], [64, 180], [63, 179], [51, 163], [86, 176], [59, 178], [76, 192], [42, 140], [88, 191], [70, 167], [62, 172], [69, 158], [67, 186], [51, 156], [62, 180]]\n",
      "[[45, 144], [64, 188], [58, 157], [63, 169], [50, 157], [85, 199], [45, 175], [89, 190], [65, 170], [81, 173], [44, 171], [63, 165], [66, 166], [78, 188], [58, 179], [90, 178], [47, 172], [62, 171], [47, 144], [74, 173], [48, 173], [67, 165], [49, 150], [84, 162], [48, 142], [61, 165], [64, 180], [63, 179], [51, 163], [86, 176], [59, 178], [76, 192], [42, 140], [88, 191], [70, 167], [62, 172], [69, 158], [67, 186], [51, 156], [62, 180], [48, 163], [89, 192]]\n",
      "[[45, 144], [64, 188], [58, 157], [63, 169], [50, 157], [85, 199], [45, 175], [89, 190], [65, 170], [81, 173], [44, 171], [63, 165], [66, 166], [78, 188], [58, 179], [90, 178], [47, 172], [62, 171], [47, 144], [74, 173], [48, 173], [67, 165], [49, 150], [84, 162], [48, 142], [61, 165], [64, 180], [63, 179], [51, 163], [86, 176], [59, 178], [76, 192], [42, 140], [88, 191], [70, 167], [62, 172], [69, 158], [67, 186], [51, 156], [62, 180], [48, 163], [89, 192], [50, 145], [81, 166]]\n",
      "[[45, 144], [64, 188], [58, 157], [63, 169], [50, 157], [85, 199], [45, 175], [89, 190], [65, 170], [81, 173], [44, 171], [63, 165], [66, 166], [78, 188], [58, 179], [90, 178], [47, 172], [62, 171], [47, 144], [74, 173], [48, 173], [67, 165], [49, 150], [84, 162], [48, 142], [61, 165], [64, 180], [63, 179], [51, 163], [86, 176], [59, 178], [76, 192], [42, 140], [88, 191], [70, 167], [62, 172], [69, 158], [67, 186], [51, 156], [62, 180], [48, 163], [89, 192], [50, 145], [81, 166], [53, 143], [87, 191]]\n",
      "[[45, 144], [64, 188], [58, 157], [63, 169], [50, 157], [85, 199], [45, 175], [89, 190], [65, 170], [81, 173], [44, 171], [63, 165], [66, 166], [78, 188], [58, 179], [90, 178], [47, 172], [62, 171], [47, 144], [74, 173], [48, 173], [67, 165], [49, 150], [84, 162], [48, 142], [61, 165], [64, 180], [63, 179], [51, 163], [86, 176], [59, 178], [76, 192], [42, 140], [88, 191], [70, 167], [62, 172], [69, 158], [67, 186], [51, 156], [62, 180], [48, 163], [89, 192], [50, 145], [81, 166], [53, 143], [87, 191], [43, 145], [84, 168]]\n",
      "[[45, 144], [64, 188], [58, 157], [63, 169], [50, 157], [85, 199], [45, 175], [89, 190], [65, 170], [81, 173], [44, 171], [63, 165], [66, 166], [78, 188], [58, 179], [90, 178], [47, 172], [62, 171], [47, 144], [74, 173], [48, 173], [67, 165], [49, 150], [84, 162], [48, 142], [61, 165], [64, 180], [63, 179], [51, 163], [86, 176], [59, 178], [76, 192], [42, 140], [88, 191], [70, 167], [62, 172], [69, 158], [67, 186], [51, 156], [62, 180], [48, 163], [89, 192], [50, 145], [81, 166], [53, 143], [87, 191], [43, 145], [84, 168], [67, 171], [63, 193]]\n",
      "[[45, 144], [64, 188], [58, 157], [63, 169], [50, 157], [85, 199], [45, 175], [89, 190], [65, 170], [81, 173], [44, 171], [63, 165], [66, 166], [78, 188], [58, 179], [90, 178], [47, 172], [62, 171], [47, 144], [74, 173], [48, 173], [67, 165], [49, 150], [84, 162], [48, 142], [61, 165], [64, 180], [63, 179], [51, 163], [86, 176], [59, 178], [76, 192], [42, 140], [88, 191], [70, 167], [62, 172], [69, 158], [67, 186], [51, 156], [62, 180], [48, 163], [89, 192], [50, 145], [81, 166], [53, 143], [87, 191], [43, 145], [84, 168], [67, 171], [63, 193], [50, 165], [61, 170]]\n",
      "[[45, 144], [64, 188], [58, 157], [63, 169], [50, 157], [85, 199], [45, 175], [89, 190], [65, 170], [81, 173], [44, 171], [63, 165], [66, 166], [78, 188], [58, 179], [90, 178], [47, 172], [62, 171], [47, 144], [74, 173], [48, 173], [67, 165], [49, 150], [84, 162], [48, 142], [61, 165], [64, 180], [63, 179], [51, 163], [86, 176], [59, 178], [76, 192], [42, 140], [88, 191], [70, 167], [62, 172], [69, 158], [67, 186], [51, 156], [62, 180], [48, 163], [89, 192], [50, 145], [81, 166], [53, 143], [87, 191], [43, 145], [84, 168], [67, 171], [63, 193], [50, 165], [61, 170], [69, 149], [67, 197]]\n",
      "[[45, 144], [64, 188], [58, 157], [63, 169], [50, 157], [85, 199], [45, 175], [89, 190], [65, 170], [81, 173], [44, 171], [63, 165], [66, 166], [78, 188], [58, 179], [90, 178], [47, 172], [62, 171], [47, 144], [74, 173], [48, 173], [67, 165], [49, 150], [84, 162], [48, 142], [61, 165], [64, 180], [63, 179], [51, 163], [86, 176], [59, 178], [76, 192], [42, 140], [88, 191], [70, 167], [62, 172], [69, 158], [67, 186], [51, 156], [62, 180], [48, 163], [89, 192], [50, 145], [81, 166], [53, 143], [87, 191], [43, 145], [84, 168], [67, 171], [63, 193], [50, 165], [61, 170], [69, 149], [67, 197], [58, 178], [67, 169]]\n",
      "[[45, 144], [64, 188], [58, 157], [63, 169], [50, 157], [85, 199], [45, 175], [89, 190], [65, 170], [81, 173], [44, 171], [63, 165], [66, 166], [78, 188], [58, 179], [90, 178], [47, 172], [62, 171], [47, 144], [74, 173], [48, 173], [67, 165], [49, 150], [84, 162], [48, 142], [61, 165], [64, 180], [63, 179], [51, 163], [86, 176], [59, 178], [76, 192], [42, 140], [88, 191], [70, 167], [62, 172], [69, 158], [67, 186], [51, 156], [62, 180], [48, 163], [89, 192], [50, 145], [81, 166], [53, 143], [87, 191], [43, 145], [84, 168], [67, 171], [63, 193], [50, 165], [61, 170], [69, 149], [67, 197], [58, 178], [67, 169], [69, 144], [81, 195]]\n",
      "[[45, 144], [64, 188], [58, 157], [63, 169], [50, 157], [85, 199], [45, 175], [89, 190], [65, 170], [81, 173], [44, 171], [63, 165], [66, 166], [78, 188], [58, 179], [90, 178], [47, 172], [62, 171], [47, 144], [74, 173], [48, 173], [67, 165], [49, 150], [84, 162], [48, 142], [61, 165], [64, 180], [63, 179], [51, 163], [86, 176], [59, 178], [76, 192], [42, 140], [88, 191], [70, 167], [62, 172], [69, 158], [67, 186], [51, 156], [62, 180], [48, 163], [89, 192], [50, 145], [81, 166], [53, 143], [87, 191], [43, 145], [84, 168], [67, 171], [63, 193], [50, 165], [61, 170], [69, 149], [67, 197], [58, 178], [67, 169], [69, 144], [81, 195], [54, 145], [60, 172]]\n",
      "[[45, 144], [64, 188], [58, 157], [63, 169], [50, 157], [85, 199], [45, 175], [89, 190], [65, 170], [81, 173], [44, 171], [63, 165], [66, 166], [78, 188], [58, 179], [90, 178], [47, 172], [62, 171], [47, 144], [74, 173], [48, 173], [67, 165], [49, 150], [84, 162], [48, 142], [61, 165], [64, 180], [63, 179], [51, 163], [86, 176], [59, 178], [76, 192], [42, 140], [88, 191], [70, 167], [62, 172], [69, 158], [67, 186], [51, 156], [62, 180], [48, 163], [89, 192], [50, 145], [81, 166], [53, 143], [87, 191], [43, 145], [84, 168], [67, 171], [63, 193], [50, 165], [61, 170], [69, 149], [67, 197], [58, 178], [67, 169], [69, 144], [81, 195], [54, 145], [60, 172], [69, 173], [89, 174]]\n",
      "[[45, 144], [64, 188], [58, 157], [63, 169], [50, 157], [85, 199], [45, 175], [89, 190], [65, 170], [81, 173], [44, 171], [63, 165], [66, 166], [78, 188], [58, 179], [90, 178], [47, 172], [62, 171], [47, 144], [74, 173], [48, 173], [67, 165], [49, 150], [84, 162], [48, 142], [61, 165], [64, 180], [63, 179], [51, 163], [86, 176], [59, 178], [76, 192], [42, 140], [88, 191], [70, 167], [62, 172], [69, 158], [67, 186], [51, 156], [62, 180], [48, 163], [89, 192], [50, 145], [81, 166], [53, 143], [87, 191], [43, 145], [84, 168], [67, 171], [63, 193], [50, 165], [61, 170], [69, 149], [67, 197], [58, 178], [67, 169], [69, 144], [81, 195], [54, 145], [60, 172], [69, 173], [89, 174], [41, 168], [71, 178]]\n",
      "[[45, 144], [64, 188], [58, 157], [63, 169], [50, 157], [85, 199], [45, 175], [89, 190], [65, 170], [81, 173], [44, 171], [63, 165], [66, 166], [78, 188], [58, 179], [90, 178], [47, 172], [62, 171], [47, 144], [74, 173], [48, 173], [67, 165], [49, 150], [84, 162], [48, 142], [61, 165], [64, 180], [63, 179], [51, 163], [86, 176], [59, 178], [76, 192], [42, 140], [88, 191], [70, 167], [62, 172], [69, 158], [67, 186], [51, 156], [62, 180], [48, 163], [89, 192], [50, 145], [81, 166], [53, 143], [87, 191], [43, 145], [84, 168], [67, 171], [63, 193], [50, 165], [61, 170], [69, 149], [67, 197], [58, 178], [67, 169], [69, 144], [81, 195], [54, 145], [60, 172], [69, 173], [89, 174], [41, 168], [71, 178], [51, 146], [87, 162]]\n",
      "[[45, 144], [64, 188], [58, 157], [63, 169], [50, 157], [85, 199], [45, 175], [89, 190], [65, 170], [81, 173], [44, 171], [63, 165], [66, 166], [78, 188], [58, 179], [90, 178], [47, 172], [62, 171], [47, 144], [74, 173], [48, 173], [67, 165], [49, 150], [84, 162], [48, 142], [61, 165], [64, 180], [63, 179], [51, 163], [86, 176], [59, 178], [76, 192], [42, 140], [88, 191], [70, 167], [62, 172], [69, 158], [67, 186], [51, 156], [62, 180], [48, 163], [89, 192], [50, 145], [81, 166], [53, 143], [87, 191], [43, 145], [84, 168], [67, 171], [63, 193], [50, 165], [61, 170], [69, 149], [67, 197], [58, 178], [67, 169], [69, 144], [81, 195], [54, 145], [60, 172], [69, 173], [89, 174], [41, 168], [71, 178], [51, 146], [87, 162], [53, 153], [86, 196]]\n",
      "[[45, 144], [64, 188], [58, 157], [63, 169], [50, 157], [85, 199], [45, 175], [89, 190], [65, 170], [81, 173], [44, 171], [63, 165], [66, 166], [78, 188], [58, 179], [90, 178], [47, 172], [62, 171], [47, 144], [74, 173], [48, 173], [67, 165], [49, 150], [84, 162], [48, 142], [61, 165], [64, 180], [63, 179], [51, 163], [86, 176], [59, 178], [76, 192], [42, 140], [88, 191], [70, 167], [62, 172], [69, 158], [67, 186], [51, 156], [62, 180], [48, 163], [89, 192], [50, 145], [81, 166], [53, 143], [87, 191], [43, 145], [84, 168], [67, 171], [63, 193], [50, 165], [61, 170], [69, 149], [67, 197], [58, 178], [67, 169], [69, 144], [81, 195], [54, 145], [60, 172], [69, 173], [89, 174], [41, 168], [71, 178], [51, 146], [87, 162], [53, 153], [86, 196], [45, 145], [75, 171]]\n",
      "[[45, 144], [64, 188], [58, 157], [63, 169], [50, 157], [85, 199], [45, 175], [89, 190], [65, 170], [81, 173], [44, 171], [63, 165], [66, 166], [78, 188], [58, 179], [90, 178], [47, 172], [62, 171], [47, 144], [74, 173], [48, 173], [67, 165], [49, 150], [84, 162], [48, 142], [61, 165], [64, 180], [63, 179], [51, 163], [86, 176], [59, 178], [76, 192], [42, 140], [88, 191], [70, 167], [62, 172], [69, 158], [67, 186], [51, 156], [62, 180], [48, 163], [89, 192], [50, 145], [81, 166], [53, 143], [87, 191], [43, 145], [84, 168], [67, 171], [63, 193], [50, 165], [61, 170], [69, 149], [67, 197], [58, 178], [67, 169], [69, 144], [81, 195], [54, 145], [60, 172], [69, 173], [89, 174], [41, 168], [71, 178], [51, 146], [87, 162], [53, 153], [86, 196], [45, 145], [75, 171], [70, 150], [70, 172]]\n",
      "[[45, 144], [64, 188], [58, 157], [63, 169], [50, 157], [85, 199], [45, 175], [89, 190], [65, 170], [81, 173], [44, 171], [63, 165], [66, 166], [78, 188], [58, 179], [90, 178], [47, 172], [62, 171], [47, 144], [74, 173], [48, 173], [67, 165], [49, 150], [84, 162], [48, 142], [61, 165], [64, 180], [63, 179], [51, 163], [86, 176], [59, 178], [76, 192], [42, 140], [88, 191], [70, 167], [62, 172], [69, 158], [67, 186], [51, 156], [62, 180], [48, 163], [89, 192], [50, 145], [81, 166], [53, 143], [87, 191], [43, 145], [84, 168], [67, 171], [63, 193], [50, 165], [61, 170], [69, 149], [67, 197], [58, 178], [67, 169], [69, 144], [81, 195], [54, 145], [60, 172], [69, 173], [89, 174], [41, 168], [71, 178], [51, 146], [87, 162], [53, 153], [86, 196], [45, 145], [75, 171], [70, 150], [70, 172], [51, 155], [70, 172]]\n",
      "[[45, 144], [64, 188], [58, 157], [63, 169], [50, 157], [85, 199], [45, 175], [89, 190], [65, 170], [81, 173], [44, 171], [63, 165], [66, 166], [78, 188], [58, 179], [90, 178], [47, 172], [62, 171], [47, 144], [74, 173], [48, 173], [67, 165], [49, 150], [84, 162], [48, 142], [61, 165], [64, 180], [63, 179], [51, 163], [86, 176], [59, 178], [76, 192], [42, 140], [88, 191], [70, 167], [62, 172], [69, 158], [67, 186], [51, 156], [62, 180], [48, 163], [89, 192], [50, 145], [81, 166], [53, 143], [87, 191], [43, 145], [84, 168], [67, 171], [63, 193], [50, 165], [61, 170], [69, 149], [67, 197], [58, 178], [67, 169], [69, 144], [81, 195], [54, 145], [60, 172], [69, 173], [89, 174], [41, 168], [71, 178], [51, 146], [87, 162], [53, 153], [86, 196], [45, 145], [75, 171], [70, 150], [70, 172], [51, 155], [70, 172], [55, 166], [62, 176]]\n",
      "[[45, 144], [64, 188], [58, 157], [63, 169], [50, 157], [85, 199], [45, 175], [89, 190], [65, 170], [81, 173], [44, 171], [63, 165], [66, 166], [78, 188], [58, 179], [90, 178], [47, 172], [62, 171], [47, 144], [74, 173], [48, 173], [67, 165], [49, 150], [84, 162], [48, 142], [61, 165], [64, 180], [63, 179], [51, 163], [86, 176], [59, 178], [76, 192], [42, 140], [88, 191], [70, 167], [62, 172], [69, 158], [67, 186], [51, 156], [62, 180], [48, 163], [89, 192], [50, 145], [81, 166], [53, 143], [87, 191], [43, 145], [84, 168], [67, 171], [63, 193], [50, 165], [61, 170], [69, 149], [67, 197], [58, 178], [67, 169], [69, 144], [81, 195], [54, 145], [60, 172], [69, 173], [89, 174], [41, 168], [71, 178], [51, 146], [87, 162], [53, 153], [86, 196], [45, 145], [75, 171], [70, 150], [70, 172], [51, 155], [70, 172], [55, 166], [62, 176], [70, 140], [63, 196]]\n",
      "[[45, 144], [64, 188], [58, 157], [63, 169], [50, 157], [85, 199], [45, 175], [89, 190], [65, 170], [81, 173], [44, 171], [63, 165], [66, 166], [78, 188], [58, 179], [90, 178], [47, 172], [62, 171], [47, 144], [74, 173], [48, 173], [67, 165], [49, 150], [84, 162], [48, 142], [61, 165], [64, 180], [63, 179], [51, 163], [86, 176], [59, 178], [76, 192], [42, 140], [88, 191], [70, 167], [62, 172], [69, 158], [67, 186], [51, 156], [62, 180], [48, 163], [89, 192], [50, 145], [81, 166], [53, 143], [87, 191], [43, 145], [84, 168], [67, 171], [63, 193], [50, 165], [61, 170], [69, 149], [67, 197], [58, 178], [67, 169], [69, 144], [81, 195], [54, 145], [60, 172], [69, 173], [89, 174], [41, 168], [71, 178], [51, 146], [87, 162], [53, 153], [86, 196], [45, 145], [75, 171], [70, 150], [70, 172], [51, 155], [70, 172], [55, 166], [62, 176], [70, 140], [63, 196], [51, 168], [67, 165]]\n",
      "[[45, 144], [64, 188], [58, 157], [63, 169], [50, 157], [85, 199], [45, 175], [89, 190], [65, 170], [81, 173], [44, 171], [63, 165], [66, 166], [78, 188], [58, 179], [90, 178], [47, 172], [62, 171], [47, 144], [74, 173], [48, 173], [67, 165], [49, 150], [84, 162], [48, 142], [61, 165], [64, 180], [63, 179], [51, 163], [86, 176], [59, 178], [76, 192], [42, 140], [88, 191], [70, 167], [62, 172], [69, 158], [67, 186], [51, 156], [62, 180], [48, 163], [89, 192], [50, 145], [81, 166], [53, 143], [87, 191], [43, 145], [84, 168], [67, 171], [63, 193], [50, 165], [61, 170], [69, 149], [67, 197], [58, 178], [67, 169], [69, 144], [81, 195], [54, 145], [60, 172], [69, 173], [89, 174], [41, 168], [71, 178], [51, 146], [87, 162], [53, 153], [86, 196], [45, 145], [75, 171], [70, 150], [70, 172], [51, 155], [70, 172], [55, 166], [62, 176], [70, 140], [63, 196], [51, 168], [67, 165], [64, 148], [62, 187]]\n",
      "[[45, 144], [64, 188], [58, 157], [63, 169], [50, 157], [85, 199], [45, 175], [89, 190], [65, 170], [81, 173], [44, 171], [63, 165], [66, 166], [78, 188], [58, 179], [90, 178], [47, 172], [62, 171], [47, 144], [74, 173], [48, 173], [67, 165], [49, 150], [84, 162], [48, 142], [61, 165], [64, 180], [63, 179], [51, 163], [86, 176], [59, 178], [76, 192], [42, 140], [88, 191], [70, 167], [62, 172], [69, 158], [67, 186], [51, 156], [62, 180], [48, 163], [89, 192], [50, 145], [81, 166], [53, 143], [87, 191], [43, 145], [84, 168], [67, 171], [63, 193], [50, 165], [61, 170], [69, 149], [67, 197], [58, 178], [67, 169], [69, 144], [81, 195], [54, 145], [60, 172], [69, 173], [89, 174], [41, 168], [71, 178], [51, 146], [87, 162], [53, 153], [86, 196], [45, 145], [75, 171], [70, 150], [70, 172], [51, 155], [70, 172], [55, 166], [62, 176], [70, 140], [63, 196], [51, 168], [67, 165], [64, 148], [62, 187], [63, 175], [86, 186]]\n",
      "[[45, 144], [64, 188], [58, 157], [63, 169], [50, 157], [85, 199], [45, 175], [89, 190], [65, 170], [81, 173], [44, 171], [63, 165], [66, 166], [78, 188], [58, 179], [90, 178], [47, 172], [62, 171], [47, 144], [74, 173], [48, 173], [67, 165], [49, 150], [84, 162], [48, 142], [61, 165], [64, 180], [63, 179], [51, 163], [86, 176], [59, 178], [76, 192], [42, 140], [88, 191], [70, 167], [62, 172], [69, 158], [67, 186], [51, 156], [62, 180], [48, 163], [89, 192], [50, 145], [81, 166], [53, 143], [87, 191], [43, 145], [84, 168], [67, 171], [63, 193], [50, 165], [61, 170], [69, 149], [67, 197], [58, 178], [67, 169], [69, 144], [81, 195], [54, 145], [60, 172], [69, 173], [89, 174], [41, 168], [71, 178], [51, 146], [87, 162], [53, 153], [86, 196], [45, 145], [75, 171], [70, 150], [70, 172], [51, 155], [70, 172], [55, 166], [62, 176], [70, 140], [63, 196], [51, 168], [67, 165], [64, 148], [62, 187], [63, 175], [86, 186], [49, 142], [81, 175]]\n",
      "[[45, 144], [64, 188], [58, 157], [63, 169], [50, 157], [85, 199], [45, 175], [89, 190], [65, 170], [81, 173], [44, 171], [63, 165], [66, 166], [78, 188], [58, 179], [90, 178], [47, 172], [62, 171], [47, 144], [74, 173], [48, 173], [67, 165], [49, 150], [84, 162], [48, 142], [61, 165], [64, 180], [63, 179], [51, 163], [86, 176], [59, 178], [76, 192], [42, 140], [88, 191], [70, 167], [62, 172], [69, 158], [67, 186], [51, 156], [62, 180], [48, 163], [89, 192], [50, 145], [81, 166], [53, 143], [87, 191], [43, 145], [84, 168], [67, 171], [63, 193], [50, 165], [61, 170], [69, 149], [67, 197], [58, 178], [67, 169], [69, 144], [81, 195], [54, 145], [60, 172], [69, 173], [89, 174], [41, 168], [71, 178], [51, 146], [87, 162], [53, 153], [86, 196], [45, 145], [75, 171], [70, 150], [70, 172], [51, 155], [70, 172], [55, 166], [62, 176], [70, 140], [63, 196], [51, 168], [67, 165], [64, 148], [62, 187], [63, 175], [86, 186], [49, 142], [81, 175], [67, 144], [76, 174]]\n",
      "[[45, 144], [64, 188], [58, 157], [63, 169], [50, 157], [85, 199], [45, 175], [89, 190], [65, 170], [81, 173], [44, 171], [63, 165], [66, 166], [78, 188], [58, 179], [90, 178], [47, 172], [62, 171], [47, 144], [74, 173], [48, 173], [67, 165], [49, 150], [84, 162], [48, 142], [61, 165], [64, 180], [63, 179], [51, 163], [86, 176], [59, 178], [76, 192], [42, 140], [88, 191], [70, 167], [62, 172], [69, 158], [67, 186], [51, 156], [62, 180], [48, 163], [89, 192], [50, 145], [81, 166], [53, 143], [87, 191], [43, 145], [84, 168], [67, 171], [63, 193], [50, 165], [61, 170], [69, 149], [67, 197], [58, 178], [67, 169], [69, 144], [81, 195], [54, 145], [60, 172], [69, 173], [89, 174], [41, 168], [71, 178], [51, 146], [87, 162], [53, 153], [86, 196], [45, 145], [75, 171], [70, 150], [70, 172], [51, 155], [70, 172], [55, 166], [62, 176], [70, 140], [63, 196], [51, 168], [67, 165], [64, 148], [62, 187], [63, 175], [86, 186], [49, 142], [81, 175], [67, 144], [76, 174], [42, 166], [75, 197]]\n",
      "[[45, 144], [64, 188], [58, 157], [63, 169], [50, 157], [85, 199], [45, 175], [89, 190], [65, 170], [81, 173], [44, 171], [63, 165], [66, 166], [78, 188], [58, 179], [90, 178], [47, 172], [62, 171], [47, 144], [74, 173], [48, 173], [67, 165], [49, 150], [84, 162], [48, 142], [61, 165], [64, 180], [63, 179], [51, 163], [86, 176], [59, 178], [76, 192], [42, 140], [88, 191], [70, 167], [62, 172], [69, 158], [67, 186], [51, 156], [62, 180], [48, 163], [89, 192], [50, 145], [81, 166], [53, 143], [87, 191], [43, 145], [84, 168], [67, 171], [63, 193], [50, 165], [61, 170], [69, 149], [67, 197], [58, 178], [67, 169], [69, 144], [81, 195], [54, 145], [60, 172], [69, 173], [89, 174], [41, 168], [71, 178], [51, 146], [87, 162], [53, 153], [86, 196], [45, 145], [75, 171], [70, 150], [70, 172], [51, 155], [70, 172], [55, 166], [62, 176], [70, 140], [63, 196], [51, 168], [67, 165], [64, 148], [62, 187], [63, 175], [86, 186], [49, 142], [81, 175], [67, 144], [76, 174], [42, 166], [75, 197], [59, 159], [61, 174]]\n",
      "[[45, 144], [64, 188], [58, 157], [63, 169], [50, 157], [85, 199], [45, 175], [89, 190], [65, 170], [81, 173], [44, 171], [63, 165], [66, 166], [78, 188], [58, 179], [90, 178], [47, 172], [62, 171], [47, 144], [74, 173], [48, 173], [67, 165], [49, 150], [84, 162], [48, 142], [61, 165], [64, 180], [63, 179], [51, 163], [86, 176], [59, 178], [76, 192], [42, 140], [88, 191], [70, 167], [62, 172], [69, 158], [67, 186], [51, 156], [62, 180], [48, 163], [89, 192], [50, 145], [81, 166], [53, 143], [87, 191], [43, 145], [84, 168], [67, 171], [63, 193], [50, 165], [61, 170], [69, 149], [67, 197], [58, 178], [67, 169], [69, 144], [81, 195], [54, 145], [60, 172], [69, 173], [89, 174], [41, 168], [71, 178], [51, 146], [87, 162], [53, 153], [86, 196], [45, 145], [75, 171], [70, 150], [70, 172], [51, 155], [70, 172], [55, 166], [62, 176], [70, 140], [63, 196], [51, 168], [67, 165], [64, 148], [62, 187], [63, 175], [86, 186], [49, 142], [81, 175], [67, 144], [76, 174], [42, 166], [75, 197], [59, 159], [61, 174], [56, 158], [78, 185]]\n",
      "[[45, 144], [64, 188], [58, 157], [63, 169], [50, 157], [85, 199], [45, 175], [89, 190], [65, 170], [81, 173], [44, 171], [63, 165], [66, 166], [78, 188], [58, 179], [90, 178], [47, 172], [62, 171], [47, 144], [74, 173], [48, 173], [67, 165], [49, 150], [84, 162], [48, 142], [61, 165], [64, 180], [63, 179], [51, 163], [86, 176], [59, 178], [76, 192], [42, 140], [88, 191], [70, 167], [62, 172], [69, 158], [67, 186], [51, 156], [62, 180], [48, 163], [89, 192], [50, 145], [81, 166], [53, 143], [87, 191], [43, 145], [84, 168], [67, 171], [63, 193], [50, 165], [61, 170], [69, 149], [67, 197], [58, 178], [67, 169], [69, 144], [81, 195], [54, 145], [60, 172], [69, 173], [89, 174], [41, 168], [71, 178], [51, 146], [87, 162], [53, 153], [86, 196], [45, 145], [75, 171], [70, 150], [70, 172], [51, 155], [70, 172], [55, 166], [62, 176], [70, 140], [63, 196], [51, 168], [67, 165], [64, 148], [62, 187], [63, 175], [86, 186], [49, 142], [81, 175], [67, 144], [76, 174], [42, 166], [75, 197], [59, 159], [61, 174], [56, 158], [78, 185], [51, 143], [66, 186]]\n",
      "[[45, 144], [64, 188], [58, 157], [63, 169], [50, 157], [85, 199], [45, 175], [89, 190], [65, 170], [81, 173], [44, 171], [63, 165], [66, 166], [78, 188], [58, 179], [90, 178], [47, 172], [62, 171], [47, 144], [74, 173], [48, 173], [67, 165], [49, 150], [84, 162], [48, 142], [61, 165], [64, 180], [63, 179], [51, 163], [86, 176], [59, 178], [76, 192], [42, 140], [88, 191], [70, 167], [62, 172], [69, 158], [67, 186], [51, 156], [62, 180], [48, 163], [89, 192], [50, 145], [81, 166], [53, 143], [87, 191], [43, 145], [84, 168], [67, 171], [63, 193], [50, 165], [61, 170], [69, 149], [67, 197], [58, 178], [67, 169], [69, 144], [81, 195], [54, 145], [60, 172], [69, 173], [89, 174], [41, 168], [71, 178], [51, 146], [87, 162], [53, 153], [86, 196], [45, 145], [75, 171], [70, 150], [70, 172], [51, 155], [70, 172], [55, 166], [62, 176], [70, 140], [63, 196], [51, 168], [67, 165], [64, 148], [62, 187], [63, 175], [86, 186], [49, 142], [81, 175], [67, 144], [76, 174], [42, 166], [75, 197], [59, 159], [61, 174], [56, 158], [78, 185], [51, 143], [66, 186], [52, 167], [75, 168]]\n",
      "[[45, 144], [64, 188], [58, 157], [63, 169], [50, 157], [85, 199], [45, 175], [89, 190], [65, 170], [81, 173], [44, 171], [63, 165], [66, 166], [78, 188], [58, 179], [90, 178], [47, 172], [62, 171], [47, 144], [74, 173], [48, 173], [67, 165], [49, 150], [84, 162], [48, 142], [61, 165], [64, 180], [63, 179], [51, 163], [86, 176], [59, 178], [76, 192], [42, 140], [88, 191], [70, 167], [62, 172], [69, 158], [67, 186], [51, 156], [62, 180], [48, 163], [89, 192], [50, 145], [81, 166], [53, 143], [87, 191], [43, 145], [84, 168], [67, 171], [63, 193], [50, 165], [61, 170], [69, 149], [67, 197], [58, 178], [67, 169], [69, 144], [81, 195], [54, 145], [60, 172], [69, 173], [89, 174], [41, 168], [71, 178], [51, 146], [87, 162], [53, 153], [86, 196], [45, 145], [75, 171], [70, 150], [70, 172], [51, 155], [70, 172], [55, 166], [62, 176], [70, 140], [63, 196], [51, 168], [67, 165], [64, 148], [62, 187], [63, 175], [86, 186], [49, 142], [81, 175], [67, 144], [76, 174], [42, 166], [75, 197], [59, 159], [61, 174], [56, 158], [78, 185], [51, 143], [66, 186], [52, 167], [75, 168], [66, 163], [71, 191]]\n"
     ]
    }
   ],
   "source": [
    "import random\n",
    "import numpy as np\n",
    "data=[]\n",
    "for i in range(50):\n",
    "    data.append([random.randint(40, 70),random.randint(140, 180)])\n",
    "    data.append([random.randint(60, 90),random.randint(160, 200)])\n",
    "    \n",
    "    print(data)"
   ]
  },
  {
   "cell_type": "code",
   "execution_count": null,
   "metadata": {},
   "outputs": [],
   "source": []
  }
 ],
 "metadata": {
  "kernelspec": {
   "display_name": "Python 3",
   "language": "python",
   "name": "python3"
  },
  "language_info": {
   "codemirror_mode": {
    "name": "ipython",
    "version": 3
   },
   "file_extension": ".py",
   "mimetype": "text/x-python",
   "name": "python",
   "nbconvert_exporter": "python",
   "pygments_lexer": "ipython3",
   "version": "3.7.3"
  }
 },
 "nbformat": 4,
 "nbformat_minor": 2
}
