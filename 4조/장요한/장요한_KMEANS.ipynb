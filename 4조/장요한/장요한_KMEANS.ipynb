{
 "cells": [
  {
   "cell_type": "code",
   "execution_count": 35,
   "metadata": {},
   "outputs": [],
   "source": [
    "#사용할 모듈 import\n",
    "import random\n",
    "import numpy as np\n",
    "import matplotlib.pyplot as plt\n",
    "\n",
    "data = []\n",
    "for i in range(50):  #키, 몸무게 랜덤 데이터 생성\n",
    "    data.append([random.randint(40,70), random.randint(140,180)])\n",
    "    data.append([random.randint(60,90), random.randint(160,200)])"
   ]
  },
  {
   "cell_type": "code",
   "execution_count": 38,
   "metadata": {},
   "outputs": [
    {
     "name": "stdout",
     "output_type": "stream",
     "text": [
      "[[46, 144], [75, 196], [55, 152], [85, 160], [40, 140], [78, 169], [67, 177], [82, 184], [41, 173], [80, 189], [64, 175], [89, 169], [55, 152], [89, 173], [53, 178], [72, 191], [70, 155], [80, 175], [42, 160], [77, 160], [68, 165], [86, 169], [66, 141], [68, 172], [50, 173], [68, 194], [69, 156], [80, 168], [67, 170], [82, 182], [60, 143], [90, 174], [56, 168], [86, 161], [69, 155], [80, 180], [45, 150], [77, 187], [62, 163], [68, 189], [68, 179], [74, 166], [64, 147], [90, 196], [60, 149], [65, 181], [63, 180], [85, 199], [68, 155], [87, 196], [61, 171], [78, 184], [59, 145], [89, 192], [42, 167], [66, 195], [51, 159], [78, 198], [65, 166], [65, 165], [69, 168], [80, 179], [47, 169], [90, 182], [44, 156], [68, 177], [40, 145], [83, 167], [68, 156], [84, 188], [51, 143], [89, 176], [64, 149], [62, 191], [46, 172], [67, 189], [68, 154], [86, 194], [48, 144], [83, 180], [47, 161], [89, 173], [56, 149], [86, 178], [51, 179], [70, 162], [40, 167], [87, 176], [58, 154], [90, 162], [64, 140], [74, 192], [58, 158], [67, 196], [58, 146], [86, 181], [57, 155], [75, 197], [67, 162], [86, 174]]\n"
     ]
    }
   ],
   "source": [
    "print(data)  #데이터 찍어보기"
   ]
  },
  {
   "cell_type": "code",
   "execution_count": 39,
   "metadata": {},
   "outputs": [
    {
     "name": "stdout",
     "output_type": "stream",
     "text": [
      "[[71, 155], [50, 148]]\n"
     ]
    }
   ],
   "source": [
    "#초기 값 2개 지정\n",
    "random_points=[[random.randint(40,90), random.randint(140,200)],[random.randint(40,90), random.randint(140,200)]]\n",
    "print(random_points)"
   ]
  },
  {
   "cell_type": "code",
   "execution_count": 42,
   "metadata": {},
   "outputs": [
    {
     "data": {
      "text/plain": [
       "[<matplotlib.lines.Line2D at 0x1c2e1c36be0>]"
      ]
     },
     "execution_count": 42,
     "metadata": {},
     "output_type": "execute_result"
    },
    {
     "data": {
      "image/png": "[encoded data removed]",
      "text/plain": [
       "<Figure size 432x288 with 1 Axes>"
      ]
     },
     "metadata": {
      "needs_background": "light"
     },
     "output_type": "display_data"
    }
   ],
   "source": [
    "#랜덤 데이터 들과 초기 값 2개 그래프 그리기\n",
    "for i in range(len(data)):\n",
    "    plt.plot(data[i][0],data[i][1], 'o', color = 'k')\n",
    "\n",
    "plt.plot(random_points[0][0], random_points[0][1], 'x', color = 'r')\n",
    "plt.plot(random_points[1][0], random_points[1][1], 'x', color = 'b')"
   ]
  },
  {
   "cell_type": "code",
   "execution_count": 43,
   "metadata": {},
   "outputs": [],
   "source": [
    "#두점 사이의 거리를 구하는 공식\n",
    "result1 = []\n",
    "result2 = []\n",
    "\n",
    "def distance(x,y):\n",
    "    return np.sqrt(pow((x[0]-y[0]),2)+pow((x[1]-y[1]),2))"
   ]
  },
  {
   "cell_type": "code",
   "execution_count": 44,
   "metadata": {},
   "outputs": [],
   "source": [
    "#거리에 따라 다른 리스트에 저장\n",
    "for i in range(len(data)):\n",
    "    if(distance(random_points[0], data[i]) > distance(random_points[1], data[i])):\n",
    "        result1.append(data[i])\n",
    "    else : \n",
    "        result2.append(data[i])"
   ]
  },
  {
   "cell_type": "code",
   "execution_count": 45,
   "metadata": {},
   "outputs": [
    {
     "data": {
      "text/plain": [
       "[<matplotlib.lines.Line2D at 0x1c2e1d95588>]"
      ]
     },
     "execution_count": 45,
     "metadata": {},
     "output_type": "execute_result"
    },
    {
     "data": {
      "image/png": "[encoded data removed]",
      "text/plain": [
       "<Figure size 432x288 with 1 Axes>"
      ]
     },
     "metadata": {
      "needs_background": "light"
     },
     "output_type": "display_data"
    }
   ],
   "source": [
    "#거리에 따른 리스트와 초기값 그리기\n",
    "for i in range(len(result1)):\n",
    "    plt.plot(result1[i][0],result1[i][1], 'o', color = 'y')\n",
    "for i in range(len(result2)):\n",
    "    plt.plot(result2[i][0],result2[i][1], 'o', color = 'g')\n",
    "    \n",
    "plt.plot(random_points[0][0], random_points[0][1], 'x', color = 'r')\n",
    "plt.plot(random_points[1][0], random_points[1][1], 'x', color = 'b')   "
   ]
  },
  {
   "cell_type": "code",
   "execution_count": 49,
   "metadata": {},
   "outputs": [],
   "source": [
    "#리스트의 모든 점들의 평균을 구하여 기준으로 이용\n",
    "sum1 = 0\n",
    "sum2 = 0\n",
    "\n",
    "for i in range(len(result1)):\n",
    "    sum1 += result1[i][0]\n",
    "    sum2 += result1[i][1]\n",
    "\n",
    "new_points = []\n",
    "new_points.append([sum1/len(result1), sum2/len(result1)])\n",
    "\n",
    "sum1 = 0\n",
    "sum2 = 0\n",
    "\n",
    "for i in range(len(result2)):\n",
    "    sum1 += result2[i][0]\n",
    "    sum2 += result2[i][1]\n",
    "new_points.append([sum1/len(result2), sum2/len(result2)])\n"
   ]
  },
  {
   "cell_type": "code",
   "execution_count": 50,
   "metadata": {},
   "outputs": [
    {
     "name": "stdout",
     "output_type": "stream",
     "text": [
      "[[50.392857142857146, 155.17857142857142], [75.09722222222223, 175.25]]\n"
     ]
    }
   ],
   "source": [
    "print(new_points)  #새로운 기준점"
   ]
  },
  {
   "cell_type": "code",
   "execution_count": 51,
   "metadata": {},
   "outputs": [
    {
     "data": {
      "text/plain": [
       "[<matplotlib.lines.Line2D at 0x1c2e204b828>]"
      ]
     },
     "execution_count": 51,
     "metadata": {},
     "output_type": "execute_result"
    },
    {
     "data": {
      "image/png": "[encoded data removed]",
      "text/plain": [
       "<Figure size 432x288 with 1 Axes>"
      ]
     },
     "metadata": {
      "needs_background": "light"
     },
     "output_type": "display_data"
    }
   ],
   "source": [
    "for i in range(len(result1)):\n",
    "    plt.plot(result1[i][0],result1[i][1], 'o', color = 'y')\n",
    "for i in range(len(result2)):\n",
    "    plt.plot(result2[i][0],result2[i][1], 'o', color = 'g')\n",
    "\n",
    "plt.plot(new_points[0][0], new_points[0][1], 'x', color = 'r')\n",
    "plt.plot(new_points[1][0], new_points[1][1], 'x', color = 'b')"
   ]
  },
  {
   "cell_type": "code",
   "execution_count": 52,
   "metadata": {},
   "outputs": [
    {
     "data": {
      "image/png": "[encoded data removed]",
      "text/plain": [
       "<Figure size 432x288 with 1 Axes>"
      ]
     },
     "metadata": {
      "needs_background": "light"
     },
     "output_type": "display_data"
    }
   ],
   "source": [
    "#step 2\n",
    "result3 = []\n",
    "result4 = []\n",
    "\n",
    "for i in range(len(data)):\n",
    "    if(distance(new_points[0], data[i]) > distance(new_points[1], data[i])):\n",
    "        result3.append(data[i])\n",
    "    else : \n",
    "        result4.append(data[i])\n",
    "        \n",
    "for i in range(len(result3)):\n",
    "    plt.plot(result3[i][0],result3[i][1], 'o', color = 'y')\n",
    "for i in range(len(result4)):\n",
    "    plt.plot(result4[i][0],result4[i][1], 'o', color = 'g')\n",
    "    \n",
    "plt.plot(new_points[0][0], new_points[0][1], 'x', color = 'r')\n",
    "plt.plot(new_points[1][0], new_points[1][1], 'x', color = 'b')   \n",
    "\n",
    "sum1 = 0\n",
    "sum2 = 0\n",
    "\n",
    "for i in range(len(result3)):\n",
    "    sum1 += result3[i][0]\n",
    "    sum2 += result3[i][1]\n",
    "\n",
    "new_points2 = []\n",
    "new_points2.append([sum1/len(result3), sum2/len(result3)])\n",
    "\n",
    "sum1 = 0\n",
    "sum2 = 0\n",
    "\n",
    "for i in range(len(result4)):\n",
    "    sum1 += result4[i][0]\n",
    "    sum2 += result4[i][1]\n",
    "new_points2.append([sum1/len(result4), sum2/len(result4)])\n"
   ]
  },
  {
   "cell_type": "code",
   "execution_count": 53,
   "metadata": {},
   "outputs": [
    {
     "name": "stdout",
     "output_type": "stream",
     "text": [
      "[[76.77049180327869, 179.0], [54.743589743589745, 154.97435897435898]]\n"
     ]
    }
   ],
   "source": [
    "print(new_points2)"
   ]
  },
  {
   "cell_type": "code",
   "execution_count": 54,
   "metadata": {},
   "outputs": [
    {
     "data": {
      "text/plain": [
       "[<matplotlib.lines.Line2D at 0x1c2e1910c18>]"
      ]
     },
     "execution_count": 54,
     "metadata": {},
     "output_type": "execute_result"
    },
    {
     "data": {
      "image/png": "[encoded data removed]",
      "text/plain": [
       "<Figure size 432x288 with 1 Axes>"
      ]
     },
     "metadata": {
      "needs_background": "light"
     },
     "output_type": "display_data"
    }
   ],
   "source": [
    "for i in range(len(result3)):\n",
    "    plt.plot(result3[i][0],result3[i][1], 'o', color = 'y')\n",
    "for i in range(len(result4)):\n",
    "    plt.plot(result4[i][0],result4[i][1], 'o', color = 'g')\n",
    "\n",
    "plt.plot(new_points2[0][0], new_points2[0][1], 'x', color = 'r')\n",
    "plt.plot(new_points2[1][0], new_points2[1][1], 'x', color = 'b')"
   ]
  },
  {
   "cell_type": "code",
   "execution_count": 55,
   "metadata": {},
   "outputs": [
    {
     "data": {
      "image/png": "[encoded data removed]",
      "text/plain": [
       "<Figure size 432x288 with 1 Axes>"
      ]
     },
     "metadata": {
      "needs_background": "light"
     },
     "output_type": "display_data"
    }
   ],
   "source": [
    "#step 3\n",
    "result5 = []\n",
    "result6 = []\n",
    "\n",
    "for i in range(len(data)):\n",
    "    if(distance(new_points2[0], data[i]) > distance(new_points2[1], data[i])):\n",
    "        result5.append(data[i])\n",
    "    else : \n",
    "        result6.append(data[i])\n",
    "        \n",
    "for i in range(len(result5)):\n",
    "    plt.plot(result5[i][0],result5[i][1], 'o', color = 'y')\n",
    "for i in range(len(result4)):\n",
    "    plt.plot(result6[i][0],result6[i][1], 'o', color = 'g')\n",
    "    \n",
    "plt.plot(new_points2[0][0], new_points2[0][1], 'x', color = 'r')\n",
    "plt.plot(new_points2[1][0], new_points2[1][1], 'x', color = 'b')   \n",
    "\n",
    "sum1 = 0\n",
    "sum2 = 0\n",
    "\n",
    "for i in range(len(result5)):\n",
    "    sum1 += result5[i][0]\n",
    "    sum2 += result5[i][1]\n",
    "\n",
    "new_points3 = []\n",
    "new_points3.append([sum1/len(result5), sum2/len(result5)])\n",
    "\n",
    "sum1 = 0\n",
    "sum2 = 0\n",
    "\n",
    "for i in range(len(result6)):\n",
    "    sum1 += result6[i][0]\n",
    "    sum2 += result6[i][1]\n",
    "new_points3.append([sum1/len(result6), sum2/len(result6)])\n"
   ]
  },
  {
   "cell_type": "code",
   "execution_count": 56,
   "metadata": {},
   "outputs": [
    {
     "name": "stdout",
     "output_type": "stream",
     "text": [
      "[[55.91111111111111, 156.62222222222223], [78.21818181818182, 180.27272727272728]]\n"
     ]
    }
   ],
   "source": [
    "print(new_points3)"
   ]
  },
  {
   "cell_type": "code",
   "execution_count": 57,
   "metadata": {},
   "outputs": [
    {
     "data": {
      "image/png": "[encoded data removed]",
      "text/plain": [
       "<Figure size 432x288 with 1 Axes>"
      ]
     },
     "metadata": {
      "needs_background": "light"
     },
     "output_type": "display_data"
    }
   ],
   "source": [
    "result5 = []\n",
    "result6 = []\n",
    "\n",
    "for i in range(len(data)):\n",
    "    if(distance(new_points2[0], data[i]) > distance(new_points2[1], data[i])):\n",
    "        result5.append(data[i])\n",
    "    else : \n",
    "        result6.append(data[i])\n",
    "        \n",
    "for i in range(len(result5)):\n",
    "    plt.plot(result5[i][0],result5[i][1], 'o', color = 'y')\n",
    "for i in range(len(result4)):\n",
    "    plt.plot(result6[i][0],result6[i][1], 'o', color = 'g')\n",
    "    \n",
    "plt.plot(new_points2[0][0], new_points2[0][1], 'x', color = 'r')\n",
    "plt.plot(new_points2[1][0], new_points2[1][1], 'x', color = 'b')   \n",
    "\n",
    "sum1 = 0\n",
    "sum2 = 0\n",
    "\n",
    "for i in range(len(result5)):\n",
    "    sum1 += result5[i][0]\n",
    "    sum2 += result5[i][1]\n",
    "\n",
    "new_points3 = []\n",
    "new_points3.append([sum1/len(result5), sum2/len(result5)])\n",
    "\n",
    "sum1 = 0\n",
    "sum2 = 0\n",
    "\n",
    "for i in range(len(result6)):\n",
    "    sum1 += result6[i][0]\n",
    "    sum2 += result6[i][1]\n",
    "new_points3.append([sum1/len(result6), sum2/len(result6)])\n"
   ]
  }
 ],
 "metadata": {
  "kernelspec": {
   "display_name": "Python 3",
   "language": "python",
   "name": "python3"
  },
  "language_info": {
   "codemirror_mode": {
    "name": "ipython",
    "version": 3
   },
   "file_extension": ".py",
   "mimetype": "text/x-python",
   "name": "python",
   "nbconvert_exporter": "python",
   "pygments_lexer": "ipython3",
   "version": "3.7.3"
  }
 },
 "nbformat": 4,
 "nbformat_minor": 2
}
