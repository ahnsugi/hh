{
 "cells": [
  {
   "cell_type": "code",
   "execution_count": 4,
   "metadata": {},
   "outputs": [
    {
     "name": "stdout",
     "output_type": "stream",
     "text": [
      "111111111111 AND GATE 111111111111\n",
      "\n",
      "(0, 0) -> 0\n",
      "(1, 0) -> 0\n",
      "(0, 1) -> 0\n",
      "(1, 1) -> 1\n"
     ]
    }
   ],
   "source": [
    "# W1*X1 + W2*X2 + B > 0   흐른다\n",
    "# W1+X1 + W2*X2 + B <= 0  흐르지 X\n",
    "# AND 게이트\n",
    "\n",
    "import numpy as np   #행렬 연산을 하기위해 \n",
    "\n",
    "def AND(x1, x2):\n",
    "    x = np.array([x1,x2])\n",
    "    w = np.array([0.5,0.5])\n",
    "    b = -0.7\n",
    "    tmp = np.sum(w*x) + b\n",
    "    if tmp <= 0:\n",
    "        return 0   #흐르지 X\n",
    "    else:\n",
    "        return 1   #흐른다\n",
    "    \n",
    "print(\"111111111111 AND GATE 111111111111\")\n",
    "print()\n",
    "for i in [(0,0), (1,0), (0,1), (1,1)]:   #X1,X2 값 대입\n",
    "    y = AND(i[0], i[1])\n",
    "    print(str(i) + \" -> \" + str(y))\n",
    "          \n",
    "          "
   ]
  },
  {
   "cell_type": "code",
   "execution_count": 8,
   "metadata": {},
   "outputs": [
    {
     "name": "stdout",
     "output_type": "stream",
     "text": [
      "111111111111 OR GATE 111111111111\n",
      "\n",
      "(0, 0) -> 0\n",
      "(1, 0) -> 1\n",
      "(0, 1) -> 1\n",
      "(1, 1) -> 1\n"
     ]
    }
   ],
   "source": [
    "# W1*X1 + W2*X2 + B > 0   흐른다\n",
    "# W1+X1 + W2*X2 + B <= 0  흐르지 X\n",
    "# OR 게이트\n",
    "\n",
    "import numpy as np   #행렬 연산을 하기위해 \n",
    "\n",
    "def OR(x1, x2):\n",
    "    x = np.array([x1,x2])\n",
    "    w = np.array([1,1])\n",
    "    b = -0.5\n",
    "    tmp = np.sum(w*x) + b\n",
    "    if tmp <= 0:\n",
    "        return 0   #흐르지 X\n",
    "    else:\n",
    "        return 1   #흐른다\n",
    "    \n",
    "print(\"111111111111 OR GATE 111111111111\")\n",
    "print()\n",
    "for i in [(0,0), (1,0), (0,1), (1,1)]:   #X1,X2 값 대입\n",
    "    y = OR(i[0], i[1])\n",
    "    print(str(i) + \" -> \" + str(y))\n",
    "          \n",
    "          "
   ]
  },
  {
   "cell_type": "code",
   "execution_count": 9,
   "metadata": {},
   "outputs": [
    {
     "name": "stdout",
     "output_type": "stream",
     "text": [
      "111111111111 NAND GATE 111111111111\n",
      "\n",
      "(0, 0) -> 1\n",
      "(1, 0) -> 1\n",
      "(0, 1) -> 1\n",
      "(1, 1) -> 0\n"
     ]
    }
   ],
   "source": [
    "# W1*X1 + W2*X2 + B > 0   흐른다\n",
    "# W1+X1 + W2*X2 + B <= 0  흐르지 X\n",
    "# NAND 게이트\n",
    "\n",
    "import numpy as np   #행렬 연산을 하기위해 \n",
    "\n",
    "def NAND(x1, x2):\n",
    "    x = np.array([x1,x2])\n",
    "    w = np.array([-1,-1])\n",
    "    b = 2\n",
    "    tmp = np.sum(w*x) + b\n",
    "    if tmp <= 0:\n",
    "        return 0   #흐르지 X\n",
    "    else:\n",
    "        return 1   #흐른다\n",
    "    \n",
    "print(\"111111111111 NAND GATE 111111111111\")\n",
    "print()\n",
    "for i in [(0,0), (1,0), (0,1), (1,1)]:   #X1,X2 값 대입\n",
    "    y = NAND(i[0], i[1])\n",
    "    print(str(i) + \" -> \" + str(y))\n",
    "          \n",
    "          "
   ]
  },
  {
   "cell_type": "code",
   "execution_count": 10,
   "metadata": {},
   "outputs": [
    {
     "name": "stdout",
     "output_type": "stream",
     "text": [
      "epoch :  4\n",
      "w1 :  0.22129343554329334\n",
      "w2 :  -0.04795307320282129\n",
      "b :  -0.36546080927215735\n"
     ]
    }
   ],
   "source": [
    "#컴퓨터가 스스로 w1,w2,b, 값 찾는 프로글램\n",
    "\n",
    "data = [(0,0,0),(1,0,0),(0,1,0),(1,1,1)]   #학습을 위해 값과 답을 줌\n",
    "\n",
    "w1 = 0\n",
    "w2 = 0\n",
    "b = 0\n",
    "cnt = 0\n",
    "epoch = 0\n",
    "\n",
    "def model(x1, x2):\n",
    "    x = np.array([x1,x2])\n",
    "    w = np.array([w1,w1])\n",
    "    \n",
    "    tmp = np.sum(w*x) + b\n",
    "    if tmp <= 0 :\n",
    "        return 0   #흐르지 X\n",
    "    else :\n",
    "        return 1   #흐른다\n",
    "    \n",
    "while(1) :   #답을 찾을 때 가지 무한반복\n",
    "    epoch += 1\n",
    "    cnt = 0\n",
    "    w1 = np.random.normal()   #랜덤 값 저장\n",
    "    w2 = np.random.normal()\n",
    "    b = np.random.normal()\n",
    "    \n",
    "    for i in data :\n",
    "        if(i[2] != model(i[0],i[1])):\n",
    "            break\n",
    "        else:\n",
    "            cnt += 1\n",
    "    \n",
    "    if cnt == 4:   #4개의 입력값이 다 맞으면\n",
    "        print(\"epoch : \", epoch)\n",
    "        print(\"w1 : \", w1)\n",
    "        print(\"w2 : \" ,w2)\n",
    "        print(\"b : \",b)\n",
    "        break\n",
    "            \n",
    "        "
   ]
  },
  {
   "cell_type": "code",
   "execution_count": 11,
   "metadata": {},
   "outputs": [
    {
     "name": "stdout",
     "output_type": "stream",
     "text": [
      "111111111111 XOR 111111111111\n",
      "\n",
      "(0, 0) -> 0\n",
      "(1, 0) -> 1\n",
      "(0, 1) -> 1\n",
      "(1, 1) -> 0\n"
     ]
    }
   ],
   "source": [
    "# W1*X1 + W2*X2 + B > 0   흐른다\n",
    "# W1+X1 + W2*X2 + B <= 0  흐르지 X\n",
    "# XOR 게이트\n",
    "\n",
    "import numpy as np   #행렬 연산을 하기위해 \n",
    "\n",
    "def AND(x1, x2):\n",
    "    x = np.array([x1,x2])\n",
    "    w = np.array([0.5,0.5])\n",
    "    b = -0.7\n",
    "    tmp = np.sum(w*x) + b\n",
    "    if tmp <= 0:\n",
    "        return 0   #흐르지 X\n",
    "    else:\n",
    "        return 1   #흐른다\n",
    "    \n",
    "def OR(x1, x2):\n",
    "    x = np.array([x1,x2])\n",
    "    w = np.array([1,1])\n",
    "    b = -0.5\n",
    "    tmp = np.sum(w*x) + b\n",
    "    if tmp <= 0:\n",
    "        return 0   #흐르지 X\n",
    "    else:\n",
    "        return 1   #흐른다\n",
    "        \n",
    "def NAND(x1, x2):\n",
    "    x = np.array([x1,x2])\n",
    "    w = np.array([-1,-1])\n",
    "    b = 2\n",
    "    tmp = np.sum(w*x) + b\n",
    "    if tmp <= 0:\n",
    "        return 0   #흐르지 X\n",
    "    else:\n",
    "        return 1   #흐른다\n",
    "    \n",
    "print(\"111111111111 XOR 111111111111\")\n",
    "print()\n",
    "\n",
    "for i in [(0,0), (1,0), (0,1), (1,1)]:   # NAND, OR 연산 후 결과 값을 AND 게이트 = XOR 게이트\n",
    "    y = NAND(i[0], i[1])\n",
    "    z = OR(i[0], i[1])\n",
    "    answer = AND(y,z)\n",
    "    print(str(i) + \" -> \" + str(answer))\n",
    "\n",
    "          "
   ]
  },
  {
   "cell_type": "code",
   "execution_count": null,
   "metadata": {},
   "outputs": [],
   "source": []
  }
 ],
 "metadata": {
  "kernelspec": {
   "display_name": "Python 3",
   "language": "python",
   "name": "python3"
  },
  "language_info": {
   "codemirror_mode": {
    "name": "ipython",
    "version": 3
   },
   "file_extension": ".py",
   "mimetype": "text/x-python",
   "name": "python",
   "nbconvert_exporter": "python",
   "pygments_lexer": "ipython3",
   "version": "3.7.3"
  }
 },
 "nbformat": 4,
 "nbformat_minor": 2
}
