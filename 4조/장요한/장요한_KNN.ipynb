{
 "cells": [
  {
   "cell_type": "code",
   "execution_count": 1,
   "metadata": {},
   "outputs": [
    {
     "name": "stdout",
     "output_type": "stream",
     "text": [
      "몸무게를 입력해주세요:80\n",
      "키를 입력해주세요:190\n",
      "k의 값을 입력해주세요:3\n",
      "어깨 사이즈를 입력해주세요:110\n",
      "발크기를 입력해주세요:280\n",
      "당신은 남자입니다\n",
      "몸무게를 입력해주세요:50\n",
      "키를 입력해주세요:160\n",
      "k의 값을 입력해주세요:5\n",
      "어깨 사이즈를 입력해주세요:100\n",
      "발크기를 입력해주세요:250\n",
      "당신은 남자입니다\n",
      "몸무게를 입력해주세요:70\n",
      "키를 입력해주세요:165\n",
      "k의 값을 입력해주세요:7\n",
      "어깨 사이즈를 입력해주세요:95\n",
      "발크기를 입력해주세요:265\n",
      "당신은 여자입니다\n"
     ]
    },
    {
     "data": {
      "image/png": "[encoded data removed]",
      "text/plain": [
       "<Figure size 432x288 with 1 Axes>"
      ]
     },
     "metadata": {
      "needs_background": "light"
     },
     "output_type": "display_data"
    }
   ],
   "source": [
    "import numpy as np  #ndarray 생성\n",
    "import random  #random 함수 이용 \n",
    "import matplotlib.pyplot as plt  #그래프를 그리기 위한 헤더\n",
    "%matplotlib inline\n",
    "r =[] #여자\n",
    "b = [] #남자\n",
    "for i in range(50):  #50개의 랜덤 데이터 생성\n",
    "    r.append([random.randint(40,70),random.randint(140,180),1,random.randint(80,105),random.randint(235,270)])\n",
    "    b.append([random.randint(60,90),random.randint(160,200),0,random.randint(85,115),random.randint(250,300)])\n",
    "\n",
    "#4점 사이의 거리를 구하는 함수\n",
    "def distance(x,y):\n",
    "    return np.sqrt(pow((x[0]-y[0]), 2) + pow((x[1] - y[1]), 2) + pow((x[3] - y[3]), 2) + pow((x[4] - y[4]), 2))\n",
    "\n",
    "result = []\n",
    "re =0\n",
    "k=0\n",
    "new = [0,0,0,0,0,0]\n",
    "a=[50,50,50]\n",
    "\n",
    "for i in range(3):  #3명 데이터 입력\n",
    "    new[0] = int(input(\"몸무게를 입력해주세요:\"))\n",
    "    new[1] = int(input(\"키를 입력해주세요:\"))\n",
    "    k = int(input(\"k의 값을 입력해주세요:\"))\n",
    "    new[3] = int(input(\"어깨 사이즈를 입력해주세요:\"))\n",
    "    new[4] = int(input(\"발크기를 입력해주세요:\"))\n",
    "\n",
    "    for i in range(a[0]):  #그래프 그리기\n",
    "        plt.plot(r[i][0],r[i][1], marker='o', color='red')\n",
    "        plt.plot(b[i][0],b[i][1], marker='o', color='blue')\n",
    "        plt.plot(r[i][3],r[i][4], marker='o', color='green')\n",
    "        plt.plot(b[i][3],b[i][4], marker='o', color='orange')\n",
    "    \n",
    "    plt.plot(new[0],new[1], marker='x', color='black')  #입력 데이터 그래프 표시\n",
    "       #result[[계산값,여자 or 남자]]\n",
    "        #new[0,0,0,0,0,0], r[random.randint(40,70),random.randint(140,180),1,random.randint(80,105),random.randint(235,270)]\n",
    "     #입력데이터와 거리 계산\n",
    "    for i in range(a[1]):\n",
    "        result.append([distance(new,r[i]),r[i][2]])\n",
    "    for i in range(a[2]):\n",
    "        result.append([distance(new,b[i]),b[i][2]])\n",
    "\n",
    "    result.sort()  #거리에 따라 정렬\n",
    "   \n",
    "    for i in range(k):  #여자이면 카운트\n",
    "        if result[i][1] == 1:\n",
    "                re +=1\n",
    "        \n",
    "    if(re > (k/2)):  #카운트 개수가 더 많으면 \n",
    "        print(\"당신은 여자입니다\")\n",
    "        r.append([new[0],new[1],1,new[3],new[4]])\n",
    "        a[1]+=1\n",
    "    \n",
    "    else:  #카운트 개수가 더 작으면\n",
    "        print(\"당신은 남자입니다\")\n",
    "        b.append([new[0],new[1],0,new[3],new[4]])\n",
    "        a[2]+=1"
   ]
  },
  {
   "cell_type": "code",
   "execution_count": null,
   "metadata": {},
   "outputs": [],
   "source": []
  }
 ],
 "metadata": {
  "kernelspec": {
   "display_name": "Python 3",
   "language": "python",
   "name": "python3"
  },
  "language_info": {
   "codemirror_mode": {
    "name": "ipython",
    "version": 3
   },
   "file_extension": ".py",
   "mimetype": "text/x-python",
   "name": "python",
   "nbconvert_exporter": "python",
   "pygments_lexer": "ipython3",
   "version": "3.7.3"
  }
 },
 "nbformat": 4,
 "nbformat_minor": 2
}
