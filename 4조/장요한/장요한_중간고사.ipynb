{
 "cells": [
  {
   "cell_type": "markdown",
   "metadata": {},
   "source": [
    "#### 1. random 함수를 활용하여 로또 추첨기를 만들어주세요."
   ]
  },
  {
   "cell_type": "code",
   "execution_count": 70,
   "metadata": {},
   "outputs": [
    {
     "name": "stdout",
     "output_type": "stream",
     "text": [
      "5등입니다\n"
     ]
    }
   ],
   "source": [
    "lotto = [3, 15, 6, 41, 20, 38]   #오늘의 당첨 번호\n",
    "\n",
    "import random   #random 모듈 이용\n",
    "l = []\n",
    "count = 0\n",
    "sum = 0   \n",
    "\n",
    "while( count < 6):   \n",
    "    tmp = random.randint(1,46)   #1~45 사이의 숫자 추출\n",
    "    if (tmp not in l):   #중복되지 않은 로또 번호 생성\n",
    "        l.append(tmp)\n",
    "        count += 1\n",
    "\n",
    "for i in range (0,6):\n",
    "    for j in range (0,6):\n",
    "        if(lotto[i] == l[j]):   #당첨 번호와 추출 번호가 같으면\n",
    "            sum += 1\n",
    "\n",
    "if (sum == 6):   #맞힌 개수에 따라 등수\n",
    "    print(\"1등입니다\")\n",
    "elif (sum == 5):\n",
    "    print(\"2등입니다\")\n",
    "elif (sum == 4):\n",
    "    print(\"3등입니다\")\n",
    "elif (sum == 3):\n",
    "    print(\"4등입니다\")\n",
    "elif (sum == 2):\n",
    "    print(\"5등입니다\")\n",
    "else:\n",
    "    print(\"당첨되지 못했습니다\")"
   ]
  },
  {
   "cell_type": "markdown",
   "metadata": {},
   "source": [
    "#### 2. 다음 조건을 모두 만족하는 구구단을 만들어주세요.\n",
    "- 3단, 6단을 제외한 구구단\n",
    "- 반복문, 조건문 사용\n",
    "- 문자열 포맷팅을 활용해 2 X 2 = 4 형식으로 출력"
   ]
  },
  {
   "cell_type": "code",
   "execution_count": 35,
   "metadata": {},
   "outputs": [
    {
     "name": "stdout",
     "output_type": "stream",
     "text": [
      "2 단\n",
      "2 x 1 = 2\n",
      "2 x 2 = 4\n",
      "2 x 3 = 6\n",
      "2 x 4 = 8\n",
      "2 x 5 = 10\n",
      "2 x 6 = 12\n",
      "2 x 7 = 14\n",
      "2 x 8 = 16\n",
      "2 x 9 = 18\n",
      "4 단\n",
      "4 x 1 = 4\n",
      "4 x 2 = 8\n",
      "4 x 3 = 12\n",
      "4 x 4 = 16\n",
      "4 x 5 = 20\n",
      "4 x 6 = 24\n",
      "4 x 7 = 28\n",
      "4 x 8 = 32\n",
      "4 x 9 = 36\n",
      "5 단\n",
      "5 x 1 = 5\n",
      "5 x 2 = 10\n",
      "5 x 3 = 15\n",
      "5 x 4 = 20\n",
      "5 x 5 = 25\n",
      "5 x 6 = 30\n",
      "5 x 7 = 35\n",
      "5 x 8 = 40\n",
      "5 x 9 = 45\n",
      "7 단\n",
      "7 x 1 = 7\n",
      "7 x 2 = 14\n",
      "7 x 3 = 21\n",
      "7 x 4 = 28\n",
      "7 x 5 = 35\n",
      "7 x 6 = 42\n",
      "7 x 7 = 49\n",
      "7 x 8 = 56\n",
      "7 x 9 = 63\n",
      "8 단\n",
      "8 x 1 = 8\n",
      "8 x 2 = 16\n",
      "8 x 3 = 24\n",
      "8 x 4 = 32\n",
      "8 x 5 = 40\n",
      "8 x 6 = 48\n",
      "8 x 7 = 56\n",
      "8 x 8 = 64\n",
      "8 x 9 = 72\n",
      "9 단\n",
      "9 x 1 = 9\n",
      "9 x 2 = 18\n",
      "9 x 3 = 27\n",
      "9 x 4 = 36\n",
      "9 x 5 = 45\n",
      "9 x 6 = 54\n",
      "9 x 7 = 63\n",
      "9 x 8 = 72\n",
      "9 x 9 = 81\n"
     ]
    }
   ],
   "source": [
    "for i in range(2,10):   #2~9단\n",
    "    if (i == 3 or i == 6):  \n",
    "        continue   #3,6단 제외\n",
    "    print(i, '단')\n",
    "    for j in range(1,10):   #1~9 곱하기\n",
    "        print(\"{} x {} = {}\". format(i,j,i*j))   #포맷팅"
   ]
  },
  {
   "cell_type": "markdown",
   "metadata": {},
   "source": [
    "#### 3. 리스트 a = [1,1,1,4,2,5,6,7,3,5,6,7,6,7,8,4,3,5,6,7,2,6,2,6,2,9,8,6,7,4,5,3,2]를 중복을 제거하고 역순으로 정렬 해주세요."
   ]
  },
  {
   "cell_type": "code",
   "execution_count": 36,
   "metadata": {},
   "outputs": [
    {
     "name": "stdout",
     "output_type": "stream",
     "text": [
      "[9, 8, 7, 6, 5, 4, 3, 2, 1]\n"
     ]
    }
   ],
   "source": [
    "a = [1,1,1,4,2,5,6,7,3,5,6,7,6,7,8,4,3,5,6,7,2,6,2,6,2,9,8,6,7,4,5,3,2]\n",
    "a = set(a)   #집합 중복 제거\n",
    "b = list(a)   \n",
    "print(b[::-1])   #역순으로 출력\n"
   ]
  },
  {
   "cell_type": "markdown",
   "metadata": {},
   "source": [
    "#### 4. 특징을 최소 5개 이상인 동물 분류기를 만들어주세요.\n",
    "- 특징 5개\n",
    "- 분류할 동물은 최소 4마리 이상\n",
    "- knn 혹은 kmeans 알고리즘을 사용"
   ]
  },
  {
   "cell_type": "code",
   "execution_count": null,
   "metadata": {},
   "outputs": [],
   "source": [
    "import numpy as np  #ndarray 생성\n",
    "import random  #random 함수 이용 \n",
    "import matplotlib.pyplot as plt  #그래프를 그리기 위한 헤더\n",
    "%matplotlib inline\n",
    "\n",
    "#특징 - 몸무게, 키, 최대속도, 아이큐, 발의 개수, key값\n",
    "tiger = []\n",
    "dog = []\n",
    "monkey = []\n",
    "bird = []\n",
    "\n",
    "for i in range(50):  #50개의 랜덤 데이터 생성\n",
    "    tiger.append([random.randint(100,150),random.randint(150,200),random.randint(60,90),random.randint(40,80),random.randint(1,5)],1)\n",
    "    dog.append([random.randint(40,80),random.randint(80,120),random.randint(20,40),random.randint(50,90),random.randint(1,5)],2)\n",
    "    monkey.append([random.randint(30,50),random.randint(50,90),random.randint(15,25),random.randint(70,120),random.randint(1,5)],3)\n",
    "    bird.append([random.randint(5,10),random.randint(30,100),random.randint(50,90),random.randint(30,70),random.randint(1,3)],4)\n",
    "\n",
    "#5점 사이의 거리를 구하는 함수\n",
    "def distance(x,y):\n",
    "    return np.sqrt(pow((x[0]-y[0]), 2) + pow((x[1] - y[1]), 2) + pow((x[2] - y[2]), 2) + pow((x[3] - y[3]), 2) +  pow((x[4] - y[4]), 2))\n",
    "\n",
    "new[0,0,0,0,0]\n",
    "new[0] = int(input(\"몸무게를 입력해주세요:\"))\n",
    "new[1] = int(input(\"키를 입력해주세요:\"))\n",
    "new[2] = int(input(\"최대속도 값을 입력해주세요:\"))\n",
    "new[3] = int(input(\"아이큐 사이즈를 입력해주세요:\"))\n",
    "new[4] = int(input(\"발의 개수를 입력해주세요:\"))\n",
    "\n",
    "##다 못했습니다....\n"
   ]
  },
  {
   "cell_type": "markdown",
   "metadata": {},
   "source": [
    "#### 5. 1,1,2,3,5,8,13 .... 100번까지 진행되는 피보나치 수열 프로그램을 만들어주세요."
   ]
  },
  {
   "cell_type": "code",
   "execution_count": 76,
   "metadata": {},
   "outputs": [
    {
     "name": "stdout",
     "output_type": "stream",
     "text": [
      "[1, 1, 2, 3, 5, 8, 13, 21, 34, 55, 89, 144, 233, 377, 610, 987, 1597, 2584, 4181, 6765, 10946, 17711, 28657, 46368, 75025, 121393, 196418, 317811, 514229, 832040, 1346269, 2178309, 3524578, 5702887, 9227465, 14930352, 24157817, 39088169, 63245986, 102334155, 165580141, 267914296, 433494437, 701408733, 1134903170, 1836311903, 2971215073, 4807526976, 7778742049, 12586269025, 20365011074, 32951280099, 53316291173, 86267571272, 139583862445, 225851433717, 365435296162, 591286729879, 956722026041, 1548008755920, 2504730781961, 4052739537881, 6557470319842, 10610209857723, 17167680177565, 27777890035288, 44945570212853, 72723460248141, 117669030460994, 190392490709135, 308061521170129, 498454011879264, 806515533049393, 1304969544928657, 2111485077978050, 3416454622906707, 5527939700884757, 8944394323791464, 14472334024676221, 23416728348467685, 37889062373143906, 61305790721611591, 99194853094755497, 160500643816367088, 259695496911122585, 420196140727489673, 679891637638612258, 1100087778366101931, 1779979416004714189, 2880067194370816120, 4660046610375530309, 7540113804746346429, 12200160415121876738, 19740274219868223167, 31940434634990099905, 51680708854858323072, 83621143489848422977, 135301852344706746049, 218922995834555169026, 354224848179261915075]\n"
     ]
    }
   ],
   "source": [
    "f=[1,1]\n",
    "for i in range(2,100):\n",
    "    f.append(f[i-2]+f[i-1])\n",
    "print(f)"
   ]
  },
  {
   "cell_type": "code",
   "execution_count": null,
   "metadata": {},
   "outputs": [],
   "source": []
  }
 ],
 "metadata": {
  "kernelspec": {
   "display_name": "Python 3",
   "language": "python",
   "name": "python3"
  },
  "language_info": {
   "codemirror_mode": {
    "name": "ipython",
    "version": 3
   },
   "file_extension": ".py",
   "mimetype": "text/x-python",
   "name": "python",
   "nbconvert_exporter": "python",
   "pygments_lexer": "ipython3",
   "version": "3.7.3"
  }
 },
 "nbformat": 4,
 "nbformat_minor": 2
}
