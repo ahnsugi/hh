{
 "cells": [
  {
   "cell_type": "code",
   "execution_count": 2,
   "metadata": {},
   "outputs": [],
   "source": [
    "1.키 몸무게 데이터 만들기\n",
    "\n",
    "2.초기 랜덤 값 두개 (K=2라고 가정)\n",
    "\n",
    "3.두 점을 기준으로 영역을 나누기\n",
    "\n",
    "4.새로운 영역에서 중심점을 새로 찾기(평균)\n",
    "\n",
    "5.새로운 점을 기준으로 영역 나누기\n",
    "\n",
    "6.새로운 영역에서 중심점을 새로 찾기(10번 반복)"
   ]
  },
  {
   "cell_type": "code",
   "execution_count": 2,
   "metadata": {},
   "outputs": [],
   "source": [
    "import random\n",
    "import numpy as np\n",
    "\n",
    "import matplotlib.pyplot as plt\n",
    "\n",
    "#그래프 랜덤을 할때 인풋해오는것들\n",
    "\n",
    "\n",
    "data = []\n",
    "\n",
    "# 파이썬 리스트 빈것\n",
    "\n",
    "for i in range(50):\n",
    "    data.append([random.randint(40, 70),random.randint(140, 180)])\n",
    "    data.append([random.randint(60, 90),random.randint(160, 200)])\n",
    "    \n",
    "    #데이터.어팬드하면서 반복문을 돌리는것 -> 2가지 값을 넣는다 -> 몸무게/키를 50가지 생성함"
   ]
  },
  {
   "cell_type": "code",
   "execution_count": 3,
   "metadata": {
    "scrolled": true
   },
   "outputs": [
    {
     "name": "stdout",
     "output_type": "stream",
     "text": [
      "[[65, 162], [61, 175], [59, 160], [76, 199], [47, 143], [61, 173], [43, 148], [75, 187], [58, 165], [69, 195], [44, 178], [65, 180], [50, 164], [84, 181], [49, 146], [67, 185], [60, 150], [87, 164], [53, 162], [61, 187], [69, 169], [74, 185], [67, 161], [73, 163], [67, 144], [65, 183], [63, 162], [60, 195], [42, 144], [83, 169], [61, 146], [81, 187], [61, 170], [78, 187], [67, 161], [61, 174], [53, 152], [72, 175], [56, 179], [61, 164], [42, 163], [88, 195], [70, 144], [75, 180], [65, 140], [87, 179], [47, 177], [69, 194], [51, 140], [82, 165], [42, 153], [67, 164], [48, 159], [68, 172], [47, 155], [63, 171], [44, 172], [83, 174], [64, 177], [71, 198], [56, 176], [78, 197], [52, 149], [74, 168], [45, 163], [87, 170], [64, 178], [78, 194], [40, 157], [69, 183], [42, 178], [70, 165], [66, 155], [90, 168], [62, 170], [76, 185], [62, 153], [81, 192], [61, 178], [62, 181], [47, 149], [87, 187], [42, 165], [66, 197], [49, 161], [66, 192], [61, 140], [73, 167], [48, 171], [62, 199], [70, 148], [90, 183], [47, 163], [86, 174], [48, 156], [87, 180], [50, 154], [84, 166], [55, 169], [60, 195]]\n"
     ]
    }
   ],
   "source": [
    "#데이터 찍어보기\n",
    "print(data)\n",
    "#생성된 몸무게와 키 50가지값"
   ]
  },
  {
   "cell_type": "code",
   "execution_count": 4,
   "metadata": {},
   "outputs": [
    {
     "name": "stdout",
     "output_type": "stream",
     "text": [
      "[[55, 150], [50, 188]]\n"
     ]
    }
   ],
   "source": [
    "#초기 랜덤 값 2개\n",
    "random_points = [[random.randint(40, 90),random.randint(140, 200)],[random.randint(40, 90),random.randint(140, 200)]]\n",
    "print(random_points)\n",
    "#랜덤 포인트스로 2가지 랜덤값을 생성"
   ]
  },
  {
   "cell_type": "code",
   "execution_count": 5,
   "metadata": {
    "scrolled": true
   },
   "outputs": [
    {
     "data": {
      "text/plain": [
       "[<matplotlib.lines.Line2D at 0x22d414fb358>]"
      ]
     },
     "execution_count": 5,
     "metadata": {},
     "output_type": "execute_result"
    },
    {
     "data": {
      "image/png": "[encoded data removed]",
      "text/plain": [
       "<Figure size 432x288 with 1 Axes>"
      ]
     },
     "metadata": {
      "needs_background": "light"
     },
     "output_type": "display_data"
    }
   ],
   "source": [
    "#데이터와 랜덤 값 그래프\n",
    "for i in data:\n",
    "    plt.plot(i[0],i[1],'o',color='k')\n",
    "plt.plot(random_points[0][0],random_points[0][1],'x',color='r')\n",
    "plt.plot(random_points[1][0],random_points[1][1],'x',color='b')\n",
    "\n",
    "#2개의 랜덤한점은 X로 생성시킴"
   ]
  },
  {
   "cell_type": "code",
   "execution_count": 6,
   "metadata": {},
   "outputs": [],
   "source": [
    "#두 영역을 나눌 빈 리스트 생성\n",
    "tmp1 = []\n",
    "tmp2 = []"
   ]
  },
  {
   "cell_type": "code",
   "execution_count": 7,
   "metadata": {},
   "outputs": [],
   "source": [
    "#영역을 나누기 위해 두 점 사이의 거리를 구하는 함수\n",
    "def dist(x,y):\n",
    "    return np.sqrt((x[0]-y[0])**2 +(x[1]-y[1])**2)"
   ]
  },
  {
   "cell_type": "code",
   "execution_count": 8,
   "metadata": {},
   "outputs": [],
   "source": [
    "#각 랜덤 점과 모든 점들의 거리를 구해 가까운 쪽의 영역으로 추가\n",
    "for i in data:\n",
    "    if (dist(random_points[0],i) > dist(random_points[1],i)):\n",
    "        tmp2.append(i)\n",
    "    else:\n",
    "        tmp1.append(i)\n",
    "#각 랜덤한점과 모든점들의 거리를 구해 가까운쪽으로 영역을 나눔    "
   ]
  },
  {
   "cell_type": "code",
   "execution_count": 9,
   "metadata": {},
   "outputs": [
    {
     "data": {
      "text/plain": [
       "[<matplotlib.lines.Line2D at 0x22d416d0240>]"
      ]
     },
     "execution_count": 9,
     "metadata": {},
     "output_type": "execute_result"
    },
    {
     "data": {
      "image/png": "[encoded data removed]",
      "text/plain": [
       "<Figure size 432x288 with 1 Axes>"
      ]
     },
     "metadata": {
      "needs_background": "light"
     },
     "output_type": "display_data"
    }
   ],
   "source": [
    "# 새로운 영역과 랜덤점의 그래프\n",
    "for i in tmp1:\n",
    "    plt.plot(i[0],i[1],'o',color='y')\n",
    "for i in tmp2:\n",
    "    plt.plot(i[0],i[1],'o',color='g')\n",
    "plt.plot(random_points[0][0],random_points[0][1],'x',color='r')\n",
    "plt.plot(random_points[1][0],random_points[1][1],'x',color='b')\n"
   ]
  },
  {
   "cell_type": "code",
   "execution_count": 10,
   "metadata": {},
   "outputs": [],
   "source": [
    "# 점 이동\n",
    "sum1=0\n",
    "sum2=0\n",
    "for i in tmp1:\n",
    "    sum1 +=i[0]\n",
    "    sum2 +=i[1]\n",
    "    \n",
    "new_points = []\n",
    "new_points.append([sum1/len(tmp1),sum2/len(tmp1)]) #1\n",
    "sum1=0\n",
    "sum2=0\n",
    "for i in tmp2:\n",
    "    sum1 +=i[0]\n",
    "    sum2 +=i[1]\n",
    "new_points.append([sum1/len(tmp2),sum2/len(tmp2)]) #2\n",
    "\n",
    "#키와 몸무게의 평균값을 구하는것"
   ]
  },
  {
   "cell_type": "code",
   "execution_count": 11,
   "metadata": {
    "scrolled": true
   },
   "outputs": [
    {
     "name": "stdout",
     "output_type": "stream",
     "text": [
      "[[60.11538461538461, 157.84615384615384], [68.5, 183.625]]\n"
     ]
    }
   ],
   "source": [
    "#새로운 점 출력\n",
    "print(new_points)"
   ]
  },
  {
   "cell_type": "code",
   "execution_count": 12,
   "metadata": {},
   "outputs": [
    {
     "data": {
      "text/plain": [
       "[<matplotlib.lines.Line2D at 0x22d4183ac18>]"
      ]
     },
     "execution_count": 12,
     "metadata": {},
     "output_type": "execute_result"
    },
    {
     "data": {
      "image/png": "[encoded data removed]",
      "text/plain": [
       "<Figure size 432x288 with 1 Axes>"
      ]
     },
     "metadata": {
      "needs_background": "light"
     },
     "output_type": "display_data"
    }
   ],
   "source": [
    "#새로운 점 그래프\n",
    "for i in tmp1:\n",
    "    plt.plot(i[0],i[1],'o',color='y')\n",
    "for i in tmp2:\n",
    "    plt.plot(i[0],i[1],'o',color='g')\n",
    "plt.plot(new_points[0][0],new_points[0][1],'x',color='r')\n",
    "plt.plot(new_points[1][0],new_points[1][1],'x',color='b')"
   ]
  },
  {
   "cell_type": "code",
   "execution_count": 18,
   "metadata": {},
   "outputs": [],
   "source": [
    "#전체코드\n",
    "\n",
    "def dist(x,y):\n",
    "    return np.sqrt((x[0]-y[0])**2 +(x[1]-y[1])**2) #거리를 구하는함수\n",
    "\n",
    "data = []\n",
    "for i in range(50):\n",
    "    data.append([random.randint(40, 70),random.randint(140, 180)])\n",
    "    data.append([random.randint(60, 90),random.randint(160, 200)])\n",
    "random_points = [[random.randint(40, 90),random.randint(140, 200)],[random.randint(40, 90),random.randint(140, 200)]]#랜덤 초기값\n",
    "\n",
    "for k in range(10):\n",
    "    tmp1 = []\n",
    "    tmp2 = []\n",
    "    if(k != 0):\n",
    "        random_points = new_points\n",
    "    \n",
    "    for i in data:\n",
    "        if (dist(random_points[0],i) > dist(random_points[1],i)):\n",
    "            tmp2.append(i)\n",
    "        else:\n",
    "            tmp1.append(i)\n",
    "\n",
    "    sum1=0 \n",
    "    sum2=0\n",
    "    for i in tmp1:\n",
    "        sum1 +=i[0]\n",
    "        sum2 +=i[1]\n",
    "\n",
    "    new_points = []\n",
    "    new_points.append([sum1/len(tmp1),sum2/len(tmp1)])\n",
    "    sum1=0\n",
    "    sum2=0\n",
    "    for i in tmp2:\n",
    "        sum1 +=i[0]\n",
    "        sum2 +=i[1]\n",
    "    new_points.append([sum1/len(tmp2),sum2/len(tmp2)])"
   ]
  },
  {
   "cell_type": "code",
   "execution_count": null,
   "metadata": {},
   "outputs": [],
   "source": []
  },
  {
   "cell_type": "code",
   "execution_count": null,
   "metadata": {},
   "outputs": [],
   "source": []
  },
  {
   "cell_type": "code",
   "execution_count": null,
   "metadata": {},
   "outputs": [],
   "source": []
  },
  {
   "cell_type": "code",
   "execution_count": null,
   "metadata": {},
   "outputs": [],
   "source": []
  },
  {
   "cell_type": "code",
   "execution_count": null,
   "metadata": {},
   "outputs": [],
   "source": []
  }
 ],
 "metadata": {
  "kernelspec": {
   "display_name": "Python 3",
   "language": "python",
   "name": "python3"
  },
  "language_info": {
   "codemirror_mode": {
    "name": "ipython",
    "version": 3
   },
   "file_extension": ".py",
   "mimetype": "text/x-python",
   "name": "python",
   "nbconvert_exporter": "python",
   "pygments_lexer": "ipython3",
   "version": "3.7.3"
  }
 },
 "nbformat": 4,
 "nbformat_minor": 2
}
